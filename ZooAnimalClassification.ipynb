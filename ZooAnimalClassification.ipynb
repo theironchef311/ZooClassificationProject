{
 "cells": [
  {
   "cell_type": "markdown",
   "metadata": {},
   "source": [
    "# Zoo Animal Classification\n",
    "## By Steven Centeno and Richard Morrow\n",
    "\n",
    "**Using Jupyter Notebook and Python to Predict Classifications of Animals Based Off of Given Traits**\n",
    "\n"
   ]
  },
  {
   "cell_type": "code",
   "execution_count": 1,
   "metadata": {},
   "outputs": [],
   "source": [
    "import pandas as pd"
   ]
  },
  {
   "cell_type": "code",
   "execution_count": 2,
   "metadata": {},
   "outputs": [
    {
     "ename": "SyntaxError",
     "evalue": "Missing parentheses in call to 'print'. Did you mean print(df1)? (<ipython-input-2-90ea960f4b2e>, line 2)",
     "output_type": "error",
     "traceback": [
      "\u001b[0;36m  File \u001b[0;32m\"<ipython-input-2-90ea960f4b2e>\"\u001b[0;36m, line \u001b[0;32m2\u001b[0m\n\u001b[0;31m    print df1\u001b[0m\n\u001b[0m            ^\u001b[0m\n\u001b[0;31mSyntaxError\u001b[0m\u001b[0;31m:\u001b[0m Missing parentheses in call to 'print'. Did you mean print(df1)?\n"
     ]
    }
   ],
   "source": [
    "df1 = pd.read_csv(\"Macintosh HD/users/RichardMorrow/Desktop/School/Spring_2019_Semester/LIS4761/Project/zoo.csv\")\n",
    "print df1"
   ]
  },
  {
   "cell_type": "code",
   "execution_count": 3,
   "metadata": {},
   "outputs": [
    {
     "ename": "NameError",
     "evalue": "name 'df1' is not defined",
     "output_type": "error",
     "traceback": [
      "\u001b[0;31m---------------------------------------------------------------------------\u001b[0m",
      "\u001b[0;31mNameError\u001b[0m                                 Traceback (most recent call last)",
      "\u001b[0;32m<ipython-input-3-42d19f84d15c>\u001b[0m in \u001b[0;36m<module>\u001b[0;34m\u001b[0m\n\u001b[0;32m----> 1\u001b[0;31m \u001b[0mprint\u001b[0m \u001b[0;34m(\u001b[0m\u001b[0mdf1\u001b[0m\u001b[0;34m)\u001b[0m\u001b[0;34m\u001b[0m\u001b[0;34m\u001b[0m\u001b[0m\n\u001b[0m",
      "\u001b[0;31mNameError\u001b[0m: name 'df1' is not defined"
     ]
    }
   ],
   "source": [
    "print (df1)"
   ]
  },
  {
   "cell_type": "code",
   "execution_count": 4,
   "metadata": {},
   "outputs": [
    {
     "ename": "FileNotFoundError",
     "evalue": "[Errno 2] File b'Macintosh HD/users/RichardMorrow/Desktop/School/Spring_2019_Semester/LIS4761/Project/zoo.csv' does not exist: b'Macintosh HD/users/RichardMorrow/Desktop/School/Spring_2019_Semester/LIS4761/Project/zoo.csv'",
     "output_type": "error",
     "traceback": [
      "\u001b[0;31m---------------------------------------------------------------------------\u001b[0m",
      "\u001b[0;31mFileNotFoundError\u001b[0m                         Traceback (most recent call last)",
      "\u001b[0;32m<ipython-input-4-5ca161395b14>\u001b[0m in \u001b[0;36m<module>\u001b[0;34m\u001b[0m\n\u001b[0;32m----> 1\u001b[0;31m \u001b[0mdf1\u001b[0m \u001b[0;34m=\u001b[0m \u001b[0mpd\u001b[0m\u001b[0;34m.\u001b[0m\u001b[0mread_csv\u001b[0m\u001b[0;34m(\u001b[0m\u001b[0;34m\"Macintosh HD/users/RichardMorrow/Desktop/School/Spring_2019_Semester/LIS4761/Project/zoo.csv\"\u001b[0m\u001b[0;34m)\u001b[0m\u001b[0;34m\u001b[0m\u001b[0;34m\u001b[0m\u001b[0m\n\u001b[0m",
      "\u001b[0;32m~/anaconda3/lib/python3.7/site-packages/pandas/io/parsers.py\u001b[0m in \u001b[0;36mparser_f\u001b[0;34m(filepath_or_buffer, sep, delimiter, header, names, index_col, usecols, squeeze, prefix, mangle_dupe_cols, dtype, engine, converters, true_values, false_values, skipinitialspace, skiprows, skipfooter, nrows, na_values, keep_default_na, na_filter, verbose, skip_blank_lines, parse_dates, infer_datetime_format, keep_date_col, date_parser, dayfirst, iterator, chunksize, compression, thousands, decimal, lineterminator, quotechar, quoting, doublequote, escapechar, comment, encoding, dialect, tupleize_cols, error_bad_lines, warn_bad_lines, delim_whitespace, low_memory, memory_map, float_precision)\u001b[0m\n\u001b[1;32m    700\u001b[0m                     skip_blank_lines=skip_blank_lines)\n\u001b[1;32m    701\u001b[0m \u001b[0;34m\u001b[0m\u001b[0m\n\u001b[0;32m--> 702\u001b[0;31m         \u001b[0;32mreturn\u001b[0m \u001b[0m_read\u001b[0m\u001b[0;34m(\u001b[0m\u001b[0mfilepath_or_buffer\u001b[0m\u001b[0;34m,\u001b[0m \u001b[0mkwds\u001b[0m\u001b[0;34m)\u001b[0m\u001b[0;34m\u001b[0m\u001b[0;34m\u001b[0m\u001b[0m\n\u001b[0m\u001b[1;32m    703\u001b[0m \u001b[0;34m\u001b[0m\u001b[0m\n\u001b[1;32m    704\u001b[0m     \u001b[0mparser_f\u001b[0m\u001b[0;34m.\u001b[0m\u001b[0m__name__\u001b[0m \u001b[0;34m=\u001b[0m \u001b[0mname\u001b[0m\u001b[0;34m\u001b[0m\u001b[0;34m\u001b[0m\u001b[0m\n",
      "\u001b[0;32m~/anaconda3/lib/python3.7/site-packages/pandas/io/parsers.py\u001b[0m in \u001b[0;36m_read\u001b[0;34m(filepath_or_buffer, kwds)\u001b[0m\n\u001b[1;32m    427\u001b[0m \u001b[0;34m\u001b[0m\u001b[0m\n\u001b[1;32m    428\u001b[0m     \u001b[0;31m# Create the parser.\u001b[0m\u001b[0;34m\u001b[0m\u001b[0;34m\u001b[0m\u001b[0;34m\u001b[0m\u001b[0m\n\u001b[0;32m--> 429\u001b[0;31m     \u001b[0mparser\u001b[0m \u001b[0;34m=\u001b[0m \u001b[0mTextFileReader\u001b[0m\u001b[0;34m(\u001b[0m\u001b[0mfilepath_or_buffer\u001b[0m\u001b[0;34m,\u001b[0m \u001b[0;34m**\u001b[0m\u001b[0mkwds\u001b[0m\u001b[0;34m)\u001b[0m\u001b[0;34m\u001b[0m\u001b[0;34m\u001b[0m\u001b[0m\n\u001b[0m\u001b[1;32m    430\u001b[0m \u001b[0;34m\u001b[0m\u001b[0m\n\u001b[1;32m    431\u001b[0m     \u001b[0;32mif\u001b[0m \u001b[0mchunksize\u001b[0m \u001b[0;32mor\u001b[0m \u001b[0miterator\u001b[0m\u001b[0;34m:\u001b[0m\u001b[0;34m\u001b[0m\u001b[0;34m\u001b[0m\u001b[0m\n",
      "\u001b[0;32m~/anaconda3/lib/python3.7/site-packages/pandas/io/parsers.py\u001b[0m in \u001b[0;36m__init__\u001b[0;34m(self, f, engine, **kwds)\u001b[0m\n\u001b[1;32m    893\u001b[0m             \u001b[0mself\u001b[0m\u001b[0;34m.\u001b[0m\u001b[0moptions\u001b[0m\u001b[0;34m[\u001b[0m\u001b[0;34m'has_index_names'\u001b[0m\u001b[0;34m]\u001b[0m \u001b[0;34m=\u001b[0m \u001b[0mkwds\u001b[0m\u001b[0;34m[\u001b[0m\u001b[0;34m'has_index_names'\u001b[0m\u001b[0;34m]\u001b[0m\u001b[0;34m\u001b[0m\u001b[0;34m\u001b[0m\u001b[0m\n\u001b[1;32m    894\u001b[0m \u001b[0;34m\u001b[0m\u001b[0m\n\u001b[0;32m--> 895\u001b[0;31m         \u001b[0mself\u001b[0m\u001b[0;34m.\u001b[0m\u001b[0m_make_engine\u001b[0m\u001b[0;34m(\u001b[0m\u001b[0mself\u001b[0m\u001b[0;34m.\u001b[0m\u001b[0mengine\u001b[0m\u001b[0;34m)\u001b[0m\u001b[0;34m\u001b[0m\u001b[0;34m\u001b[0m\u001b[0m\n\u001b[0m\u001b[1;32m    896\u001b[0m \u001b[0;34m\u001b[0m\u001b[0m\n\u001b[1;32m    897\u001b[0m     \u001b[0;32mdef\u001b[0m \u001b[0mclose\u001b[0m\u001b[0;34m(\u001b[0m\u001b[0mself\u001b[0m\u001b[0;34m)\u001b[0m\u001b[0;34m:\u001b[0m\u001b[0;34m\u001b[0m\u001b[0;34m\u001b[0m\u001b[0m\n",
      "\u001b[0;32m~/anaconda3/lib/python3.7/site-packages/pandas/io/parsers.py\u001b[0m in \u001b[0;36m_make_engine\u001b[0;34m(self, engine)\u001b[0m\n\u001b[1;32m   1120\u001b[0m     \u001b[0;32mdef\u001b[0m \u001b[0m_make_engine\u001b[0m\u001b[0;34m(\u001b[0m\u001b[0mself\u001b[0m\u001b[0;34m,\u001b[0m \u001b[0mengine\u001b[0m\u001b[0;34m=\u001b[0m\u001b[0;34m'c'\u001b[0m\u001b[0;34m)\u001b[0m\u001b[0;34m:\u001b[0m\u001b[0;34m\u001b[0m\u001b[0;34m\u001b[0m\u001b[0m\n\u001b[1;32m   1121\u001b[0m         \u001b[0;32mif\u001b[0m \u001b[0mengine\u001b[0m \u001b[0;34m==\u001b[0m \u001b[0;34m'c'\u001b[0m\u001b[0;34m:\u001b[0m\u001b[0;34m\u001b[0m\u001b[0;34m\u001b[0m\u001b[0m\n\u001b[0;32m-> 1122\u001b[0;31m             \u001b[0mself\u001b[0m\u001b[0;34m.\u001b[0m\u001b[0m_engine\u001b[0m \u001b[0;34m=\u001b[0m \u001b[0mCParserWrapper\u001b[0m\u001b[0;34m(\u001b[0m\u001b[0mself\u001b[0m\u001b[0;34m.\u001b[0m\u001b[0mf\u001b[0m\u001b[0;34m,\u001b[0m \u001b[0;34m**\u001b[0m\u001b[0mself\u001b[0m\u001b[0;34m.\u001b[0m\u001b[0moptions\u001b[0m\u001b[0;34m)\u001b[0m\u001b[0;34m\u001b[0m\u001b[0;34m\u001b[0m\u001b[0m\n\u001b[0m\u001b[1;32m   1123\u001b[0m         \u001b[0;32melse\u001b[0m\u001b[0;34m:\u001b[0m\u001b[0;34m\u001b[0m\u001b[0;34m\u001b[0m\u001b[0m\n\u001b[1;32m   1124\u001b[0m             \u001b[0;32mif\u001b[0m \u001b[0mengine\u001b[0m \u001b[0;34m==\u001b[0m \u001b[0;34m'python'\u001b[0m\u001b[0;34m:\u001b[0m\u001b[0;34m\u001b[0m\u001b[0;34m\u001b[0m\u001b[0m\n",
      "\u001b[0;32m~/anaconda3/lib/python3.7/site-packages/pandas/io/parsers.py\u001b[0m in \u001b[0;36m__init__\u001b[0;34m(self, src, **kwds)\u001b[0m\n\u001b[1;32m   1851\u001b[0m         \u001b[0mkwds\u001b[0m\u001b[0;34m[\u001b[0m\u001b[0;34m'usecols'\u001b[0m\u001b[0;34m]\u001b[0m \u001b[0;34m=\u001b[0m \u001b[0mself\u001b[0m\u001b[0;34m.\u001b[0m\u001b[0musecols\u001b[0m\u001b[0;34m\u001b[0m\u001b[0;34m\u001b[0m\u001b[0m\n\u001b[1;32m   1852\u001b[0m \u001b[0;34m\u001b[0m\u001b[0m\n\u001b[0;32m-> 1853\u001b[0;31m         \u001b[0mself\u001b[0m\u001b[0;34m.\u001b[0m\u001b[0m_reader\u001b[0m \u001b[0;34m=\u001b[0m \u001b[0mparsers\u001b[0m\u001b[0;34m.\u001b[0m\u001b[0mTextReader\u001b[0m\u001b[0;34m(\u001b[0m\u001b[0msrc\u001b[0m\u001b[0;34m,\u001b[0m \u001b[0;34m**\u001b[0m\u001b[0mkwds\u001b[0m\u001b[0;34m)\u001b[0m\u001b[0;34m\u001b[0m\u001b[0;34m\u001b[0m\u001b[0m\n\u001b[0m\u001b[1;32m   1854\u001b[0m         \u001b[0mself\u001b[0m\u001b[0;34m.\u001b[0m\u001b[0munnamed_cols\u001b[0m \u001b[0;34m=\u001b[0m \u001b[0mself\u001b[0m\u001b[0;34m.\u001b[0m\u001b[0m_reader\u001b[0m\u001b[0;34m.\u001b[0m\u001b[0munnamed_cols\u001b[0m\u001b[0;34m\u001b[0m\u001b[0;34m\u001b[0m\u001b[0m\n\u001b[1;32m   1855\u001b[0m \u001b[0;34m\u001b[0m\u001b[0m\n",
      "\u001b[0;32mpandas/_libs/parsers.pyx\u001b[0m in \u001b[0;36mpandas._libs.parsers.TextReader.__cinit__\u001b[0;34m()\u001b[0m\n",
      "\u001b[0;32mpandas/_libs/parsers.pyx\u001b[0m in \u001b[0;36mpandas._libs.parsers.TextReader._setup_parser_source\u001b[0;34m()\u001b[0m\n",
      "\u001b[0;31mFileNotFoundError\u001b[0m: [Errno 2] File b'Macintosh HD/users/RichardMorrow/Desktop/School/Spring_2019_Semester/LIS4761/Project/zoo.csv' does not exist: b'Macintosh HD/users/RichardMorrow/Desktop/School/Spring_2019_Semester/LIS4761/Project/zoo.csv'"
     ]
    }
   ],
   "source": [
    "df1 = pd.read_csv(\"Macintosh HD/users/RichardMorrow/Desktop/School/Spring_2019_Semester/LIS4761/Project/zoo.csv\")\n"
   ]
  },
  {
   "cell_type": "code",
   "execution_count": 5,
   "metadata": {},
   "outputs": [
    {
     "name": "stdout",
     "output_type": "stream",
     "text": [
      "[Errno 2] No such file or directory: 'Macintosh HD'\n",
      "/Users/RichardMorrow/Desktop\n"
     ]
    }
   ],
   "source": [
    "cd Macintosh HD"
   ]
  },
  {
   "cell_type": "code",
   "execution_count": 6,
   "metadata": {},
   "outputs": [
    {
     "ename": "FileNotFoundError",
     "evalue": "[Errno 2] File b'Users/RichardMorrow/Desktop/School/Spring_2019_Semester/LIS4761/Project/zoo.csv' does not exist: b'Users/RichardMorrow/Desktop/School/Spring_2019_Semester/LIS4761/Project/zoo.csv'",
     "output_type": "error",
     "traceback": [
      "\u001b[0;31m---------------------------------------------------------------------------\u001b[0m",
      "\u001b[0;31mFileNotFoundError\u001b[0m                         Traceback (most recent call last)",
      "\u001b[0;32m<ipython-input-6-5b5f70518d54>\u001b[0m in \u001b[0;36m<module>\u001b[0;34m\u001b[0m\n\u001b[0;32m----> 1\u001b[0;31m \u001b[0mdf1\u001b[0m \u001b[0;34m=\u001b[0m \u001b[0mpd\u001b[0m\u001b[0;34m.\u001b[0m\u001b[0mread_csv\u001b[0m\u001b[0;34m(\u001b[0m\u001b[0;34m\"Users/RichardMorrow/Desktop/School/Spring_2019_Semester/LIS4761/Project/zoo.csv\"\u001b[0m\u001b[0;34m)\u001b[0m\u001b[0;34m\u001b[0m\u001b[0;34m\u001b[0m\u001b[0m\n\u001b[0m",
      "\u001b[0;32m~/anaconda3/lib/python3.7/site-packages/pandas/io/parsers.py\u001b[0m in \u001b[0;36mparser_f\u001b[0;34m(filepath_or_buffer, sep, delimiter, header, names, index_col, usecols, squeeze, prefix, mangle_dupe_cols, dtype, engine, converters, true_values, false_values, skipinitialspace, skiprows, skipfooter, nrows, na_values, keep_default_na, na_filter, verbose, skip_blank_lines, parse_dates, infer_datetime_format, keep_date_col, date_parser, dayfirst, iterator, chunksize, compression, thousands, decimal, lineterminator, quotechar, quoting, doublequote, escapechar, comment, encoding, dialect, tupleize_cols, error_bad_lines, warn_bad_lines, delim_whitespace, low_memory, memory_map, float_precision)\u001b[0m\n\u001b[1;32m    700\u001b[0m                     skip_blank_lines=skip_blank_lines)\n\u001b[1;32m    701\u001b[0m \u001b[0;34m\u001b[0m\u001b[0m\n\u001b[0;32m--> 702\u001b[0;31m         \u001b[0;32mreturn\u001b[0m \u001b[0m_read\u001b[0m\u001b[0;34m(\u001b[0m\u001b[0mfilepath_or_buffer\u001b[0m\u001b[0;34m,\u001b[0m \u001b[0mkwds\u001b[0m\u001b[0;34m)\u001b[0m\u001b[0;34m\u001b[0m\u001b[0;34m\u001b[0m\u001b[0m\n\u001b[0m\u001b[1;32m    703\u001b[0m \u001b[0;34m\u001b[0m\u001b[0m\n\u001b[1;32m    704\u001b[0m     \u001b[0mparser_f\u001b[0m\u001b[0;34m.\u001b[0m\u001b[0m__name__\u001b[0m \u001b[0;34m=\u001b[0m \u001b[0mname\u001b[0m\u001b[0;34m\u001b[0m\u001b[0;34m\u001b[0m\u001b[0m\n",
      "\u001b[0;32m~/anaconda3/lib/python3.7/site-packages/pandas/io/parsers.py\u001b[0m in \u001b[0;36m_read\u001b[0;34m(filepath_or_buffer, kwds)\u001b[0m\n\u001b[1;32m    427\u001b[0m \u001b[0;34m\u001b[0m\u001b[0m\n\u001b[1;32m    428\u001b[0m     \u001b[0;31m# Create the parser.\u001b[0m\u001b[0;34m\u001b[0m\u001b[0;34m\u001b[0m\u001b[0;34m\u001b[0m\u001b[0m\n\u001b[0;32m--> 429\u001b[0;31m     \u001b[0mparser\u001b[0m \u001b[0;34m=\u001b[0m \u001b[0mTextFileReader\u001b[0m\u001b[0;34m(\u001b[0m\u001b[0mfilepath_or_buffer\u001b[0m\u001b[0;34m,\u001b[0m \u001b[0;34m**\u001b[0m\u001b[0mkwds\u001b[0m\u001b[0;34m)\u001b[0m\u001b[0;34m\u001b[0m\u001b[0;34m\u001b[0m\u001b[0m\n\u001b[0m\u001b[1;32m    430\u001b[0m \u001b[0;34m\u001b[0m\u001b[0m\n\u001b[1;32m    431\u001b[0m     \u001b[0;32mif\u001b[0m \u001b[0mchunksize\u001b[0m \u001b[0;32mor\u001b[0m \u001b[0miterator\u001b[0m\u001b[0;34m:\u001b[0m\u001b[0;34m\u001b[0m\u001b[0;34m\u001b[0m\u001b[0m\n",
      "\u001b[0;32m~/anaconda3/lib/python3.7/site-packages/pandas/io/parsers.py\u001b[0m in \u001b[0;36m__init__\u001b[0;34m(self, f, engine, **kwds)\u001b[0m\n\u001b[1;32m    893\u001b[0m             \u001b[0mself\u001b[0m\u001b[0;34m.\u001b[0m\u001b[0moptions\u001b[0m\u001b[0;34m[\u001b[0m\u001b[0;34m'has_index_names'\u001b[0m\u001b[0;34m]\u001b[0m \u001b[0;34m=\u001b[0m \u001b[0mkwds\u001b[0m\u001b[0;34m[\u001b[0m\u001b[0;34m'has_index_names'\u001b[0m\u001b[0;34m]\u001b[0m\u001b[0;34m\u001b[0m\u001b[0;34m\u001b[0m\u001b[0m\n\u001b[1;32m    894\u001b[0m \u001b[0;34m\u001b[0m\u001b[0m\n\u001b[0;32m--> 895\u001b[0;31m         \u001b[0mself\u001b[0m\u001b[0;34m.\u001b[0m\u001b[0m_make_engine\u001b[0m\u001b[0;34m(\u001b[0m\u001b[0mself\u001b[0m\u001b[0;34m.\u001b[0m\u001b[0mengine\u001b[0m\u001b[0;34m)\u001b[0m\u001b[0;34m\u001b[0m\u001b[0;34m\u001b[0m\u001b[0m\n\u001b[0m\u001b[1;32m    896\u001b[0m \u001b[0;34m\u001b[0m\u001b[0m\n\u001b[1;32m    897\u001b[0m     \u001b[0;32mdef\u001b[0m \u001b[0mclose\u001b[0m\u001b[0;34m(\u001b[0m\u001b[0mself\u001b[0m\u001b[0;34m)\u001b[0m\u001b[0;34m:\u001b[0m\u001b[0;34m\u001b[0m\u001b[0;34m\u001b[0m\u001b[0m\n",
      "\u001b[0;32m~/anaconda3/lib/python3.7/site-packages/pandas/io/parsers.py\u001b[0m in \u001b[0;36m_make_engine\u001b[0;34m(self, engine)\u001b[0m\n\u001b[1;32m   1120\u001b[0m     \u001b[0;32mdef\u001b[0m \u001b[0m_make_engine\u001b[0m\u001b[0;34m(\u001b[0m\u001b[0mself\u001b[0m\u001b[0;34m,\u001b[0m \u001b[0mengine\u001b[0m\u001b[0;34m=\u001b[0m\u001b[0;34m'c'\u001b[0m\u001b[0;34m)\u001b[0m\u001b[0;34m:\u001b[0m\u001b[0;34m\u001b[0m\u001b[0;34m\u001b[0m\u001b[0m\n\u001b[1;32m   1121\u001b[0m         \u001b[0;32mif\u001b[0m \u001b[0mengine\u001b[0m \u001b[0;34m==\u001b[0m \u001b[0;34m'c'\u001b[0m\u001b[0;34m:\u001b[0m\u001b[0;34m\u001b[0m\u001b[0;34m\u001b[0m\u001b[0m\n\u001b[0;32m-> 1122\u001b[0;31m             \u001b[0mself\u001b[0m\u001b[0;34m.\u001b[0m\u001b[0m_engine\u001b[0m \u001b[0;34m=\u001b[0m \u001b[0mCParserWrapper\u001b[0m\u001b[0;34m(\u001b[0m\u001b[0mself\u001b[0m\u001b[0;34m.\u001b[0m\u001b[0mf\u001b[0m\u001b[0;34m,\u001b[0m \u001b[0;34m**\u001b[0m\u001b[0mself\u001b[0m\u001b[0;34m.\u001b[0m\u001b[0moptions\u001b[0m\u001b[0;34m)\u001b[0m\u001b[0;34m\u001b[0m\u001b[0;34m\u001b[0m\u001b[0m\n\u001b[0m\u001b[1;32m   1123\u001b[0m         \u001b[0;32melse\u001b[0m\u001b[0;34m:\u001b[0m\u001b[0;34m\u001b[0m\u001b[0;34m\u001b[0m\u001b[0m\n\u001b[1;32m   1124\u001b[0m             \u001b[0;32mif\u001b[0m \u001b[0mengine\u001b[0m \u001b[0;34m==\u001b[0m \u001b[0;34m'python'\u001b[0m\u001b[0;34m:\u001b[0m\u001b[0;34m\u001b[0m\u001b[0;34m\u001b[0m\u001b[0m\n",
      "\u001b[0;32m~/anaconda3/lib/python3.7/site-packages/pandas/io/parsers.py\u001b[0m in \u001b[0;36m__init__\u001b[0;34m(self, src, **kwds)\u001b[0m\n\u001b[1;32m   1851\u001b[0m         \u001b[0mkwds\u001b[0m\u001b[0;34m[\u001b[0m\u001b[0;34m'usecols'\u001b[0m\u001b[0;34m]\u001b[0m \u001b[0;34m=\u001b[0m \u001b[0mself\u001b[0m\u001b[0;34m.\u001b[0m\u001b[0musecols\u001b[0m\u001b[0;34m\u001b[0m\u001b[0;34m\u001b[0m\u001b[0m\n\u001b[1;32m   1852\u001b[0m \u001b[0;34m\u001b[0m\u001b[0m\n\u001b[0;32m-> 1853\u001b[0;31m         \u001b[0mself\u001b[0m\u001b[0;34m.\u001b[0m\u001b[0m_reader\u001b[0m \u001b[0;34m=\u001b[0m \u001b[0mparsers\u001b[0m\u001b[0;34m.\u001b[0m\u001b[0mTextReader\u001b[0m\u001b[0;34m(\u001b[0m\u001b[0msrc\u001b[0m\u001b[0;34m,\u001b[0m \u001b[0;34m**\u001b[0m\u001b[0mkwds\u001b[0m\u001b[0;34m)\u001b[0m\u001b[0;34m\u001b[0m\u001b[0;34m\u001b[0m\u001b[0m\n\u001b[0m\u001b[1;32m   1854\u001b[0m         \u001b[0mself\u001b[0m\u001b[0;34m.\u001b[0m\u001b[0munnamed_cols\u001b[0m \u001b[0;34m=\u001b[0m \u001b[0mself\u001b[0m\u001b[0;34m.\u001b[0m\u001b[0m_reader\u001b[0m\u001b[0;34m.\u001b[0m\u001b[0munnamed_cols\u001b[0m\u001b[0;34m\u001b[0m\u001b[0;34m\u001b[0m\u001b[0m\n\u001b[1;32m   1855\u001b[0m \u001b[0;34m\u001b[0m\u001b[0m\n",
      "\u001b[0;32mpandas/_libs/parsers.pyx\u001b[0m in \u001b[0;36mpandas._libs.parsers.TextReader.__cinit__\u001b[0;34m()\u001b[0m\n",
      "\u001b[0;32mpandas/_libs/parsers.pyx\u001b[0m in \u001b[0;36mpandas._libs.parsers.TextReader._setup_parser_source\u001b[0;34m()\u001b[0m\n",
      "\u001b[0;31mFileNotFoundError\u001b[0m: [Errno 2] File b'Users/RichardMorrow/Desktop/School/Spring_2019_Semester/LIS4761/Project/zoo.csv' does not exist: b'Users/RichardMorrow/Desktop/School/Spring_2019_Semester/LIS4761/Project/zoo.csv'"
     ]
    }
   ],
   "source": [
    "df1 = pd.read_csv(\"Users/RichardMorrow/Desktop/School/Spring_2019_Semester/LIS4761/Project/zoo.csv\")"
   ]
  },
  {
   "cell_type": "code",
   "execution_count": 7,
   "metadata": {},
   "outputs": [
    {
     "ename": "FileNotFoundError",
     "evalue": "[Errno 2] File b'Desktop/School/Spring_2019_Semester/LIS4761/Project/zoo.csv' does not exist: b'Desktop/School/Spring_2019_Semester/LIS4761/Project/zoo.csv'",
     "output_type": "error",
     "traceback": [
      "\u001b[0;31m---------------------------------------------------------------------------\u001b[0m",
      "\u001b[0;31mFileNotFoundError\u001b[0m                         Traceback (most recent call last)",
      "\u001b[0;32m<ipython-input-7-58a5db698b28>\u001b[0m in \u001b[0;36m<module>\u001b[0;34m\u001b[0m\n\u001b[0;32m----> 1\u001b[0;31m \u001b[0mdf1\u001b[0m \u001b[0;34m=\u001b[0m \u001b[0mpd\u001b[0m\u001b[0;34m.\u001b[0m\u001b[0mread_csv\u001b[0m\u001b[0;34m(\u001b[0m\u001b[0;34m\"Desktop/School/Spring_2019_Semester/LIS4761/Project/zoo.csv\"\u001b[0m\u001b[0;34m)\u001b[0m\u001b[0;34m\u001b[0m\u001b[0;34m\u001b[0m\u001b[0m\n\u001b[0m",
      "\u001b[0;32m~/anaconda3/lib/python3.7/site-packages/pandas/io/parsers.py\u001b[0m in \u001b[0;36mparser_f\u001b[0;34m(filepath_or_buffer, sep, delimiter, header, names, index_col, usecols, squeeze, prefix, mangle_dupe_cols, dtype, engine, converters, true_values, false_values, skipinitialspace, skiprows, skipfooter, nrows, na_values, keep_default_na, na_filter, verbose, skip_blank_lines, parse_dates, infer_datetime_format, keep_date_col, date_parser, dayfirst, iterator, chunksize, compression, thousands, decimal, lineterminator, quotechar, quoting, doublequote, escapechar, comment, encoding, dialect, tupleize_cols, error_bad_lines, warn_bad_lines, delim_whitespace, low_memory, memory_map, float_precision)\u001b[0m\n\u001b[1;32m    700\u001b[0m                     skip_blank_lines=skip_blank_lines)\n\u001b[1;32m    701\u001b[0m \u001b[0;34m\u001b[0m\u001b[0m\n\u001b[0;32m--> 702\u001b[0;31m         \u001b[0;32mreturn\u001b[0m \u001b[0m_read\u001b[0m\u001b[0;34m(\u001b[0m\u001b[0mfilepath_or_buffer\u001b[0m\u001b[0;34m,\u001b[0m \u001b[0mkwds\u001b[0m\u001b[0;34m)\u001b[0m\u001b[0;34m\u001b[0m\u001b[0;34m\u001b[0m\u001b[0m\n\u001b[0m\u001b[1;32m    703\u001b[0m \u001b[0;34m\u001b[0m\u001b[0m\n\u001b[1;32m    704\u001b[0m     \u001b[0mparser_f\u001b[0m\u001b[0;34m.\u001b[0m\u001b[0m__name__\u001b[0m \u001b[0;34m=\u001b[0m \u001b[0mname\u001b[0m\u001b[0;34m\u001b[0m\u001b[0;34m\u001b[0m\u001b[0m\n",
      "\u001b[0;32m~/anaconda3/lib/python3.7/site-packages/pandas/io/parsers.py\u001b[0m in \u001b[0;36m_read\u001b[0;34m(filepath_or_buffer, kwds)\u001b[0m\n\u001b[1;32m    427\u001b[0m \u001b[0;34m\u001b[0m\u001b[0m\n\u001b[1;32m    428\u001b[0m     \u001b[0;31m# Create the parser.\u001b[0m\u001b[0;34m\u001b[0m\u001b[0;34m\u001b[0m\u001b[0;34m\u001b[0m\u001b[0m\n\u001b[0;32m--> 429\u001b[0;31m     \u001b[0mparser\u001b[0m \u001b[0;34m=\u001b[0m \u001b[0mTextFileReader\u001b[0m\u001b[0;34m(\u001b[0m\u001b[0mfilepath_or_buffer\u001b[0m\u001b[0;34m,\u001b[0m \u001b[0;34m**\u001b[0m\u001b[0mkwds\u001b[0m\u001b[0;34m)\u001b[0m\u001b[0;34m\u001b[0m\u001b[0;34m\u001b[0m\u001b[0m\n\u001b[0m\u001b[1;32m    430\u001b[0m \u001b[0;34m\u001b[0m\u001b[0m\n\u001b[1;32m    431\u001b[0m     \u001b[0;32mif\u001b[0m \u001b[0mchunksize\u001b[0m \u001b[0;32mor\u001b[0m \u001b[0miterator\u001b[0m\u001b[0;34m:\u001b[0m\u001b[0;34m\u001b[0m\u001b[0;34m\u001b[0m\u001b[0m\n",
      "\u001b[0;32m~/anaconda3/lib/python3.7/site-packages/pandas/io/parsers.py\u001b[0m in \u001b[0;36m__init__\u001b[0;34m(self, f, engine, **kwds)\u001b[0m\n\u001b[1;32m    893\u001b[0m             \u001b[0mself\u001b[0m\u001b[0;34m.\u001b[0m\u001b[0moptions\u001b[0m\u001b[0;34m[\u001b[0m\u001b[0;34m'has_index_names'\u001b[0m\u001b[0;34m]\u001b[0m \u001b[0;34m=\u001b[0m \u001b[0mkwds\u001b[0m\u001b[0;34m[\u001b[0m\u001b[0;34m'has_index_names'\u001b[0m\u001b[0;34m]\u001b[0m\u001b[0;34m\u001b[0m\u001b[0;34m\u001b[0m\u001b[0m\n\u001b[1;32m    894\u001b[0m \u001b[0;34m\u001b[0m\u001b[0m\n\u001b[0;32m--> 895\u001b[0;31m         \u001b[0mself\u001b[0m\u001b[0;34m.\u001b[0m\u001b[0m_make_engine\u001b[0m\u001b[0;34m(\u001b[0m\u001b[0mself\u001b[0m\u001b[0;34m.\u001b[0m\u001b[0mengine\u001b[0m\u001b[0;34m)\u001b[0m\u001b[0;34m\u001b[0m\u001b[0;34m\u001b[0m\u001b[0m\n\u001b[0m\u001b[1;32m    896\u001b[0m \u001b[0;34m\u001b[0m\u001b[0m\n\u001b[1;32m    897\u001b[0m     \u001b[0;32mdef\u001b[0m \u001b[0mclose\u001b[0m\u001b[0;34m(\u001b[0m\u001b[0mself\u001b[0m\u001b[0;34m)\u001b[0m\u001b[0;34m:\u001b[0m\u001b[0;34m\u001b[0m\u001b[0;34m\u001b[0m\u001b[0m\n",
      "\u001b[0;32m~/anaconda3/lib/python3.7/site-packages/pandas/io/parsers.py\u001b[0m in \u001b[0;36m_make_engine\u001b[0;34m(self, engine)\u001b[0m\n\u001b[1;32m   1120\u001b[0m     \u001b[0;32mdef\u001b[0m \u001b[0m_make_engine\u001b[0m\u001b[0;34m(\u001b[0m\u001b[0mself\u001b[0m\u001b[0;34m,\u001b[0m \u001b[0mengine\u001b[0m\u001b[0;34m=\u001b[0m\u001b[0;34m'c'\u001b[0m\u001b[0;34m)\u001b[0m\u001b[0;34m:\u001b[0m\u001b[0;34m\u001b[0m\u001b[0;34m\u001b[0m\u001b[0m\n\u001b[1;32m   1121\u001b[0m         \u001b[0;32mif\u001b[0m \u001b[0mengine\u001b[0m \u001b[0;34m==\u001b[0m \u001b[0;34m'c'\u001b[0m\u001b[0;34m:\u001b[0m\u001b[0;34m\u001b[0m\u001b[0;34m\u001b[0m\u001b[0m\n\u001b[0;32m-> 1122\u001b[0;31m             \u001b[0mself\u001b[0m\u001b[0;34m.\u001b[0m\u001b[0m_engine\u001b[0m \u001b[0;34m=\u001b[0m \u001b[0mCParserWrapper\u001b[0m\u001b[0;34m(\u001b[0m\u001b[0mself\u001b[0m\u001b[0;34m.\u001b[0m\u001b[0mf\u001b[0m\u001b[0;34m,\u001b[0m \u001b[0;34m**\u001b[0m\u001b[0mself\u001b[0m\u001b[0;34m.\u001b[0m\u001b[0moptions\u001b[0m\u001b[0;34m)\u001b[0m\u001b[0;34m\u001b[0m\u001b[0;34m\u001b[0m\u001b[0m\n\u001b[0m\u001b[1;32m   1123\u001b[0m         \u001b[0;32melse\u001b[0m\u001b[0;34m:\u001b[0m\u001b[0;34m\u001b[0m\u001b[0;34m\u001b[0m\u001b[0m\n\u001b[1;32m   1124\u001b[0m             \u001b[0;32mif\u001b[0m \u001b[0mengine\u001b[0m \u001b[0;34m==\u001b[0m \u001b[0;34m'python'\u001b[0m\u001b[0;34m:\u001b[0m\u001b[0;34m\u001b[0m\u001b[0;34m\u001b[0m\u001b[0m\n",
      "\u001b[0;32m~/anaconda3/lib/python3.7/site-packages/pandas/io/parsers.py\u001b[0m in \u001b[0;36m__init__\u001b[0;34m(self, src, **kwds)\u001b[0m\n\u001b[1;32m   1851\u001b[0m         \u001b[0mkwds\u001b[0m\u001b[0;34m[\u001b[0m\u001b[0;34m'usecols'\u001b[0m\u001b[0;34m]\u001b[0m \u001b[0;34m=\u001b[0m \u001b[0mself\u001b[0m\u001b[0;34m.\u001b[0m\u001b[0musecols\u001b[0m\u001b[0;34m\u001b[0m\u001b[0;34m\u001b[0m\u001b[0m\n\u001b[1;32m   1852\u001b[0m \u001b[0;34m\u001b[0m\u001b[0m\n\u001b[0;32m-> 1853\u001b[0;31m         \u001b[0mself\u001b[0m\u001b[0;34m.\u001b[0m\u001b[0m_reader\u001b[0m \u001b[0;34m=\u001b[0m \u001b[0mparsers\u001b[0m\u001b[0;34m.\u001b[0m\u001b[0mTextReader\u001b[0m\u001b[0;34m(\u001b[0m\u001b[0msrc\u001b[0m\u001b[0;34m,\u001b[0m \u001b[0;34m**\u001b[0m\u001b[0mkwds\u001b[0m\u001b[0;34m)\u001b[0m\u001b[0;34m\u001b[0m\u001b[0;34m\u001b[0m\u001b[0m\n\u001b[0m\u001b[1;32m   1854\u001b[0m         \u001b[0mself\u001b[0m\u001b[0;34m.\u001b[0m\u001b[0munnamed_cols\u001b[0m \u001b[0;34m=\u001b[0m \u001b[0mself\u001b[0m\u001b[0;34m.\u001b[0m\u001b[0m_reader\u001b[0m\u001b[0;34m.\u001b[0m\u001b[0munnamed_cols\u001b[0m\u001b[0;34m\u001b[0m\u001b[0;34m\u001b[0m\u001b[0m\n\u001b[1;32m   1855\u001b[0m \u001b[0;34m\u001b[0m\u001b[0m\n",
      "\u001b[0;32mpandas/_libs/parsers.pyx\u001b[0m in \u001b[0;36mpandas._libs.parsers.TextReader.__cinit__\u001b[0;34m()\u001b[0m\n",
      "\u001b[0;32mpandas/_libs/parsers.pyx\u001b[0m in \u001b[0;36mpandas._libs.parsers.TextReader._setup_parser_source\u001b[0;34m()\u001b[0m\n",
      "\u001b[0;31mFileNotFoundError\u001b[0m: [Errno 2] File b'Desktop/School/Spring_2019_Semester/LIS4761/Project/zoo.csv' does not exist: b'Desktop/School/Spring_2019_Semester/LIS4761/Project/zoo.csv'"
     ]
    }
   ],
   "source": [
    "df1 = pd.read_csv(\"Desktop/School/Spring_2019_Semester/LIS4761/Project/zoo.csv\")\n"
   ]
  },
  {
   "cell_type": "code",
   "execution_count": 8,
   "metadata": {},
   "outputs": [
    {
     "ename": "NameError",
     "evalue": "name 'Desktop' is not defined",
     "output_type": "error",
     "traceback": [
      "\u001b[0;31m---------------------------------------------------------------------------\u001b[0m",
      "\u001b[0;31mNameError\u001b[0m                                 Traceback (most recent call last)",
      "\u001b[0;32m<ipython-input-8-2d328da0893a>\u001b[0m in \u001b[0;36m<module>\u001b[0;34m\u001b[0m\n\u001b[0;32m----> 1\u001b[0;31m \u001b[0mdf1\u001b[0m \u001b[0;34m=\u001b[0m \u001b[0mpd\u001b[0m\u001b[0;34m.\u001b[0m\u001b[0mread_csv\u001b[0m \u001b[0;34m(\u001b[0m\u001b[0mDesktop\u001b[0m\u001b[0;34m/\u001b[0m\u001b[0mSchool\u001b[0m\u001b[0;34m/\u001b[0m\u001b[0mSpring_2019_Semester\u001b[0m\u001b[0;34m/\u001b[0m\u001b[0mLIS4761\u001b[0m\u001b[0;34m/\u001b[0m\u001b[0mProject\u001b[0m\u001b[0;34m/\u001b[0m\u001b[0mzoo\u001b[0m\u001b[0;34m.\u001b[0m\u001b[0mcsv\u001b[0m\u001b[0;34m)\u001b[0m\u001b[0;34m\u001b[0m\u001b[0;34m\u001b[0m\u001b[0m\n\u001b[0m",
      "\u001b[0;31mNameError\u001b[0m: name 'Desktop' is not defined"
     ]
    }
   ],
   "source": [
    "df1 = pd.read_csv (Desktop/School/Spring_2019_Semester/LIS4761/Project/zoo.csv)"
   ]
  },
  {
   "cell_type": "code",
   "execution_count": 9,
   "metadata": {},
   "outputs": [
    {
     "ename": "NameError",
     "evalue": "name 'Users' is not defined",
     "output_type": "error",
     "traceback": [
      "\u001b[0;31m---------------------------------------------------------------------------\u001b[0m",
      "\u001b[0;31mNameError\u001b[0m                                 Traceback (most recent call last)",
      "\u001b[0;32m<ipython-input-9-939ecb813161>\u001b[0m in \u001b[0;36m<module>\u001b[0;34m\u001b[0m\n\u001b[0;32m----> 1\u001b[0;31m \u001b[0mdf1\u001b[0m \u001b[0;34m=\u001b[0m \u001b[0mpd\u001b[0m\u001b[0;34m.\u001b[0m\u001b[0mread_csv\u001b[0m \u001b[0;34m(\u001b[0m\u001b[0mUsers\u001b[0m\u001b[0;34m/\u001b[0m\u001b[0mRichardMorrow\u001b[0m\u001b[0;34m/\u001b[0m\u001b[0mDesktop\u001b[0m\u001b[0;34m/\u001b[0m\u001b[0mSchool\u001b[0m\u001b[0;34m/\u001b[0m\u001b[0mSpring_2019_Semester\u001b[0m\u001b[0;34m/\u001b[0m\u001b[0mLIS4761\u001b[0m\u001b[0;34m/\u001b[0m\u001b[0mProject\u001b[0m\u001b[0;34m/\u001b[0m\u001b[0mzoo\u001b[0m\u001b[0;34m.\u001b[0m\u001b[0mcsv\u001b[0m\u001b[0;34m)\u001b[0m\u001b[0;34m\u001b[0m\u001b[0;34m\u001b[0m\u001b[0m\n\u001b[0m",
      "\u001b[0;31mNameError\u001b[0m: name 'Users' is not defined"
     ]
    }
   ],
   "source": [
    "df1 = pd.read_csv (Users/RichardMorrow/Desktop/School/Spring_2019_Semester/LIS4761/Project/zoo.csv)"
   ]
  },
  {
   "cell_type": "code",
   "execution_count": 10,
   "metadata": {},
   "outputs": [
    {
     "ename": "HTTPError",
     "evalue": "HTTP Error 404: Not Found",
     "output_type": "error",
     "traceback": [
      "\u001b[0;31m---------------------------------------------------------------------------\u001b[0m",
      "\u001b[0;31mHTTPError\u001b[0m                                 Traceback (most recent call last)",
      "\u001b[0;32m<ipython-input-10-7f3ef8c3b3de>\u001b[0m in \u001b[0;36m<module>\u001b[0;34m\u001b[0m\n\u001b[0;32m----> 1\u001b[0;31m \u001b[0mdf1\u001b[0m \u001b[0;34m=\u001b[0m \u001b[0mpd\u001b[0m\u001b[0;34m.\u001b[0m\u001b[0mread_csv\u001b[0m \u001b[0;34m(\u001b[0m\u001b[0;34m\"http://localhost:8888/Desktop/School/Spring_2019_Semester/LIS4761/Project/zoo.csv\"\u001b[0m\u001b[0;34m)\u001b[0m\u001b[0;34m\u001b[0m\u001b[0;34m\u001b[0m\u001b[0m\n\u001b[0m",
      "\u001b[0;32m~/anaconda3/lib/python3.7/site-packages/pandas/io/parsers.py\u001b[0m in \u001b[0;36mparser_f\u001b[0;34m(filepath_or_buffer, sep, delimiter, header, names, index_col, usecols, squeeze, prefix, mangle_dupe_cols, dtype, engine, converters, true_values, false_values, skipinitialspace, skiprows, skipfooter, nrows, na_values, keep_default_na, na_filter, verbose, skip_blank_lines, parse_dates, infer_datetime_format, keep_date_col, date_parser, dayfirst, iterator, chunksize, compression, thousands, decimal, lineterminator, quotechar, quoting, doublequote, escapechar, comment, encoding, dialect, tupleize_cols, error_bad_lines, warn_bad_lines, delim_whitespace, low_memory, memory_map, float_precision)\u001b[0m\n\u001b[1;32m    700\u001b[0m                     skip_blank_lines=skip_blank_lines)\n\u001b[1;32m    701\u001b[0m \u001b[0;34m\u001b[0m\u001b[0m\n\u001b[0;32m--> 702\u001b[0;31m         \u001b[0;32mreturn\u001b[0m \u001b[0m_read\u001b[0m\u001b[0;34m(\u001b[0m\u001b[0mfilepath_or_buffer\u001b[0m\u001b[0;34m,\u001b[0m \u001b[0mkwds\u001b[0m\u001b[0;34m)\u001b[0m\u001b[0;34m\u001b[0m\u001b[0;34m\u001b[0m\u001b[0m\n\u001b[0m\u001b[1;32m    703\u001b[0m \u001b[0;34m\u001b[0m\u001b[0m\n\u001b[1;32m    704\u001b[0m     \u001b[0mparser_f\u001b[0m\u001b[0;34m.\u001b[0m\u001b[0m__name__\u001b[0m \u001b[0;34m=\u001b[0m \u001b[0mname\u001b[0m\u001b[0;34m\u001b[0m\u001b[0;34m\u001b[0m\u001b[0m\n",
      "\u001b[0;32m~/anaconda3/lib/python3.7/site-packages/pandas/io/parsers.py\u001b[0m in \u001b[0;36m_read\u001b[0;34m(filepath_or_buffer, kwds)\u001b[0m\n\u001b[1;32m    411\u001b[0m     \u001b[0mcompression\u001b[0m \u001b[0;34m=\u001b[0m \u001b[0m_infer_compression\u001b[0m\u001b[0;34m(\u001b[0m\u001b[0mfilepath_or_buffer\u001b[0m\u001b[0;34m,\u001b[0m \u001b[0mcompression\u001b[0m\u001b[0;34m)\u001b[0m\u001b[0;34m\u001b[0m\u001b[0;34m\u001b[0m\u001b[0m\n\u001b[1;32m    412\u001b[0m     filepath_or_buffer, _, compression, should_close = get_filepath_or_buffer(\n\u001b[0;32m--> 413\u001b[0;31m         filepath_or_buffer, encoding, compression)\n\u001b[0m\u001b[1;32m    414\u001b[0m     \u001b[0mkwds\u001b[0m\u001b[0;34m[\u001b[0m\u001b[0;34m'compression'\u001b[0m\u001b[0;34m]\u001b[0m \u001b[0;34m=\u001b[0m \u001b[0mcompression\u001b[0m\u001b[0;34m\u001b[0m\u001b[0;34m\u001b[0m\u001b[0m\n\u001b[1;32m    415\u001b[0m \u001b[0;34m\u001b[0m\u001b[0m\n",
      "\u001b[0;32m~/anaconda3/lib/python3.7/site-packages/pandas/io/common.py\u001b[0m in \u001b[0;36mget_filepath_or_buffer\u001b[0;34m(filepath_or_buffer, encoding, compression, mode)\u001b[0m\n\u001b[1;32m    200\u001b[0m \u001b[0;34m\u001b[0m\u001b[0m\n\u001b[1;32m    201\u001b[0m     \u001b[0;32mif\u001b[0m \u001b[0m_is_url\u001b[0m\u001b[0;34m(\u001b[0m\u001b[0mfilepath_or_buffer\u001b[0m\u001b[0;34m)\u001b[0m\u001b[0;34m:\u001b[0m\u001b[0;34m\u001b[0m\u001b[0;34m\u001b[0m\u001b[0m\n\u001b[0;32m--> 202\u001b[0;31m         \u001b[0mreq\u001b[0m \u001b[0;34m=\u001b[0m \u001b[0m_urlopen\u001b[0m\u001b[0;34m(\u001b[0m\u001b[0mfilepath_or_buffer\u001b[0m\u001b[0;34m)\u001b[0m\u001b[0;34m\u001b[0m\u001b[0;34m\u001b[0m\u001b[0m\n\u001b[0m\u001b[1;32m    203\u001b[0m         \u001b[0mcontent_encoding\u001b[0m \u001b[0;34m=\u001b[0m \u001b[0mreq\u001b[0m\u001b[0;34m.\u001b[0m\u001b[0mheaders\u001b[0m\u001b[0;34m.\u001b[0m\u001b[0mget\u001b[0m\u001b[0;34m(\u001b[0m\u001b[0;34m'Content-Encoding'\u001b[0m\u001b[0;34m,\u001b[0m \u001b[0;32mNone\u001b[0m\u001b[0;34m)\u001b[0m\u001b[0;34m\u001b[0m\u001b[0;34m\u001b[0m\u001b[0m\n\u001b[1;32m    204\u001b[0m         \u001b[0;32mif\u001b[0m \u001b[0mcontent_encoding\u001b[0m \u001b[0;34m==\u001b[0m \u001b[0;34m'gzip'\u001b[0m\u001b[0;34m:\u001b[0m\u001b[0;34m\u001b[0m\u001b[0;34m\u001b[0m\u001b[0m\n",
      "\u001b[0;32m~/anaconda3/lib/python3.7/urllib/request.py\u001b[0m in \u001b[0;36murlopen\u001b[0;34m(url, data, timeout, cafile, capath, cadefault, context)\u001b[0m\n\u001b[1;32m    220\u001b[0m     \u001b[0;32melse\u001b[0m\u001b[0;34m:\u001b[0m\u001b[0;34m\u001b[0m\u001b[0;34m\u001b[0m\u001b[0m\n\u001b[1;32m    221\u001b[0m         \u001b[0mopener\u001b[0m \u001b[0;34m=\u001b[0m \u001b[0m_opener\u001b[0m\u001b[0;34m\u001b[0m\u001b[0;34m\u001b[0m\u001b[0m\n\u001b[0;32m--> 222\u001b[0;31m     \u001b[0;32mreturn\u001b[0m \u001b[0mopener\u001b[0m\u001b[0;34m.\u001b[0m\u001b[0mopen\u001b[0m\u001b[0;34m(\u001b[0m\u001b[0murl\u001b[0m\u001b[0;34m,\u001b[0m \u001b[0mdata\u001b[0m\u001b[0;34m,\u001b[0m \u001b[0mtimeout\u001b[0m\u001b[0;34m)\u001b[0m\u001b[0;34m\u001b[0m\u001b[0;34m\u001b[0m\u001b[0m\n\u001b[0m\u001b[1;32m    223\u001b[0m \u001b[0;34m\u001b[0m\u001b[0m\n\u001b[1;32m    224\u001b[0m \u001b[0;32mdef\u001b[0m \u001b[0minstall_opener\u001b[0m\u001b[0;34m(\u001b[0m\u001b[0mopener\u001b[0m\u001b[0;34m)\u001b[0m\u001b[0;34m:\u001b[0m\u001b[0;34m\u001b[0m\u001b[0;34m\u001b[0m\u001b[0m\n",
      "\u001b[0;32m~/anaconda3/lib/python3.7/urllib/request.py\u001b[0m in \u001b[0;36mopen\u001b[0;34m(self, fullurl, data, timeout)\u001b[0m\n\u001b[1;32m    529\u001b[0m         \u001b[0;32mfor\u001b[0m \u001b[0mprocessor\u001b[0m \u001b[0;32min\u001b[0m \u001b[0mself\u001b[0m\u001b[0;34m.\u001b[0m\u001b[0mprocess_response\u001b[0m\u001b[0;34m.\u001b[0m\u001b[0mget\u001b[0m\u001b[0;34m(\u001b[0m\u001b[0mprotocol\u001b[0m\u001b[0;34m,\u001b[0m \u001b[0;34m[\u001b[0m\u001b[0;34m]\u001b[0m\u001b[0;34m)\u001b[0m\u001b[0;34m:\u001b[0m\u001b[0;34m\u001b[0m\u001b[0;34m\u001b[0m\u001b[0m\n\u001b[1;32m    530\u001b[0m             \u001b[0mmeth\u001b[0m \u001b[0;34m=\u001b[0m \u001b[0mgetattr\u001b[0m\u001b[0;34m(\u001b[0m\u001b[0mprocessor\u001b[0m\u001b[0;34m,\u001b[0m \u001b[0mmeth_name\u001b[0m\u001b[0;34m)\u001b[0m\u001b[0;34m\u001b[0m\u001b[0;34m\u001b[0m\u001b[0m\n\u001b[0;32m--> 531\u001b[0;31m             \u001b[0mresponse\u001b[0m \u001b[0;34m=\u001b[0m \u001b[0mmeth\u001b[0m\u001b[0;34m(\u001b[0m\u001b[0mreq\u001b[0m\u001b[0;34m,\u001b[0m \u001b[0mresponse\u001b[0m\u001b[0;34m)\u001b[0m\u001b[0;34m\u001b[0m\u001b[0;34m\u001b[0m\u001b[0m\n\u001b[0m\u001b[1;32m    532\u001b[0m \u001b[0;34m\u001b[0m\u001b[0m\n\u001b[1;32m    533\u001b[0m         \u001b[0;32mreturn\u001b[0m \u001b[0mresponse\u001b[0m\u001b[0;34m\u001b[0m\u001b[0;34m\u001b[0m\u001b[0m\n",
      "\u001b[0;32m~/anaconda3/lib/python3.7/urllib/request.py\u001b[0m in \u001b[0;36mhttp_response\u001b[0;34m(self, request, response)\u001b[0m\n\u001b[1;32m    639\u001b[0m         \u001b[0;32mif\u001b[0m \u001b[0;32mnot\u001b[0m \u001b[0;34m(\u001b[0m\u001b[0;36m200\u001b[0m \u001b[0;34m<=\u001b[0m \u001b[0mcode\u001b[0m \u001b[0;34m<\u001b[0m \u001b[0;36m300\u001b[0m\u001b[0;34m)\u001b[0m\u001b[0;34m:\u001b[0m\u001b[0;34m\u001b[0m\u001b[0;34m\u001b[0m\u001b[0m\n\u001b[1;32m    640\u001b[0m             response = self.parent.error(\n\u001b[0;32m--> 641\u001b[0;31m                 'http', request, response, code, msg, hdrs)\n\u001b[0m\u001b[1;32m    642\u001b[0m \u001b[0;34m\u001b[0m\u001b[0m\n\u001b[1;32m    643\u001b[0m         \u001b[0;32mreturn\u001b[0m \u001b[0mresponse\u001b[0m\u001b[0;34m\u001b[0m\u001b[0;34m\u001b[0m\u001b[0m\n",
      "\u001b[0;32m~/anaconda3/lib/python3.7/urllib/request.py\u001b[0m in \u001b[0;36merror\u001b[0;34m(self, proto, *args)\u001b[0m\n\u001b[1;32m    567\u001b[0m         \u001b[0;32mif\u001b[0m \u001b[0mhttp_err\u001b[0m\u001b[0;34m:\u001b[0m\u001b[0;34m\u001b[0m\u001b[0;34m\u001b[0m\u001b[0m\n\u001b[1;32m    568\u001b[0m             \u001b[0margs\u001b[0m \u001b[0;34m=\u001b[0m \u001b[0;34m(\u001b[0m\u001b[0mdict\u001b[0m\u001b[0;34m,\u001b[0m \u001b[0;34m'default'\u001b[0m\u001b[0;34m,\u001b[0m \u001b[0;34m'http_error_default'\u001b[0m\u001b[0;34m)\u001b[0m \u001b[0;34m+\u001b[0m \u001b[0morig_args\u001b[0m\u001b[0;34m\u001b[0m\u001b[0;34m\u001b[0m\u001b[0m\n\u001b[0;32m--> 569\u001b[0;31m             \u001b[0;32mreturn\u001b[0m \u001b[0mself\u001b[0m\u001b[0;34m.\u001b[0m\u001b[0m_call_chain\u001b[0m\u001b[0;34m(\u001b[0m\u001b[0;34m*\u001b[0m\u001b[0margs\u001b[0m\u001b[0;34m)\u001b[0m\u001b[0;34m\u001b[0m\u001b[0;34m\u001b[0m\u001b[0m\n\u001b[0m\u001b[1;32m    570\u001b[0m \u001b[0;34m\u001b[0m\u001b[0m\n\u001b[1;32m    571\u001b[0m \u001b[0;31m# XXX probably also want an abstract factory that knows when it makes\u001b[0m\u001b[0;34m\u001b[0m\u001b[0;34m\u001b[0m\u001b[0;34m\u001b[0m\u001b[0m\n",
      "\u001b[0;32m~/anaconda3/lib/python3.7/urllib/request.py\u001b[0m in \u001b[0;36m_call_chain\u001b[0;34m(self, chain, kind, meth_name, *args)\u001b[0m\n\u001b[1;32m    501\u001b[0m         \u001b[0;32mfor\u001b[0m \u001b[0mhandler\u001b[0m \u001b[0;32min\u001b[0m \u001b[0mhandlers\u001b[0m\u001b[0;34m:\u001b[0m\u001b[0;34m\u001b[0m\u001b[0;34m\u001b[0m\u001b[0m\n\u001b[1;32m    502\u001b[0m             \u001b[0mfunc\u001b[0m \u001b[0;34m=\u001b[0m \u001b[0mgetattr\u001b[0m\u001b[0;34m(\u001b[0m\u001b[0mhandler\u001b[0m\u001b[0;34m,\u001b[0m \u001b[0mmeth_name\u001b[0m\u001b[0;34m)\u001b[0m\u001b[0;34m\u001b[0m\u001b[0;34m\u001b[0m\u001b[0m\n\u001b[0;32m--> 503\u001b[0;31m             \u001b[0mresult\u001b[0m \u001b[0;34m=\u001b[0m \u001b[0mfunc\u001b[0m\u001b[0;34m(\u001b[0m\u001b[0;34m*\u001b[0m\u001b[0margs\u001b[0m\u001b[0;34m)\u001b[0m\u001b[0;34m\u001b[0m\u001b[0;34m\u001b[0m\u001b[0m\n\u001b[0m\u001b[1;32m    504\u001b[0m             \u001b[0;32mif\u001b[0m \u001b[0mresult\u001b[0m \u001b[0;32mis\u001b[0m \u001b[0;32mnot\u001b[0m \u001b[0;32mNone\u001b[0m\u001b[0;34m:\u001b[0m\u001b[0;34m\u001b[0m\u001b[0;34m\u001b[0m\u001b[0m\n\u001b[1;32m    505\u001b[0m                 \u001b[0;32mreturn\u001b[0m \u001b[0mresult\u001b[0m\u001b[0;34m\u001b[0m\u001b[0;34m\u001b[0m\u001b[0m\n",
      "\u001b[0;32m~/anaconda3/lib/python3.7/urllib/request.py\u001b[0m in \u001b[0;36mhttp_error_default\u001b[0;34m(self, req, fp, code, msg, hdrs)\u001b[0m\n\u001b[1;32m    647\u001b[0m \u001b[0;32mclass\u001b[0m \u001b[0mHTTPDefaultErrorHandler\u001b[0m\u001b[0;34m(\u001b[0m\u001b[0mBaseHandler\u001b[0m\u001b[0;34m)\u001b[0m\u001b[0;34m:\u001b[0m\u001b[0;34m\u001b[0m\u001b[0;34m\u001b[0m\u001b[0m\n\u001b[1;32m    648\u001b[0m     \u001b[0;32mdef\u001b[0m \u001b[0mhttp_error_default\u001b[0m\u001b[0;34m(\u001b[0m\u001b[0mself\u001b[0m\u001b[0;34m,\u001b[0m \u001b[0mreq\u001b[0m\u001b[0;34m,\u001b[0m \u001b[0mfp\u001b[0m\u001b[0;34m,\u001b[0m \u001b[0mcode\u001b[0m\u001b[0;34m,\u001b[0m \u001b[0mmsg\u001b[0m\u001b[0;34m,\u001b[0m \u001b[0mhdrs\u001b[0m\u001b[0;34m)\u001b[0m\u001b[0;34m:\u001b[0m\u001b[0;34m\u001b[0m\u001b[0;34m\u001b[0m\u001b[0m\n\u001b[0;32m--> 649\u001b[0;31m         \u001b[0;32mraise\u001b[0m \u001b[0mHTTPError\u001b[0m\u001b[0;34m(\u001b[0m\u001b[0mreq\u001b[0m\u001b[0;34m.\u001b[0m\u001b[0mfull_url\u001b[0m\u001b[0;34m,\u001b[0m \u001b[0mcode\u001b[0m\u001b[0;34m,\u001b[0m \u001b[0mmsg\u001b[0m\u001b[0;34m,\u001b[0m \u001b[0mhdrs\u001b[0m\u001b[0;34m,\u001b[0m \u001b[0mfp\u001b[0m\u001b[0;34m)\u001b[0m\u001b[0;34m\u001b[0m\u001b[0;34m\u001b[0m\u001b[0m\n\u001b[0m\u001b[1;32m    650\u001b[0m \u001b[0;34m\u001b[0m\u001b[0m\n\u001b[1;32m    651\u001b[0m \u001b[0;32mclass\u001b[0m \u001b[0mHTTPRedirectHandler\u001b[0m\u001b[0;34m(\u001b[0m\u001b[0mBaseHandler\u001b[0m\u001b[0;34m)\u001b[0m\u001b[0;34m:\u001b[0m\u001b[0;34m\u001b[0m\u001b[0;34m\u001b[0m\u001b[0m\n",
      "\u001b[0;31mHTTPError\u001b[0m: HTTP Error 404: Not Found"
     ]
    }
   ],
   "source": [
    "df1 = pd.read_csv (\"http://localhost:8888/Desktop/School/Spring_2019_Semester/LIS4761/Project/zoo.csv\")"
   ]
  },
  {
   "cell_type": "code",
   "execution_count": 11,
   "metadata": {},
   "outputs": [
    {
     "ename": "FileNotFoundError",
     "evalue": "[Errno 2] File b'8888/tree/Desktop/School/Spring_2019_Semester/LIS4761/Project' does not exist: b'8888/tree/Desktop/School/Spring_2019_Semester/LIS4761/Project'",
     "output_type": "error",
     "traceback": [
      "\u001b[0;31m---------------------------------------------------------------------------\u001b[0m",
      "\u001b[0;31mFileNotFoundError\u001b[0m                         Traceback (most recent call last)",
      "\u001b[0;32m<ipython-input-11-17d6315f0383>\u001b[0m in \u001b[0;36m<module>\u001b[0;34m\u001b[0m\n\u001b[0;32m----> 1\u001b[0;31m \u001b[0mdf1\u001b[0m \u001b[0;34m=\u001b[0m \u001b[0mpd\u001b[0m\u001b[0;34m.\u001b[0m\u001b[0mread_csv\u001b[0m\u001b[0;34m(\u001b[0m\u001b[0;34m\"8888/tree/Desktop/School/Spring_2019_Semester/LIS4761/Project\"\u001b[0m\u001b[0;34m)\u001b[0m\u001b[0;34m\u001b[0m\u001b[0;34m\u001b[0m\u001b[0m\n\u001b[0m",
      "\u001b[0;32m~/anaconda3/lib/python3.7/site-packages/pandas/io/parsers.py\u001b[0m in \u001b[0;36mparser_f\u001b[0;34m(filepath_or_buffer, sep, delimiter, header, names, index_col, usecols, squeeze, prefix, mangle_dupe_cols, dtype, engine, converters, true_values, false_values, skipinitialspace, skiprows, skipfooter, nrows, na_values, keep_default_na, na_filter, verbose, skip_blank_lines, parse_dates, infer_datetime_format, keep_date_col, date_parser, dayfirst, iterator, chunksize, compression, thousands, decimal, lineterminator, quotechar, quoting, doublequote, escapechar, comment, encoding, dialect, tupleize_cols, error_bad_lines, warn_bad_lines, delim_whitespace, low_memory, memory_map, float_precision)\u001b[0m\n\u001b[1;32m    700\u001b[0m                     skip_blank_lines=skip_blank_lines)\n\u001b[1;32m    701\u001b[0m \u001b[0;34m\u001b[0m\u001b[0m\n\u001b[0;32m--> 702\u001b[0;31m         \u001b[0;32mreturn\u001b[0m \u001b[0m_read\u001b[0m\u001b[0;34m(\u001b[0m\u001b[0mfilepath_or_buffer\u001b[0m\u001b[0;34m,\u001b[0m \u001b[0mkwds\u001b[0m\u001b[0;34m)\u001b[0m\u001b[0;34m\u001b[0m\u001b[0;34m\u001b[0m\u001b[0m\n\u001b[0m\u001b[1;32m    703\u001b[0m \u001b[0;34m\u001b[0m\u001b[0m\n\u001b[1;32m    704\u001b[0m     \u001b[0mparser_f\u001b[0m\u001b[0;34m.\u001b[0m\u001b[0m__name__\u001b[0m \u001b[0;34m=\u001b[0m \u001b[0mname\u001b[0m\u001b[0;34m\u001b[0m\u001b[0;34m\u001b[0m\u001b[0m\n",
      "\u001b[0;32m~/anaconda3/lib/python3.7/site-packages/pandas/io/parsers.py\u001b[0m in \u001b[0;36m_read\u001b[0;34m(filepath_or_buffer, kwds)\u001b[0m\n\u001b[1;32m    427\u001b[0m \u001b[0;34m\u001b[0m\u001b[0m\n\u001b[1;32m    428\u001b[0m     \u001b[0;31m# Create the parser.\u001b[0m\u001b[0;34m\u001b[0m\u001b[0;34m\u001b[0m\u001b[0;34m\u001b[0m\u001b[0m\n\u001b[0;32m--> 429\u001b[0;31m     \u001b[0mparser\u001b[0m \u001b[0;34m=\u001b[0m \u001b[0mTextFileReader\u001b[0m\u001b[0;34m(\u001b[0m\u001b[0mfilepath_or_buffer\u001b[0m\u001b[0;34m,\u001b[0m \u001b[0;34m**\u001b[0m\u001b[0mkwds\u001b[0m\u001b[0;34m)\u001b[0m\u001b[0;34m\u001b[0m\u001b[0;34m\u001b[0m\u001b[0m\n\u001b[0m\u001b[1;32m    430\u001b[0m \u001b[0;34m\u001b[0m\u001b[0m\n\u001b[1;32m    431\u001b[0m     \u001b[0;32mif\u001b[0m \u001b[0mchunksize\u001b[0m \u001b[0;32mor\u001b[0m \u001b[0miterator\u001b[0m\u001b[0;34m:\u001b[0m\u001b[0;34m\u001b[0m\u001b[0;34m\u001b[0m\u001b[0m\n",
      "\u001b[0;32m~/anaconda3/lib/python3.7/site-packages/pandas/io/parsers.py\u001b[0m in \u001b[0;36m__init__\u001b[0;34m(self, f, engine, **kwds)\u001b[0m\n\u001b[1;32m    893\u001b[0m             \u001b[0mself\u001b[0m\u001b[0;34m.\u001b[0m\u001b[0moptions\u001b[0m\u001b[0;34m[\u001b[0m\u001b[0;34m'has_index_names'\u001b[0m\u001b[0;34m]\u001b[0m \u001b[0;34m=\u001b[0m \u001b[0mkwds\u001b[0m\u001b[0;34m[\u001b[0m\u001b[0;34m'has_index_names'\u001b[0m\u001b[0;34m]\u001b[0m\u001b[0;34m\u001b[0m\u001b[0;34m\u001b[0m\u001b[0m\n\u001b[1;32m    894\u001b[0m \u001b[0;34m\u001b[0m\u001b[0m\n\u001b[0;32m--> 895\u001b[0;31m         \u001b[0mself\u001b[0m\u001b[0;34m.\u001b[0m\u001b[0m_make_engine\u001b[0m\u001b[0;34m(\u001b[0m\u001b[0mself\u001b[0m\u001b[0;34m.\u001b[0m\u001b[0mengine\u001b[0m\u001b[0;34m)\u001b[0m\u001b[0;34m\u001b[0m\u001b[0;34m\u001b[0m\u001b[0m\n\u001b[0m\u001b[1;32m    896\u001b[0m \u001b[0;34m\u001b[0m\u001b[0m\n\u001b[1;32m    897\u001b[0m     \u001b[0;32mdef\u001b[0m \u001b[0mclose\u001b[0m\u001b[0;34m(\u001b[0m\u001b[0mself\u001b[0m\u001b[0;34m)\u001b[0m\u001b[0;34m:\u001b[0m\u001b[0;34m\u001b[0m\u001b[0;34m\u001b[0m\u001b[0m\n",
      "\u001b[0;32m~/anaconda3/lib/python3.7/site-packages/pandas/io/parsers.py\u001b[0m in \u001b[0;36m_make_engine\u001b[0;34m(self, engine)\u001b[0m\n\u001b[1;32m   1120\u001b[0m     \u001b[0;32mdef\u001b[0m \u001b[0m_make_engine\u001b[0m\u001b[0;34m(\u001b[0m\u001b[0mself\u001b[0m\u001b[0;34m,\u001b[0m \u001b[0mengine\u001b[0m\u001b[0;34m=\u001b[0m\u001b[0;34m'c'\u001b[0m\u001b[0;34m)\u001b[0m\u001b[0;34m:\u001b[0m\u001b[0;34m\u001b[0m\u001b[0;34m\u001b[0m\u001b[0m\n\u001b[1;32m   1121\u001b[0m         \u001b[0;32mif\u001b[0m \u001b[0mengine\u001b[0m \u001b[0;34m==\u001b[0m \u001b[0;34m'c'\u001b[0m\u001b[0;34m:\u001b[0m\u001b[0;34m\u001b[0m\u001b[0;34m\u001b[0m\u001b[0m\n\u001b[0;32m-> 1122\u001b[0;31m             \u001b[0mself\u001b[0m\u001b[0;34m.\u001b[0m\u001b[0m_engine\u001b[0m \u001b[0;34m=\u001b[0m \u001b[0mCParserWrapper\u001b[0m\u001b[0;34m(\u001b[0m\u001b[0mself\u001b[0m\u001b[0;34m.\u001b[0m\u001b[0mf\u001b[0m\u001b[0;34m,\u001b[0m \u001b[0;34m**\u001b[0m\u001b[0mself\u001b[0m\u001b[0;34m.\u001b[0m\u001b[0moptions\u001b[0m\u001b[0;34m)\u001b[0m\u001b[0;34m\u001b[0m\u001b[0;34m\u001b[0m\u001b[0m\n\u001b[0m\u001b[1;32m   1123\u001b[0m         \u001b[0;32melse\u001b[0m\u001b[0;34m:\u001b[0m\u001b[0;34m\u001b[0m\u001b[0;34m\u001b[0m\u001b[0m\n\u001b[1;32m   1124\u001b[0m             \u001b[0;32mif\u001b[0m \u001b[0mengine\u001b[0m \u001b[0;34m==\u001b[0m \u001b[0;34m'python'\u001b[0m\u001b[0;34m:\u001b[0m\u001b[0;34m\u001b[0m\u001b[0;34m\u001b[0m\u001b[0m\n",
      "\u001b[0;32m~/anaconda3/lib/python3.7/site-packages/pandas/io/parsers.py\u001b[0m in \u001b[0;36m__init__\u001b[0;34m(self, src, **kwds)\u001b[0m\n\u001b[1;32m   1851\u001b[0m         \u001b[0mkwds\u001b[0m\u001b[0;34m[\u001b[0m\u001b[0;34m'usecols'\u001b[0m\u001b[0;34m]\u001b[0m \u001b[0;34m=\u001b[0m \u001b[0mself\u001b[0m\u001b[0;34m.\u001b[0m\u001b[0musecols\u001b[0m\u001b[0;34m\u001b[0m\u001b[0;34m\u001b[0m\u001b[0m\n\u001b[1;32m   1852\u001b[0m \u001b[0;34m\u001b[0m\u001b[0m\n\u001b[0;32m-> 1853\u001b[0;31m         \u001b[0mself\u001b[0m\u001b[0;34m.\u001b[0m\u001b[0m_reader\u001b[0m \u001b[0;34m=\u001b[0m \u001b[0mparsers\u001b[0m\u001b[0;34m.\u001b[0m\u001b[0mTextReader\u001b[0m\u001b[0;34m(\u001b[0m\u001b[0msrc\u001b[0m\u001b[0;34m,\u001b[0m \u001b[0;34m**\u001b[0m\u001b[0mkwds\u001b[0m\u001b[0;34m)\u001b[0m\u001b[0;34m\u001b[0m\u001b[0;34m\u001b[0m\u001b[0m\n\u001b[0m\u001b[1;32m   1854\u001b[0m         \u001b[0mself\u001b[0m\u001b[0;34m.\u001b[0m\u001b[0munnamed_cols\u001b[0m \u001b[0;34m=\u001b[0m \u001b[0mself\u001b[0m\u001b[0;34m.\u001b[0m\u001b[0m_reader\u001b[0m\u001b[0;34m.\u001b[0m\u001b[0munnamed_cols\u001b[0m\u001b[0;34m\u001b[0m\u001b[0;34m\u001b[0m\u001b[0m\n\u001b[1;32m   1855\u001b[0m \u001b[0;34m\u001b[0m\u001b[0m\n",
      "\u001b[0;32mpandas/_libs/parsers.pyx\u001b[0m in \u001b[0;36mpandas._libs.parsers.TextReader.__cinit__\u001b[0;34m()\u001b[0m\n",
      "\u001b[0;32mpandas/_libs/parsers.pyx\u001b[0m in \u001b[0;36mpandas._libs.parsers.TextReader._setup_parser_source\u001b[0;34m()\u001b[0m\n",
      "\u001b[0;31mFileNotFoundError\u001b[0m: [Errno 2] File b'8888/tree/Desktop/School/Spring_2019_Semester/LIS4761/Project' does not exist: b'8888/tree/Desktop/School/Spring_2019_Semester/LIS4761/Project'"
     ]
    }
   ],
   "source": [
    "df1 = pd.read_csv(\"8888/tree/Desktop/School/Spring_2019_Semester/LIS4761/Project\")"
   ]
  },
  {
   "cell_type": "code",
   "execution_count": 12,
   "metadata": {},
   "outputs": [
    {
     "name": "stdout",
     "output_type": "stream",
     "text": [
      "Requirement already satisfied: xlrd in /Users/RichardMorrow/anaconda3/lib/python3.7/site-packages (1.2.0)\r\n"
     ]
    }
   ],
   "source": [
    "!pip install xlrd"
   ]
  },
  {
   "cell_type": "code",
   "execution_count": 13,
   "metadata": {},
   "outputs": [],
   "source": [
    "import xlrd"
   ]
  },
  {
   "cell_type": "code",
   "execution_count": 14,
   "metadata": {},
   "outputs": [
    {
     "ename": "FileNotFoundError",
     "evalue": "[Errno 2] No such file or directory: 'zoo.csv'",
     "output_type": "error",
     "traceback": [
      "\u001b[0;31m---------------------------------------------------------------------------\u001b[0m",
      "\u001b[0;31mFileNotFoundError\u001b[0m                         Traceback (most recent call last)",
      "\u001b[0;32m<ipython-input-14-a20d7f26dd1b>\u001b[0m in \u001b[0;36m<module>\u001b[0;34m\u001b[0m\n\u001b[0;32m----> 1\u001b[0;31m \u001b[0mbook\u001b[0m \u001b[0;34m=\u001b[0m \u001b[0mxlrd\u001b[0m\u001b[0;34m.\u001b[0m\u001b[0mopen_workbook\u001b[0m\u001b[0;34m(\u001b[0m\u001b[0;34m\"zoo.csv\"\u001b[0m\u001b[0;34m)\u001b[0m\u001b[0;34m\u001b[0m\u001b[0;34m\u001b[0m\u001b[0m\n\u001b[0m\u001b[1;32m      2\u001b[0m \u001b[0msheet\u001b[0m \u001b[0;34m=\u001b[0m \u001b[0mbook\u001b[0m\u001b[0;34m.\u001b[0m\u001b[0msheet_by_name\u001b[0m\u001b[0;34m(\u001b[0m\u001b[0;34m\"zoo\"\u001b[0m\u001b[0;34m)\u001b[0m\u001b[0;34m\u001b[0m\u001b[0;34m\u001b[0m\u001b[0m\n",
      "\u001b[0;32m~/anaconda3/lib/python3.7/site-packages/xlrd/__init__.py\u001b[0m in \u001b[0;36mopen_workbook\u001b[0;34m(filename, logfile, verbosity, use_mmap, file_contents, encoding_override, formatting_info, on_demand, ragged_rows)\u001b[0m\n\u001b[1;32m    109\u001b[0m     \u001b[0;32melse\u001b[0m\u001b[0;34m:\u001b[0m\u001b[0;34m\u001b[0m\u001b[0;34m\u001b[0m\u001b[0m\n\u001b[1;32m    110\u001b[0m         \u001b[0mfilename\u001b[0m \u001b[0;34m=\u001b[0m \u001b[0mos\u001b[0m\u001b[0;34m.\u001b[0m\u001b[0mpath\u001b[0m\u001b[0;34m.\u001b[0m\u001b[0mexpanduser\u001b[0m\u001b[0;34m(\u001b[0m\u001b[0mfilename\u001b[0m\u001b[0;34m)\u001b[0m\u001b[0;34m\u001b[0m\u001b[0;34m\u001b[0m\u001b[0m\n\u001b[0;32m--> 111\u001b[0;31m         \u001b[0;32mwith\u001b[0m \u001b[0mopen\u001b[0m\u001b[0;34m(\u001b[0m\u001b[0mfilename\u001b[0m\u001b[0;34m,\u001b[0m \u001b[0;34m\"rb\"\u001b[0m\u001b[0;34m)\u001b[0m \u001b[0;32mas\u001b[0m \u001b[0mf\u001b[0m\u001b[0;34m:\u001b[0m\u001b[0;34m\u001b[0m\u001b[0;34m\u001b[0m\u001b[0m\n\u001b[0m\u001b[1;32m    112\u001b[0m             \u001b[0mpeek\u001b[0m \u001b[0;34m=\u001b[0m \u001b[0mf\u001b[0m\u001b[0;34m.\u001b[0m\u001b[0mread\u001b[0m\u001b[0;34m(\u001b[0m\u001b[0mpeeksz\u001b[0m\u001b[0;34m)\u001b[0m\u001b[0;34m\u001b[0m\u001b[0;34m\u001b[0m\u001b[0m\n\u001b[1;32m    113\u001b[0m     \u001b[0;32mif\u001b[0m \u001b[0mpeek\u001b[0m \u001b[0;34m==\u001b[0m \u001b[0;34mb\"PK\\x03\\x04\"\u001b[0m\u001b[0;34m:\u001b[0m \u001b[0;31m# a ZIP file\u001b[0m\u001b[0;34m\u001b[0m\u001b[0;34m\u001b[0m\u001b[0m\n",
      "\u001b[0;31mFileNotFoundError\u001b[0m: [Errno 2] No such file or directory: 'zoo.csv'"
     ]
    }
   ],
   "source": [
    "book = xlrd.open_workbook(\"zoo.csv\")\n",
    "sheet = book.sheet_by_name(\"zoo\")"
   ]
  },
  {
   "cell_type": "code",
   "execution_count": 15,
   "metadata": {},
   "outputs": [
    {
     "ename": "XLRDError",
     "evalue": "Unsupported format, or corrupt file: Expected BOF record; found b'animal_n'",
     "output_type": "error",
     "traceback": [
      "\u001b[0;31m---------------------------------------------------------------------------\u001b[0m",
      "\u001b[0;31mXLRDError\u001b[0m                                 Traceback (most recent call last)",
      "\u001b[0;32m<ipython-input-15-4b5014b835ae>\u001b[0m in \u001b[0;36m<module>\u001b[0;34m\u001b[0m\n\u001b[0;32m----> 1\u001b[0;31m \u001b[0mbook\u001b[0m \u001b[0;34m=\u001b[0m \u001b[0mxlrd\u001b[0m\u001b[0;34m.\u001b[0m\u001b[0mopen_workbook\u001b[0m\u001b[0;34m(\u001b[0m\u001b[0;34m\"/Users/RichardMorrow/Desktop/School/Spring_2019_Semester/LIS4761/Project/zoo.csv\"\u001b[0m\u001b[0;34m)\u001b[0m\u001b[0;34m\u001b[0m\u001b[0;34m\u001b[0m\u001b[0m\n\u001b[0m\u001b[1;32m      2\u001b[0m \u001b[0msheet\u001b[0m \u001b[0;34m=\u001b[0m \u001b[0mbook\u001b[0m\u001b[0;34m.\u001b[0m\u001b[0msheet_by_name\u001b[0m\u001b[0;34m(\u001b[0m\u001b[0;34m\"zoo\"\u001b[0m\u001b[0;34m)\u001b[0m\u001b[0;34m\u001b[0m\u001b[0;34m\u001b[0m\u001b[0m\n",
      "\u001b[0;32m~/anaconda3/lib/python3.7/site-packages/xlrd/__init__.py\u001b[0m in \u001b[0;36mopen_workbook\u001b[0;34m(filename, logfile, verbosity, use_mmap, file_contents, encoding_override, formatting_info, on_demand, ragged_rows)\u001b[0m\n\u001b[1;32m    155\u001b[0m         \u001b[0mformatting_info\u001b[0m\u001b[0;34m=\u001b[0m\u001b[0mformatting_info\u001b[0m\u001b[0;34m,\u001b[0m\u001b[0;34m\u001b[0m\u001b[0;34m\u001b[0m\u001b[0m\n\u001b[1;32m    156\u001b[0m         \u001b[0mon_demand\u001b[0m\u001b[0;34m=\u001b[0m\u001b[0mon_demand\u001b[0m\u001b[0;34m,\u001b[0m\u001b[0;34m\u001b[0m\u001b[0;34m\u001b[0m\u001b[0m\n\u001b[0;32m--> 157\u001b[0;31m         \u001b[0mragged_rows\u001b[0m\u001b[0;34m=\u001b[0m\u001b[0mragged_rows\u001b[0m\u001b[0;34m,\u001b[0m\u001b[0;34m\u001b[0m\u001b[0;34m\u001b[0m\u001b[0m\n\u001b[0m\u001b[1;32m    158\u001b[0m     )\n\u001b[1;32m    159\u001b[0m     \u001b[0;32mreturn\u001b[0m \u001b[0mbk\u001b[0m\u001b[0;34m\u001b[0m\u001b[0;34m\u001b[0m\u001b[0m\n",
      "\u001b[0;32m~/anaconda3/lib/python3.7/site-packages/xlrd/book.py\u001b[0m in \u001b[0;36mopen_workbook_xls\u001b[0;34m(filename, logfile, verbosity, use_mmap, file_contents, encoding_override, formatting_info, on_demand, ragged_rows)\u001b[0m\n\u001b[1;32m     90\u001b[0m         \u001b[0mt1\u001b[0m \u001b[0;34m=\u001b[0m \u001b[0mperf_counter\u001b[0m\u001b[0;34m(\u001b[0m\u001b[0;34m)\u001b[0m\u001b[0;34m\u001b[0m\u001b[0;34m\u001b[0m\u001b[0m\n\u001b[1;32m     91\u001b[0m         \u001b[0mbk\u001b[0m\u001b[0;34m.\u001b[0m\u001b[0mload_time_stage_1\u001b[0m \u001b[0;34m=\u001b[0m \u001b[0mt1\u001b[0m \u001b[0;34m-\u001b[0m \u001b[0mt0\u001b[0m\u001b[0;34m\u001b[0m\u001b[0;34m\u001b[0m\u001b[0m\n\u001b[0;32m---> 92\u001b[0;31m         \u001b[0mbiff_version\u001b[0m \u001b[0;34m=\u001b[0m \u001b[0mbk\u001b[0m\u001b[0;34m.\u001b[0m\u001b[0mgetbof\u001b[0m\u001b[0;34m(\u001b[0m\u001b[0mXL_WORKBOOK_GLOBALS\u001b[0m\u001b[0;34m)\u001b[0m\u001b[0;34m\u001b[0m\u001b[0;34m\u001b[0m\u001b[0m\n\u001b[0m\u001b[1;32m     93\u001b[0m         \u001b[0;32mif\u001b[0m \u001b[0;32mnot\u001b[0m \u001b[0mbiff_version\u001b[0m\u001b[0;34m:\u001b[0m\u001b[0;34m\u001b[0m\u001b[0;34m\u001b[0m\u001b[0m\n\u001b[1;32m     94\u001b[0m             \u001b[0;32mraise\u001b[0m \u001b[0mXLRDError\u001b[0m\u001b[0;34m(\u001b[0m\u001b[0;34m\"Can't determine file's BIFF version\"\u001b[0m\u001b[0;34m)\u001b[0m\u001b[0;34m\u001b[0m\u001b[0;34m\u001b[0m\u001b[0m\n",
      "\u001b[0;32m~/anaconda3/lib/python3.7/site-packages/xlrd/book.py\u001b[0m in \u001b[0;36mgetbof\u001b[0;34m(self, rqd_stream)\u001b[0m\n\u001b[1;32m   1276\u001b[0m             \u001b[0mbof_error\u001b[0m\u001b[0;34m(\u001b[0m\u001b[0;34m'Expected BOF record; met end of file'\u001b[0m\u001b[0;34m)\u001b[0m\u001b[0;34m\u001b[0m\u001b[0;34m\u001b[0m\u001b[0m\n\u001b[1;32m   1277\u001b[0m         \u001b[0;32mif\u001b[0m \u001b[0mopcode\u001b[0m \u001b[0;32mnot\u001b[0m \u001b[0;32min\u001b[0m \u001b[0mbofcodes\u001b[0m\u001b[0;34m:\u001b[0m\u001b[0;34m\u001b[0m\u001b[0;34m\u001b[0m\u001b[0m\n\u001b[0;32m-> 1278\u001b[0;31m             \u001b[0mbof_error\u001b[0m\u001b[0;34m(\u001b[0m\u001b[0;34m'Expected BOF record; found %r'\u001b[0m \u001b[0;34m%\u001b[0m \u001b[0mself\u001b[0m\u001b[0;34m.\u001b[0m\u001b[0mmem\u001b[0m\u001b[0;34m[\u001b[0m\u001b[0msavpos\u001b[0m\u001b[0;34m:\u001b[0m\u001b[0msavpos\u001b[0m\u001b[0;34m+\u001b[0m\u001b[0;36m8\u001b[0m\u001b[0;34m]\u001b[0m\u001b[0;34m)\u001b[0m\u001b[0;34m\u001b[0m\u001b[0;34m\u001b[0m\u001b[0m\n\u001b[0m\u001b[1;32m   1279\u001b[0m         \u001b[0mlength\u001b[0m \u001b[0;34m=\u001b[0m \u001b[0mself\u001b[0m\u001b[0;34m.\u001b[0m\u001b[0mget2bytes\u001b[0m\u001b[0;34m(\u001b[0m\u001b[0;34m)\u001b[0m\u001b[0;34m\u001b[0m\u001b[0;34m\u001b[0m\u001b[0m\n\u001b[1;32m   1280\u001b[0m         \u001b[0;32mif\u001b[0m \u001b[0mlength\u001b[0m \u001b[0;34m==\u001b[0m \u001b[0mMY_EOF\u001b[0m\u001b[0;34m:\u001b[0m\u001b[0;34m\u001b[0m\u001b[0;34m\u001b[0m\u001b[0m\n",
      "\u001b[0;32m~/anaconda3/lib/python3.7/site-packages/xlrd/book.py\u001b[0m in \u001b[0;36mbof_error\u001b[0;34m(msg)\u001b[0m\n\u001b[1;32m   1270\u001b[0m \u001b[0;34m\u001b[0m\u001b[0m\n\u001b[1;32m   1271\u001b[0m         \u001b[0;32mdef\u001b[0m \u001b[0mbof_error\u001b[0m\u001b[0;34m(\u001b[0m\u001b[0mmsg\u001b[0m\u001b[0;34m)\u001b[0m\u001b[0;34m:\u001b[0m\u001b[0;34m\u001b[0m\u001b[0;34m\u001b[0m\u001b[0m\n\u001b[0;32m-> 1272\u001b[0;31m             \u001b[0;32mraise\u001b[0m \u001b[0mXLRDError\u001b[0m\u001b[0;34m(\u001b[0m\u001b[0;34m'Unsupported format, or corrupt file: '\u001b[0m \u001b[0;34m+\u001b[0m \u001b[0mmsg\u001b[0m\u001b[0;34m)\u001b[0m\u001b[0;34m\u001b[0m\u001b[0;34m\u001b[0m\u001b[0m\n\u001b[0m\u001b[1;32m   1273\u001b[0m         \u001b[0msavpos\u001b[0m \u001b[0;34m=\u001b[0m \u001b[0mself\u001b[0m\u001b[0;34m.\u001b[0m\u001b[0m_position\u001b[0m\u001b[0;34m\u001b[0m\u001b[0;34m\u001b[0m\u001b[0m\n\u001b[1;32m   1274\u001b[0m         \u001b[0mopcode\u001b[0m \u001b[0;34m=\u001b[0m \u001b[0mself\u001b[0m\u001b[0;34m.\u001b[0m\u001b[0mget2bytes\u001b[0m\u001b[0;34m(\u001b[0m\u001b[0;34m)\u001b[0m\u001b[0;34m\u001b[0m\u001b[0;34m\u001b[0m\u001b[0m\n",
      "\u001b[0;31mXLRDError\u001b[0m: Unsupported format, or corrupt file: Expected BOF record; found b'animal_n'"
     ]
    }
   ],
   "source": [
    "book = xlrd.open_workbook(\"/Users/RichardMorrow/Desktop/School/Spring_2019_Semester/LIS4761/Project/zoo.csv\")\n",
    "sheet = book.sheet_by_name(\"zoo\")"
   ]
  },
  {
   "cell_type": "code",
   "execution_count": 16,
   "metadata": {},
   "outputs": [
    {
     "name": "stdout",
     "output_type": "stream",
     "text": [
      "/Users/RichardMorrow/Desktop\r\n"
     ]
    }
   ],
   "source": [
    "!pwd"
   ]
  },
  {
   "cell_type": "code",
   "execution_count": 17,
   "metadata": {},
   "outputs": [],
   "source": [
    "df1 = pd.read_csv (\"/Users/RichardMorrow/Desktop/School/Spring_2019_Semester/LIS4761/Project/zoo.csv\")"
   ]
  },
  {
   "cell_type": "code",
   "execution_count": 18,
   "metadata": {},
   "outputs": [
    {
     "ename": "SyntaxError",
     "evalue": "Missing parentheses in call to 'print'. Did you mean print(df1)? (<ipython-input-18-5aaf2e48b39d>, line 1)",
     "output_type": "error",
     "traceback": [
      "\u001b[0;36m  File \u001b[0;32m\"<ipython-input-18-5aaf2e48b39d>\"\u001b[0;36m, line \u001b[0;32m1\u001b[0m\n\u001b[0;31m    print df1\u001b[0m\n\u001b[0m            ^\u001b[0m\n\u001b[0;31mSyntaxError\u001b[0m\u001b[0;31m:\u001b[0m Missing parentheses in call to 'print'. Did you mean print(df1)?\n"
     ]
    }
   ],
   "source": [
    "print df1"
   ]
  },
  {
   "cell_type": "code",
   "execution_count": 19,
   "metadata": {},
   "outputs": [
    {
     "name": "stdout",
     "output_type": "stream",
     "text": [
      "df1\n"
     ]
    }
   ],
   "source": [
    "print (\"df1\")\n"
   ]
  },
  {
   "cell_type": "code",
   "execution_count": 20,
   "metadata": {},
   "outputs": [
    {
     "name": "stdout",
     "output_type": "stream",
     "text": [
      "    animal_name  hair  feathers  eggs  milk  airborne  aquatic  predator  \\\n",
      "0      aardvark     1         0     0     1         0        0         1   \n",
      "1      antelope     1         0     0     1         0        0         0   \n",
      "2          bass     0         0     1     0         0        1         1   \n",
      "3          bear     1         0     0     1         0        0         1   \n",
      "4          boar     1         0     0     1         0        0         1   \n",
      "5       buffalo     1         0     0     1         0        0         0   \n",
      "6          calf     1         0     0     1         0        0         0   \n",
      "7          carp     0         0     1     0         0        1         0   \n",
      "8       catfish     0         0     1     0         0        1         1   \n",
      "9          cavy     1         0     0     1         0        0         0   \n",
      "10      cheetah     1         0     0     1         0        0         1   \n",
      "11      chicken     0         1     1     0         1        0         0   \n",
      "12         chub     0         0     1     0         0        1         1   \n",
      "13         clam     0         0     1     0         0        0         1   \n",
      "14         crab     0         0     1     0         0        1         1   \n",
      "15     crayfish     0         0     1     0         0        1         1   \n",
      "16         crow     0         1     1     0         1        0         1   \n",
      "17         deer     1         0     0     1         0        0         0   \n",
      "18      dogfish     0         0     1     0         0        1         1   \n",
      "19      dolphin     0         0     0     1         0        1         1   \n",
      "20         dove     0         1     1     0         1        0         0   \n",
      "21         duck     0         1     1     0         1        1         0   \n",
      "22     elephant     1         0     0     1         0        0         0   \n",
      "23     flamingo     0         1     1     0         1        0         0   \n",
      "24         flea     0         0     1     0         0        0         0   \n",
      "25         frog     0         0     1     0         0        1         1   \n",
      "26         frog     0         0     1     0         0        1         1   \n",
      "27     fruitbat     1         0     0     1         1        0         0   \n",
      "28      giraffe     1         0     0     1         0        0         0   \n",
      "29         girl     1         0     0     1         0        0         1   \n",
      "..          ...   ...       ...   ...   ...       ...      ...       ...   \n",
      "71         rhea     0         1     1     0         0        0         1   \n",
      "72     scorpion     0         0     0     0         0        0         1   \n",
      "73     seahorse     0         0     1     0         0        1         0   \n",
      "74         seal     1         0     0     1         0        1         1   \n",
      "75      sealion     1         0     0     1         0        1         1   \n",
      "76     seasnake     0         0     0     0         0        1         1   \n",
      "77      seawasp     0         0     1     0         0        1         1   \n",
      "78      skimmer     0         1     1     0         1        1         1   \n",
      "79         skua     0         1     1     0         1        1         1   \n",
      "80     slowworm     0         0     1     0         0        0         1   \n",
      "81         slug     0         0     1     0         0        0         0   \n",
      "82         sole     0         0     1     0         0        1         0   \n",
      "83      sparrow     0         1     1     0         1        0         0   \n",
      "84     squirrel     1         0     0     1         0        0         0   \n",
      "85     starfish     0         0     1     0         0        1         1   \n",
      "86     stingray     0         0     1     0         0        1         1   \n",
      "87         swan     0         1     1     0         1        1         0   \n",
      "88      termite     0         0     1     0         0        0         0   \n",
      "89         toad     0         0     1     0         0        1         0   \n",
      "90     tortoise     0         0     1     0         0        0         0   \n",
      "91      tuatara     0         0     1     0         0        0         1   \n",
      "92         tuna     0         0     1     0         0        1         1   \n",
      "93      vampire     1         0     0     1         1        0         0   \n",
      "94         vole     1         0     0     1         0        0         0   \n",
      "95      vulture     0         1     1     0         1        0         1   \n",
      "96      wallaby     1         0     0     1         0        0         0   \n",
      "97         wasp     1         0     1     0         1        0         0   \n",
      "98         wolf     1         0     0     1         0        0         1   \n",
      "99         worm     0         0     1     0         0        0         0   \n",
      "100        wren     0         1     1     0         1        0         0   \n",
      "\n",
      "     toothed  backbone  breathes  venomous  fins  legs  tail  domestic  \\\n",
      "0          1         1         1         0     0     4     0         0   \n",
      "1          1         1         1         0     0     4     1         0   \n",
      "2          1         1         0         0     1     0     1         0   \n",
      "3          1         1         1         0     0     4     0         0   \n",
      "4          1         1         1         0     0     4     1         0   \n",
      "5          1         1         1         0     0     4     1         0   \n",
      "6          1         1         1         0     0     4     1         1   \n",
      "7          1         1         0         0     1     0     1         1   \n",
      "8          1         1         0         0     1     0     1         0   \n",
      "9          1         1         1         0     0     4     0         1   \n",
      "10         1         1         1         0     0     4     1         0   \n",
      "11         0         1         1         0     0     2     1         1   \n",
      "12         1         1         0         0     1     0     1         0   \n",
      "13         0         0         0         0     0     0     0         0   \n",
      "14         0         0         0         0     0     4     0         0   \n",
      "15         0         0         0         0     0     6     0         0   \n",
      "16         0         1         1         0     0     2     1         0   \n",
      "17         1         1         1         0     0     4     1         0   \n",
      "18         1         1         0         0     1     0     1         0   \n",
      "19         1         1         1         0     1     0     1         0   \n",
      "20         0         1         1         0     0     2     1         1   \n",
      "21         0         1         1         0     0     2     1         0   \n",
      "22         1         1         1         0     0     4     1         0   \n",
      "23         0         1         1         0     0     2     1         0   \n",
      "24         0         0         1         0     0     6     0         0   \n",
      "25         1         1         1         0     0     4     0         0   \n",
      "26         1         1         1         1     0     4     0         0   \n",
      "27         1         1         1         0     0     2     1         0   \n",
      "28         1         1         1         0     0     4     1         0   \n",
      "29         1         1         1         0     0     2     0         1   \n",
      "..       ...       ...       ...       ...   ...   ...   ...       ...   \n",
      "71         0         1         1         0     0     2     1         0   \n",
      "72         0         0         1         1     0     8     1         0   \n",
      "73         1         1         0         0     1     0     1         0   \n",
      "74         1         1         1         0     1     0     0         0   \n",
      "75         1         1         1         0     1     2     1         0   \n",
      "76         1         1         0         1     0     0     1         0   \n",
      "77         0         0         0         1     0     0     0         0   \n",
      "78         0         1         1         0     0     2     1         0   \n",
      "79         0         1         1         0     0     2     1         0   \n",
      "80         1         1         1         0     0     0     1         0   \n",
      "81         0         0         1         0     0     0     0         0   \n",
      "82         1         1         0         0     1     0     1         0   \n",
      "83         0         1         1         0     0     2     1         0   \n",
      "84         1         1         1         0     0     2     1         0   \n",
      "85         0         0         0         0     0     5     0         0   \n",
      "86         1         1         0         1     1     0     1         0   \n",
      "87         0         1         1         0     0     2     1         0   \n",
      "88         0         0         1         0     0     6     0         0   \n",
      "89         1         1         1         0     0     4     0         0   \n",
      "90         0         1         1         0     0     4     1         0   \n",
      "91         1         1         1         0     0     4     1         0   \n",
      "92         1         1         0         0     1     0     1         0   \n",
      "93         1         1         1         0     0     2     1         0   \n",
      "94         1         1         1         0     0     4     1         0   \n",
      "95         0         1         1         0     0     2     1         0   \n",
      "96         1         1         1         0     0     2     1         0   \n",
      "97         0         0         1         1     0     6     0         0   \n",
      "98         1         1         1         0     0     4     1         0   \n",
      "99         0         0         1         0     0     0     0         0   \n",
      "100        0         1         1         0     0     2     1         0   \n",
      "\n",
      "     catsize  class_type  \n",
      "0          1           1  \n",
      "1          1           1  \n",
      "2          0           4  \n",
      "3          1           1  \n",
      "4          1           1  \n",
      "5          1           1  \n",
      "6          1           1  \n",
      "7          0           4  \n",
      "8          0           4  \n",
      "9          0           1  \n",
      "10         1           1  \n",
      "11         0           2  \n",
      "12         0           4  \n",
      "13         0           7  \n",
      "14         0           7  \n",
      "15         0           7  \n",
      "16         0           2  \n",
      "17         1           1  \n",
      "18         1           4  \n",
      "19         1           1  \n",
      "20         0           2  \n",
      "21         0           2  \n",
      "22         1           1  \n",
      "23         1           2  \n",
      "24         0           6  \n",
      "25         0           5  \n",
      "26         0           5  \n",
      "27         0           1  \n",
      "28         1           1  \n",
      "29         1           1  \n",
      "..       ...         ...  \n",
      "71         1           2  \n",
      "72         0           7  \n",
      "73         0           4  \n",
      "74         1           1  \n",
      "75         1           1  \n",
      "76         0           3  \n",
      "77         0           7  \n",
      "78         0           2  \n",
      "79         0           2  \n",
      "80         0           3  \n",
      "81         0           7  \n",
      "82         0           4  \n",
      "83         0           2  \n",
      "84         0           1  \n",
      "85         0           7  \n",
      "86         1           4  \n",
      "87         1           2  \n",
      "88         0           6  \n",
      "89         0           5  \n",
      "90         1           3  \n",
      "91         0           3  \n",
      "92         1           4  \n",
      "93         0           1  \n",
      "94         0           1  \n",
      "95         1           2  \n",
      "96         1           1  \n",
      "97         0           6  \n",
      "98         1           1  \n",
      "99         0           7  \n",
      "100        0           2  \n",
      "\n",
      "[101 rows x 18 columns]\n"
     ]
    }
   ],
   "source": [
    "print(df1)\n"
   ]
  },
  {
   "cell_type": "code",
   "execution_count": 21,
   "metadata": {},
   "outputs": [],
   "source": [
    "df2 = pd.read_csv (\"/Users/RichardMorrow/Desktop/School/Spring_2019_Semester/LIS4761/Project/class.csv\")"
   ]
  },
  {
   "cell_type": "code",
   "execution_count": 22,
   "metadata": {},
   "outputs": [
    {
     "name": "stdout",
     "output_type": "stream",
     "text": [
      "   Class_Number  Number_Of_Animal_Species_In_Class    Class_Type  \\\n",
      "0             1                                 41        Mammal   \n",
      "1             2                                 20          Bird   \n",
      "2             3                                  5       Reptile   \n",
      "3             4                                 13          Fish   \n",
      "4             5                                  4     Amphibian   \n",
      "5             6                                  8           Bug   \n",
      "6             7                                 10  Invertebrate   \n",
      "\n",
      "                                        Animal_Names  \n",
      "0  aardvark, antelope, bear, boar, buffalo, calf,...  \n",
      "1  chicken, crow, dove, duck, flamingo, gull, haw...  \n",
      "2    pitviper, seasnake, slowworm, tortoise, tuatara  \n",
      "3  bass, carp, catfish, chub, dogfish, haddock, h...  \n",
      "4                             frog, frog, newt, toad  \n",
      "5  flea, gnat, honeybee, housefly, ladybird, moth...  \n",
      "6  clam, crab, crayfish, lobster, octopus, scorpi...  \n"
     ]
    }
   ],
   "source": [
    "print(df2\n",
    "     )"
   ]
  },
  {
   "cell_type": "code",
   "execution_count": 23,
   "metadata": {},
   "outputs": [
    {
     "ename": "ModuleNotFoundError",
     "evalue": "No module named 'sklearn.cross_validation'",
     "output_type": "error",
     "traceback": [
      "\u001b[0;31m---------------------------------------------------------------------------\u001b[0m",
      "\u001b[0;31mModuleNotFoundError\u001b[0m                       Traceback (most recent call last)",
      "\u001b[0;32m<ipython-input-23-1683c65d1956>\u001b[0m in \u001b[0;36m<module>\u001b[0;34m\u001b[0m\n\u001b[1;32m      3\u001b[0m \u001b[0;32mimport\u001b[0m \u001b[0mrandom\u001b[0m\u001b[0;34m\u001b[0m\u001b[0;34m\u001b[0m\u001b[0m\n\u001b[1;32m      4\u001b[0m \u001b[0;32mfrom\u001b[0m \u001b[0msklearn\u001b[0m \u001b[0;32mimport\u001b[0m \u001b[0mdatasets\u001b[0m\u001b[0;34m,\u001b[0m \u001b[0mlinear_model\u001b[0m\u001b[0;34m\u001b[0m\u001b[0;34m\u001b[0m\u001b[0m\n\u001b[0;32m----> 5\u001b[0;31m \u001b[0;32mfrom\u001b[0m \u001b[0msklearn\u001b[0m\u001b[0;34m.\u001b[0m\u001b[0mcross_validation\u001b[0m \u001b[0;32mimport\u001b[0m \u001b[0mtrain_test_split\u001b[0m\u001b[0;34m\u001b[0m\u001b[0;34m\u001b[0m\u001b[0m\n\u001b[0m",
      "\u001b[0;31mModuleNotFoundError\u001b[0m: No module named 'sklearn.cross_validation'"
     ]
    }
   ],
   "source": [
    "import matplotlib.pyplot as plt\n",
    "import numpy as np\n",
    "d"
   ]
  },
  {
   "cell_type": "code",
   "execution_count": 24,
   "metadata": {},
   "outputs": [],
   "source": [
    "import matplotlib.pyplot as plt\n",
    "import numpy as np"
   ]
  },
  {
   "cell_type": "code",
   "execution_count": 25,
   "metadata": {},
   "outputs": [
    {
     "data": {
      "text/html": [
       "<div>\n",
       "<style scoped>\n",
       "    .dataframe tbody tr th:only-of-type {\n",
       "        vertical-align: middle;\n",
       "    }\n",
       "\n",
       "    .dataframe tbody tr th {\n",
       "        vertical-align: top;\n",
       "    }\n",
       "\n",
       "    .dataframe thead th {\n",
       "        text-align: right;\n",
       "    }\n",
       "</style>\n",
       "<table border=\"1\" class=\"dataframe\">\n",
       "  <thead>\n",
       "    <tr style=\"text-align: right;\">\n",
       "      <th></th>\n",
       "      <th>animal_name</th>\n",
       "      <th>hair</th>\n",
       "      <th>feathers</th>\n",
       "      <th>eggs</th>\n",
       "      <th>milk</th>\n",
       "      <th>airborne</th>\n",
       "      <th>aquatic</th>\n",
       "      <th>predator</th>\n",
       "      <th>toothed</th>\n",
       "      <th>backbone</th>\n",
       "      <th>breathes</th>\n",
       "      <th>venomous</th>\n",
       "      <th>fins</th>\n",
       "      <th>legs</th>\n",
       "      <th>tail</th>\n",
       "      <th>domestic</th>\n",
       "      <th>catsize</th>\n",
       "      <th>class_type</th>\n",
       "    </tr>\n",
       "  </thead>\n",
       "  <tbody>\n",
       "    <tr>\n",
       "      <th>0</th>\n",
       "      <td>aardvark</td>\n",
       "      <td>1</td>\n",
       "      <td>0</td>\n",
       "      <td>0</td>\n",
       "      <td>1</td>\n",
       "      <td>0</td>\n",
       "      <td>0</td>\n",
       "      <td>1</td>\n",
       "      <td>1</td>\n",
       "      <td>1</td>\n",
       "      <td>1</td>\n",
       "      <td>0</td>\n",
       "      <td>0</td>\n",
       "      <td>4</td>\n",
       "      <td>0</td>\n",
       "      <td>0</td>\n",
       "      <td>1</td>\n",
       "      <td>1</td>\n",
       "    </tr>\n",
       "    <tr>\n",
       "      <th>1</th>\n",
       "      <td>antelope</td>\n",
       "      <td>1</td>\n",
       "      <td>0</td>\n",
       "      <td>0</td>\n",
       "      <td>1</td>\n",
       "      <td>0</td>\n",
       "      <td>0</td>\n",
       "      <td>0</td>\n",
       "      <td>1</td>\n",
       "      <td>1</td>\n",
       "      <td>1</td>\n",
       "      <td>0</td>\n",
       "      <td>0</td>\n",
       "      <td>4</td>\n",
       "      <td>1</td>\n",
       "      <td>0</td>\n",
       "      <td>1</td>\n",
       "      <td>1</td>\n",
       "    </tr>\n",
       "    <tr>\n",
       "      <th>2</th>\n",
       "      <td>bass</td>\n",
       "      <td>0</td>\n",
       "      <td>0</td>\n",
       "      <td>1</td>\n",
       "      <td>0</td>\n",
       "      <td>0</td>\n",
       "      <td>1</td>\n",
       "      <td>1</td>\n",
       "      <td>1</td>\n",
       "      <td>1</td>\n",
       "      <td>0</td>\n",
       "      <td>0</td>\n",
       "      <td>1</td>\n",
       "      <td>0</td>\n",
       "      <td>1</td>\n",
       "      <td>0</td>\n",
       "      <td>0</td>\n",
       "      <td>4</td>\n",
       "    </tr>\n",
       "    <tr>\n",
       "      <th>3</th>\n",
       "      <td>bear</td>\n",
       "      <td>1</td>\n",
       "      <td>0</td>\n",
       "      <td>0</td>\n",
       "      <td>1</td>\n",
       "      <td>0</td>\n",
       "      <td>0</td>\n",
       "      <td>1</td>\n",
       "      <td>1</td>\n",
       "      <td>1</td>\n",
       "      <td>1</td>\n",
       "      <td>0</td>\n",
       "      <td>0</td>\n",
       "      <td>4</td>\n",
       "      <td>0</td>\n",
       "      <td>0</td>\n",
       "      <td>1</td>\n",
       "      <td>1</td>\n",
       "    </tr>\n",
       "    <tr>\n",
       "      <th>4</th>\n",
       "      <td>boar</td>\n",
       "      <td>1</td>\n",
       "      <td>0</td>\n",
       "      <td>0</td>\n",
       "      <td>1</td>\n",
       "      <td>0</td>\n",
       "      <td>0</td>\n",
       "      <td>1</td>\n",
       "      <td>1</td>\n",
       "      <td>1</td>\n",
       "      <td>1</td>\n",
       "      <td>0</td>\n",
       "      <td>0</td>\n",
       "      <td>4</td>\n",
       "      <td>1</td>\n",
       "      <td>0</td>\n",
       "      <td>1</td>\n",
       "      <td>1</td>\n",
       "    </tr>\n",
       "  </tbody>\n",
       "</table>\n",
       "</div>"
      ],
      "text/plain": [
       "  animal_name  hair  feathers  eggs  milk  airborne  aquatic  predator  \\\n",
       "0    aardvark     1         0     0     1         0        0         1   \n",
       "1    antelope     1         0     0     1         0        0         0   \n",
       "2        bass     0         0     1     0         0        1         1   \n",
       "3        bear     1         0     0     1         0        0         1   \n",
       "4        boar     1         0     0     1         0        0         1   \n",
       "\n",
       "   toothed  backbone  breathes  venomous  fins  legs  tail  domestic  catsize  \\\n",
       "0        1         1         1         0     0     4     0         0        1   \n",
       "1        1         1         1         0     0     4     1         0        1   \n",
       "2        1         1         0         0     1     0     1         0        0   \n",
       "3        1         1         1         0     0     4     0         0        1   \n",
       "4        1         1         1         0     0     4     1         0        1   \n",
       "\n",
       "   class_type  \n",
       "0           1  \n",
       "1           1  \n",
       "2           4  \n",
       "3           1  \n",
       "4           1  "
      ]
     },
     "execution_count": 25,
     "metadata": {},
     "output_type": "execute_result"
    }
   ],
   "source": [
    "df1.head()"
   ]
  },
  {
   "cell_type": "code",
   "execution_count": 26,
   "metadata": {},
   "outputs": [
    {
     "data": {
      "text/html": [
       "<div>\n",
       "<style scoped>\n",
       "    .dataframe tbody tr th:only-of-type {\n",
       "        vertical-align: middle;\n",
       "    }\n",
       "\n",
       "    .dataframe tbody tr th {\n",
       "        vertical-align: top;\n",
       "    }\n",
       "\n",
       "    .dataframe thead th {\n",
       "        text-align: right;\n",
       "    }\n",
       "</style>\n",
       "<table border=\"1\" class=\"dataframe\">\n",
       "  <thead>\n",
       "    <tr style=\"text-align: right;\">\n",
       "      <th></th>\n",
       "      <th>Class_Number</th>\n",
       "      <th>Number_Of_Animal_Species_In_Class</th>\n",
       "      <th>Class_Type</th>\n",
       "      <th>Animal_Names</th>\n",
       "    </tr>\n",
       "  </thead>\n",
       "  <tbody>\n",
       "    <tr>\n",
       "      <th>0</th>\n",
       "      <td>1</td>\n",
       "      <td>41</td>\n",
       "      <td>Mammal</td>\n",
       "      <td>aardvark, antelope, bear, boar, buffalo, calf,...</td>\n",
       "    </tr>\n",
       "    <tr>\n",
       "      <th>1</th>\n",
       "      <td>2</td>\n",
       "      <td>20</td>\n",
       "      <td>Bird</td>\n",
       "      <td>chicken, crow, dove, duck, flamingo, gull, haw...</td>\n",
       "    </tr>\n",
       "    <tr>\n",
       "      <th>2</th>\n",
       "      <td>3</td>\n",
       "      <td>5</td>\n",
       "      <td>Reptile</td>\n",
       "      <td>pitviper, seasnake, slowworm, tortoise, tuatara</td>\n",
       "    </tr>\n",
       "    <tr>\n",
       "      <th>3</th>\n",
       "      <td>4</td>\n",
       "      <td>13</td>\n",
       "      <td>Fish</td>\n",
       "      <td>bass, carp, catfish, chub, dogfish, haddock, h...</td>\n",
       "    </tr>\n",
       "    <tr>\n",
       "      <th>4</th>\n",
       "      <td>5</td>\n",
       "      <td>4</td>\n",
       "      <td>Amphibian</td>\n",
       "      <td>frog, frog, newt, toad</td>\n",
       "    </tr>\n",
       "  </tbody>\n",
       "</table>\n",
       "</div>"
      ],
      "text/plain": [
       "   Class_Number  Number_Of_Animal_Species_In_Class Class_Type  \\\n",
       "0             1                                 41     Mammal   \n",
       "1             2                                 20       Bird   \n",
       "2             3                                  5    Reptile   \n",
       "3             4                                 13       Fish   \n",
       "4             5                                  4  Amphibian   \n",
       "\n",
       "                                        Animal_Names  \n",
       "0  aardvark, antelope, bear, boar, buffalo, calf,...  \n",
       "1  chicken, crow, dove, duck, flamingo, gull, haw...  \n",
       "2    pitviper, seasnake, slowworm, tortoise, tuatara  \n",
       "3  bass, carp, catfish, chub, dogfish, haddock, h...  \n",
       "4                             frog, frog, newt, toad  "
      ]
     },
     "execution_count": 26,
     "metadata": {},
     "output_type": "execute_result"
    }
   ],
   "source": [
    "df2.head()"
   ]
  },
  {
   "cell_type": "code",
   "execution_count": 27,
   "metadata": {},
   "outputs": [
    {
     "ename": "NameError",
     "evalue": "name 'train_test_split' is not defined",
     "output_type": "error",
     "traceback": [
      "\u001b[0;31m---------------------------------------------------------------------------\u001b[0m",
      "\u001b[0;31mNameError\u001b[0m                                 Traceback (most recent call last)",
      "\u001b[0;32m<ipython-input-27-bc68af3d35a9>\u001b[0m in \u001b[0;36m<module>\u001b[0;34m\u001b[0m\n\u001b[1;32m      1\u001b[0m \u001b[0mrandom\u001b[0m\u001b[0;34m.\u001b[0m\u001b[0mseed\u001b[0m\u001b[0;34m(\u001b[0m\u001b[0;36m3277\u001b[0m\u001b[0;34m)\u001b[0m\u001b[0;34m\u001b[0m\u001b[0;34m\u001b[0m\u001b[0m\n\u001b[0;32m----> 2\u001b[0;31m \u001b[0mtraining\u001b[0m\u001b[0;34m,\u001b[0m \u001b[0mtesting\u001b[0m \u001b[0;34m=\u001b[0m \u001b[0mtrain_test_split\u001b[0m\u001b[0;34m(\u001b[0m\u001b[0mdf1\u001b[0m\u001b[0;34m,\u001b[0m \u001b[0mtest_size\u001b[0m \u001b[0;34m=\u001b[0m \u001b[0;36m0.25\u001b[0m\u001b[0;34m)\u001b[0m\u001b[0;34m\u001b[0m\u001b[0;34m\u001b[0m\u001b[0m\n\u001b[0m\u001b[1;32m      3\u001b[0m \u001b[0mprint\u001b[0m \u001b[0;34m(\u001b[0m\u001b[0mtraining\u001b[0m\u001b[0;34m.\u001b[0m\u001b[0mshape\u001b[0m\u001b[0;34m)\u001b[0m\u001b[0;34m\u001b[0m\u001b[0;34m\u001b[0m\u001b[0m\n\u001b[1;32m      4\u001b[0m \u001b[0mprint\u001b[0m \u001b[0;34m(\u001b[0m\u001b[0mtesting\u001b[0m\u001b[0;34m.\u001b[0m\u001b[0mshape\u001b[0m\u001b[0;34m)\u001b[0m\u001b[0;34m\u001b[0m\u001b[0;34m\u001b[0m\u001b[0m\n",
      "\u001b[0;31mNameError\u001b[0m: name 'train_test_split' is not defined"
     ]
    }
   ],
   "source": [
    "random.seed(3277)\n",
    "training, testing = train_test_split(df1, test_size = 0.25)\n",
    "print (training.shape)\n",
    "print (testing.shape)"
   ]
  },
  {
   "cell_type": "code",
   "execution_count": 28,
   "metadata": {},
   "outputs": [
    {
     "data": {
      "text/plain": [
       "<bound method NDFrame.describe of     animal_name  hair  feathers  eggs  milk  airborne  aquatic  predator  \\\n",
       "0      aardvark     1         0     0     1         0        0         1   \n",
       "1      antelope     1         0     0     1         0        0         0   \n",
       "2          bass     0         0     1     0         0        1         1   \n",
       "3          bear     1         0     0     1         0        0         1   \n",
       "4          boar     1         0     0     1         0        0         1   \n",
       "5       buffalo     1         0     0     1         0        0         0   \n",
       "6          calf     1         0     0     1         0        0         0   \n",
       "7          carp     0         0     1     0         0        1         0   \n",
       "8       catfish     0         0     1     0         0        1         1   \n",
       "9          cavy     1         0     0     1         0        0         0   \n",
       "10      cheetah     1         0     0     1         0        0         1   \n",
       "11      chicken     0         1     1     0         1        0         0   \n",
       "12         chub     0         0     1     0         0        1         1   \n",
       "13         clam     0         0     1     0         0        0         1   \n",
       "14         crab     0         0     1     0         0        1         1   \n",
       "15     crayfish     0         0     1     0         0        1         1   \n",
       "16         crow     0         1     1     0         1        0         1   \n",
       "17         deer     1         0     0     1         0        0         0   \n",
       "18      dogfish     0         0     1     0         0        1         1   \n",
       "19      dolphin     0         0     0     1         0        1         1   \n",
       "20         dove     0         1     1     0         1        0         0   \n",
       "21         duck     0         1     1     0         1        1         0   \n",
       "22     elephant     1         0     0     1         0        0         0   \n",
       "23     flamingo     0         1     1     0         1        0         0   \n",
       "24         flea     0         0     1     0         0        0         0   \n",
       "25         frog     0         0     1     0         0        1         1   \n",
       "26         frog     0         0     1     0         0        1         1   \n",
       "27     fruitbat     1         0     0     1         1        0         0   \n",
       "28      giraffe     1         0     0     1         0        0         0   \n",
       "29         girl     1         0     0     1         0        0         1   \n",
       "..          ...   ...       ...   ...   ...       ...      ...       ...   \n",
       "71         rhea     0         1     1     0         0        0         1   \n",
       "72     scorpion     0         0     0     0         0        0         1   \n",
       "73     seahorse     0         0     1     0         0        1         0   \n",
       "74         seal     1         0     0     1         0        1         1   \n",
       "75      sealion     1         0     0     1         0        1         1   \n",
       "76     seasnake     0         0     0     0         0        1         1   \n",
       "77      seawasp     0         0     1     0         0        1         1   \n",
       "78      skimmer     0         1     1     0         1        1         1   \n",
       "79         skua     0         1     1     0         1        1         1   \n",
       "80     slowworm     0         0     1     0         0        0         1   \n",
       "81         slug     0         0     1     0         0        0         0   \n",
       "82         sole     0         0     1     0         0        1         0   \n",
       "83      sparrow     0         1     1     0         1        0         0   \n",
       "84     squirrel     1         0     0     1         0        0         0   \n",
       "85     starfish     0         0     1     0         0        1         1   \n",
       "86     stingray     0         0     1     0         0        1         1   \n",
       "87         swan     0         1     1     0         1        1         0   \n",
       "88      termite     0         0     1     0         0        0         0   \n",
       "89         toad     0         0     1     0         0        1         0   \n",
       "90     tortoise     0         0     1     0         0        0         0   \n",
       "91      tuatara     0         0     1     0         0        0         1   \n",
       "92         tuna     0         0     1     0         0        1         1   \n",
       "93      vampire     1         0     0     1         1        0         0   \n",
       "94         vole     1         0     0     1         0        0         0   \n",
       "95      vulture     0         1     1     0         1        0         1   \n",
       "96      wallaby     1         0     0     1         0        0         0   \n",
       "97         wasp     1         0     1     0         1        0         0   \n",
       "98         wolf     1         0     0     1         0        0         1   \n",
       "99         worm     0         0     1     0         0        0         0   \n",
       "100        wren     0         1     1     0         1        0         0   \n",
       "\n",
       "     toothed  backbone  breathes  venomous  fins  legs  tail  domestic  \\\n",
       "0          1         1         1         0     0     4     0         0   \n",
       "1          1         1         1         0     0     4     1         0   \n",
       "2          1         1         0         0     1     0     1         0   \n",
       "3          1         1         1         0     0     4     0         0   \n",
       "4          1         1         1         0     0     4     1         0   \n",
       "5          1         1         1         0     0     4     1         0   \n",
       "6          1         1         1         0     0     4     1         1   \n",
       "7          1         1         0         0     1     0     1         1   \n",
       "8          1         1         0         0     1     0     1         0   \n",
       "9          1         1         1         0     0     4     0         1   \n",
       "10         1         1         1         0     0     4     1         0   \n",
       "11         0         1         1         0     0     2     1         1   \n",
       "12         1         1         0         0     1     0     1         0   \n",
       "13         0         0         0         0     0     0     0         0   \n",
       "14         0         0         0         0     0     4     0         0   \n",
       "15         0         0         0         0     0     6     0         0   \n",
       "16         0         1         1         0     0     2     1         0   \n",
       "17         1         1         1         0     0     4     1         0   \n",
       "18         1         1         0         0     1     0     1         0   \n",
       "19         1         1         1         0     1     0     1         0   \n",
       "20         0         1         1         0     0     2     1         1   \n",
       "21         0         1         1         0     0     2     1         0   \n",
       "22         1         1         1         0     0     4     1         0   \n",
       "23         0         1         1         0     0     2     1         0   \n",
       "24         0         0         1         0     0     6     0         0   \n",
       "25         1         1         1         0     0     4     0         0   \n",
       "26         1         1         1         1     0     4     0         0   \n",
       "27         1         1         1         0     0     2     1         0   \n",
       "28         1         1         1         0     0     4     1         0   \n",
       "29         1         1         1         0     0     2     0         1   \n",
       "..       ...       ...       ...       ...   ...   ...   ...       ...   \n",
       "71         0         1         1         0     0     2     1         0   \n",
       "72         0         0         1         1     0     8     1         0   \n",
       "73         1         1         0         0     1     0     1         0   \n",
       "74         1         1         1         0     1     0     0         0   \n",
       "75         1         1         1         0     1     2     1         0   \n",
       "76         1         1         0         1     0     0     1         0   \n",
       "77         0         0         0         1     0     0     0         0   \n",
       "78         0         1         1         0     0     2     1         0   \n",
       "79         0         1         1         0     0     2     1         0   \n",
       "80         1         1         1         0     0     0     1         0   \n",
       "81         0         0         1         0     0     0     0         0   \n",
       "82         1         1         0         0     1     0     1         0   \n",
       "83         0         1         1         0     0     2     1         0   \n",
       "84         1         1         1         0     0     2     1         0   \n",
       "85         0         0         0         0     0     5     0         0   \n",
       "86         1         1         0         1     1     0     1         0   \n",
       "87         0         1         1         0     0     2     1         0   \n",
       "88         0         0         1         0     0     6     0         0   \n",
       "89         1         1         1         0     0     4     0         0   \n",
       "90         0         1         1         0     0     4     1         0   \n",
       "91         1         1         1         0     0     4     1         0   \n",
       "92         1         1         0         0     1     0     1         0   \n",
       "93         1         1         1         0     0     2     1         0   \n",
       "94         1         1         1         0     0     4     1         0   \n",
       "95         0         1         1         0     0     2     1         0   \n",
       "96         1         1         1         0     0     2     1         0   \n",
       "97         0         0         1         1     0     6     0         0   \n",
       "98         1         1         1         0     0     4     1         0   \n",
       "99         0         0         1         0     0     0     0         0   \n",
       "100        0         1         1         0     0     2     1         0   \n",
       "\n",
       "     catsize  class_type  \n",
       "0          1           1  \n",
       "1          1           1  \n",
       "2          0           4  \n",
       "3          1           1  \n",
       "4          1           1  \n",
       "5          1           1  \n",
       "6          1           1  \n",
       "7          0           4  \n",
       "8          0           4  \n",
       "9          0           1  \n",
       "10         1           1  \n",
       "11         0           2  \n",
       "12         0           4  \n",
       "13         0           7  \n",
       "14         0           7  \n",
       "15         0           7  \n",
       "16         0           2  \n",
       "17         1           1  \n",
       "18         1           4  \n",
       "19         1           1  \n",
       "20         0           2  \n",
       "21         0           2  \n",
       "22         1           1  \n",
       "23         1           2  \n",
       "24         0           6  \n",
       "25         0           5  \n",
       "26         0           5  \n",
       "27         0           1  \n",
       "28         1           1  \n",
       "29         1           1  \n",
       "..       ...         ...  \n",
       "71         1           2  \n",
       "72         0           7  \n",
       "73         0           4  \n",
       "74         1           1  \n",
       "75         1           1  \n",
       "76         0           3  \n",
       "77         0           7  \n",
       "78         0           2  \n",
       "79         0           2  \n",
       "80         0           3  \n",
       "81         0           7  \n",
       "82         0           4  \n",
       "83         0           2  \n",
       "84         0           1  \n",
       "85         0           7  \n",
       "86         1           4  \n",
       "87         1           2  \n",
       "88         0           6  \n",
       "89         0           5  \n",
       "90         1           3  \n",
       "91         0           3  \n",
       "92         1           4  \n",
       "93         0           1  \n",
       "94         0           1  \n",
       "95         1           2  \n",
       "96         1           1  \n",
       "97         0           6  \n",
       "98         1           1  \n",
       "99         0           7  \n",
       "100        0           2  \n",
       "\n",
       "[101 rows x 18 columns]>"
      ]
     },
     "execution_count": 28,
     "metadata": {},
     "output_type": "execute_result"
    }
   ],
   "source": [
    "df1.describe"
   ]
  },
  {
   "cell_type": "code",
   "execution_count": 29,
   "metadata": {},
   "outputs": [
    {
     "ename": "ModuleNotFoundError",
     "evalue": "No module named 'sklearn.cross_validation'",
     "output_type": "error",
     "traceback": [
      "\u001b[0;31m---------------------------------------------------------------------------\u001b[0m",
      "\u001b[0;31mModuleNotFoundError\u001b[0m                       Traceback (most recent call last)",
      "\u001b[0;32m<ipython-input-29-a69ab76de21c>\u001b[0m in \u001b[0;36m<module>\u001b[0;34m\u001b[0m\n\u001b[1;32m      1\u001b[0m \u001b[0;32mimport\u001b[0m \u001b[0mrandom\u001b[0m\u001b[0;34m\u001b[0m\u001b[0;34m\u001b[0m\u001b[0m\n\u001b[1;32m      2\u001b[0m \u001b[0;32mfrom\u001b[0m \u001b[0msklearn\u001b[0m \u001b[0;32mimport\u001b[0m \u001b[0mdatasets\u001b[0m\u001b[0;34m,\u001b[0m \u001b[0mlinear_model\u001b[0m\u001b[0;34m\u001b[0m\u001b[0;34m\u001b[0m\u001b[0m\n\u001b[0;32m----> 3\u001b[0;31m \u001b[0;32mfrom\u001b[0m \u001b[0msklearn\u001b[0m\u001b[0;34m.\u001b[0m\u001b[0mcross_validation\u001b[0m \u001b[0;32mimport\u001b[0m \u001b[0mtrain_test_split\u001b[0m\u001b[0;34m\u001b[0m\u001b[0;34m\u001b[0m\u001b[0m\n\u001b[0m",
      "\u001b[0;31mModuleNotFoundError\u001b[0m: No module named 'sklearn.cross_validation'"
     ]
    }
   ],
   "source": [
    "import random\n",
    "from sklearn import datasets, linear_model\n",
    "from sklearn.cross_validation import train_test_split"
   ]
  },
  {
   "cell_type": "code",
   "execution_count": 34,
   "metadata": {},
   "outputs": [
    {
     "ename": "SyntaxError",
     "evalue": "invalid syntax (<ipython-input-34-884d94f1b6eb>, line 2)",
     "output_type": "error",
     "traceback": [
      "\u001b[0;36m  File \u001b[0;32m\"<ipython-input-34-884d94f1b6eb>\"\u001b[0;36m, line \u001b[0;32m2\u001b[0m\n\u001b[0;31m    print (\"zoo.csv\" shape)\u001b[0m\n\u001b[0m                         ^\u001b[0m\n\u001b[0;31mSyntaxError\u001b[0m\u001b[0;31m:\u001b[0m invalid syntax\n"
     ]
    }
   ],
   "source": [
    "regr = linear_model.LinearRegression()\n",
    "print (\"zoo.csv\" shape)"
   ]
  },
  {
   "cell_type": "code",
   "execution_count": 36,
   "metadata": {},
   "outputs": [
    {
     "ename": "ImportError",
     "evalue": "cannot import name 'train_test_split' from 'sklearn' (/Users/RichardMorrow/anaconda3/lib/python3.7/site-packages/sklearn/__init__.py)",
     "output_type": "error",
     "traceback": [
      "\u001b[0;31m---------------------------------------------------------------------------\u001b[0m",
      "\u001b[0;31mImportError\u001b[0m                               Traceback (most recent call last)",
      "\u001b[0;32m<ipython-input-36-2d45365854f6>\u001b[0m in \u001b[0;36m<module>\u001b[0;34m\u001b[0m\n\u001b[0;32m----> 1\u001b[0;31m \u001b[0;32mfrom\u001b[0m \u001b[0msklearn\u001b[0m \u001b[0;32mimport\u001b[0m \u001b[0mtrain_test_split\u001b[0m\u001b[0;34m\u001b[0m\u001b[0;34m\u001b[0m\u001b[0m\n\u001b[0m",
      "\u001b[0;31mImportError\u001b[0m: cannot import name 'train_test_split' from 'sklearn' (/Users/RichardMorrow/anaconda3/lib/python3.7/site-packages/sklearn/__init__.py)"
     ]
    }
   ],
   "source": [
    "from sklearn import train_test_split\n"
   ]
  },
  {
   "cell_type": "code",
   "execution_count": 37,
   "metadata": {},
   "outputs": [
    {
     "ename": "NameError",
     "evalue": "name 'zoo' is not defined",
     "output_type": "error",
     "traceback": [
      "\u001b[0;31m---------------------------------------------------------------------------\u001b[0m",
      "\u001b[0;31mNameError\u001b[0m                                 Traceback (most recent call last)",
      "\u001b[0;32m<ipython-input-37-b4046c6fa094>\u001b[0m in \u001b[0;36m<module>\u001b[0;34m\u001b[0m\n\u001b[0;32m----> 1\u001b[0;31m \u001b[0mregr\u001b[0m \u001b[0;34m(\u001b[0m\u001b[0mzoo\u001b[0m\u001b[0;34m.\u001b[0m\u001b[0mcsv\u001b[0m\u001b[0;34m)\u001b[0m\u001b[0;34m\u001b[0m\u001b[0;34m\u001b[0m\u001b[0m\n\u001b[0m",
      "\u001b[0;31mNameError\u001b[0m: name 'zoo' is not defined"
     ]
    }
   ],
   "source": [
    "regr (zoo.csv)"
   ]
  },
  {
   "cell_type": "code",
   "execution_count": 38,
   "metadata": {},
   "outputs": [
    {
     "ename": "TypeError",
     "evalue": "'LinearRegression' object is not callable",
     "output_type": "error",
     "traceback": [
      "\u001b[0;31m---------------------------------------------------------------------------\u001b[0m",
      "\u001b[0;31mTypeError\u001b[0m                                 Traceback (most recent call last)",
      "\u001b[0;32m<ipython-input-38-2257e62a9c62>\u001b[0m in \u001b[0;36m<module>\u001b[0;34m\u001b[0m\n\u001b[0;32m----> 1\u001b[0;31m \u001b[0mregr\u001b[0m\u001b[0;34m(\u001b[0m\u001b[0mdf1\u001b[0m\u001b[0;34m)\u001b[0m\u001b[0;34m\u001b[0m\u001b[0;34m\u001b[0m\u001b[0m\n\u001b[0m",
      "\u001b[0;31mTypeError\u001b[0m: 'LinearRegression' object is not callable"
     ]
    }
   ],
   "source": [
    "regr(df1)"
   ]
  },
  {
   "cell_type": "code",
   "execution_count": 42,
   "metadata": {},
   "outputs": [
    {
     "name": "stdout",
     "output_type": "stream",
     "text": [
      "(101, 18)\n"
     ]
    }
   ],
   "source": [
    "print (df1.shape)"
   ]
  },
  {
   "cell_type": "code",
   "execution_count": 43,
   "metadata": {},
   "outputs": [
    {
     "name": "stdout",
     "output_type": "stream",
     "text": [
      "(7, 4)\n"
     ]
    }
   ],
   "source": [
    "print (df2.shape)"
   ]
  },
  {
   "cell_type": "code",
   "execution_count": 44,
   "metadata": {},
   "outputs": [],
   "source": [
    "import matplotlib.pyplot as plt"
   ]
  },
  {
   "cell_type": "code",
   "execution_count": 45,
   "metadata": {},
   "outputs": [],
   "source": [
    "import seaborn as sns"
   ]
  },
  {
   "cell_type": "code",
   "execution_count": 46,
   "metadata": {},
   "outputs": [
    {
     "data": {
      "text/plain": [
       "<bound method NDFrame.describe of     animal_name  hair  feathers  eggs  milk  airborne  aquatic  predator  \\\n",
       "0      aardvark     1         0     0     1         0        0         1   \n",
       "1      antelope     1         0     0     1         0        0         0   \n",
       "2          bass     0         0     1     0         0        1         1   \n",
       "3          bear     1         0     0     1         0        0         1   \n",
       "4          boar     1         0     0     1         0        0         1   \n",
       "5       buffalo     1         0     0     1         0        0         0   \n",
       "6          calf     1         0     0     1         0        0         0   \n",
       "7          carp     0         0     1     0         0        1         0   \n",
       "8       catfish     0         0     1     0         0        1         1   \n",
       "9          cavy     1         0     0     1         0        0         0   \n",
       "10      cheetah     1         0     0     1         0        0         1   \n",
       "11      chicken     0         1     1     0         1        0         0   \n",
       "12         chub     0         0     1     0         0        1         1   \n",
       "13         clam     0         0     1     0         0        0         1   \n",
       "14         crab     0         0     1     0         0        1         1   \n",
       "15     crayfish     0         0     1     0         0        1         1   \n",
       "16         crow     0         1     1     0         1        0         1   \n",
       "17         deer     1         0     0     1         0        0         0   \n",
       "18      dogfish     0         0     1     0         0        1         1   \n",
       "19      dolphin     0         0     0     1         0        1         1   \n",
       "20         dove     0         1     1     0         1        0         0   \n",
       "21         duck     0         1     1     0         1        1         0   \n",
       "22     elephant     1         0     0     1         0        0         0   \n",
       "23     flamingo     0         1     1     0         1        0         0   \n",
       "24         flea     0         0     1     0         0        0         0   \n",
       "25         frog     0         0     1     0         0        1         1   \n",
       "26         frog     0         0     1     0         0        1         1   \n",
       "27     fruitbat     1         0     0     1         1        0         0   \n",
       "28      giraffe     1         0     0     1         0        0         0   \n",
       "29         girl     1         0     0     1         0        0         1   \n",
       "..          ...   ...       ...   ...   ...       ...      ...       ...   \n",
       "71         rhea     0         1     1     0         0        0         1   \n",
       "72     scorpion     0         0     0     0         0        0         1   \n",
       "73     seahorse     0         0     1     0         0        1         0   \n",
       "74         seal     1         0     0     1         0        1         1   \n",
       "75      sealion     1         0     0     1         0        1         1   \n",
       "76     seasnake     0         0     0     0         0        1         1   \n",
       "77      seawasp     0         0     1     0         0        1         1   \n",
       "78      skimmer     0         1     1     0         1        1         1   \n",
       "79         skua     0         1     1     0         1        1         1   \n",
       "80     slowworm     0         0     1     0         0        0         1   \n",
       "81         slug     0         0     1     0         0        0         0   \n",
       "82         sole     0         0     1     0         0        1         0   \n",
       "83      sparrow     0         1     1     0         1        0         0   \n",
       "84     squirrel     1         0     0     1         0        0         0   \n",
       "85     starfish     0         0     1     0         0        1         1   \n",
       "86     stingray     0         0     1     0         0        1         1   \n",
       "87         swan     0         1     1     0         1        1         0   \n",
       "88      termite     0         0     1     0         0        0         0   \n",
       "89         toad     0         0     1     0         0        1         0   \n",
       "90     tortoise     0         0     1     0         0        0         0   \n",
       "91      tuatara     0         0     1     0         0        0         1   \n",
       "92         tuna     0         0     1     0         0        1         1   \n",
       "93      vampire     1         0     0     1         1        0         0   \n",
       "94         vole     1         0     0     1         0        0         0   \n",
       "95      vulture     0         1     1     0         1        0         1   \n",
       "96      wallaby     1         0     0     1         0        0         0   \n",
       "97         wasp     1         0     1     0         1        0         0   \n",
       "98         wolf     1         0     0     1         0        0         1   \n",
       "99         worm     0         0     1     0         0        0         0   \n",
       "100        wren     0         1     1     0         1        0         0   \n",
       "\n",
       "     toothed  backbone  breathes  venomous  fins  legs  tail  domestic  \\\n",
       "0          1         1         1         0     0     4     0         0   \n",
       "1          1         1         1         0     0     4     1         0   \n",
       "2          1         1         0         0     1     0     1         0   \n",
       "3          1         1         1         0     0     4     0         0   \n",
       "4          1         1         1         0     0     4     1         0   \n",
       "5          1         1         1         0     0     4     1         0   \n",
       "6          1         1         1         0     0     4     1         1   \n",
       "7          1         1         0         0     1     0     1         1   \n",
       "8          1         1         0         0     1     0     1         0   \n",
       "9          1         1         1         0     0     4     0         1   \n",
       "10         1         1         1         0     0     4     1         0   \n",
       "11         0         1         1         0     0     2     1         1   \n",
       "12         1         1         0         0     1     0     1         0   \n",
       "13         0         0         0         0     0     0     0         0   \n",
       "14         0         0         0         0     0     4     0         0   \n",
       "15         0         0         0         0     0     6     0         0   \n",
       "16         0         1         1         0     0     2     1         0   \n",
       "17         1         1         1         0     0     4     1         0   \n",
       "18         1         1         0         0     1     0     1         0   \n",
       "19         1         1         1         0     1     0     1         0   \n",
       "20         0         1         1         0     0     2     1         1   \n",
       "21         0         1         1         0     0     2     1         0   \n",
       "22         1         1         1         0     0     4     1         0   \n",
       "23         0         1         1         0     0     2     1         0   \n",
       "24         0         0         1         0     0     6     0         0   \n",
       "25         1         1         1         0     0     4     0         0   \n",
       "26         1         1         1         1     0     4     0         0   \n",
       "27         1         1         1         0     0     2     1         0   \n",
       "28         1         1         1         0     0     4     1         0   \n",
       "29         1         1         1         0     0     2     0         1   \n",
       "..       ...       ...       ...       ...   ...   ...   ...       ...   \n",
       "71         0         1         1         0     0     2     1         0   \n",
       "72         0         0         1         1     0     8     1         0   \n",
       "73         1         1         0         0     1     0     1         0   \n",
       "74         1         1         1         0     1     0     0         0   \n",
       "75         1         1         1         0     1     2     1         0   \n",
       "76         1         1         0         1     0     0     1         0   \n",
       "77         0         0         0         1     0     0     0         0   \n",
       "78         0         1         1         0     0     2     1         0   \n",
       "79         0         1         1         0     0     2     1         0   \n",
       "80         1         1         1         0     0     0     1         0   \n",
       "81         0         0         1         0     0     0     0         0   \n",
       "82         1         1         0         0     1     0     1         0   \n",
       "83         0         1         1         0     0     2     1         0   \n",
       "84         1         1         1         0     0     2     1         0   \n",
       "85         0         0         0         0     0     5     0         0   \n",
       "86         1         1         0         1     1     0     1         0   \n",
       "87         0         1         1         0     0     2     1         0   \n",
       "88         0         0         1         0     0     6     0         0   \n",
       "89         1         1         1         0     0     4     0         0   \n",
       "90         0         1         1         0     0     4     1         0   \n",
       "91         1         1         1         0     0     4     1         0   \n",
       "92         1         1         0         0     1     0     1         0   \n",
       "93         1         1         1         0     0     2     1         0   \n",
       "94         1         1         1         0     0     4     1         0   \n",
       "95         0         1         1         0     0     2     1         0   \n",
       "96         1         1         1         0     0     2     1         0   \n",
       "97         0         0         1         1     0     6     0         0   \n",
       "98         1         1         1         0     0     4     1         0   \n",
       "99         0         0         1         0     0     0     0         0   \n",
       "100        0         1         1         0     0     2     1         0   \n",
       "\n",
       "     catsize  class_type  \n",
       "0          1           1  \n",
       "1          1           1  \n",
       "2          0           4  \n",
       "3          1           1  \n",
       "4          1           1  \n",
       "5          1           1  \n",
       "6          1           1  \n",
       "7          0           4  \n",
       "8          0           4  \n",
       "9          0           1  \n",
       "10         1           1  \n",
       "11         0           2  \n",
       "12         0           4  \n",
       "13         0           7  \n",
       "14         0           7  \n",
       "15         0           7  \n",
       "16         0           2  \n",
       "17         1           1  \n",
       "18         1           4  \n",
       "19         1           1  \n",
       "20         0           2  \n",
       "21         0           2  \n",
       "22         1           1  \n",
       "23         1           2  \n",
       "24         0           6  \n",
       "25         0           5  \n",
       "26         0           5  \n",
       "27         0           1  \n",
       "28         1           1  \n",
       "29         1           1  \n",
       "..       ...         ...  \n",
       "71         1           2  \n",
       "72         0           7  \n",
       "73         0           4  \n",
       "74         1           1  \n",
       "75         1           1  \n",
       "76         0           3  \n",
       "77         0           7  \n",
       "78         0           2  \n",
       "79         0           2  \n",
       "80         0           3  \n",
       "81         0           7  \n",
       "82         0           4  \n",
       "83         0           2  \n",
       "84         0           1  \n",
       "85         0           7  \n",
       "86         1           4  \n",
       "87         1           2  \n",
       "88         0           6  \n",
       "89         0           5  \n",
       "90         1           3  \n",
       "91         0           3  \n",
       "92         1           4  \n",
       "93         0           1  \n",
       "94         0           1  \n",
       "95         1           2  \n",
       "96         1           1  \n",
       "97         0           6  \n",
       "98         1           1  \n",
       "99         0           7  \n",
       "100        0           2  \n",
       "\n",
       "[101 rows x 18 columns]>"
      ]
     },
     "execution_count": 46,
     "metadata": {},
     "output_type": "execute_result"
    }
   ],
   "source": [
    "df1.describe"
   ]
  },
  {
   "cell_type": "code",
   "execution_count": 47,
   "metadata": {},
   "outputs": [
    {
     "data": {
      "text/plain": [
       "<bound method NDFrame.describe of    Class_Number  Number_Of_Animal_Species_In_Class    Class_Type  \\\n",
       "0             1                                 41        Mammal   \n",
       "1             2                                 20          Bird   \n",
       "2             3                                  5       Reptile   \n",
       "3             4                                 13          Fish   \n",
       "4             5                                  4     Amphibian   \n",
       "5             6                                  8           Bug   \n",
       "6             7                                 10  Invertebrate   \n",
       "\n",
       "                                        Animal_Names  \n",
       "0  aardvark, antelope, bear, boar, buffalo, calf,...  \n",
       "1  chicken, crow, dove, duck, flamingo, gull, haw...  \n",
       "2    pitviper, seasnake, slowworm, tortoise, tuatara  \n",
       "3  bass, carp, catfish, chub, dogfish, haddock, h...  \n",
       "4                             frog, frog, newt, toad  \n",
       "5  flea, gnat, honeybee, housefly, ladybird, moth...  \n",
       "6  clam, crab, crayfish, lobster, octopus, scorpi...  >"
      ]
     },
     "execution_count": 47,
     "metadata": {},
     "output_type": "execute_result"
    }
   ],
   "source": [
    "df2.describe\n"
   ]
  },
  {
   "cell_type": "code",
   "execution_count": 48,
   "metadata": {},
   "outputs": [
    {
     "ename": "KeyError",
     "evalue": "'Class'",
     "output_type": "error",
     "traceback": [
      "\u001b[0;31m---------------------------------------------------------------------------\u001b[0m",
      "\u001b[0;31mKeyError\u001b[0m                                  Traceback (most recent call last)",
      "\u001b[0;32m~/anaconda3/lib/python3.7/site-packages/pandas/core/indexes/base.py\u001b[0m in \u001b[0;36mget_loc\u001b[0;34m(self, key, method, tolerance)\u001b[0m\n\u001b[1;32m   2656\u001b[0m             \u001b[0;32mtry\u001b[0m\u001b[0;34m:\u001b[0m\u001b[0;34m\u001b[0m\u001b[0;34m\u001b[0m\u001b[0m\n\u001b[0;32m-> 2657\u001b[0;31m                 \u001b[0;32mreturn\u001b[0m \u001b[0mself\u001b[0m\u001b[0;34m.\u001b[0m\u001b[0m_engine\u001b[0m\u001b[0;34m.\u001b[0m\u001b[0mget_loc\u001b[0m\u001b[0;34m(\u001b[0m\u001b[0mkey\u001b[0m\u001b[0;34m)\u001b[0m\u001b[0;34m\u001b[0m\u001b[0;34m\u001b[0m\u001b[0m\n\u001b[0m\u001b[1;32m   2658\u001b[0m             \u001b[0;32mexcept\u001b[0m \u001b[0mKeyError\u001b[0m\u001b[0;34m:\u001b[0m\u001b[0;34m\u001b[0m\u001b[0;34m\u001b[0m\u001b[0m\n",
      "\u001b[0;32mpandas/_libs/index.pyx\u001b[0m in \u001b[0;36mpandas._libs.index.IndexEngine.get_loc\u001b[0;34m()\u001b[0m\n",
      "\u001b[0;32mpandas/_libs/index.pyx\u001b[0m in \u001b[0;36mpandas._libs.index.IndexEngine.get_loc\u001b[0;34m()\u001b[0m\n",
      "\u001b[0;32mpandas/_libs/hashtable_class_helper.pxi\u001b[0m in \u001b[0;36mpandas._libs.hashtable.PyObjectHashTable.get_item\u001b[0;34m()\u001b[0m\n",
      "\u001b[0;32mpandas/_libs/hashtable_class_helper.pxi\u001b[0m in \u001b[0;36mpandas._libs.hashtable.PyObjectHashTable.get_item\u001b[0;34m()\u001b[0m\n",
      "\u001b[0;31mKeyError\u001b[0m: 'Class'",
      "\nDuring handling of the above exception, another exception occurred:\n",
      "\u001b[0;31mKeyError\u001b[0m                                  Traceback (most recent call last)",
      "\u001b[0;32m<ipython-input-48-908e7dfa8286>\u001b[0m in \u001b[0;36m<module>\u001b[0;34m\u001b[0m\n\u001b[0;32m----> 1\u001b[0;31m \u001b[0mdf2_corr\u001b[0m \u001b[0;34m=\u001b[0m \u001b[0mdf2\u001b[0m\u001b[0;34m.\u001b[0m\u001b[0mcorr\u001b[0m\u001b[0;34m(\u001b[0m\u001b[0;34m)\u001b[0m\u001b[0;34m[\u001b[0m\u001b[0;34m'Class'\u001b[0m\u001b[0;34m]\u001b[0m\u001b[0;34m[\u001b[0m\u001b[0;34m:\u001b[0m\u001b[0;34m-\u001b[0m\u001b[0;36m1\u001b[0m\u001b[0;34m]\u001b[0m\u001b[0;34m\u001b[0m\u001b[0;34m\u001b[0m\u001b[0m\n\u001b[0m",
      "\u001b[0;32m~/anaconda3/lib/python3.7/site-packages/pandas/core/frame.py\u001b[0m in \u001b[0;36m__getitem__\u001b[0;34m(self, key)\u001b[0m\n\u001b[1;32m   2925\u001b[0m             \u001b[0;32mif\u001b[0m \u001b[0mself\u001b[0m\u001b[0;34m.\u001b[0m\u001b[0mcolumns\u001b[0m\u001b[0;34m.\u001b[0m\u001b[0mnlevels\u001b[0m \u001b[0;34m>\u001b[0m \u001b[0;36m1\u001b[0m\u001b[0;34m:\u001b[0m\u001b[0;34m\u001b[0m\u001b[0;34m\u001b[0m\u001b[0m\n\u001b[1;32m   2926\u001b[0m                 \u001b[0;32mreturn\u001b[0m \u001b[0mself\u001b[0m\u001b[0;34m.\u001b[0m\u001b[0m_getitem_multilevel\u001b[0m\u001b[0;34m(\u001b[0m\u001b[0mkey\u001b[0m\u001b[0;34m)\u001b[0m\u001b[0;34m\u001b[0m\u001b[0;34m\u001b[0m\u001b[0m\n\u001b[0;32m-> 2927\u001b[0;31m             \u001b[0mindexer\u001b[0m \u001b[0;34m=\u001b[0m \u001b[0mself\u001b[0m\u001b[0;34m.\u001b[0m\u001b[0mcolumns\u001b[0m\u001b[0;34m.\u001b[0m\u001b[0mget_loc\u001b[0m\u001b[0;34m(\u001b[0m\u001b[0mkey\u001b[0m\u001b[0;34m)\u001b[0m\u001b[0;34m\u001b[0m\u001b[0;34m\u001b[0m\u001b[0m\n\u001b[0m\u001b[1;32m   2928\u001b[0m             \u001b[0;32mif\u001b[0m \u001b[0mis_integer\u001b[0m\u001b[0;34m(\u001b[0m\u001b[0mindexer\u001b[0m\u001b[0;34m)\u001b[0m\u001b[0;34m:\u001b[0m\u001b[0;34m\u001b[0m\u001b[0;34m\u001b[0m\u001b[0m\n\u001b[1;32m   2929\u001b[0m                 \u001b[0mindexer\u001b[0m \u001b[0;34m=\u001b[0m \u001b[0;34m[\u001b[0m\u001b[0mindexer\u001b[0m\u001b[0;34m]\u001b[0m\u001b[0;34m\u001b[0m\u001b[0;34m\u001b[0m\u001b[0m\n",
      "\u001b[0;32m~/anaconda3/lib/python3.7/site-packages/pandas/core/indexes/base.py\u001b[0m in \u001b[0;36mget_loc\u001b[0;34m(self, key, method, tolerance)\u001b[0m\n\u001b[1;32m   2657\u001b[0m                 \u001b[0;32mreturn\u001b[0m \u001b[0mself\u001b[0m\u001b[0;34m.\u001b[0m\u001b[0m_engine\u001b[0m\u001b[0;34m.\u001b[0m\u001b[0mget_loc\u001b[0m\u001b[0;34m(\u001b[0m\u001b[0mkey\u001b[0m\u001b[0;34m)\u001b[0m\u001b[0;34m\u001b[0m\u001b[0;34m\u001b[0m\u001b[0m\n\u001b[1;32m   2658\u001b[0m             \u001b[0;32mexcept\u001b[0m \u001b[0mKeyError\u001b[0m\u001b[0;34m:\u001b[0m\u001b[0;34m\u001b[0m\u001b[0;34m\u001b[0m\u001b[0m\n\u001b[0;32m-> 2659\u001b[0;31m                 \u001b[0;32mreturn\u001b[0m \u001b[0mself\u001b[0m\u001b[0;34m.\u001b[0m\u001b[0m_engine\u001b[0m\u001b[0;34m.\u001b[0m\u001b[0mget_loc\u001b[0m\u001b[0;34m(\u001b[0m\u001b[0mself\u001b[0m\u001b[0;34m.\u001b[0m\u001b[0m_maybe_cast_indexer\u001b[0m\u001b[0;34m(\u001b[0m\u001b[0mkey\u001b[0m\u001b[0;34m)\u001b[0m\u001b[0;34m)\u001b[0m\u001b[0;34m\u001b[0m\u001b[0;34m\u001b[0m\u001b[0m\n\u001b[0m\u001b[1;32m   2660\u001b[0m         \u001b[0mindexer\u001b[0m \u001b[0;34m=\u001b[0m \u001b[0mself\u001b[0m\u001b[0;34m.\u001b[0m\u001b[0mget_indexer\u001b[0m\u001b[0;34m(\u001b[0m\u001b[0;34m[\u001b[0m\u001b[0mkey\u001b[0m\u001b[0;34m]\u001b[0m\u001b[0;34m,\u001b[0m \u001b[0mmethod\u001b[0m\u001b[0;34m=\u001b[0m\u001b[0mmethod\u001b[0m\u001b[0;34m,\u001b[0m \u001b[0mtolerance\u001b[0m\u001b[0;34m=\u001b[0m\u001b[0mtolerance\u001b[0m\u001b[0;34m)\u001b[0m\u001b[0;34m\u001b[0m\u001b[0;34m\u001b[0m\u001b[0m\n\u001b[1;32m   2661\u001b[0m         \u001b[0;32mif\u001b[0m \u001b[0mindexer\u001b[0m\u001b[0;34m.\u001b[0m\u001b[0mndim\u001b[0m \u001b[0;34m>\u001b[0m \u001b[0;36m1\u001b[0m \u001b[0;32mor\u001b[0m \u001b[0mindexer\u001b[0m\u001b[0;34m.\u001b[0m\u001b[0msize\u001b[0m \u001b[0;34m>\u001b[0m \u001b[0;36m1\u001b[0m\u001b[0;34m:\u001b[0m\u001b[0;34m\u001b[0m\u001b[0;34m\u001b[0m\u001b[0m\n",
      "\u001b[0;32mpandas/_libs/index.pyx\u001b[0m in \u001b[0;36mpandas._libs.index.IndexEngine.get_loc\u001b[0;34m()\u001b[0m\n",
      "\u001b[0;32mpandas/_libs/index.pyx\u001b[0m in \u001b[0;36mpandas._libs.index.IndexEngine.get_loc\u001b[0;34m()\u001b[0m\n",
      "\u001b[0;32mpandas/_libs/hashtable_class_helper.pxi\u001b[0m in \u001b[0;36mpandas._libs.hashtable.PyObjectHashTable.get_item\u001b[0;34m()\u001b[0m\n",
      "\u001b[0;32mpandas/_libs/hashtable_class_helper.pxi\u001b[0m in \u001b[0;36mpandas._libs.hashtable.PyObjectHashTable.get_item\u001b[0;34m()\u001b[0m\n",
      "\u001b[0;31mKeyError\u001b[0m: 'Class'"
     ]
    }
   ],
   "source": [
    "df2_corr = df2.corr()['Class'][:-1]"
   ]
  },
  {
   "cell_type": "code",
   "execution_count": 49,
   "metadata": {},
   "outputs": [
    {
     "ename": "KeyError",
     "evalue": "'Class'",
     "output_type": "error",
     "traceback": [
      "\u001b[0;31m---------------------------------------------------------------------------\u001b[0m",
      "\u001b[0;31mKeyError\u001b[0m                                  Traceback (most recent call last)",
      "\u001b[0;32m~/anaconda3/lib/python3.7/site-packages/pandas/core/indexes/base.py\u001b[0m in \u001b[0;36mget_loc\u001b[0;34m(self, key, method, tolerance)\u001b[0m\n\u001b[1;32m   2656\u001b[0m             \u001b[0;32mtry\u001b[0m\u001b[0;34m:\u001b[0m\u001b[0;34m\u001b[0m\u001b[0;34m\u001b[0m\u001b[0m\n\u001b[0;32m-> 2657\u001b[0;31m                 \u001b[0;32mreturn\u001b[0m \u001b[0mself\u001b[0m\u001b[0;34m.\u001b[0m\u001b[0m_engine\u001b[0m\u001b[0;34m.\u001b[0m\u001b[0mget_loc\u001b[0m\u001b[0;34m(\u001b[0m\u001b[0mkey\u001b[0m\u001b[0;34m)\u001b[0m\u001b[0;34m\u001b[0m\u001b[0;34m\u001b[0m\u001b[0m\n\u001b[0m\u001b[1;32m   2658\u001b[0m             \u001b[0;32mexcept\u001b[0m \u001b[0mKeyError\u001b[0m\u001b[0;34m:\u001b[0m\u001b[0;34m\u001b[0m\u001b[0;34m\u001b[0m\u001b[0m\n",
      "\u001b[0;32mpandas/_libs/index.pyx\u001b[0m in \u001b[0;36mpandas._libs.index.IndexEngine.get_loc\u001b[0;34m()\u001b[0m\n",
      "\u001b[0;32mpandas/_libs/index.pyx\u001b[0m in \u001b[0;36mpandas._libs.index.IndexEngine.get_loc\u001b[0;34m()\u001b[0m\n",
      "\u001b[0;32mpandas/_libs/hashtable_class_helper.pxi\u001b[0m in \u001b[0;36mpandas._libs.hashtable.PyObjectHashTable.get_item\u001b[0;34m()\u001b[0m\n",
      "\u001b[0;32mpandas/_libs/hashtable_class_helper.pxi\u001b[0m in \u001b[0;36mpandas._libs.hashtable.PyObjectHashTable.get_item\u001b[0;34m()\u001b[0m\n",
      "\u001b[0;31mKeyError\u001b[0m: 'Class'",
      "\nDuring handling of the above exception, another exception occurred:\n",
      "\u001b[0;31mKeyError\u001b[0m                                  Traceback (most recent call last)",
      "\u001b[0;32m<ipython-input-49-a9fc669269bc>\u001b[0m in \u001b[0;36m<module>\u001b[0;34m\u001b[0m\n\u001b[0;32m----> 1\u001b[0;31m \u001b[0mdf1_corr\u001b[0m \u001b[0;34m=\u001b[0m \u001b[0mdf1\u001b[0m\u001b[0;34m.\u001b[0m\u001b[0mcorr\u001b[0m\u001b[0;34m(\u001b[0m\u001b[0;34m)\u001b[0m\u001b[0;34m[\u001b[0m\u001b[0;34m'Class'\u001b[0m\u001b[0;34m]\u001b[0m\u001b[0;34m[\u001b[0m\u001b[0;34m:\u001b[0m\u001b[0;34m-\u001b[0m\u001b[0;36m1\u001b[0m\u001b[0;34m]\u001b[0m\u001b[0;34m\u001b[0m\u001b[0;34m\u001b[0m\u001b[0m\n\u001b[0m",
      "\u001b[0;32m~/anaconda3/lib/python3.7/site-packages/pandas/core/frame.py\u001b[0m in \u001b[0;36m__getitem__\u001b[0;34m(self, key)\u001b[0m\n\u001b[1;32m   2925\u001b[0m             \u001b[0;32mif\u001b[0m \u001b[0mself\u001b[0m\u001b[0;34m.\u001b[0m\u001b[0mcolumns\u001b[0m\u001b[0;34m.\u001b[0m\u001b[0mnlevels\u001b[0m \u001b[0;34m>\u001b[0m \u001b[0;36m1\u001b[0m\u001b[0;34m:\u001b[0m\u001b[0;34m\u001b[0m\u001b[0;34m\u001b[0m\u001b[0m\n\u001b[1;32m   2926\u001b[0m                 \u001b[0;32mreturn\u001b[0m \u001b[0mself\u001b[0m\u001b[0;34m.\u001b[0m\u001b[0m_getitem_multilevel\u001b[0m\u001b[0;34m(\u001b[0m\u001b[0mkey\u001b[0m\u001b[0;34m)\u001b[0m\u001b[0;34m\u001b[0m\u001b[0;34m\u001b[0m\u001b[0m\n\u001b[0;32m-> 2927\u001b[0;31m             \u001b[0mindexer\u001b[0m \u001b[0;34m=\u001b[0m \u001b[0mself\u001b[0m\u001b[0;34m.\u001b[0m\u001b[0mcolumns\u001b[0m\u001b[0;34m.\u001b[0m\u001b[0mget_loc\u001b[0m\u001b[0;34m(\u001b[0m\u001b[0mkey\u001b[0m\u001b[0;34m)\u001b[0m\u001b[0;34m\u001b[0m\u001b[0;34m\u001b[0m\u001b[0m\n\u001b[0m\u001b[1;32m   2928\u001b[0m             \u001b[0;32mif\u001b[0m \u001b[0mis_integer\u001b[0m\u001b[0;34m(\u001b[0m\u001b[0mindexer\u001b[0m\u001b[0;34m)\u001b[0m\u001b[0;34m:\u001b[0m\u001b[0;34m\u001b[0m\u001b[0;34m\u001b[0m\u001b[0m\n\u001b[1;32m   2929\u001b[0m                 \u001b[0mindexer\u001b[0m \u001b[0;34m=\u001b[0m \u001b[0;34m[\u001b[0m\u001b[0mindexer\u001b[0m\u001b[0;34m]\u001b[0m\u001b[0;34m\u001b[0m\u001b[0;34m\u001b[0m\u001b[0m\n",
      "\u001b[0;32m~/anaconda3/lib/python3.7/site-packages/pandas/core/indexes/base.py\u001b[0m in \u001b[0;36mget_loc\u001b[0;34m(self, key, method, tolerance)\u001b[0m\n\u001b[1;32m   2657\u001b[0m                 \u001b[0;32mreturn\u001b[0m \u001b[0mself\u001b[0m\u001b[0;34m.\u001b[0m\u001b[0m_engine\u001b[0m\u001b[0;34m.\u001b[0m\u001b[0mget_loc\u001b[0m\u001b[0;34m(\u001b[0m\u001b[0mkey\u001b[0m\u001b[0;34m)\u001b[0m\u001b[0;34m\u001b[0m\u001b[0;34m\u001b[0m\u001b[0m\n\u001b[1;32m   2658\u001b[0m             \u001b[0;32mexcept\u001b[0m \u001b[0mKeyError\u001b[0m\u001b[0;34m:\u001b[0m\u001b[0;34m\u001b[0m\u001b[0;34m\u001b[0m\u001b[0m\n\u001b[0;32m-> 2659\u001b[0;31m                 \u001b[0;32mreturn\u001b[0m \u001b[0mself\u001b[0m\u001b[0;34m.\u001b[0m\u001b[0m_engine\u001b[0m\u001b[0;34m.\u001b[0m\u001b[0mget_loc\u001b[0m\u001b[0;34m(\u001b[0m\u001b[0mself\u001b[0m\u001b[0;34m.\u001b[0m\u001b[0m_maybe_cast_indexer\u001b[0m\u001b[0;34m(\u001b[0m\u001b[0mkey\u001b[0m\u001b[0;34m)\u001b[0m\u001b[0;34m)\u001b[0m\u001b[0;34m\u001b[0m\u001b[0;34m\u001b[0m\u001b[0m\n\u001b[0m\u001b[1;32m   2660\u001b[0m         \u001b[0mindexer\u001b[0m \u001b[0;34m=\u001b[0m \u001b[0mself\u001b[0m\u001b[0;34m.\u001b[0m\u001b[0mget_indexer\u001b[0m\u001b[0;34m(\u001b[0m\u001b[0;34m[\u001b[0m\u001b[0mkey\u001b[0m\u001b[0;34m]\u001b[0m\u001b[0;34m,\u001b[0m \u001b[0mmethod\u001b[0m\u001b[0;34m=\u001b[0m\u001b[0mmethod\u001b[0m\u001b[0;34m,\u001b[0m \u001b[0mtolerance\u001b[0m\u001b[0;34m=\u001b[0m\u001b[0mtolerance\u001b[0m\u001b[0;34m)\u001b[0m\u001b[0;34m\u001b[0m\u001b[0;34m\u001b[0m\u001b[0m\n\u001b[1;32m   2661\u001b[0m         \u001b[0;32mif\u001b[0m \u001b[0mindexer\u001b[0m\u001b[0;34m.\u001b[0m\u001b[0mndim\u001b[0m \u001b[0;34m>\u001b[0m \u001b[0;36m1\u001b[0m \u001b[0;32mor\u001b[0m \u001b[0mindexer\u001b[0m\u001b[0;34m.\u001b[0m\u001b[0msize\u001b[0m \u001b[0;34m>\u001b[0m \u001b[0;36m1\u001b[0m\u001b[0;34m:\u001b[0m\u001b[0;34m\u001b[0m\u001b[0;34m\u001b[0m\u001b[0m\n",
      "\u001b[0;32mpandas/_libs/index.pyx\u001b[0m in \u001b[0;36mpandas._libs.index.IndexEngine.get_loc\u001b[0;34m()\u001b[0m\n",
      "\u001b[0;32mpandas/_libs/index.pyx\u001b[0m in \u001b[0;36mpandas._libs.index.IndexEngine.get_loc\u001b[0;34m()\u001b[0m\n",
      "\u001b[0;32mpandas/_libs/hashtable_class_helper.pxi\u001b[0m in \u001b[0;36mpandas._libs.hashtable.PyObjectHashTable.get_item\u001b[0;34m()\u001b[0m\n",
      "\u001b[0;32mpandas/_libs/hashtable_class_helper.pxi\u001b[0m in \u001b[0;36mpandas._libs.hashtable.PyObjectHashTable.get_item\u001b[0;34m()\u001b[0m\n",
      "\u001b[0;31mKeyError\u001b[0m: 'Class'"
     ]
    }
   ],
   "source": [
    "df1_corr = df1.corr()['Class'][:-1]"
   ]
  },
  {
   "cell_type": "code",
   "execution_count": 50,
   "metadata": {},
   "outputs": [
    {
     "ename": "ImportError",
     "evalue": "cannot import name '__version__' from '__main__' (unknown location)",
     "output_type": "error",
     "traceback": [
      "\u001b[0;31m---------------------------------------------------------------------------\u001b[0m",
      "\u001b[0;31mImportError\u001b[0m                               Traceback (most recent call last)",
      "\u001b[0;32m<ipython-input-50-5a6803a48843>\u001b[0m in \u001b[0;36m<module>\u001b[0;34m\u001b[0m\n\u001b[1;32m      6\u001b[0m \u001b[0;32mfrom\u001b[0m \u001b[0mnotebook\u001b[0m \u001b[0;32mimport\u001b[0m \u001b[0mnbextensions\u001b[0m\u001b[0;34m,\u001b[0m \u001b[0mserverextensions\u001b[0m\u001b[0;34m,\u001b[0m \u001b[0mextensions\u001b[0m\u001b[0;34m\u001b[0m\u001b[0;34m\u001b[0m\u001b[0m\n\u001b[1;32m      7\u001b[0m \u001b[0;34m\u001b[0m\u001b[0m\n\u001b[0;32m----> 8\u001b[0;31m \u001b[0;32mfrom\u001b[0m \u001b[0;34m.\u001b[0m \u001b[0;32mimport\u001b[0m \u001b[0m__version__\u001b[0m\u001b[0;34m,\u001b[0m \u001b[0m__name__\u001b[0m \u001b[0;32mas\u001b[0m \u001b[0m_pkg_name\u001b[0m\u001b[0;34m\u001b[0m\u001b[0;34m\u001b[0m\u001b[0m\n\u001b[0m\u001b[1;32m      9\u001b[0m \u001b[0;34m\u001b[0m\u001b[0m\n\u001b[1;32m     10\u001b[0m \u001b[0;34m\u001b[0m\u001b[0m\n",
      "\u001b[0;31mImportError\u001b[0m: cannot import name '__version__' from '__main__' (unknown location)"
     ]
    }
   ],
   "source": [
    "# -*- coding: utf-8 -*-\n",
    "\n",
    "import copy\n",
    "import sys\n",
    "\n",
    "from notebook import nbextensions, serverextensions, extensions\n",
    "\n",
    "from . import __version__, __name__ as _pkg_name\n",
    "\n",
    "\n",
    "class ToggleJupyterTensorboardApp(\n",
    "        nbextensions.ToggleNBExtensionApp,\n",
    "        serverextensions.ToggleServerExtensionApp):\n",
    "    \"\"\"App to toggle server extension jupyter_nbextensions_configurator.\"\"\"\n",
    "\n",
    "    flags = copy.deepcopy(serverextensions.ToggleServerExtensionApp.flags)\n",
    "    flags['sys-prefix'] = ({\n",
    "        'ToggleServerExtensionApp': {\n",
    "            'sys_prefix': True,\n",
    "            'user': False,\n",
    "        }},\n",
    "        'Use sys.prefix as the prefix for configuring extension')\n",
    "    for f in ('py', 'python'):\n",
    "        flags.pop(f, None)\n",
    "\n",
    "    def parse_command_line(self, argv=None):\n",
    "        \"\"\"\n",
    "        Overriden to check for conflicting flags\n",
    "        Since notebook version doesn't do it well (or, indeed, at all)\n",
    "        \"\"\"\n",
    "        conflicting_flags = set(['--user', '--system', '--sys-prefix'])\n",
    "\n",
    "        if len(conflicting_flags.intersection(set(argv))) > 1:\n",
    "            raise serverextensions.ArgumentConflict(\n",
    "                'cannot specify more than one of user, sys_prefix, or system')\n",
    "        return super(ToggleJupyterTensorboardApp,\n",
    "                     self).parse_command_line(argv)\n",
    "\n",
    "    @property\n",
    "    def name(self):\n",
    "        return 'jupyter_tensorboard {}'.format(\n",
    "            'enable' if self._toggle_value else 'disable')\n",
    "\n",
    "    @property\n",
    "    def description(self):\n",
    "        return \"\"\"\n",
    "{} the jupyter_tensorboard extension in config.\n",
    "Usage\n",
    "    jupyter tensorboard {} [--system|--sys-prefix|--user]\n",
    "\"\"\".format(*(('Enable', 'enable')\n",
    "             if self._toggle_value else ('Disable', 'disable')))\n",
    "\n",
    "    def start(self):\n",
    "        \"\"\"Perform the App's actions as configured.\"\"\"\n",
    "        if self.extra_args:\n",
    "            sys.exit('{} takes no extra arguments'.format(self.name))\n",
    "        else:\n",
    "\n",
    "            if self._toggle_value:\n",
    "                nbextensions.install_nbextension_python(\n",
    "                    _pkg_name, overwrite=True, symlink=False,\n",
    "                    user=self.user, sys_prefix=self.sys_prefix, prefix=None,\n",
    "                    nbextensions_dir=None, logger=None)\n",
    "            else:\n",
    "                nbextensions.uninstall_nbextension_python(\n",
    "                    _pkg_name, user=self.user, sys_prefix=self.sys_prefix,\n",
    "                    prefix=None, nbextensions_dir=None, logger=None)\n",
    "\n",
    "            self.toggle_nbextension_python(_pkg_name)\n",
    "            self.toggle_server_extension_python(_pkg_name)\n",
    "\n",
    "\n",
    "class EnableJupyterTensorboardApp(\n",
    "        ToggleJupyterTensorboardApp):\n",
    "    \"\"\"App to enable server extension jupyter_nbextensions_configurator.\"\"\"\n",
    "    name = 'jupyter tensorboard enable'\n",
    "    _toggle_value = True\n",
    "\n",
    "\n",
    "class DisableJupyterTensorboardApp(\n",
    "        ToggleJupyterTensorboardApp):\n",
    "    \"\"\"App to disable server extension jupyter_nbextensions_configurator.\"\"\"\n",
    "    name = 'jupyter tensorboard disable'\n",
    "    _toggle_value = False\n",
    "\n",
    "\n",
    "class JupyterTensorboardApp(extensions.BaseExtensionApp):\n",
    "    \"\"\"Root level jupyter_nbextensions_configurator app.\"\"\"\n",
    "\n",
    "    name = 'jupyter tensorboard'\n",
    "    version = __version__\n",
    "    description = (\n",
    "        'Enable or disable '\n",
    "        'the jupyter_tensorboard extension')\n",
    "    subcommands = dict(\n",
    "        enable=(\n",
    "            EnableJupyterTensorboardApp,\n",
    "            'Enable the jupyter_tensorboard extension.'),\n",
    "        disable=(\n",
    "            DisableJupyterTensorboardApp,\n",
    "            'Disable the jupyter_tensorboard extension.'),\n",
    "    )\n",
    "    examples = '\\n'.join([\n",
    "        'jupyter tensorboard enable'\n",
    "        '  # Enable the jupyter_tensorboard extension.',\n",
    "        'jupyter tensorboard disable'\n",
    "        ' # Disable the jupyter_tensorboard extension.',\n",
    "    ])\n",
    "\n",
    "    def start(self):\n",
    "        \"\"\"Perform the App's actions as configured\"\"\"\n",
    "        super(JupyterTensorboardApp, self).start()\n",
    "\n",
    "        # The above should have called a subcommand and raised NoStart; if we\n",
    "        # get here, it didn't, so we should self.log.info a message.\n",
    "        subcmds = \", \".join(sorted(self.subcommands))\n",
    "        sys.exit(\"Please supply at least one subcommand: %s\" % subcmds)\n",
    "\n",
    "\n",
    "main = JupyterTensorboardApp.launch_instance\n",
    "\n",
    "\n",
    "if __name__ == '__main__':  # pragma: no cover\n",
    "    main()\n"
   ]
  },
  {
   "cell_type": "code",
   "execution_count": 51,
   "metadata": {},
   "outputs": [
    {
     "ename": "ModuleNotFoundError",
     "evalue": "No module named 'ispvic'",
     "output_type": "error",
     "traceback": [
      "\u001b[0;31m---------------------------------------------------------------------------\u001b[0m",
      "\u001b[0;31mModuleNotFoundError\u001b[0m                       Traceback (most recent call last)",
      "\u001b[0;32m<ipython-input-51-fc0b22e15786>\u001b[0m in \u001b[0;36m<module>\u001b[0;34m\u001b[0m\n\u001b[0;32m----> 1\u001b[0;31m \u001b[0;32mimport\u001b[0m \u001b[0mispvic\u001b[0m\u001b[0;34m\u001b[0m\u001b[0;34m\u001b[0m\u001b[0m\n\u001b[0m",
      "\u001b[0;31mModuleNotFoundError\u001b[0m: No module named 'ispvic'"
     ]
    }
   ],
   "source": [
    "import ispvic"
   ]
  },
  {
   "cell_type": "code",
   "execution_count": 52,
   "metadata": {},
   "outputs": [
    {
     "ename": "ModuleNotFoundError",
     "evalue": "No module named 'tensorflow'",
     "output_type": "error",
     "traceback": [
      "\u001b[0;31m---------------------------------------------------------------------------\u001b[0m",
      "\u001b[0;31mModuleNotFoundError\u001b[0m                       Traceback (most recent call last)",
      "\u001b[0;32m<ipython-input-52-64156d691fe5>\u001b[0m in \u001b[0;36m<module>\u001b[0;34m\u001b[0m\n\u001b[0;32m----> 1\u001b[0;31m \u001b[0;32mimport\u001b[0m \u001b[0mtensorflow\u001b[0m \u001b[0;32mas\u001b[0m \u001b[0mtf\u001b[0m\u001b[0;34m\u001b[0m\u001b[0;34m\u001b[0m\u001b[0m\n\u001b[0m",
      "\u001b[0;31mModuleNotFoundError\u001b[0m: No module named 'tensorflow'"
     ]
    }
   ],
   "source": [
    "import tensorflow as tf"
   ]
  },
  {
   "cell_type": "code",
   "execution_count": 54,
   "metadata": {},
   "outputs": [
    {
     "ename": "SyntaxError",
     "evalue": "invalid syntax (<ipython-input-54-740c8b101bda>, line 1)",
     "output_type": "error",
     "traceback": [
      "\u001b[0;36m  File \u001b[0;32m\"<ipython-input-54-740c8b101bda>\"\u001b[0;36m, line \u001b[0;32m1\u001b[0m\n\u001b[0;31m    conda create -n tf2 python=3.6\u001b[0m\n\u001b[0m               ^\u001b[0m\n\u001b[0;31mSyntaxError\u001b[0m\u001b[0;31m:\u001b[0m invalid syntax\n"
     ]
    }
   ],
   "source": [
    "conda create -n tf2 python=3.6\n",
    "activate tf2\n",
    "pip install tf-nightly-gpu-2.0-preview\n",
    "conda install jupyter"
   ]
  },
  {
   "cell_type": "code",
   "execution_count": 55,
   "metadata": {},
   "outputs": [
    {
     "name": "stdout",
     "output_type": "stream",
     "text": [
      "\u001b[31m  Could not find a version that satisfies the requirement tf-nightly-2.0-preview (from versions: )\u001b[0m\r\n",
      "\u001b[31mNo matching distribution found for tf-nightly-2.0-preview\u001b[0m\r\n"
     ]
    },
    {
     "ename": "ModuleNotFoundError",
     "evalue": "No module named 'tensorboard'",
     "output_type": "error",
     "traceback": [
      "\u001b[0;31m---------------------------------------------------------------------------\u001b[0m",
      "\u001b[0;31mModuleNotFoundError\u001b[0m                       Traceback (most recent call last)",
      "\u001b[0;32m<ipython-input-55-7d9769c8ac6c>\u001b[0m in \u001b[0;36m<module>\u001b[0;34m\u001b[0m\n\u001b[1;32m      1\u001b[0m \u001b[0mget_ipython\u001b[0m\u001b[0;34m(\u001b[0m\u001b[0;34m)\u001b[0m\u001b[0;34m.\u001b[0m\u001b[0msystem\u001b[0m\u001b[0;34m(\u001b[0m\u001b[0;34m'pip install -q tf-nightly-2.0-preview'\u001b[0m\u001b[0;34m)\u001b[0m\u001b[0;34m\u001b[0m\u001b[0;34m\u001b[0m\u001b[0m\n\u001b[1;32m      2\u001b[0m \u001b[0;31m# Load the TensorBoard notebook extension\u001b[0m\u001b[0;34m\u001b[0m\u001b[0;34m\u001b[0m\u001b[0;34m\u001b[0m\u001b[0m\n\u001b[0;32m----> 3\u001b[0;31m \u001b[0mget_ipython\u001b[0m\u001b[0;34m(\u001b[0m\u001b[0;34m)\u001b[0m\u001b[0;34m.\u001b[0m\u001b[0mrun_line_magic\u001b[0m\u001b[0;34m(\u001b[0m\u001b[0;34m'load_ext'\u001b[0m\u001b[0;34m,\u001b[0m \u001b[0;34m'tensorboard.notebook'\u001b[0m\u001b[0;34m)\u001b[0m\u001b[0;34m\u001b[0m\u001b[0;34m\u001b[0m\u001b[0m\n\u001b[0m",
      "\u001b[0;32m~/anaconda3/lib/python3.7/site-packages/IPython/core/interactiveshell.py\u001b[0m in \u001b[0;36mrun_line_magic\u001b[0;34m(self, magic_name, line, _stack_depth)\u001b[0m\n\u001b[1;32m   2305\u001b[0m                 \u001b[0mkwargs\u001b[0m\u001b[0;34m[\u001b[0m\u001b[0;34m'local_ns'\u001b[0m\u001b[0;34m]\u001b[0m \u001b[0;34m=\u001b[0m \u001b[0msys\u001b[0m\u001b[0;34m.\u001b[0m\u001b[0m_getframe\u001b[0m\u001b[0;34m(\u001b[0m\u001b[0mstack_depth\u001b[0m\u001b[0;34m)\u001b[0m\u001b[0;34m.\u001b[0m\u001b[0mf_locals\u001b[0m\u001b[0;34m\u001b[0m\u001b[0;34m\u001b[0m\u001b[0m\n\u001b[1;32m   2306\u001b[0m             \u001b[0;32mwith\u001b[0m \u001b[0mself\u001b[0m\u001b[0;34m.\u001b[0m\u001b[0mbuiltin_trap\u001b[0m\u001b[0;34m:\u001b[0m\u001b[0;34m\u001b[0m\u001b[0;34m\u001b[0m\u001b[0m\n\u001b[0;32m-> 2307\u001b[0;31m                 \u001b[0mresult\u001b[0m \u001b[0;34m=\u001b[0m \u001b[0mfn\u001b[0m\u001b[0;34m(\u001b[0m\u001b[0;34m*\u001b[0m\u001b[0margs\u001b[0m\u001b[0;34m,\u001b[0m \u001b[0;34m**\u001b[0m\u001b[0mkwargs\u001b[0m\u001b[0;34m)\u001b[0m\u001b[0;34m\u001b[0m\u001b[0;34m\u001b[0m\u001b[0m\n\u001b[0m\u001b[1;32m   2308\u001b[0m             \u001b[0;32mreturn\u001b[0m \u001b[0mresult\u001b[0m\u001b[0;34m\u001b[0m\u001b[0;34m\u001b[0m\u001b[0m\n\u001b[1;32m   2309\u001b[0m \u001b[0;34m\u001b[0m\u001b[0m\n",
      "\u001b[0;32m</Users/RichardMorrow/anaconda3/lib/python3.7/site-packages/decorator.py:decorator-gen-64>\u001b[0m in \u001b[0;36mload_ext\u001b[0;34m(self, module_str)\u001b[0m\n",
      "\u001b[0;32m~/anaconda3/lib/python3.7/site-packages/IPython/core/magic.py\u001b[0m in \u001b[0;36m<lambda>\u001b[0;34m(f, *a, **k)\u001b[0m\n\u001b[1;32m    185\u001b[0m     \u001b[0;31m# but it's overkill for just that one bit of state.\u001b[0m\u001b[0;34m\u001b[0m\u001b[0;34m\u001b[0m\u001b[0;34m\u001b[0m\u001b[0m\n\u001b[1;32m    186\u001b[0m     \u001b[0;32mdef\u001b[0m \u001b[0mmagic_deco\u001b[0m\u001b[0;34m(\u001b[0m\u001b[0marg\u001b[0m\u001b[0;34m)\u001b[0m\u001b[0;34m:\u001b[0m\u001b[0;34m\u001b[0m\u001b[0;34m\u001b[0m\u001b[0m\n\u001b[0;32m--> 187\u001b[0;31m         \u001b[0mcall\u001b[0m \u001b[0;34m=\u001b[0m \u001b[0;32mlambda\u001b[0m \u001b[0mf\u001b[0m\u001b[0;34m,\u001b[0m \u001b[0;34m*\u001b[0m\u001b[0ma\u001b[0m\u001b[0;34m,\u001b[0m \u001b[0;34m**\u001b[0m\u001b[0mk\u001b[0m\u001b[0;34m:\u001b[0m \u001b[0mf\u001b[0m\u001b[0;34m(\u001b[0m\u001b[0;34m*\u001b[0m\u001b[0ma\u001b[0m\u001b[0;34m,\u001b[0m \u001b[0;34m**\u001b[0m\u001b[0mk\u001b[0m\u001b[0;34m)\u001b[0m\u001b[0;34m\u001b[0m\u001b[0;34m\u001b[0m\u001b[0m\n\u001b[0m\u001b[1;32m    188\u001b[0m \u001b[0;34m\u001b[0m\u001b[0m\n\u001b[1;32m    189\u001b[0m         \u001b[0;32mif\u001b[0m \u001b[0mcallable\u001b[0m\u001b[0;34m(\u001b[0m\u001b[0marg\u001b[0m\u001b[0;34m)\u001b[0m\u001b[0;34m:\u001b[0m\u001b[0;34m\u001b[0m\u001b[0;34m\u001b[0m\u001b[0m\n",
      "\u001b[0;32m~/anaconda3/lib/python3.7/site-packages/IPython/core/magics/extension.py\u001b[0m in \u001b[0;36mload_ext\u001b[0;34m(self, module_str)\u001b[0m\n\u001b[1;32m     31\u001b[0m         \u001b[0;32mif\u001b[0m \u001b[0;32mnot\u001b[0m \u001b[0mmodule_str\u001b[0m\u001b[0;34m:\u001b[0m\u001b[0;34m\u001b[0m\u001b[0;34m\u001b[0m\u001b[0m\n\u001b[1;32m     32\u001b[0m             \u001b[0;32mraise\u001b[0m \u001b[0mUsageError\u001b[0m\u001b[0;34m(\u001b[0m\u001b[0;34m'Missing module name.'\u001b[0m\u001b[0;34m)\u001b[0m\u001b[0;34m\u001b[0m\u001b[0;34m\u001b[0m\u001b[0m\n\u001b[0;32m---> 33\u001b[0;31m         \u001b[0mres\u001b[0m \u001b[0;34m=\u001b[0m \u001b[0mself\u001b[0m\u001b[0;34m.\u001b[0m\u001b[0mshell\u001b[0m\u001b[0;34m.\u001b[0m\u001b[0mextension_manager\u001b[0m\u001b[0;34m.\u001b[0m\u001b[0mload_extension\u001b[0m\u001b[0;34m(\u001b[0m\u001b[0mmodule_str\u001b[0m\u001b[0;34m)\u001b[0m\u001b[0;34m\u001b[0m\u001b[0;34m\u001b[0m\u001b[0m\n\u001b[0m\u001b[1;32m     34\u001b[0m \u001b[0;34m\u001b[0m\u001b[0m\n\u001b[1;32m     35\u001b[0m         \u001b[0;32mif\u001b[0m \u001b[0mres\u001b[0m \u001b[0;34m==\u001b[0m \u001b[0;34m'already loaded'\u001b[0m\u001b[0;34m:\u001b[0m\u001b[0;34m\u001b[0m\u001b[0;34m\u001b[0m\u001b[0m\n",
      "\u001b[0;32m~/anaconda3/lib/python3.7/site-packages/IPython/core/extensions.py\u001b[0m in \u001b[0;36mload_extension\u001b[0;34m(self, module_str)\u001b[0m\n\u001b[1;32m     78\u001b[0m             \u001b[0;32mif\u001b[0m \u001b[0mmodule_str\u001b[0m \u001b[0;32mnot\u001b[0m \u001b[0;32min\u001b[0m \u001b[0msys\u001b[0m\u001b[0;34m.\u001b[0m\u001b[0mmodules\u001b[0m\u001b[0;34m:\u001b[0m\u001b[0;34m\u001b[0m\u001b[0;34m\u001b[0m\u001b[0m\n\u001b[1;32m     79\u001b[0m                 \u001b[0;32mwith\u001b[0m \u001b[0mprepended_to_syspath\u001b[0m\u001b[0;34m(\u001b[0m\u001b[0mself\u001b[0m\u001b[0;34m.\u001b[0m\u001b[0mipython_extension_dir\u001b[0m\u001b[0;34m)\u001b[0m\u001b[0;34m:\u001b[0m\u001b[0;34m\u001b[0m\u001b[0;34m\u001b[0m\u001b[0m\n\u001b[0;32m---> 80\u001b[0;31m                     \u001b[0mmod\u001b[0m \u001b[0;34m=\u001b[0m \u001b[0mimport_module\u001b[0m\u001b[0;34m(\u001b[0m\u001b[0mmodule_str\u001b[0m\u001b[0;34m)\u001b[0m\u001b[0;34m\u001b[0m\u001b[0;34m\u001b[0m\u001b[0m\n\u001b[0m\u001b[1;32m     81\u001b[0m                     \u001b[0;32mif\u001b[0m \u001b[0mmod\u001b[0m\u001b[0;34m.\u001b[0m\u001b[0m__file__\u001b[0m\u001b[0;34m.\u001b[0m\u001b[0mstartswith\u001b[0m\u001b[0;34m(\u001b[0m\u001b[0mself\u001b[0m\u001b[0;34m.\u001b[0m\u001b[0mipython_extension_dir\u001b[0m\u001b[0;34m)\u001b[0m\u001b[0;34m:\u001b[0m\u001b[0;34m\u001b[0m\u001b[0;34m\u001b[0m\u001b[0m\n\u001b[1;32m     82\u001b[0m                         print((\"Loading extensions from {dir} is deprecated. \"\n",
      "\u001b[0;32m~/anaconda3/lib/python3.7/importlib/__init__.py\u001b[0m in \u001b[0;36mimport_module\u001b[0;34m(name, package)\u001b[0m\n\u001b[1;32m    125\u001b[0m                 \u001b[0;32mbreak\u001b[0m\u001b[0;34m\u001b[0m\u001b[0;34m\u001b[0m\u001b[0m\n\u001b[1;32m    126\u001b[0m             \u001b[0mlevel\u001b[0m \u001b[0;34m+=\u001b[0m \u001b[0;36m1\u001b[0m\u001b[0;34m\u001b[0m\u001b[0;34m\u001b[0m\u001b[0m\n\u001b[0;32m--> 127\u001b[0;31m     \u001b[0;32mreturn\u001b[0m \u001b[0m_bootstrap\u001b[0m\u001b[0;34m.\u001b[0m\u001b[0m_gcd_import\u001b[0m\u001b[0;34m(\u001b[0m\u001b[0mname\u001b[0m\u001b[0;34m[\u001b[0m\u001b[0mlevel\u001b[0m\u001b[0;34m:\u001b[0m\u001b[0;34m]\u001b[0m\u001b[0;34m,\u001b[0m \u001b[0mpackage\u001b[0m\u001b[0;34m,\u001b[0m \u001b[0mlevel\u001b[0m\u001b[0;34m)\u001b[0m\u001b[0;34m\u001b[0m\u001b[0;34m\u001b[0m\u001b[0m\n\u001b[0m\u001b[1;32m    128\u001b[0m \u001b[0;34m\u001b[0m\u001b[0m\n\u001b[1;32m    129\u001b[0m \u001b[0;34m\u001b[0m\u001b[0m\n",
      "\u001b[0;32m~/anaconda3/lib/python3.7/importlib/_bootstrap.py\u001b[0m in \u001b[0;36m_gcd_import\u001b[0;34m(name, package, level)\u001b[0m\n",
      "\u001b[0;32m~/anaconda3/lib/python3.7/importlib/_bootstrap.py\u001b[0m in \u001b[0;36m_find_and_load\u001b[0;34m(name, import_)\u001b[0m\n",
      "\u001b[0;32m~/anaconda3/lib/python3.7/importlib/_bootstrap.py\u001b[0m in \u001b[0;36m_find_and_load_unlocked\u001b[0;34m(name, import_)\u001b[0m\n",
      "\u001b[0;32m~/anaconda3/lib/python3.7/importlib/_bootstrap.py\u001b[0m in \u001b[0;36m_call_with_frames_removed\u001b[0;34m(f, *args, **kwds)\u001b[0m\n",
      "\u001b[0;32m~/anaconda3/lib/python3.7/importlib/_bootstrap.py\u001b[0m in \u001b[0;36m_gcd_import\u001b[0;34m(name, package, level)\u001b[0m\n",
      "\u001b[0;32m~/anaconda3/lib/python3.7/importlib/_bootstrap.py\u001b[0m in \u001b[0;36m_find_and_load\u001b[0;34m(name, import_)\u001b[0m\n",
      "\u001b[0;32m~/anaconda3/lib/python3.7/importlib/_bootstrap.py\u001b[0m in \u001b[0;36m_find_and_load_unlocked\u001b[0;34m(name, import_)\u001b[0m\n",
      "\u001b[0;31mModuleNotFoundError\u001b[0m: No module named 'tensorboard'"
     ]
    }
   ],
   "source": [
    "!pip install -q tf-nightly-2.0-preview\n",
    "# Load the TensorBoard notebook extension\n",
    "%load_ext tensorboard.notebook"
   ]
  },
  {
   "cell_type": "code",
   "execution_count": 57,
   "metadata": {},
   "outputs": [
    {
     "ename": "SyntaxError",
     "evalue": "invalid syntax (<ipython-input-57-58d8fd445299>, line 1)",
     "output_type": "error",
     "traceback": [
      "\u001b[0;36m  File \u001b[0;32m\"<ipython-input-57-58d8fd445299>\"\u001b[0;36m, line \u001b[0;32m1\u001b[0m\n\u001b[0;31m    pip(3) install jupyter-tensorboard\u001b[0m\n\u001b[0m                 ^\u001b[0m\n\u001b[0;31mSyntaxError\u001b[0m\u001b[0;31m:\u001b[0m invalid syntax\n"
     ]
    }
   ],
   "source": [
    "pip(3) install jupyter-tensorboard\n",
    "\n"
   ]
  },
  {
   "cell_type": "code",
   "execution_count": 58,
   "metadata": {},
   "outputs": [
    {
     "ename": "SyntaxError",
     "evalue": "invalid syntax (<ipython-input-58-6a121cb108a2>, line 1)",
     "output_type": "error",
     "traceback": [
      "\u001b[0;36m  File \u001b[0;32m\"<ipython-input-58-6a121cb108a2>\"\u001b[0;36m, line \u001b[0;32m1\u001b[0m\n\u001b[0;31m    docker pull lspvic/tensorboard-notebook\u001b[0m\n\u001b[0m              ^\u001b[0m\n\u001b[0;31mSyntaxError\u001b[0m\u001b[0;31m:\u001b[0m invalid syntax\n"
     ]
    }
   ],
   "source": [
    "docker pull lspvic/tensorboard-notebook\n",
    "docker run -it --rm -p 8888:8888 lspvic/tensorboard-notebook"
   ]
  },
  {
   "cell_type": "code",
   "execution_count": 59,
   "metadata": {},
   "outputs": [
    {
     "ename": "SyntaxError",
     "evalue": "invalid syntax (<ipython-input-59-6c96bdc05a3d>, line 1)",
     "output_type": "error",
     "traceback": [
      "\u001b[0;36m  File \u001b[0;32m\"<ipython-input-59-6c96bdc05a3d>\"\u001b[0;36m, line \u001b[0;32m1\u001b[0m\n\u001b[0;31m    FROM jupyter/tensorflow-notebook\u001b[0m\n\u001b[0m               ^\u001b[0m\n\u001b[0;31mSyntaxError\u001b[0m\u001b[0;31m:\u001b[0m invalid syntax\n"
     ]
    }
   ],
   "source": [
    "FROM jupyter/tensorflow-notebook\n",
    "\n",
    "MAINTAINER lspvic <lspvic@qq.com>\n",
    "\n",
    "RUN pip install --pre jupyter-tensorboard"
   ]
  },
  {
   "cell_type": "code",
   "execution_count": 60,
   "metadata": {},
   "outputs": [
    {
     "ename": "NameError",
     "evalue": "name '__file__' is not defined",
     "output_type": "error",
     "traceback": [
      "\u001b[0;31m---------------------------------------------------------------------------\u001b[0m",
      "\u001b[0;31mNameError\u001b[0m                                 Traceback (most recent call last)",
      "\u001b[0;32m<ipython-input-60-a6de5e228c0e>\u001b[0m in \u001b[0;36m<module>\u001b[0;34m\u001b[0m\n\u001b[1;32m     49\u001b[0m setup(\n\u001b[1;32m     50\u001b[0m     \u001b[0mname\u001b[0m\u001b[0;34m=\u001b[0m\u001b[0mname\u001b[0m\u001b[0;34m,\u001b[0m\u001b[0;34m\u001b[0m\u001b[0;34m\u001b[0m\u001b[0m\n\u001b[0;32m---> 51\u001b[0;31m     \u001b[0mversion\u001b[0m\u001b[0;34m=\u001b[0m\u001b[0mfind_version\u001b[0m\u001b[0;34m(\u001b[0m\u001b[0mname\u001b[0m\u001b[0;34m,\u001b[0m \u001b[0;34m'__init__.py'\u001b[0m\u001b[0;34m)\u001b[0m\u001b[0;34m,\u001b[0m\u001b[0;34m\u001b[0m\u001b[0;34m\u001b[0m\u001b[0m\n\u001b[0m\u001b[1;32m     52\u001b[0m     \u001b[0mauthor\u001b[0m\u001b[0;34m=\u001b[0m\u001b[0;34m'lspvic'\u001b[0m\u001b[0;34m,\u001b[0m\u001b[0;34m\u001b[0m\u001b[0;34m\u001b[0m\u001b[0m\n\u001b[1;32m     53\u001b[0m     \u001b[0mauthor_email\u001b[0m\u001b[0;34m=\u001b[0m\u001b[0;34m'lspvic@qq.com'\u001b[0m\u001b[0;34m,\u001b[0m\u001b[0;34m\u001b[0m\u001b[0;34m\u001b[0m\u001b[0m\n",
      "\u001b[0;32m<ipython-input-60-a6de5e228c0e>\u001b[0m in \u001b[0;36mfind_version\u001b[0;34m(*file_paths)\u001b[0m\n\u001b[1;32m     16\u001b[0m \u001b[0;34m\u001b[0m\u001b[0m\n\u001b[1;32m     17\u001b[0m \u001b[0;32mdef\u001b[0m \u001b[0mfind_version\u001b[0m\u001b[0;34m(\u001b[0m\u001b[0;34m*\u001b[0m\u001b[0mfile_paths\u001b[0m\u001b[0;34m)\u001b[0m\u001b[0;34m:\u001b[0m\u001b[0;34m\u001b[0m\u001b[0;34m\u001b[0m\u001b[0m\n\u001b[0;32m---> 18\u001b[0;31m     \u001b[0mversion_file\u001b[0m \u001b[0;34m=\u001b[0m \u001b[0mread\u001b[0m\u001b[0;34m(\u001b[0m\u001b[0;34m*\u001b[0m\u001b[0mfile_paths\u001b[0m\u001b[0;34m)\u001b[0m\u001b[0;34m\u001b[0m\u001b[0;34m\u001b[0m\u001b[0m\n\u001b[0m\u001b[1;32m     19\u001b[0m     version_match = re.search(r\"^__version__ = ['\\\"]([^'\\\"]*)['\\\"]\",\n\u001b[1;32m     20\u001b[0m                               version_file, re.M)\n",
      "\u001b[0;32m<ipython-input-60-a6de5e228c0e>\u001b[0m in \u001b[0;36mread\u001b[0;34m(*names, **kwargs)\u001b[0m\n\u001b[1;32m      9\u001b[0m \u001b[0;32mdef\u001b[0m \u001b[0mread\u001b[0m\u001b[0;34m(\u001b[0m\u001b[0;34m*\u001b[0m\u001b[0mnames\u001b[0m\u001b[0;34m,\u001b[0m \u001b[0;34m**\u001b[0m\u001b[0mkwargs\u001b[0m\u001b[0;34m)\u001b[0m\u001b[0;34m:\u001b[0m\u001b[0;34m\u001b[0m\u001b[0;34m\u001b[0m\u001b[0m\n\u001b[1;32m     10\u001b[0m     with io.open(\n\u001b[0;32m---> 11\u001b[0;31m         \u001b[0mos\u001b[0m\u001b[0;34m.\u001b[0m\u001b[0mpath\u001b[0m\u001b[0;34m.\u001b[0m\u001b[0mjoin\u001b[0m\u001b[0;34m(\u001b[0m\u001b[0mos\u001b[0m\u001b[0;34m.\u001b[0m\u001b[0mpath\u001b[0m\u001b[0;34m.\u001b[0m\u001b[0mdirname\u001b[0m\u001b[0;34m(\u001b[0m\u001b[0m__file__\u001b[0m\u001b[0;34m)\u001b[0m\u001b[0;34m,\u001b[0m \u001b[0;34m*\u001b[0m\u001b[0mnames\u001b[0m\u001b[0;34m)\u001b[0m\u001b[0;34m,\u001b[0m\u001b[0;34m\u001b[0m\u001b[0;34m\u001b[0m\u001b[0m\n\u001b[0m\u001b[1;32m     12\u001b[0m         \u001b[0mencoding\u001b[0m\u001b[0;34m=\u001b[0m\u001b[0mkwargs\u001b[0m\u001b[0;34m.\u001b[0m\u001b[0mget\u001b[0m\u001b[0;34m(\u001b[0m\u001b[0;34m\"encoding\"\u001b[0m\u001b[0;34m,\u001b[0m \u001b[0;34m\"utf8\"\u001b[0m\u001b[0;34m)\u001b[0m\u001b[0;34m\u001b[0m\u001b[0;34m\u001b[0m\u001b[0m\n\u001b[1;32m     13\u001b[0m     ) as fp:\n",
      "\u001b[0;31mNameError\u001b[0m: name '__file__' is not defined"
     ]
    }
   ],
   "source": [
    "import os\n",
    "import io\n",
    "import re\n",
    "from setuptools import setup\n",
    "from setuptools.command.install import install\n",
    "from setuptools.command.develop import develop\n",
    "\n",
    "\n",
    "def read(*names, **kwargs):\n",
    "    with io.open(\n",
    "        os.path.join(os.path.dirname(__file__), *names),\n",
    "        encoding=kwargs.get(\"encoding\", \"utf8\")\n",
    "    ) as fp:\n",
    "        return fp.read()\n",
    "\n",
    "\n",
    "def find_version(*file_paths):\n",
    "    version_file = read(*file_paths)\n",
    "    version_match = re.search(r\"^__version__ = ['\\\"]([^'\\\"]*)['\\\"]\",\n",
    "                              version_file, re.M)\n",
    "    if version_match:\n",
    "        return version_match.group(1)\n",
    "    raise RuntimeError(\"Unable to find version string.\")\n",
    "\n",
    "\n",
    "def enable_extension_after_install():\n",
    "    from jupyter_tensorboard.application import (\n",
    "        EnableJupyterTensorboardApp,\n",
    "    )\n",
    "    EnableJupyterTensorboardApp.launch_instance(argv=[])\n",
    "\n",
    "\n",
    "class EnableExtensionDevelop(develop):\n",
    "\n",
    "    def run(self):\n",
    "        develop.run(self)\n",
    "        enable_extension_after_install()\n",
    "\n",
    "\n",
    "class EnableExtensionInstall(install):\n",
    "\n",
    "    def run(self):\n",
    "        install.run(self)\n",
    "        enable_extension_after_install()\n",
    "\n",
    "\n",
    "name = 'jupyter_tensorboard'\n",
    "\n",
    "setup(\n",
    "    name=name,\n",
    "    version=find_version(name, '__init__.py'),\n",
    "    author='lspvic',\n",
    "    author_email='lspvic@qq.com',\n",
    "    url='http://github.com/lspvic/jupyter_tensorboard',\n",
    "    license='MIT License',\n",
    "    description=(\n",
    "        'Start tensorboard in Jupyter! '\n",
    "        'Jupyter notebook integration for tensorboard.'),\n",
    "    long_description=read(\"README.rst\"),\n",
    "    keywords=['Jupyter', 'Notebook', 'Tensorboard', 'Tensorflow', ],\n",
    "    packages=[name],\n",
    "    package_data={name: [\"static/*\"]},\n",
    "    platforms=\"Linux, Mac OS X, Windows\",\n",
    "    entry_points={\n",
    "        'console_scripts': [\n",
    "            'jupyter-tensorboard = jupyter_tensorboard.application:main',\n",
    "         ],\n",
    "    },\n",
    "    scripts=[os.path.join('scripts', p) for p in [\n",
    "        'jupyter-tensorboard',\n",
    "    ]],\n",
    "    install_requires=[\n",
    "        'notebook>=5.0',\n",
    "    ],\n",
    "    classifiers=[\n",
    "        'Intended Audience :: Developers',\n",
    "        'Intended Audience :: Science/Research',\n",
    "        'License :: OSI Approved :: MIT License',\n",
    "        'Programming Language :: Python',\n",
    "        'Programming Language :: Python :: 2.7',\n",
    "        'Programming Language :: Python :: 3',\n",
    "        'Programming Language :: Python :: 3.4',\n",
    "        'Programming Language :: Python :: 3.5',\n",
    "        'Programming Language :: Python :: 3.6',\n",
    "    ],\n",
    "    cmdclass={\n",
    "        'install': EnableExtensionInstall,\n",
    "        'develop': EnableExtensionDevelop,\n",
    "    },\n",
    ")"
   ]
  },
  {
   "cell_type": "code",
   "execution_count": 1,
   "metadata": {},
   "outputs": [
    {
     "ename": "ModuleNotFoundError",
     "evalue": "No module named '__main__.handlers'; '__main__' is not a package",
     "output_type": "error",
     "traceback": [
      "\u001b[0;31m---------------------------------------------------------------------------\u001b[0m",
      "\u001b[0;31mModuleNotFoundError\u001b[0m                       Traceback (most recent call last)",
      "\u001b[0;32m<ipython-input-1-faa6ce416b36>\u001b[0m in \u001b[0;36m<module>\u001b[0;34m\u001b[0m\n\u001b[1;32m      1\u001b[0m \u001b[0;34m\u001b[0m\u001b[0m\n\u001b[0;32m----> 2\u001b[0;31m \u001b[0;32mfrom\u001b[0m \u001b[0;34m.\u001b[0m\u001b[0mhandlers\u001b[0m \u001b[0;32mimport\u001b[0m \u001b[0mload_jupyter_server_extension\u001b[0m   \u001b[0;31m# noqa\u001b[0m\u001b[0;34m\u001b[0m\u001b[0;34m\u001b[0m\u001b[0m\n\u001b[0m\u001b[1;32m      3\u001b[0m \u001b[0;34m\u001b[0m\u001b[0m\n\u001b[1;32m      4\u001b[0m \u001b[0m__version__\u001b[0m \u001b[0;34m=\u001b[0m \u001b[0;34m\"0.1.9\"\u001b[0m\u001b[0;34m\u001b[0m\u001b[0;34m\u001b[0m\u001b[0m\n\u001b[1;32m      5\u001b[0m \u001b[0;34m\u001b[0m\u001b[0m\n",
      "\u001b[0;31mModuleNotFoundError\u001b[0m: No module named '__main__.handlers'; '__main__' is not a package"
     ]
    }
   ],
   "source": [
    "\n",
    "from .handlers import load_jupyter_server_extension   # noqa\n",
    "\n",
    "__version__ = \"0.1.9\"\n",
    "\n",
    "\n",
    "def _jupyter_nbextension_paths():\n",
    "    name = __name__\n",
    "    section = \"tree\"\n",
    "    src = \"static\"\n",
    "    return [dict(\n",
    "        section=section,\n",
    "        src=src,\n",
    "        dest=name,\n",
    "        require=\"%s/%s\" % (name, section))]\n",
    "\n",
    "\n",
    "def _jupyter_server_extension_paths():\n",
    "    return [{\n",
    "        \"module\": __name__\n",
    "    }]\n"
   ]
  },
  {
   "cell_type": "code",
   "execution_count": 2,
   "metadata": {},
   "outputs": [
    {
     "ename": "NameError",
     "evalue": "name 'bdist_wheel' is not defined",
     "output_type": "error",
     "traceback": [
      "\u001b[0;31m---------------------------------------------------------------------------\u001b[0m",
      "\u001b[0;31mNameError\u001b[0m                                 Traceback (most recent call last)",
      "\u001b[0;32m<ipython-input-2-7a9487ee6297>\u001b[0m in \u001b[0;36m<module>\u001b[0;34m\u001b[0m\n\u001b[0;32m----> 1\u001b[0;31m \u001b[0;34m[\u001b[0m\u001b[0mbdist_wheel\u001b[0m\u001b[0;34m]\u001b[0m\u001b[0;34m\u001b[0m\u001b[0;34m\u001b[0m\u001b[0m\n\u001b[0m\u001b[1;32m      2\u001b[0m \u001b[0muniversal\u001b[0m \u001b[0;34m=\u001b[0m \u001b[0;36m1\u001b[0m\u001b[0;34m\u001b[0m\u001b[0;34m\u001b[0m\u001b[0m\n",
      "\u001b[0;31mNameError\u001b[0m: name 'bdist_wheel' is not defined"
     ]
    }
   ],
   "source": [
    "[bdist_wheel]\n",
    "universal = 1"
   ]
  },
  {
   "cell_type": "code",
   "execution_count": 3,
   "metadata": {},
   "outputs": [
    {
     "name": "stdout",
     "output_type": "stream",
     "text": [
      "/bin/sh: -c: line 0: syntax error near unexpected token `3'\r\n",
      "/bin/sh: -c: line 0: `pip(3) install jupyter-tensorboard'\r\n"
     ]
    }
   ],
   "source": [
    "!pip(3) install jupyter-tensorboard"
   ]
  },
  {
   "cell_type": "code",
   "execution_count": 4,
   "metadata": {},
   "outputs": [
    {
     "ename": "SyntaxError",
     "evalue": "invalid syntax (<ipython-input-4-005e2c3dd0cf>, line 2)",
     "output_type": "error",
     "traceback": [
      "\u001b[0;36m  File \u001b[0;32m\"<ipython-input-4-005e2c3dd0cf>\"\u001b[0;36m, line \u001b[0;32m2\u001b[0m\n\u001b[0;31m    source \"/Users/RichardMorrow/anaconda3\"/bin/activate root\u001b[0m\n\u001b[0m                                          ^\u001b[0m\n\u001b[0;31mSyntaxError\u001b[0m\u001b[0;31m:\u001b[0m invalid syntax\n"
     ]
    }
   ],
   "source": [
    "#!/bin/sh\n",
    "source \"/Users/RichardMorrow/anaconda3\"/bin/activate root\n",
    "\"/Users/RichardMorrow/anaconda3\"/bin/anaconda-navigator $@\n",
    "\n"
   ]
  },
  {
   "cell_type": "code",
   "execution_count": 5,
   "metadata": {},
   "outputs": [],
   "source": [
    "import re"
   ]
  },
  {
   "cell_type": "code",
   "execution_count": 6,
   "metadata": {},
   "outputs": [],
   "source": [
    "import sys"
   ]
  },
  {
   "cell_type": "code",
   "execution_count": 7,
   "metadata": {},
   "outputs": [],
   "source": [
    "from anaconda_navigator.app.main import main"
   ]
  },
  {
   "cell_type": "code",
   "execution_count": null,
   "metadata": {},
   "outputs": [
    {
     "name": "stdout",
     "output_type": "stream",
     "text": [
      "Python 3.7.3 (default, Mar 27 2019, 16:54:48) \r\n",
      "[Clang 4.0.1 (tags/RELEASE_401/final)] :: Anaconda, Inc. on darwin\r\n",
      "Type \"help\", \"copyright\", \"credits\" or \"license\" for more information.\r\n",
      ">>> "
     ]
    }
   ],
   "source": [
    "!/Users/RichardMorrow/anaconda3/bin/python"
   ]
  },
  {
   "cell_type": "code",
   "execution_count": null,
   "metadata": {},
   "outputs": [],
   "source": [
    "import tensorflow as tf"
   ]
  },
  {
   "cell_type": "code",
   "execution_count": null,
   "metadata": {},
   "outputs": [],
   "source": [
    "import numpy as np"
   ]
  },
  {
   "cell_type": "code",
   "execution_count": null,
   "metadata": {},
   "outputs": [],
   "source": [
    "from IPython.display import clear_output, Image, display, HTML\n",
    "\n",
    "def strip_consts(graph_def, max_const_size=32):\n",
    "    \"\"\"Strip large constant values from graph_def.\"\"\"\n",
    "    strip_def = tf.GraphDef()\n",
    "    for n0 in graph_def.node:\n",
    "        n = strip_def.node.add() \n",
    "        n.MergeFrom(n0)\n",
    "        if n.op == 'Const':\n",
    "            tensor = n.attr['value'].tensor\n",
    "            size = len(tensor.tensor_content)\n",
    "            if size > max_const_size:\n",
    "                tensor.tensor_content = \"<stripped %d bytes>\"%size\n",
    "    return strip_def\n",
    "\n",
    "def show_graph(graph_def, max_const_size=32):\n",
    "    \"\"\"Visualize TensorFlow graph.\"\"\"\n",
    "    if hasattr(graph_def, 'as_graph_def'):\n",
    "        graph_def = graph_def.as_graph_def()\n",
    "    strip_def = strip_consts(graph_def, max_const_size=max_const_size)\n",
    "    code = \"\"\"\n",
    "        <script src=\"//cdnjs.cloudflare.com/ajax/libs/polymer/0.3.3/platform.js\"></script>\n",
    "        <script>\n",
    "          function load() {{\n",
    "            document.getElementById(\"{id}\").pbtxt = {data};\n",
    "          }}\n",
    "        </script>\n",
    "        <link rel=\"import\" href=\"https://tensorboard.appspot.com/tf-graph-basic.build.html\" onload=load()>\n",
    "        <div style=\"height:600px\">\n",
    "          <tf-graph-basic id=\"{id}\"></tf-graph-basic>\n",
    "        </div>\n",
    "    \"\"\".format(data=repr(str(strip_def)), id='graph'+str(np.random.rand()))\n",
    "\n",
    "    iframe = \"\"\"\n",
    "        <iframe seamless style=\"width:1200px;height:620px;border:0\" srcdoc=\"{}\"></iframe>\n",
    "    \"\"\".format(code.replace('\"', '&quot;'))\n",
    "    display(HTML(iframe))"
   ]
  },
  {
   "cell_type": "code",
   "execution_count": null,
   "metadata": {},
   "outputs": [],
   "source": [
    "Image(url='https://www.tensorflow.org/images/graph_vis_animation.gif')\n"
   ]
  },
  {
   "cell_type": "code",
   "execution_count": 2,
   "metadata": {},
   "outputs": [],
   "source": [
    "import pandas as pd"
   ]
  },
  {
   "cell_type": "code",
   "execution_count": 3,
   "metadata": {},
   "outputs": [],
   "source": [
    "zoo = pd.read_csv (\"/Users/RichardMorrow/Desktop/School/Spring_2019_Semester/LIS4761/Project/zoo.csv\")"
   ]
  },
  {
   "cell_type": "code",
   "execution_count": 5,
   "metadata": {},
   "outputs": [
    {
     "name": "stdout",
     "output_type": "stream",
     "text": [
      "    animal_name  hair  feathers  eggs  milk  airborne  aquatic  predator  \\\n",
      "0      aardvark     1         0     0     1         0        0         1   \n",
      "1      antelope     1         0     0     1         0        0         0   \n",
      "2          bass     0         0     1     0         0        1         1   \n",
      "3          bear     1         0     0     1         0        0         1   \n",
      "4          boar     1         0     0     1         0        0         1   \n",
      "5       buffalo     1         0     0     1         0        0         0   \n",
      "6          calf     1         0     0     1         0        0         0   \n",
      "7          carp     0         0     1     0         0        1         0   \n",
      "8       catfish     0         0     1     0         0        1         1   \n",
      "9          cavy     1         0     0     1         0        0         0   \n",
      "10      cheetah     1         0     0     1         0        0         1   \n",
      "11      chicken     0         1     1     0         1        0         0   \n",
      "12         chub     0         0     1     0         0        1         1   \n",
      "13         clam     0         0     1     0         0        0         1   \n",
      "14         crab     0         0     1     0         0        1         1   \n",
      "15     crayfish     0         0     1     0         0        1         1   \n",
      "16         crow     0         1     1     0         1        0         1   \n",
      "17         deer     1         0     0     1         0        0         0   \n",
      "18      dogfish     0         0     1     0         0        1         1   \n",
      "19      dolphin     0         0     0     1         0        1         1   \n",
      "20         dove     0         1     1     0         1        0         0   \n",
      "21         duck     0         1     1     0         1        1         0   \n",
      "22     elephant     1         0     0     1         0        0         0   \n",
      "23     flamingo     0         1     1     0         1        0         0   \n",
      "24         flea     0         0     1     0         0        0         0   \n",
      "25         frog     0         0     1     0         0        1         1   \n",
      "26         frog     0         0     1     0         0        1         1   \n",
      "27     fruitbat     1         0     0     1         1        0         0   \n",
      "28      giraffe     1         0     0     1         0        0         0   \n",
      "29         girl     1         0     0     1         0        0         1   \n",
      "..          ...   ...       ...   ...   ...       ...      ...       ...   \n",
      "71         rhea     0         1     1     0         0        0         1   \n",
      "72     scorpion     0         0     0     0         0        0         1   \n",
      "73     seahorse     0         0     1     0         0        1         0   \n",
      "74         seal     1         0     0     1         0        1         1   \n",
      "75      sealion     1         0     0     1         0        1         1   \n",
      "76     seasnake     0         0     0     0         0        1         1   \n",
      "77      seawasp     0         0     1     0         0        1         1   \n",
      "78      skimmer     0         1     1     0         1        1         1   \n",
      "79         skua     0         1     1     0         1        1         1   \n",
      "80     slowworm     0         0     1     0         0        0         1   \n",
      "81         slug     0         0     1     0         0        0         0   \n",
      "82         sole     0         0     1     0         0        1         0   \n",
      "83      sparrow     0         1     1     0         1        0         0   \n",
      "84     squirrel     1         0     0     1         0        0         0   \n",
      "85     starfish     0         0     1     0         0        1         1   \n",
      "86     stingray     0         0     1     0         0        1         1   \n",
      "87         swan     0         1     1     0         1        1         0   \n",
      "88      termite     0         0     1     0         0        0         0   \n",
      "89         toad     0         0     1     0         0        1         0   \n",
      "90     tortoise     0         0     1     0         0        0         0   \n",
      "91      tuatara     0         0     1     0         0        0         1   \n",
      "92         tuna     0         0     1     0         0        1         1   \n",
      "93      vampire     1         0     0     1         1        0         0   \n",
      "94         vole     1         0     0     1         0        0         0   \n",
      "95      vulture     0         1     1     0         1        0         1   \n",
      "96      wallaby     1         0     0     1         0        0         0   \n",
      "97         wasp     1         0     1     0         1        0         0   \n",
      "98         wolf     1         0     0     1         0        0         1   \n",
      "99         worm     0         0     1     0         0        0         0   \n",
      "100        wren     0         1     1     0         1        0         0   \n",
      "\n",
      "     toothed  backbone  breathes  venomous  fins  legs  tail  domestic  \\\n",
      "0          1         1         1         0     0     4     0         0   \n",
      "1          1         1         1         0     0     4     1         0   \n",
      "2          1         1         0         0     1     0     1         0   \n",
      "3          1         1         1         0     0     4     0         0   \n",
      "4          1         1         1         0     0     4     1         0   \n",
      "5          1         1         1         0     0     4     1         0   \n",
      "6          1         1         1         0     0     4     1         1   \n",
      "7          1         1         0         0     1     0     1         1   \n",
      "8          1         1         0         0     1     0     1         0   \n",
      "9          1         1         1         0     0     4     0         1   \n",
      "10         1         1         1         0     0     4     1         0   \n",
      "11         0         1         1         0     0     2     1         1   \n",
      "12         1         1         0         0     1     0     1         0   \n",
      "13         0         0         0         0     0     0     0         0   \n",
      "14         0         0         0         0     0     4     0         0   \n",
      "15         0         0         0         0     0     6     0         0   \n",
      "16         0         1         1         0     0     2     1         0   \n",
      "17         1         1         1         0     0     4     1         0   \n",
      "18         1         1         0         0     1     0     1         0   \n",
      "19         1         1         1         0     1     0     1         0   \n",
      "20         0         1         1         0     0     2     1         1   \n",
      "21         0         1         1         0     0     2     1         0   \n",
      "22         1         1         1         0     0     4     1         0   \n",
      "23         0         1         1         0     0     2     1         0   \n",
      "24         0         0         1         0     0     6     0         0   \n",
      "25         1         1         1         0     0     4     0         0   \n",
      "26         1         1         1         1     0     4     0         0   \n",
      "27         1         1         1         0     0     2     1         0   \n",
      "28         1         1         1         0     0     4     1         0   \n",
      "29         1         1         1         0     0     2     0         1   \n",
      "..       ...       ...       ...       ...   ...   ...   ...       ...   \n",
      "71         0         1         1         0     0     2     1         0   \n",
      "72         0         0         1         1     0     8     1         0   \n",
      "73         1         1         0         0     1     0     1         0   \n",
      "74         1         1         1         0     1     0     0         0   \n",
      "75         1         1         1         0     1     2     1         0   \n",
      "76         1         1         0         1     0     0     1         0   \n",
      "77         0         0         0         1     0     0     0         0   \n",
      "78         0         1         1         0     0     2     1         0   \n",
      "79         0         1         1         0     0     2     1         0   \n",
      "80         1         1         1         0     0     0     1         0   \n",
      "81         0         0         1         0     0     0     0         0   \n",
      "82         1         1         0         0     1     0     1         0   \n",
      "83         0         1         1         0     0     2     1         0   \n",
      "84         1         1         1         0     0     2     1         0   \n",
      "85         0         0         0         0     0     5     0         0   \n",
      "86         1         1         0         1     1     0     1         0   \n",
      "87         0         1         1         0     0     2     1         0   \n",
      "88         0         0         1         0     0     6     0         0   \n",
      "89         1         1         1         0     0     4     0         0   \n",
      "90         0         1         1         0     0     4     1         0   \n",
      "91         1         1         1         0     0     4     1         0   \n",
      "92         1         1         0         0     1     0     1         0   \n",
      "93         1         1         1         0     0     2     1         0   \n",
      "94         1         1         1         0     0     4     1         0   \n",
      "95         0         1         1         0     0     2     1         0   \n",
      "96         1         1         1         0     0     2     1         0   \n",
      "97         0         0         1         1     0     6     0         0   \n",
      "98         1         1         1         0     0     4     1         0   \n",
      "99         0         0         1         0     0     0     0         0   \n",
      "100        0         1         1         0     0     2     1         0   \n",
      "\n",
      "     catsize  class_type  \n",
      "0          1           1  \n",
      "1          1           1  \n",
      "2          0           4  \n",
      "3          1           1  \n",
      "4          1           1  \n",
      "5          1           1  \n",
      "6          1           1  \n",
      "7          0           4  \n",
      "8          0           4  \n",
      "9          0           1  \n",
      "10         1           1  \n",
      "11         0           2  \n",
      "12         0           4  \n",
      "13         0           7  \n",
      "14         0           7  \n",
      "15         0           7  \n",
      "16         0           2  \n",
      "17         1           1  \n",
      "18         1           4  \n",
      "19         1           1  \n",
      "20         0           2  \n",
      "21         0           2  \n",
      "22         1           1  \n",
      "23         1           2  \n",
      "24         0           6  \n",
      "25         0           5  \n",
      "26         0           5  \n",
      "27         0           1  \n",
      "28         1           1  \n",
      "29         1           1  \n",
      "..       ...         ...  \n",
      "71         1           2  \n",
      "72         0           7  \n",
      "73         0           4  \n",
      "74         1           1  \n",
      "75         1           1  \n",
      "76         0           3  \n",
      "77         0           7  \n",
      "78         0           2  \n",
      "79         0           2  \n",
      "80         0           3  \n",
      "81         0           7  \n",
      "82         0           4  \n",
      "83         0           2  \n",
      "84         0           1  \n",
      "85         0           7  \n",
      "86         1           4  \n",
      "87         1           2  \n",
      "88         0           6  \n",
      "89         0           5  \n",
      "90         1           3  \n",
      "91         0           3  \n",
      "92         1           4  \n",
      "93         0           1  \n",
      "94         0           1  \n",
      "95         1           2  \n",
      "96         1           1  \n",
      "97         0           6  \n",
      "98         1           1  \n",
      "99         0           7  \n",
      "100        0           2  \n",
      "\n",
      "[101 rows x 18 columns]\n"
     ]
    }
   ],
   "source": [
    "print (zoo)\n"
   ]
  },
  {
   "cell_type": "code",
   "execution_count": 7,
   "metadata": {},
   "outputs": [],
   "source": [
    "class1 = pd.read_csv (\"/Users/RichardMorrow/Desktop/School/Spring_2019_Semester/LIS4761/Project/class.csv\")"
   ]
  },
  {
   "cell_type": "code",
   "execution_count": 8,
   "metadata": {},
   "outputs": [
    {
     "ename": "ModuleNotFoundError",
     "evalue": "No module named 'tensorflow'",
     "output_type": "error",
     "traceback": [
      "\u001b[0;31m---------------------------------------------------------------------------\u001b[0m",
      "\u001b[0;31mModuleNotFoundError\u001b[0m                       Traceback (most recent call last)",
      "\u001b[0;32m<ipython-input-8-64156d691fe5>\u001b[0m in \u001b[0;36m<module>\u001b[0;34m\u001b[0m\n\u001b[0;32m----> 1\u001b[0;31m \u001b[0;32mimport\u001b[0m \u001b[0mtensorflow\u001b[0m \u001b[0;32mas\u001b[0m \u001b[0mtf\u001b[0m\u001b[0;34m\u001b[0m\u001b[0;34m\u001b[0m\u001b[0m\n\u001b[0m",
      "\u001b[0;31mModuleNotFoundError\u001b[0m: No module named 'tensorflow'"
     ]
    }
   ],
   "source": [
    "import tensorflow as tf"
   ]
  },
  {
   "cell_type": "code",
   "execution_count": 9,
   "metadata": {},
   "outputs": [],
   "source": [
    "import re"
   ]
  },
  {
   "cell_type": "code",
   "execution_count": 10,
   "metadata": {},
   "outputs": [],
   "source": [
    "import sys"
   ]
  },
  {
   "cell_type": "code",
   "execution_count": 11,
   "metadata": {},
   "outputs": [],
   "source": [
    "import numpy as np"
   ]
  },
  {
   "cell_type": "code",
   "execution_count": 12,
   "metadata": {},
   "outputs": [
    {
     "ename": "ModuleNotFoundError",
     "evalue": "No module named 'tensorflow'",
     "output_type": "error",
     "traceback": [
      "\u001b[0;31m---------------------------------------------------------------------------\u001b[0m",
      "\u001b[0;31mModuleNotFoundError\u001b[0m                       Traceback (most recent call last)",
      "\u001b[0;32m<ipython-input-12-64156d691fe5>\u001b[0m in \u001b[0;36m<module>\u001b[0;34m\u001b[0m\n\u001b[0;32m----> 1\u001b[0;31m \u001b[0;32mimport\u001b[0m \u001b[0mtensorflow\u001b[0m \u001b[0;32mas\u001b[0m \u001b[0mtf\u001b[0m\u001b[0;34m\u001b[0m\u001b[0;34m\u001b[0m\u001b[0m\n\u001b[0m",
      "\u001b[0;31mModuleNotFoundError\u001b[0m: No module named 'tensorflow'"
     ]
    }
   ],
   "source": [
    "import tensorflow as tf"
   ]
  },
  {
   "cell_type": "code",
   "execution_count": 13,
   "metadata": {},
   "outputs": [
    {
     "ename": "MergeError",
     "evalue": "No common columns to perform merge on. Merge options: left_on=None, right_on=None, left_index=False, right_index=False",
     "output_type": "error",
     "traceback": [
      "\u001b[0;31m---------------------------------------------------------------------------\u001b[0m",
      "\u001b[0;31mMergeError\u001b[0m                                Traceback (most recent call last)",
      "\u001b[0;32m<ipython-input-13-191abb2fc53c>\u001b[0m in \u001b[0;36m<module>\u001b[0;34m\u001b[0m\n\u001b[0;32m----> 1\u001b[0;31m \u001b[0mpd\u001b[0m\u001b[0;34m.\u001b[0m\u001b[0mmerge\u001b[0m\u001b[0;34m(\u001b[0m\u001b[0mzoo\u001b[0m\u001b[0;34m,\u001b[0m \u001b[0mclass1\u001b[0m\u001b[0;34m)\u001b[0m\u001b[0;34m\u001b[0m\u001b[0;34m\u001b[0m\u001b[0m\n\u001b[0m",
      "\u001b[0;32m~/anaconda3/lib/python3.7/site-packages/pandas/core/reshape/merge.py\u001b[0m in \u001b[0;36mmerge\u001b[0;34m(left, right, how, on, left_on, right_on, left_index, right_index, sort, suffixes, copy, indicator, validate)\u001b[0m\n\u001b[1;32m     45\u001b[0m                          \u001b[0mright_index\u001b[0m\u001b[0;34m=\u001b[0m\u001b[0mright_index\u001b[0m\u001b[0;34m,\u001b[0m \u001b[0msort\u001b[0m\u001b[0;34m=\u001b[0m\u001b[0msort\u001b[0m\u001b[0;34m,\u001b[0m \u001b[0msuffixes\u001b[0m\u001b[0;34m=\u001b[0m\u001b[0msuffixes\u001b[0m\u001b[0;34m,\u001b[0m\u001b[0;34m\u001b[0m\u001b[0;34m\u001b[0m\u001b[0m\n\u001b[1;32m     46\u001b[0m                          \u001b[0mcopy\u001b[0m\u001b[0;34m=\u001b[0m\u001b[0mcopy\u001b[0m\u001b[0;34m,\u001b[0m \u001b[0mindicator\u001b[0m\u001b[0;34m=\u001b[0m\u001b[0mindicator\u001b[0m\u001b[0;34m,\u001b[0m\u001b[0;34m\u001b[0m\u001b[0;34m\u001b[0m\u001b[0m\n\u001b[0;32m---> 47\u001b[0;31m                          validate=validate)\n\u001b[0m\u001b[1;32m     48\u001b[0m     \u001b[0;32mreturn\u001b[0m \u001b[0mop\u001b[0m\u001b[0;34m.\u001b[0m\u001b[0mget_result\u001b[0m\u001b[0;34m(\u001b[0m\u001b[0;34m)\u001b[0m\u001b[0;34m\u001b[0m\u001b[0;34m\u001b[0m\u001b[0m\n\u001b[1;32m     49\u001b[0m \u001b[0;34m\u001b[0m\u001b[0m\n",
      "\u001b[0;32m~/anaconda3/lib/python3.7/site-packages/pandas/core/reshape/merge.py\u001b[0m in \u001b[0;36m__init__\u001b[0;34m(self, left, right, how, on, left_on, right_on, axis, left_index, right_index, sort, suffixes, copy, indicator, validate)\u001b[0m\n\u001b[1;32m    522\u001b[0m             \u001b[0mwarnings\u001b[0m\u001b[0;34m.\u001b[0m\u001b[0mwarn\u001b[0m\u001b[0;34m(\u001b[0m\u001b[0mmsg\u001b[0m\u001b[0;34m,\u001b[0m \u001b[0mUserWarning\u001b[0m\u001b[0;34m)\u001b[0m\u001b[0;34m\u001b[0m\u001b[0;34m\u001b[0m\u001b[0m\n\u001b[1;32m    523\u001b[0m \u001b[0;34m\u001b[0m\u001b[0m\n\u001b[0;32m--> 524\u001b[0;31m         \u001b[0mself\u001b[0m\u001b[0;34m.\u001b[0m\u001b[0m_validate_specification\u001b[0m\u001b[0;34m(\u001b[0m\u001b[0;34m)\u001b[0m\u001b[0;34m\u001b[0m\u001b[0;34m\u001b[0m\u001b[0m\n\u001b[0m\u001b[1;32m    525\u001b[0m \u001b[0;34m\u001b[0m\u001b[0m\n\u001b[1;32m    526\u001b[0m         \u001b[0;31m# note this function has side effects\u001b[0m\u001b[0;34m\u001b[0m\u001b[0;34m\u001b[0m\u001b[0;34m\u001b[0m\u001b[0m\n",
      "\u001b[0;32m~/anaconda3/lib/python3.7/site-packages/pandas/core/reshape/merge.py\u001b[0m in \u001b[0;36m_validate_specification\u001b[0;34m(self)\u001b[0m\n\u001b[1;32m   1031\u001b[0m                         \u001b[0;34m'left_index={lidx}, right_index={ridx}'\u001b[0m\u001b[0;34m\u001b[0m\u001b[0;34m\u001b[0m\u001b[0m\n\u001b[1;32m   1032\u001b[0m                         .format(lon=self.left_on, ron=self.right_on,\n\u001b[0;32m-> 1033\u001b[0;31m                                 lidx=self.left_index, ridx=self.right_index))\n\u001b[0m\u001b[1;32m   1034\u001b[0m                 \u001b[0;32mif\u001b[0m \u001b[0;32mnot\u001b[0m \u001b[0mcommon_cols\u001b[0m\u001b[0;34m.\u001b[0m\u001b[0mis_unique\u001b[0m\u001b[0;34m:\u001b[0m\u001b[0;34m\u001b[0m\u001b[0;34m\u001b[0m\u001b[0m\n\u001b[1;32m   1035\u001b[0m                     raise MergeError(\"Data columns not unique: {common!r}\"\n",
      "\u001b[0;31mMergeError\u001b[0m: No common columns to perform merge on. Merge options: left_on=None, right_on=None, left_index=False, right_index=False"
     ]
    }
   ],
   "source": [
    "pd.merge(zoo, class1)"
   ]
  },
  {
   "cell_type": "code",
   "execution_count": 14,
   "metadata": {},
   "outputs": [
    {
     "ename": "KeyError",
     "evalue": "'x1'",
     "output_type": "error",
     "traceback": [
      "\u001b[0;31m---------------------------------------------------------------------------\u001b[0m",
      "\u001b[0;31mKeyError\u001b[0m                                  Traceback (most recent call last)",
      "\u001b[0;32m<ipython-input-14-013bf579fa44>\u001b[0m in \u001b[0;36m<module>\u001b[0;34m\u001b[0m\n\u001b[1;32m      1\u001b[0m pd.merge(zoo, class1,\n\u001b[0;32m----> 2\u001b[0;31m          how = 'left', on = 'x1')\n\u001b[0m",
      "\u001b[0;32m~/anaconda3/lib/python3.7/site-packages/pandas/core/reshape/merge.py\u001b[0m in \u001b[0;36mmerge\u001b[0;34m(left, right, how, on, left_on, right_on, left_index, right_index, sort, suffixes, copy, indicator, validate)\u001b[0m\n\u001b[1;32m     45\u001b[0m                          \u001b[0mright_index\u001b[0m\u001b[0;34m=\u001b[0m\u001b[0mright_index\u001b[0m\u001b[0;34m,\u001b[0m \u001b[0msort\u001b[0m\u001b[0;34m=\u001b[0m\u001b[0msort\u001b[0m\u001b[0;34m,\u001b[0m \u001b[0msuffixes\u001b[0m\u001b[0;34m=\u001b[0m\u001b[0msuffixes\u001b[0m\u001b[0;34m,\u001b[0m\u001b[0;34m\u001b[0m\u001b[0;34m\u001b[0m\u001b[0m\n\u001b[1;32m     46\u001b[0m                          \u001b[0mcopy\u001b[0m\u001b[0;34m=\u001b[0m\u001b[0mcopy\u001b[0m\u001b[0;34m,\u001b[0m \u001b[0mindicator\u001b[0m\u001b[0;34m=\u001b[0m\u001b[0mindicator\u001b[0m\u001b[0;34m,\u001b[0m\u001b[0;34m\u001b[0m\u001b[0;34m\u001b[0m\u001b[0m\n\u001b[0;32m---> 47\u001b[0;31m                          validate=validate)\n\u001b[0m\u001b[1;32m     48\u001b[0m     \u001b[0;32mreturn\u001b[0m \u001b[0mop\u001b[0m\u001b[0;34m.\u001b[0m\u001b[0mget_result\u001b[0m\u001b[0;34m(\u001b[0m\u001b[0;34m)\u001b[0m\u001b[0;34m\u001b[0m\u001b[0;34m\u001b[0m\u001b[0m\n\u001b[1;32m     49\u001b[0m \u001b[0;34m\u001b[0m\u001b[0m\n",
      "\u001b[0;32m~/anaconda3/lib/python3.7/site-packages/pandas/core/reshape/merge.py\u001b[0m in \u001b[0;36m__init__\u001b[0;34m(self, left, right, how, on, left_on, right_on, axis, left_index, right_index, sort, suffixes, copy, indicator, validate)\u001b[0m\n\u001b[1;32m    527\u001b[0m         (self.left_join_keys,\n\u001b[1;32m    528\u001b[0m          \u001b[0mself\u001b[0m\u001b[0;34m.\u001b[0m\u001b[0mright_join_keys\u001b[0m\u001b[0;34m,\u001b[0m\u001b[0;34m\u001b[0m\u001b[0;34m\u001b[0m\u001b[0m\n\u001b[0;32m--> 529\u001b[0;31m          self.join_names) = self._get_merge_keys()\n\u001b[0m\u001b[1;32m    530\u001b[0m \u001b[0;34m\u001b[0m\u001b[0m\n\u001b[1;32m    531\u001b[0m         \u001b[0;31m# validate the merge keys dtypes. We may need to coerce\u001b[0m\u001b[0;34m\u001b[0m\u001b[0;34m\u001b[0m\u001b[0;34m\u001b[0m\u001b[0m\n",
      "\u001b[0;32m~/anaconda3/lib/python3.7/site-packages/pandas/core/reshape/merge.py\u001b[0m in \u001b[0;36m_get_merge_keys\u001b[0;34m(self)\u001b[0m\n\u001b[1;32m    831\u001b[0m                         \u001b[0;32mif\u001b[0m \u001b[0mrk\u001b[0m \u001b[0;32mis\u001b[0m \u001b[0;32mnot\u001b[0m \u001b[0;32mNone\u001b[0m\u001b[0;34m:\u001b[0m\u001b[0;34m\u001b[0m\u001b[0;34m\u001b[0m\u001b[0m\n\u001b[1;32m    832\u001b[0m                             right_keys.append(\n\u001b[0;32m--> 833\u001b[0;31m                                 right._get_label_or_level_values(rk))\n\u001b[0m\u001b[1;32m    834\u001b[0m                         \u001b[0;32melse\u001b[0m\u001b[0;34m:\u001b[0m\u001b[0;34m\u001b[0m\u001b[0;34m\u001b[0m\u001b[0m\n\u001b[1;32m    835\u001b[0m                             \u001b[0;31m# work-around for merge_asof(right_index=True)\u001b[0m\u001b[0;34m\u001b[0m\u001b[0;34m\u001b[0m\u001b[0;34m\u001b[0m\u001b[0m\n",
      "\u001b[0;32m~/anaconda3/lib/python3.7/site-packages/pandas/core/generic.py\u001b[0m in \u001b[0;36m_get_label_or_level_values\u001b[0;34m(self, key, axis)\u001b[0m\n\u001b[1;32m   1704\u001b[0m             \u001b[0mvalues\u001b[0m \u001b[0;34m=\u001b[0m \u001b[0mself\u001b[0m\u001b[0;34m.\u001b[0m\u001b[0maxes\u001b[0m\u001b[0;34m[\u001b[0m\u001b[0maxis\u001b[0m\u001b[0;34m]\u001b[0m\u001b[0;34m.\u001b[0m\u001b[0mget_level_values\u001b[0m\u001b[0;34m(\u001b[0m\u001b[0mkey\u001b[0m\u001b[0;34m)\u001b[0m\u001b[0;34m.\u001b[0m\u001b[0m_values\u001b[0m\u001b[0;34m\u001b[0m\u001b[0;34m\u001b[0m\u001b[0m\n\u001b[1;32m   1705\u001b[0m         \u001b[0;32melse\u001b[0m\u001b[0;34m:\u001b[0m\u001b[0;34m\u001b[0m\u001b[0;34m\u001b[0m\u001b[0m\n\u001b[0;32m-> 1706\u001b[0;31m             \u001b[0;32mraise\u001b[0m \u001b[0mKeyError\u001b[0m\u001b[0;34m(\u001b[0m\u001b[0mkey\u001b[0m\u001b[0;34m)\u001b[0m\u001b[0;34m\u001b[0m\u001b[0;34m\u001b[0m\u001b[0m\n\u001b[0m\u001b[1;32m   1707\u001b[0m \u001b[0;34m\u001b[0m\u001b[0m\n\u001b[1;32m   1708\u001b[0m         \u001b[0;31m# Check for duplicates\u001b[0m\u001b[0;34m\u001b[0m\u001b[0;34m\u001b[0m\u001b[0;34m\u001b[0m\u001b[0m\n",
      "\u001b[0;31mKeyError\u001b[0m: 'x1'"
     ]
    }
   ],
   "source": [
    "pd.merge(zoo, class1,\n",
    "         how = 'left', on = 'x1')"
   ]
  },
  {
   "cell_type": "code",
   "execution_count": 15,
   "metadata": {},
   "outputs": [
    {
     "name": "stdout",
     "output_type": "stream",
     "text": [
      "    animal_name  hair  feathers  eggs  milk  airborne  aquatic  predator  \\\n",
      "0      aardvark     1         0     0     1         0        0         1   \n",
      "1      antelope     1         0     0     1         0        0         0   \n",
      "2          bass     0         0     1     0         0        1         1   \n",
      "3          bear     1         0     0     1         0        0         1   \n",
      "4          boar     1         0     0     1         0        0         1   \n",
      "5       buffalo     1         0     0     1         0        0         0   \n",
      "6          calf     1         0     0     1         0        0         0   \n",
      "7          carp     0         0     1     0         0        1         0   \n",
      "8       catfish     0         0     1     0         0        1         1   \n",
      "9          cavy     1         0     0     1         0        0         0   \n",
      "10      cheetah     1         0     0     1         0        0         1   \n",
      "11      chicken     0         1     1     0         1        0         0   \n",
      "12         chub     0         0     1     0         0        1         1   \n",
      "13         clam     0         0     1     0         0        0         1   \n",
      "14         crab     0         0     1     0         0        1         1   \n",
      "15     crayfish     0         0     1     0         0        1         1   \n",
      "16         crow     0         1     1     0         1        0         1   \n",
      "17         deer     1         0     0     1         0        0         0   \n",
      "18      dogfish     0         0     1     0         0        1         1   \n",
      "19      dolphin     0         0     0     1         0        1         1   \n",
      "20         dove     0         1     1     0         1        0         0   \n",
      "21         duck     0         1     1     0         1        1         0   \n",
      "22     elephant     1         0     0     1         0        0         0   \n",
      "23     flamingo     0         1     1     0         1        0         0   \n",
      "24         flea     0         0     1     0         0        0         0   \n",
      "25         frog     0         0     1     0         0        1         1   \n",
      "26         frog     0         0     1     0         0        1         1   \n",
      "27     fruitbat     1         0     0     1         1        0         0   \n",
      "28      giraffe     1         0     0     1         0        0         0   \n",
      "29         girl     1         0     0     1         0        0         1   \n",
      "..          ...   ...       ...   ...   ...       ...      ...       ...   \n",
      "71         rhea     0         1     1     0         0        0         1   \n",
      "72     scorpion     0         0     0     0         0        0         1   \n",
      "73     seahorse     0         0     1     0         0        1         0   \n",
      "74         seal     1         0     0     1         0        1         1   \n",
      "75      sealion     1         0     0     1         0        1         1   \n",
      "76     seasnake     0         0     0     0         0        1         1   \n",
      "77      seawasp     0         0     1     0         0        1         1   \n",
      "78      skimmer     0         1     1     0         1        1         1   \n",
      "79         skua     0         1     1     0         1        1         1   \n",
      "80     slowworm     0         0     1     0         0        0         1   \n",
      "81         slug     0         0     1     0         0        0         0   \n",
      "82         sole     0         0     1     0         0        1         0   \n",
      "83      sparrow     0         1     1     0         1        0         0   \n",
      "84     squirrel     1         0     0     1         0        0         0   \n",
      "85     starfish     0         0     1     0         0        1         1   \n",
      "86     stingray     0         0     1     0         0        1         1   \n",
      "87         swan     0         1     1     0         1        1         0   \n",
      "88      termite     0         0     1     0         0        0         0   \n",
      "89         toad     0         0     1     0         0        1         0   \n",
      "90     tortoise     0         0     1     0         0        0         0   \n",
      "91      tuatara     0         0     1     0         0        0         1   \n",
      "92         tuna     0         0     1     0         0        1         1   \n",
      "93      vampire     1         0     0     1         1        0         0   \n",
      "94         vole     1         0     0     1         0        0         0   \n",
      "95      vulture     0         1     1     0         1        0         1   \n",
      "96      wallaby     1         0     0     1         0        0         0   \n",
      "97         wasp     1         0     1     0         1        0         0   \n",
      "98         wolf     1         0     0     1         0        0         1   \n",
      "99         worm     0         0     1     0         0        0         0   \n",
      "100        wren     0         1     1     0         1        0         0   \n",
      "\n",
      "     toothed  backbone  breathes  venomous  fins  legs  tail  domestic  \\\n",
      "0          1         1         1         0     0     4     0         0   \n",
      "1          1         1         1         0     0     4     1         0   \n",
      "2          1         1         0         0     1     0     1         0   \n",
      "3          1         1         1         0     0     4     0         0   \n",
      "4          1         1         1         0     0     4     1         0   \n",
      "5          1         1         1         0     0     4     1         0   \n",
      "6          1         1         1         0     0     4     1         1   \n",
      "7          1         1         0         0     1     0     1         1   \n",
      "8          1         1         0         0     1     0     1         0   \n",
      "9          1         1         1         0     0     4     0         1   \n",
      "10         1         1         1         0     0     4     1         0   \n",
      "11         0         1         1         0     0     2     1         1   \n",
      "12         1         1         0         0     1     0     1         0   \n",
      "13         0         0         0         0     0     0     0         0   \n",
      "14         0         0         0         0     0     4     0         0   \n",
      "15         0         0         0         0     0     6     0         0   \n",
      "16         0         1         1         0     0     2     1         0   \n",
      "17         1         1         1         0     0     4     1         0   \n",
      "18         1         1         0         0     1     0     1         0   \n",
      "19         1         1         1         0     1     0     1         0   \n",
      "20         0         1         1         0     0     2     1         1   \n",
      "21         0         1         1         0     0     2     1         0   \n",
      "22         1         1         1         0     0     4     1         0   \n",
      "23         0         1         1         0     0     2     1         0   \n",
      "24         0         0         1         0     0     6     0         0   \n",
      "25         1         1         1         0     0     4     0         0   \n",
      "26         1         1         1         1     0     4     0         0   \n",
      "27         1         1         1         0     0     2     1         0   \n",
      "28         1         1         1         0     0     4     1         0   \n",
      "29         1         1         1         0     0     2     0         1   \n",
      "..       ...       ...       ...       ...   ...   ...   ...       ...   \n",
      "71         0         1         1         0     0     2     1         0   \n",
      "72         0         0         1         1     0     8     1         0   \n",
      "73         1         1         0         0     1     0     1         0   \n",
      "74         1         1         1         0     1     0     0         0   \n",
      "75         1         1         1         0     1     2     1         0   \n",
      "76         1         1         0         1     0     0     1         0   \n",
      "77         0         0         0         1     0     0     0         0   \n",
      "78         0         1         1         0     0     2     1         0   \n",
      "79         0         1         1         0     0     2     1         0   \n",
      "80         1         1         1         0     0     0     1         0   \n",
      "81         0         0         1         0     0     0     0         0   \n",
      "82         1         1         0         0     1     0     1         0   \n",
      "83         0         1         1         0     0     2     1         0   \n",
      "84         1         1         1         0     0     2     1         0   \n",
      "85         0         0         0         0     0     5     0         0   \n",
      "86         1         1         0         1     1     0     1         0   \n",
      "87         0         1         1         0     0     2     1         0   \n",
      "88         0         0         1         0     0     6     0         0   \n",
      "89         1         1         1         0     0     4     0         0   \n",
      "90         0         1         1         0     0     4     1         0   \n",
      "91         1         1         1         0     0     4     1         0   \n",
      "92         1         1         0         0     1     0     1         0   \n",
      "93         1         1         1         0     0     2     1         0   \n",
      "94         1         1         1         0     0     4     1         0   \n",
      "95         0         1         1         0     0     2     1         0   \n",
      "96         1         1         1         0     0     2     1         0   \n",
      "97         0         0         1         1     0     6     0         0   \n",
      "98         1         1         1         0     0     4     1         0   \n",
      "99         0         0         1         0     0     0     0         0   \n",
      "100        0         1         1         0     0     2     1         0   \n",
      "\n",
      "     catsize  class_type  \n",
      "0          1           1  \n",
      "1          1           1  \n",
      "2          0           4  \n",
      "3          1           1  \n",
      "4          1           1  \n",
      "5          1           1  \n",
      "6          1           1  \n",
      "7          0           4  \n",
      "8          0           4  \n",
      "9          0           1  \n",
      "10         1           1  \n",
      "11         0           2  \n",
      "12         0           4  \n",
      "13         0           7  \n",
      "14         0           7  \n",
      "15         0           7  \n",
      "16         0           2  \n",
      "17         1           1  \n",
      "18         1           4  \n",
      "19         1           1  \n",
      "20         0           2  \n",
      "21         0           2  \n",
      "22         1           1  \n",
      "23         1           2  \n",
      "24         0           6  \n",
      "25         0           5  \n",
      "26         0           5  \n",
      "27         0           1  \n",
      "28         1           1  \n",
      "29         1           1  \n",
      "..       ...         ...  \n",
      "71         1           2  \n",
      "72         0           7  \n",
      "73         0           4  \n",
      "74         1           1  \n",
      "75         1           1  \n",
      "76         0           3  \n",
      "77         0           7  \n",
      "78         0           2  \n",
      "79         0           2  \n",
      "80         0           3  \n",
      "81         0           7  \n",
      "82         0           4  \n",
      "83         0           2  \n",
      "84         0           1  \n",
      "85         0           7  \n",
      "86         1           4  \n",
      "87         1           2  \n",
      "88         0           6  \n",
      "89         0           5  \n",
      "90         1           3  \n",
      "91         0           3  \n",
      "92         1           4  \n",
      "93         0           1  \n",
      "94         0           1  \n",
      "95         1           2  \n",
      "96         1           1  \n",
      "97         0           6  \n",
      "98         1           1  \n",
      "99         0           7  \n",
      "100        0           2  \n",
      "\n",
      "[101 rows x 18 columns]\n"
     ]
    }
   ],
   "source": [
    "print (zoo)"
   ]
  },
  {
   "cell_type": "code",
   "execution_count": 16,
   "metadata": {},
   "outputs": [
    {
     "ename": "KeyError",
     "evalue": "'class'",
     "output_type": "error",
     "traceback": [
      "\u001b[0;31m---------------------------------------------------------------------------\u001b[0m",
      "\u001b[0;31mKeyError\u001b[0m                                  Traceback (most recent call last)",
      "\u001b[0;32m<ipython-input-16-20b03e325d8f>\u001b[0m in \u001b[0;36m<module>\u001b[0;34m\u001b[0m\n\u001b[1;32m      1\u001b[0m pd.merge(zoo, class1,\n\u001b[0;32m----> 2\u001b[0;31m          how = 'left', on = 'class')\n\u001b[0m",
      "\u001b[0;32m~/anaconda3/lib/python3.7/site-packages/pandas/core/reshape/merge.py\u001b[0m in \u001b[0;36mmerge\u001b[0;34m(left, right, how, on, left_on, right_on, left_index, right_index, sort, suffixes, copy, indicator, validate)\u001b[0m\n\u001b[1;32m     45\u001b[0m                          \u001b[0mright_index\u001b[0m\u001b[0;34m=\u001b[0m\u001b[0mright_index\u001b[0m\u001b[0;34m,\u001b[0m \u001b[0msort\u001b[0m\u001b[0;34m=\u001b[0m\u001b[0msort\u001b[0m\u001b[0;34m,\u001b[0m \u001b[0msuffixes\u001b[0m\u001b[0;34m=\u001b[0m\u001b[0msuffixes\u001b[0m\u001b[0;34m,\u001b[0m\u001b[0;34m\u001b[0m\u001b[0;34m\u001b[0m\u001b[0m\n\u001b[1;32m     46\u001b[0m                          \u001b[0mcopy\u001b[0m\u001b[0;34m=\u001b[0m\u001b[0mcopy\u001b[0m\u001b[0;34m,\u001b[0m \u001b[0mindicator\u001b[0m\u001b[0;34m=\u001b[0m\u001b[0mindicator\u001b[0m\u001b[0;34m,\u001b[0m\u001b[0;34m\u001b[0m\u001b[0;34m\u001b[0m\u001b[0m\n\u001b[0;32m---> 47\u001b[0;31m                          validate=validate)\n\u001b[0m\u001b[1;32m     48\u001b[0m     \u001b[0;32mreturn\u001b[0m \u001b[0mop\u001b[0m\u001b[0;34m.\u001b[0m\u001b[0mget_result\u001b[0m\u001b[0;34m(\u001b[0m\u001b[0;34m)\u001b[0m\u001b[0;34m\u001b[0m\u001b[0;34m\u001b[0m\u001b[0m\n\u001b[1;32m     49\u001b[0m \u001b[0;34m\u001b[0m\u001b[0m\n",
      "\u001b[0;32m~/anaconda3/lib/python3.7/site-packages/pandas/core/reshape/merge.py\u001b[0m in \u001b[0;36m__init__\u001b[0;34m(self, left, right, how, on, left_on, right_on, axis, left_index, right_index, sort, suffixes, copy, indicator, validate)\u001b[0m\n\u001b[1;32m    527\u001b[0m         (self.left_join_keys,\n\u001b[1;32m    528\u001b[0m          \u001b[0mself\u001b[0m\u001b[0;34m.\u001b[0m\u001b[0mright_join_keys\u001b[0m\u001b[0;34m,\u001b[0m\u001b[0;34m\u001b[0m\u001b[0;34m\u001b[0m\u001b[0m\n\u001b[0;32m--> 529\u001b[0;31m          self.join_names) = self._get_merge_keys()\n\u001b[0m\u001b[1;32m    530\u001b[0m \u001b[0;34m\u001b[0m\u001b[0m\n\u001b[1;32m    531\u001b[0m         \u001b[0;31m# validate the merge keys dtypes. We may need to coerce\u001b[0m\u001b[0;34m\u001b[0m\u001b[0;34m\u001b[0m\u001b[0;34m\u001b[0m\u001b[0m\n",
      "\u001b[0;32m~/anaconda3/lib/python3.7/site-packages/pandas/core/reshape/merge.py\u001b[0m in \u001b[0;36m_get_merge_keys\u001b[0;34m(self)\u001b[0m\n\u001b[1;32m    831\u001b[0m                         \u001b[0;32mif\u001b[0m \u001b[0mrk\u001b[0m \u001b[0;32mis\u001b[0m \u001b[0;32mnot\u001b[0m \u001b[0;32mNone\u001b[0m\u001b[0;34m:\u001b[0m\u001b[0;34m\u001b[0m\u001b[0;34m\u001b[0m\u001b[0m\n\u001b[1;32m    832\u001b[0m                             right_keys.append(\n\u001b[0;32m--> 833\u001b[0;31m                                 right._get_label_or_level_values(rk))\n\u001b[0m\u001b[1;32m    834\u001b[0m                         \u001b[0;32melse\u001b[0m\u001b[0;34m:\u001b[0m\u001b[0;34m\u001b[0m\u001b[0;34m\u001b[0m\u001b[0m\n\u001b[1;32m    835\u001b[0m                             \u001b[0;31m# work-around for merge_asof(right_index=True)\u001b[0m\u001b[0;34m\u001b[0m\u001b[0;34m\u001b[0m\u001b[0;34m\u001b[0m\u001b[0m\n",
      "\u001b[0;32m~/anaconda3/lib/python3.7/site-packages/pandas/core/generic.py\u001b[0m in \u001b[0;36m_get_label_or_level_values\u001b[0;34m(self, key, axis)\u001b[0m\n\u001b[1;32m   1704\u001b[0m             \u001b[0mvalues\u001b[0m \u001b[0;34m=\u001b[0m \u001b[0mself\u001b[0m\u001b[0;34m.\u001b[0m\u001b[0maxes\u001b[0m\u001b[0;34m[\u001b[0m\u001b[0maxis\u001b[0m\u001b[0;34m]\u001b[0m\u001b[0;34m.\u001b[0m\u001b[0mget_level_values\u001b[0m\u001b[0;34m(\u001b[0m\u001b[0mkey\u001b[0m\u001b[0;34m)\u001b[0m\u001b[0;34m.\u001b[0m\u001b[0m_values\u001b[0m\u001b[0;34m\u001b[0m\u001b[0;34m\u001b[0m\u001b[0m\n\u001b[1;32m   1705\u001b[0m         \u001b[0;32melse\u001b[0m\u001b[0;34m:\u001b[0m\u001b[0;34m\u001b[0m\u001b[0;34m\u001b[0m\u001b[0m\n\u001b[0;32m-> 1706\u001b[0;31m             \u001b[0;32mraise\u001b[0m \u001b[0mKeyError\u001b[0m\u001b[0;34m(\u001b[0m\u001b[0mkey\u001b[0m\u001b[0;34m)\u001b[0m\u001b[0;34m\u001b[0m\u001b[0;34m\u001b[0m\u001b[0m\n\u001b[0m\u001b[1;32m   1707\u001b[0m \u001b[0;34m\u001b[0m\u001b[0m\n\u001b[1;32m   1708\u001b[0m         \u001b[0;31m# Check for duplicates\u001b[0m\u001b[0;34m\u001b[0m\u001b[0;34m\u001b[0m\u001b[0;34m\u001b[0m\u001b[0m\n",
      "\u001b[0;31mKeyError\u001b[0m: 'class'"
     ]
    }
   ],
   "source": [
    "pd.merge(zoo, class1,\n",
    "         how = 'left', on = 'class')"
   ]
  },
  {
   "cell_type": "code",
   "execution_count": 17,
   "metadata": {},
   "outputs": [
    {
     "ename": "ModuleNotFoundError",
     "evalue": "No module named 'matplotlib.pylot'",
     "output_type": "error",
     "traceback": [
      "\u001b[0;31m---------------------------------------------------------------------------\u001b[0m",
      "\u001b[0;31mModuleNotFoundError\u001b[0m                       Traceback (most recent call last)",
      "\u001b[0;32m<ipython-input-17-c988897a33fb>\u001b[0m in \u001b[0;36m<module>\u001b[0;34m\u001b[0m\n\u001b[0;32m----> 1\u001b[0;31m \u001b[0;32mimport\u001b[0m \u001b[0mmatplotlib\u001b[0m\u001b[0;34m.\u001b[0m\u001b[0mpylot\u001b[0m \u001b[0;32mas\u001b[0m \u001b[0mplt\u001b[0m\u001b[0;34m\u001b[0m\u001b[0;34m\u001b[0m\u001b[0m\n\u001b[0m",
      "\u001b[0;31mModuleNotFoundError\u001b[0m: No module named 'matplotlib.pylot'"
     ]
    }
   ],
   "source": [
    "import matplotlib.pylot as plt"
   ]
  },
  {
   "cell_type": "code",
   "execution_count": 18,
   "metadata": {},
   "outputs": [],
   "source": [
    "import matplotlib.pyplot as plt"
   ]
  },
  {
   "cell_type": "code",
   "execution_count": 19,
   "metadata": {},
   "outputs": [],
   "source": [
    "import numpy as np"
   ]
  },
  {
   "cell_type": "code",
   "execution_count": 20,
   "metadata": {},
   "outputs": [],
   "source": [
    "import pandas as pd"
   ]
  },
  {
   "cell_type": "code",
   "execution_count": 21,
   "metadata": {},
   "outputs": [],
   "source": [
    "import random"
   ]
  },
  {
   "cell_type": "code",
   "execution_count": 28,
   "metadata": {},
   "outputs": [
    {
     "ename": "ModuleNotFoundError",
     "evalue": "No module named 'sklearn.cross_validation'",
     "output_type": "error",
     "traceback": [
      "\u001b[0;31m---------------------------------------------------------------------------\u001b[0m",
      "\u001b[0;31mModuleNotFoundError\u001b[0m                       Traceback (most recent call last)",
      "\u001b[0;32m<ipython-input-28-b1185eb109b1>\u001b[0m in \u001b[0;36m<module>\u001b[0;34m\u001b[0m\n\u001b[1;32m      1\u001b[0m \u001b[0;32mfrom\u001b[0m \u001b[0msklearn\u001b[0m \u001b[0;32mimport\u001b[0m \u001b[0mdatasets\u001b[0m\u001b[0;34m,\u001b[0m \u001b[0mlinear_model\u001b[0m\u001b[0;34m\u001b[0m\u001b[0;34m\u001b[0m\u001b[0m\n\u001b[0;32m----> 2\u001b[0;31m \u001b[0;32mfrom\u001b[0m \u001b[0msklearn\u001b[0m\u001b[0;34m.\u001b[0m\u001b[0mcross_validation\u001b[0m \u001b[0;32mimport\u001b[0m \u001b[0mtrain_test_split\u001b[0m\u001b[0;34m\u001b[0m\u001b[0;34m\u001b[0m\u001b[0m\n\u001b[0m",
      "\u001b[0;31mModuleNotFoundError\u001b[0m: No module named 'sklearn.cross_validation'"
     ]
    }
   ],
   "source": [
    "from sklearn import datasets, linear_model\n",
    "from sklearn.cross_validation import train_test_split"
   ]
  },
  {
   "cell_type": "code",
   "execution_count": 1,
   "metadata": {},
   "outputs": [
    {
     "name": "stdout",
     "output_type": "stream",
     "text": [
      "Requirement already satisfied: ipython in /Users/RichardMorrow/anaconda3/lib/python3.7/site-packages (7.4.0)\n",
      "Requirement already satisfied: traitlets>=4.2 in /Users/RichardMorrow/anaconda3/lib/python3.7/site-packages (from ipython) (4.3.2)\n",
      "Requirement already satisfied: decorator in /Users/RichardMorrow/anaconda3/lib/python3.7/site-packages (from ipython) (4.4.0)\n",
      "Requirement already satisfied: prompt-toolkit<2.1.0,>=2.0.0 in /Users/RichardMorrow/anaconda3/lib/python3.7/site-packages (from ipython) (2.0.9)\n",
      "Requirement already satisfied: pickleshare in /Users/RichardMorrow/anaconda3/lib/python3.7/site-packages (from ipython) (0.7.5)\n",
      "Requirement already satisfied: pygments in /Users/RichardMorrow/anaconda3/lib/python3.7/site-packages (from ipython) (2.3.1)\n",
      "Requirement already satisfied: setuptools>=18.5 in /Users/RichardMorrow/anaconda3/lib/python3.7/site-packages (from ipython) (40.8.0)\n",
      "Requirement already satisfied: appnope; sys_platform == \"darwin\" in /Users/RichardMorrow/anaconda3/lib/python3.7/site-packages (from ipython) (0.1.0)\n",
      "Requirement already satisfied: pexpect; sys_platform != \"win32\" in /Users/RichardMorrow/anaconda3/lib/python3.7/site-packages (from ipython) (4.6.0)\n",
      "Requirement already satisfied: backcall in /Users/RichardMorrow/anaconda3/lib/python3.7/site-packages (from ipython) (0.1.0)\n",
      "Requirement already satisfied: jedi>=0.10 in /Users/RichardMorrow/anaconda3/lib/python3.7/site-packages (from ipython) (0.13.3)\n",
      "Requirement already satisfied: ipython-genutils in /Users/RichardMorrow/anaconda3/lib/python3.7/site-packages (from traitlets>=4.2->ipython) (0.2.0)\n",
      "Requirement already satisfied: six in /Users/RichardMorrow/anaconda3/lib/python3.7/site-packages (from traitlets>=4.2->ipython) (1.12.0)\n",
      "Requirement already satisfied: wcwidth in /Users/RichardMorrow/anaconda3/lib/python3.7/site-packages (from prompt-toolkit<2.1.0,>=2.0.0->ipython) (0.1.7)\n",
      "Requirement already satisfied: ptyprocess>=0.5 in /Users/RichardMorrow/anaconda3/lib/python3.7/site-packages (from pexpect; sys_platform != \"win32\"->ipython) (0.6.0)\n",
      "Requirement already satisfied: parso>=0.3.0 in /Users/RichardMorrow/anaconda3/lib/python3.7/site-packages (from jedi>=0.10->ipython) (0.3.4)\n",
      "Note: you may need to restart the kernel to use updated packages.\n"
     ]
    }
   ],
   "source": [
    "pip install ipython"
   ]
  },
  {
   "cell_type": "code",
   "execution_count": 2,
   "metadata": {},
   "outputs": [],
   "source": [
    "from sklearn.linear_model import LogisticRegression"
   ]
  },
  {
   "cell_type": "code",
   "execution_count": 3,
   "metadata": {},
   "outputs": [],
   "source": [
    "logreg = LogisticRegression()"
   ]
  },
  {
   "cell_type": "code",
   "execution_count": 4,
   "metadata": {},
   "outputs": [
    {
     "ename": "NameError",
     "evalue": "name 'zoo' is not defined",
     "output_type": "error",
     "traceback": [
      "\u001b[0;31m---------------------------------------------------------------------------\u001b[0m",
      "\u001b[0;31mNameError\u001b[0m                                 Traceback (most recent call last)",
      "\u001b[0;32m<ipython-input-4-dfd46e61d2a2>\u001b[0m in \u001b[0;36m<module>\u001b[0;34m\u001b[0m\n\u001b[0;32m----> 1\u001b[0;31m \u001b[0mlogreg\u001b[0m\u001b[0;34m.\u001b[0m\u001b[0mfit\u001b[0m\u001b[0;34m(\u001b[0m\u001b[0mzoo\u001b[0m\u001b[0;34m)\u001b[0m\u001b[0;34m\u001b[0m\u001b[0;34m\u001b[0m\u001b[0m\n\u001b[0m",
      "\u001b[0;31mNameError\u001b[0m: name 'zoo' is not defined"
     ]
    }
   ],
   "source": [
    "logreg.fit(zoo)"
   ]
  },
  {
   "cell_type": "code",
   "execution_count": 5,
   "metadata": {},
   "outputs": [
    {
     "ename": "NameError",
     "evalue": "name 'pd' is not defined",
     "output_type": "error",
     "traceback": [
      "\u001b[0;31m---------------------------------------------------------------------------\u001b[0m",
      "\u001b[0;31mNameError\u001b[0m                                 Traceback (most recent call last)",
      "\u001b[0;32m<ipython-input-5-68172e02548f>\u001b[0m in \u001b[0;36m<module>\u001b[0;34m\u001b[0m\n\u001b[0;32m----> 1\u001b[0;31m \u001b[0mzoo\u001b[0m \u001b[0;34m=\u001b[0m \u001b[0mpd\u001b[0m\u001b[0;34m.\u001b[0m\u001b[0mread_csv\u001b[0m \u001b[0;34m(\u001b[0m\u001b[0;34m\"/Users/RichardMorrow/Desktop/School/Spring_2019_Semester/LIS4761/Project/zoo.csv\"\u001b[0m\u001b[0;34m)\u001b[0m\u001b[0;34m\u001b[0m\u001b[0;34m\u001b[0m\u001b[0m\n\u001b[0m",
      "\u001b[0;31mNameError\u001b[0m: name 'pd' is not defined"
     ]
    }
   ],
   "source": [
    "zoo = pd.read_csv (\"/Users/RichardMorrow/Desktop/School/Spring_2019_Semester/LIS4761/Project/zoo.csv\")"
   ]
  },
  {
   "cell_type": "code",
   "execution_count": 6,
   "metadata": {},
   "outputs": [],
   "source": [
    "import pandas as pd"
   ]
  },
  {
   "cell_type": "code",
   "execution_count": 7,
   "metadata": {},
   "outputs": [],
   "source": [
    "zoo = pd.read_csv (\"/Users/RichardMorrow/Desktop/School/Spring_2019_Semester/LIS4761/Project/zoo.csv\")"
   ]
  },
  {
   "cell_type": "code",
   "execution_count": 8,
   "metadata": {},
   "outputs": [
    {
     "ename": "TypeError",
     "evalue": "fit() missing 1 required positional argument: 'y'",
     "output_type": "error",
     "traceback": [
      "\u001b[0;31m---------------------------------------------------------------------------\u001b[0m",
      "\u001b[0;31mTypeError\u001b[0m                                 Traceback (most recent call last)",
      "\u001b[0;32m<ipython-input-8-dfd46e61d2a2>\u001b[0m in \u001b[0;36m<module>\u001b[0;34m\u001b[0m\n\u001b[0;32m----> 1\u001b[0;31m \u001b[0mlogreg\u001b[0m\u001b[0;34m.\u001b[0m\u001b[0mfit\u001b[0m\u001b[0;34m(\u001b[0m\u001b[0mzoo\u001b[0m\u001b[0;34m)\u001b[0m\u001b[0;34m\u001b[0m\u001b[0;34m\u001b[0m\u001b[0m\n\u001b[0m",
      "\u001b[0;31mTypeError\u001b[0m: fit() missing 1 required positional argument: 'y'"
     ]
    }
   ],
   "source": [
    "logreg.fit(zoo)"
   ]
  },
  {
   "cell_type": "code",
   "execution_count": 9,
   "metadata": {},
   "outputs": [],
   "source": [
    "class1 = pd.read_csv (\"/Users/RichardMorrow/Desktop/School/Spring_2019_Semester/LIS4761/Project/class.csv\")\n"
   ]
  },
  {
   "cell_type": "code",
   "execution_count": 10,
   "metadata": {},
   "outputs": [
    {
     "name": "stderr",
     "output_type": "stream",
     "text": [
      "/Users/RichardMorrow/anaconda3/lib/python3.7/site-packages/sklearn/linear_model/logistic.py:433: FutureWarning: Default solver will be changed to 'lbfgs' in 0.22. Specify a solver to silence this warning.\n",
      "  FutureWarning)\n"
     ]
    },
    {
     "ename": "ValueError",
     "evalue": "could not convert string to float: 'wren'",
     "output_type": "error",
     "traceback": [
      "\u001b[0;31m---------------------------------------------------------------------------\u001b[0m",
      "\u001b[0;31mValueError\u001b[0m                                Traceback (most recent call last)",
      "\u001b[0;32m<ipython-input-10-090033c83783>\u001b[0m in \u001b[0;36m<module>\u001b[0;34m\u001b[0m\n\u001b[0;32m----> 1\u001b[0;31m \u001b[0mlogreg\u001b[0m\u001b[0;34m.\u001b[0m\u001b[0mfit\u001b[0m\u001b[0;34m(\u001b[0m\u001b[0mzoo\u001b[0m\u001b[0;34m,\u001b[0m\u001b[0mclass1\u001b[0m\u001b[0;34m)\u001b[0m\u001b[0;34m\u001b[0m\u001b[0;34m\u001b[0m\u001b[0m\n\u001b[0m",
      "\u001b[0;32m~/anaconda3/lib/python3.7/site-packages/sklearn/linear_model/logistic.py\u001b[0m in \u001b[0;36mfit\u001b[0;34m(self, X, y, sample_weight)\u001b[0m\n\u001b[1;32m   1286\u001b[0m \u001b[0;34m\u001b[0m\u001b[0m\n\u001b[1;32m   1287\u001b[0m         X, y = check_X_y(X, y, accept_sparse='csr', dtype=_dtype, order=\"C\",\n\u001b[0;32m-> 1288\u001b[0;31m                          accept_large_sparse=solver != 'liblinear')\n\u001b[0m\u001b[1;32m   1289\u001b[0m         \u001b[0mcheck_classification_targets\u001b[0m\u001b[0;34m(\u001b[0m\u001b[0my\u001b[0m\u001b[0;34m)\u001b[0m\u001b[0;34m\u001b[0m\u001b[0;34m\u001b[0m\u001b[0m\n\u001b[1;32m   1290\u001b[0m         \u001b[0mself\u001b[0m\u001b[0;34m.\u001b[0m\u001b[0mclasses_\u001b[0m \u001b[0;34m=\u001b[0m \u001b[0mnp\u001b[0m\u001b[0;34m.\u001b[0m\u001b[0munique\u001b[0m\u001b[0;34m(\u001b[0m\u001b[0my\u001b[0m\u001b[0;34m)\u001b[0m\u001b[0;34m\u001b[0m\u001b[0;34m\u001b[0m\u001b[0m\n",
      "\u001b[0;32m~/anaconda3/lib/python3.7/site-packages/sklearn/utils/validation.py\u001b[0m in \u001b[0;36mcheck_X_y\u001b[0;34m(X, y, accept_sparse, accept_large_sparse, dtype, order, copy, force_all_finite, ensure_2d, allow_nd, multi_output, ensure_min_samples, ensure_min_features, y_numeric, warn_on_dtype, estimator)\u001b[0m\n\u001b[1;32m    754\u001b[0m                     \u001b[0mensure_min_features\u001b[0m\u001b[0;34m=\u001b[0m\u001b[0mensure_min_features\u001b[0m\u001b[0;34m,\u001b[0m\u001b[0;34m\u001b[0m\u001b[0;34m\u001b[0m\u001b[0m\n\u001b[1;32m    755\u001b[0m                     \u001b[0mwarn_on_dtype\u001b[0m\u001b[0;34m=\u001b[0m\u001b[0mwarn_on_dtype\u001b[0m\u001b[0;34m,\u001b[0m\u001b[0;34m\u001b[0m\u001b[0;34m\u001b[0m\u001b[0m\n\u001b[0;32m--> 756\u001b[0;31m                     estimator=estimator)\n\u001b[0m\u001b[1;32m    757\u001b[0m     \u001b[0;32mif\u001b[0m \u001b[0mmulti_output\u001b[0m\u001b[0;34m:\u001b[0m\u001b[0;34m\u001b[0m\u001b[0;34m\u001b[0m\u001b[0m\n\u001b[1;32m    758\u001b[0m         y = check_array(y, 'csr', force_all_finite=True, ensure_2d=False,\n",
      "\u001b[0;32m~/anaconda3/lib/python3.7/site-packages/sklearn/utils/validation.py\u001b[0m in \u001b[0;36mcheck_array\u001b[0;34m(array, accept_sparse, accept_large_sparse, dtype, order, copy, force_all_finite, ensure_2d, allow_nd, ensure_min_samples, ensure_min_features, warn_on_dtype, estimator)\u001b[0m\n\u001b[1;32m    525\u001b[0m             \u001b[0;32mtry\u001b[0m\u001b[0;34m:\u001b[0m\u001b[0;34m\u001b[0m\u001b[0;34m\u001b[0m\u001b[0m\n\u001b[1;32m    526\u001b[0m                 \u001b[0mwarnings\u001b[0m\u001b[0;34m.\u001b[0m\u001b[0msimplefilter\u001b[0m\u001b[0;34m(\u001b[0m\u001b[0;34m'error'\u001b[0m\u001b[0;34m,\u001b[0m \u001b[0mComplexWarning\u001b[0m\u001b[0;34m)\u001b[0m\u001b[0;34m\u001b[0m\u001b[0;34m\u001b[0m\u001b[0m\n\u001b[0;32m--> 527\u001b[0;31m                 \u001b[0marray\u001b[0m \u001b[0;34m=\u001b[0m \u001b[0mnp\u001b[0m\u001b[0;34m.\u001b[0m\u001b[0masarray\u001b[0m\u001b[0;34m(\u001b[0m\u001b[0marray\u001b[0m\u001b[0;34m,\u001b[0m \u001b[0mdtype\u001b[0m\u001b[0;34m=\u001b[0m\u001b[0mdtype\u001b[0m\u001b[0;34m,\u001b[0m \u001b[0morder\u001b[0m\u001b[0;34m=\u001b[0m\u001b[0morder\u001b[0m\u001b[0;34m)\u001b[0m\u001b[0;34m\u001b[0m\u001b[0;34m\u001b[0m\u001b[0m\n\u001b[0m\u001b[1;32m    528\u001b[0m             \u001b[0;32mexcept\u001b[0m \u001b[0mComplexWarning\u001b[0m\u001b[0;34m:\u001b[0m\u001b[0;34m\u001b[0m\u001b[0;34m\u001b[0m\u001b[0m\n\u001b[1;32m    529\u001b[0m                 raise ValueError(\"Complex data not supported\\n\"\n",
      "\u001b[0;32m~/anaconda3/lib/python3.7/site-packages/numpy/core/numeric.py\u001b[0m in \u001b[0;36masarray\u001b[0;34m(a, dtype, order)\u001b[0m\n\u001b[1;32m    536\u001b[0m \u001b[0;34m\u001b[0m\u001b[0m\n\u001b[1;32m    537\u001b[0m     \"\"\"\n\u001b[0;32m--> 538\u001b[0;31m     \u001b[0;32mreturn\u001b[0m \u001b[0marray\u001b[0m\u001b[0;34m(\u001b[0m\u001b[0ma\u001b[0m\u001b[0;34m,\u001b[0m \u001b[0mdtype\u001b[0m\u001b[0;34m,\u001b[0m \u001b[0mcopy\u001b[0m\u001b[0;34m=\u001b[0m\u001b[0;32mFalse\u001b[0m\u001b[0;34m,\u001b[0m \u001b[0morder\u001b[0m\u001b[0;34m=\u001b[0m\u001b[0morder\u001b[0m\u001b[0;34m)\u001b[0m\u001b[0;34m\u001b[0m\u001b[0;34m\u001b[0m\u001b[0m\n\u001b[0m\u001b[1;32m    539\u001b[0m \u001b[0;34m\u001b[0m\u001b[0m\n\u001b[1;32m    540\u001b[0m \u001b[0;34m\u001b[0m\u001b[0m\n",
      "\u001b[0;31mValueError\u001b[0m: could not convert string to float: 'wren'"
     ]
    }
   ],
   "source": [
    "logreg.fit(zoo,class1)"
   ]
  },
  {
   "cell_type": "code",
   "execution_count": 11,
   "metadata": {},
   "outputs": [],
   "source": [
    "from sklearn import metrics"
   ]
  },
  {
   "cell_type": "code",
   "execution_count": 12,
   "metadata": {},
   "outputs": [
    {
     "ename": "NotFittedError",
     "evalue": "This LogisticRegression instance is not fitted yet",
     "output_type": "error",
     "traceback": [
      "\u001b[0;31m---------------------------------------------------------------------------\u001b[0m",
      "\u001b[0;31mNotFittedError\u001b[0m                            Traceback (most recent call last)",
      "\u001b[0;32m<ipython-input-12-010dd4e6c930>\u001b[0m in \u001b[0;36m<module>\u001b[0;34m\u001b[0m\n\u001b[0;32m----> 1\u001b[0;31m \u001b[0mlogreg\u001b[0m\u001b[0;34m.\u001b[0m\u001b[0mpredict\u001b[0m\u001b[0;34m(\u001b[0m\u001b[0mzoo\u001b[0m\u001b[0;34m)\u001b[0m\u001b[0;34m\u001b[0m\u001b[0;34m\u001b[0m\u001b[0m\n\u001b[0m",
      "\u001b[0;32m~/anaconda3/lib/python3.7/site-packages/sklearn/linear_model/base.py\u001b[0m in \u001b[0;36mpredict\u001b[0;34m(self, X)\u001b[0m\n\u001b[1;32m    279\u001b[0m             \u001b[0mPredicted\u001b[0m \u001b[0;32mclass\u001b[0m \u001b[0mlabel\u001b[0m \u001b[0mper\u001b[0m \u001b[0msample\u001b[0m\u001b[0;34m.\u001b[0m\u001b[0;34m\u001b[0m\u001b[0;34m\u001b[0m\u001b[0m\n\u001b[1;32m    280\u001b[0m         \"\"\"\n\u001b[0;32m--> 281\u001b[0;31m         \u001b[0mscores\u001b[0m \u001b[0;34m=\u001b[0m \u001b[0mself\u001b[0m\u001b[0;34m.\u001b[0m\u001b[0mdecision_function\u001b[0m\u001b[0;34m(\u001b[0m\u001b[0mX\u001b[0m\u001b[0;34m)\u001b[0m\u001b[0;34m\u001b[0m\u001b[0;34m\u001b[0m\u001b[0m\n\u001b[0m\u001b[1;32m    282\u001b[0m         \u001b[0;32mif\u001b[0m \u001b[0mlen\u001b[0m\u001b[0;34m(\u001b[0m\u001b[0mscores\u001b[0m\u001b[0;34m.\u001b[0m\u001b[0mshape\u001b[0m\u001b[0;34m)\u001b[0m \u001b[0;34m==\u001b[0m \u001b[0;36m1\u001b[0m\u001b[0;34m:\u001b[0m\u001b[0;34m\u001b[0m\u001b[0;34m\u001b[0m\u001b[0m\n\u001b[1;32m    283\u001b[0m             \u001b[0mindices\u001b[0m \u001b[0;34m=\u001b[0m \u001b[0;34m(\u001b[0m\u001b[0mscores\u001b[0m \u001b[0;34m>\u001b[0m \u001b[0;36m0\u001b[0m\u001b[0;34m)\u001b[0m\u001b[0;34m.\u001b[0m\u001b[0mastype\u001b[0m\u001b[0;34m(\u001b[0m\u001b[0mnp\u001b[0m\u001b[0;34m.\u001b[0m\u001b[0mint\u001b[0m\u001b[0;34m)\u001b[0m\u001b[0;34m\u001b[0m\u001b[0;34m\u001b[0m\u001b[0m\n",
      "\u001b[0;32m~/anaconda3/lib/python3.7/site-packages/sklearn/linear_model/base.py\u001b[0m in \u001b[0;36mdecision_function\u001b[0;34m(self, X)\u001b[0m\n\u001b[1;32m    253\u001b[0m         \u001b[0;32mif\u001b[0m \u001b[0;32mnot\u001b[0m \u001b[0mhasattr\u001b[0m\u001b[0;34m(\u001b[0m\u001b[0mself\u001b[0m\u001b[0;34m,\u001b[0m \u001b[0;34m'coef_'\u001b[0m\u001b[0;34m)\u001b[0m \u001b[0;32mor\u001b[0m \u001b[0mself\u001b[0m\u001b[0;34m.\u001b[0m\u001b[0mcoef_\u001b[0m \u001b[0;32mis\u001b[0m \u001b[0;32mNone\u001b[0m\u001b[0;34m:\u001b[0m\u001b[0;34m\u001b[0m\u001b[0;34m\u001b[0m\u001b[0m\n\u001b[1;32m    254\u001b[0m             raise NotFittedError(\"This %(name)s instance is not fitted \"\n\u001b[0;32m--> 255\u001b[0;31m                                  \"yet\" % {'name': type(self).__name__})\n\u001b[0m\u001b[1;32m    256\u001b[0m \u001b[0;34m\u001b[0m\u001b[0m\n\u001b[1;32m    257\u001b[0m         \u001b[0mX\u001b[0m \u001b[0;34m=\u001b[0m \u001b[0mcheck_array\u001b[0m\u001b[0;34m(\u001b[0m\u001b[0mX\u001b[0m\u001b[0;34m,\u001b[0m \u001b[0maccept_sparse\u001b[0m\u001b[0;34m=\u001b[0m\u001b[0;34m'csr'\u001b[0m\u001b[0;34m)\u001b[0m\u001b[0;34m\u001b[0m\u001b[0;34m\u001b[0m\u001b[0m\n",
      "\u001b[0;31mNotFittedError\u001b[0m: This LogisticRegression instance is not fitted yet"
     ]
    }
   ],
   "source": [
    "logreg.predict(zoo)"
   ]
  },
  {
   "cell_type": "code",
   "execution_count": 13,
   "metadata": {},
   "outputs": [],
   "source": [
    "import pandas as pd\n",
    "import numpy as np\n",
    "from sklearn import preprocessing\n",
    "import matplotlib.pyplot as plt \n",
    "plt.rc(\"font\", size=14)\n",
    "from sklearn.linear_model import LogisticRegression\n",
    "from sklearn.model_selection import train_test_split\n",
    "import seaborn as sns\n",
    "sns.set(style=\"white\")\n",
    "sns.set(style=\"whitegrid\", color_codes=True)"
   ]
  },
  {
   "cell_type": "markdown",
   "metadata": {},
   "source": [
    "print (zoo)\n"
   ]
  },
  {
   "cell_type": "code",
   "execution_count": 15,
   "metadata": {},
   "outputs": [
    {
     "name": "stdout",
     "output_type": "stream",
     "text": [
      "    animal_name  hair  feathers  eggs  milk  airborne  aquatic  predator  \\\n",
      "0      aardvark     1         0     0     1         0        0         1   \n",
      "1      antelope     1         0     0     1         0        0         0   \n",
      "2          bass     0         0     1     0         0        1         1   \n",
      "3          bear     1         0     0     1         0        0         1   \n",
      "4          boar     1         0     0     1         0        0         1   \n",
      "5       buffalo     1         0     0     1         0        0         0   \n",
      "6          calf     1         0     0     1         0        0         0   \n",
      "7          carp     0         0     1     0         0        1         0   \n",
      "8       catfish     0         0     1     0         0        1         1   \n",
      "9          cavy     1         0     0     1         0        0         0   \n",
      "10      cheetah     1         0     0     1         0        0         1   \n",
      "11      chicken     0         1     1     0         1        0         0   \n",
      "12         chub     0         0     1     0         0        1         1   \n",
      "13         clam     0         0     1     0         0        0         1   \n",
      "14         crab     0         0     1     0         0        1         1   \n",
      "15     crayfish     0         0     1     0         0        1         1   \n",
      "16         crow     0         1     1     0         1        0         1   \n",
      "17         deer     1         0     0     1         0        0         0   \n",
      "18      dogfish     0         0     1     0         0        1         1   \n",
      "19      dolphin     0         0     0     1         0        1         1   \n",
      "20         dove     0         1     1     0         1        0         0   \n",
      "21         duck     0         1     1     0         1        1         0   \n",
      "22     elephant     1         0     0     1         0        0         0   \n",
      "23     flamingo     0         1     1     0         1        0         0   \n",
      "24         flea     0         0     1     0         0        0         0   \n",
      "25         frog     0         0     1     0         0        1         1   \n",
      "26         frog     0         0     1     0         0        1         1   \n",
      "27     fruitbat     1         0     0     1         1        0         0   \n",
      "28      giraffe     1         0     0     1         0        0         0   \n",
      "29         girl     1         0     0     1         0        0         1   \n",
      "..          ...   ...       ...   ...   ...       ...      ...       ...   \n",
      "71         rhea     0         1     1     0         0        0         1   \n",
      "72     scorpion     0         0     0     0         0        0         1   \n",
      "73     seahorse     0         0     1     0         0        1         0   \n",
      "74         seal     1         0     0     1         0        1         1   \n",
      "75      sealion     1         0     0     1         0        1         1   \n",
      "76     seasnake     0         0     0     0         0        1         1   \n",
      "77      seawasp     0         0     1     0         0        1         1   \n",
      "78      skimmer     0         1     1     0         1        1         1   \n",
      "79         skua     0         1     1     0         1        1         1   \n",
      "80     slowworm     0         0     1     0         0        0         1   \n",
      "81         slug     0         0     1     0         0        0         0   \n",
      "82         sole     0         0     1     0         0        1         0   \n",
      "83      sparrow     0         1     1     0         1        0         0   \n",
      "84     squirrel     1         0     0     1         0        0         0   \n",
      "85     starfish     0         0     1     0         0        1         1   \n",
      "86     stingray     0         0     1     0         0        1         1   \n",
      "87         swan     0         1     1     0         1        1         0   \n",
      "88      termite     0         0     1     0         0        0         0   \n",
      "89         toad     0         0     1     0         0        1         0   \n",
      "90     tortoise     0         0     1     0         0        0         0   \n",
      "91      tuatara     0         0     1     0         0        0         1   \n",
      "92         tuna     0         0     1     0         0        1         1   \n",
      "93      vampire     1         0     0     1         1        0         0   \n",
      "94         vole     1         0     0     1         0        0         0   \n",
      "95      vulture     0         1     1     0         1        0         1   \n",
      "96      wallaby     1         0     0     1         0        0         0   \n",
      "97         wasp     1         0     1     0         1        0         0   \n",
      "98         wolf     1         0     0     1         0        0         1   \n",
      "99         worm     0         0     1     0         0        0         0   \n",
      "100        wren     0         1     1     0         1        0         0   \n",
      "\n",
      "     toothed  backbone  breathes  venomous  fins  legs  tail  domestic  \\\n",
      "0          1         1         1         0     0     4     0         0   \n",
      "1          1         1         1         0     0     4     1         0   \n",
      "2          1         1         0         0     1     0     1         0   \n",
      "3          1         1         1         0     0     4     0         0   \n",
      "4          1         1         1         0     0     4     1         0   \n",
      "5          1         1         1         0     0     4     1         0   \n",
      "6          1         1         1         0     0     4     1         1   \n",
      "7          1         1         0         0     1     0     1         1   \n",
      "8          1         1         0         0     1     0     1         0   \n",
      "9          1         1         1         0     0     4     0         1   \n",
      "10         1         1         1         0     0     4     1         0   \n",
      "11         0         1         1         0     0     2     1         1   \n",
      "12         1         1         0         0     1     0     1         0   \n",
      "13         0         0         0         0     0     0     0         0   \n",
      "14         0         0         0         0     0     4     0         0   \n",
      "15         0         0         0         0     0     6     0         0   \n",
      "16         0         1         1         0     0     2     1         0   \n",
      "17         1         1         1         0     0     4     1         0   \n",
      "18         1         1         0         0     1     0     1         0   \n",
      "19         1         1         1         0     1     0     1         0   \n",
      "20         0         1         1         0     0     2     1         1   \n",
      "21         0         1         1         0     0     2     1         0   \n",
      "22         1         1         1         0     0     4     1         0   \n",
      "23         0         1         1         0     0     2     1         0   \n",
      "24         0         0         1         0     0     6     0         0   \n",
      "25         1         1         1         0     0     4     0         0   \n",
      "26         1         1         1         1     0     4     0         0   \n",
      "27         1         1         1         0     0     2     1         0   \n",
      "28         1         1         1         0     0     4     1         0   \n",
      "29         1         1         1         0     0     2     0         1   \n",
      "..       ...       ...       ...       ...   ...   ...   ...       ...   \n",
      "71         0         1         1         0     0     2     1         0   \n",
      "72         0         0         1         1     0     8     1         0   \n",
      "73         1         1         0         0     1     0     1         0   \n",
      "74         1         1         1         0     1     0     0         0   \n",
      "75         1         1         1         0     1     2     1         0   \n",
      "76         1         1         0         1     0     0     1         0   \n",
      "77         0         0         0         1     0     0     0         0   \n",
      "78         0         1         1         0     0     2     1         0   \n",
      "79         0         1         1         0     0     2     1         0   \n",
      "80         1         1         1         0     0     0     1         0   \n",
      "81         0         0         1         0     0     0     0         0   \n",
      "82         1         1         0         0     1     0     1         0   \n",
      "83         0         1         1         0     0     2     1         0   \n",
      "84         1         1         1         0     0     2     1         0   \n",
      "85         0         0         0         0     0     5     0         0   \n",
      "86         1         1         0         1     1     0     1         0   \n",
      "87         0         1         1         0     0     2     1         0   \n",
      "88         0         0         1         0     0     6     0         0   \n",
      "89         1         1         1         0     0     4     0         0   \n",
      "90         0         1         1         0     0     4     1         0   \n",
      "91         1         1         1         0     0     4     1         0   \n",
      "92         1         1         0         0     1     0     1         0   \n",
      "93         1         1         1         0     0     2     1         0   \n",
      "94         1         1         1         0     0     4     1         0   \n",
      "95         0         1         1         0     0     2     1         0   \n",
      "96         1         1         1         0     0     2     1         0   \n",
      "97         0         0         1         1     0     6     0         0   \n",
      "98         1         1         1         0     0     4     1         0   \n",
      "99         0         0         1         0     0     0     0         0   \n",
      "100        0         1         1         0     0     2     1         0   \n",
      "\n",
      "     catsize  class_type  \n",
      "0          1           1  \n",
      "1          1           1  \n",
      "2          0           4  \n",
      "3          1           1  \n",
      "4          1           1  \n",
      "5          1           1  \n",
      "6          1           1  \n",
      "7          0           4  \n",
      "8          0           4  \n",
      "9          0           1  \n",
      "10         1           1  \n",
      "11         0           2  \n",
      "12         0           4  \n",
      "13         0           7  \n",
      "14         0           7  \n",
      "15         0           7  \n",
      "16         0           2  \n",
      "17         1           1  \n",
      "18         1           4  \n",
      "19         1           1  \n",
      "20         0           2  \n",
      "21         0           2  \n",
      "22         1           1  \n",
      "23         1           2  \n",
      "24         0           6  \n",
      "25         0           5  \n",
      "26         0           5  \n",
      "27         0           1  \n",
      "28         1           1  \n",
      "29         1           1  \n",
      "..       ...         ...  \n",
      "71         1           2  \n",
      "72         0           7  \n",
      "73         0           4  \n",
      "74         1           1  \n",
      "75         1           1  \n",
      "76         0           3  \n",
      "77         0           7  \n",
      "78         0           2  \n",
      "79         0           2  \n",
      "80         0           3  \n",
      "81         0           7  \n",
      "82         0           4  \n",
      "83         0           2  \n",
      "84         0           1  \n",
      "85         0           7  \n",
      "86         1           4  \n",
      "87         1           2  \n",
      "88         0           6  \n",
      "89         0           5  \n",
      "90         1           3  \n",
      "91         0           3  \n",
      "92         1           4  \n",
      "93         0           1  \n",
      "94         0           1  \n",
      "95         1           2  \n",
      "96         1           1  \n",
      "97         0           6  \n",
      "98         1           1  \n",
      "99         0           7  \n",
      "100        0           2  \n",
      "\n",
      "[101 rows x 18 columns]\n"
     ]
    }
   ],
   "source": [
    "print(zoo)"
   ]
  },
  {
   "cell_type": "code",
   "execution_count": 18,
   "metadata": {
    "collapsed": true
   },
   "outputs": [
    {
     "data": {
      "text/plain": [
       "1    41\n",
       "2    20\n",
       "4    13\n",
       "7    10\n",
       "6     8\n",
       "3     5\n",
       "5     4\n",
       "Name: class_type, dtype: int64"
      ]
     },
     "execution_count": 18,
     "metadata": {},
     "output_type": "execute_result"
    }
   ],
   "source": [
    "zoo['class_type'].value_counts()"
   ]
  },
  {
   "cell_type": "code",
   "execution_count": 19,
   "metadata": {},
   "outputs": [
    {
     "data": {
      "text/html": [
       "<div>\n",
       "<style scoped>\n",
       "    .dataframe tbody tr th:only-of-type {\n",
       "        vertical-align: middle;\n",
       "    }\n",
       "\n",
       "    .dataframe tbody tr th {\n",
       "        vertical-align: top;\n",
       "    }\n",
       "\n",
       "    .dataframe thead th {\n",
       "        text-align: right;\n",
       "    }\n",
       "</style>\n",
       "<table border=\"1\" class=\"dataframe\">\n",
       "  <thead>\n",
       "    <tr style=\"text-align: right;\">\n",
       "      <th></th>\n",
       "      <th>hair</th>\n",
       "      <th>feathers</th>\n",
       "      <th>eggs</th>\n",
       "      <th>milk</th>\n",
       "      <th>airborne</th>\n",
       "      <th>aquatic</th>\n",
       "      <th>predator</th>\n",
       "      <th>toothed</th>\n",
       "      <th>backbone</th>\n",
       "      <th>breathes</th>\n",
       "      <th>venomous</th>\n",
       "      <th>fins</th>\n",
       "      <th>legs</th>\n",
       "      <th>tail</th>\n",
       "      <th>domestic</th>\n",
       "      <th>catsize</th>\n",
       "    </tr>\n",
       "    <tr>\n",
       "      <th>class_type</th>\n",
       "      <th></th>\n",
       "      <th></th>\n",
       "      <th></th>\n",
       "      <th></th>\n",
       "      <th></th>\n",
       "      <th></th>\n",
       "      <th></th>\n",
       "      <th></th>\n",
       "      <th></th>\n",
       "      <th></th>\n",
       "      <th></th>\n",
       "      <th></th>\n",
       "      <th></th>\n",
       "      <th></th>\n",
       "      <th></th>\n",
       "      <th></th>\n",
       "    </tr>\n",
       "  </thead>\n",
       "  <tbody>\n",
       "    <tr>\n",
       "      <th>1</th>\n",
       "      <td>0.95122</td>\n",
       "      <td>0.0</td>\n",
       "      <td>0.02439</td>\n",
       "      <td>1.0</td>\n",
       "      <td>0.04878</td>\n",
       "      <td>0.146341</td>\n",
       "      <td>0.536585</td>\n",
       "      <td>0.97561</td>\n",
       "      <td>1.0</td>\n",
       "      <td>1.0</td>\n",
       "      <td>0.000000</td>\n",
       "      <td>0.097561</td>\n",
       "      <td>3.365854</td>\n",
       "      <td>0.853659</td>\n",
       "      <td>0.195122</td>\n",
       "      <td>0.780488</td>\n",
       "    </tr>\n",
       "    <tr>\n",
       "      <th>2</th>\n",
       "      <td>0.00000</td>\n",
       "      <td>1.0</td>\n",
       "      <td>1.00000</td>\n",
       "      <td>0.0</td>\n",
       "      <td>0.80000</td>\n",
       "      <td>0.300000</td>\n",
       "      <td>0.450000</td>\n",
       "      <td>0.00000</td>\n",
       "      <td>1.0</td>\n",
       "      <td>1.0</td>\n",
       "      <td>0.000000</td>\n",
       "      <td>0.000000</td>\n",
       "      <td>2.000000</td>\n",
       "      <td>1.000000</td>\n",
       "      <td>0.150000</td>\n",
       "      <td>0.300000</td>\n",
       "    </tr>\n",
       "    <tr>\n",
       "      <th>3</th>\n",
       "      <td>0.00000</td>\n",
       "      <td>0.0</td>\n",
       "      <td>0.80000</td>\n",
       "      <td>0.0</td>\n",
       "      <td>0.00000</td>\n",
       "      <td>0.200000</td>\n",
       "      <td>0.800000</td>\n",
       "      <td>0.80000</td>\n",
       "      <td>1.0</td>\n",
       "      <td>0.8</td>\n",
       "      <td>0.400000</td>\n",
       "      <td>0.000000</td>\n",
       "      <td>1.600000</td>\n",
       "      <td>1.000000</td>\n",
       "      <td>0.000000</td>\n",
       "      <td>0.200000</td>\n",
       "    </tr>\n",
       "    <tr>\n",
       "      <th>4</th>\n",
       "      <td>0.00000</td>\n",
       "      <td>0.0</td>\n",
       "      <td>1.00000</td>\n",
       "      <td>0.0</td>\n",
       "      <td>0.00000</td>\n",
       "      <td>1.000000</td>\n",
       "      <td>0.692308</td>\n",
       "      <td>1.00000</td>\n",
       "      <td>1.0</td>\n",
       "      <td>0.0</td>\n",
       "      <td>0.076923</td>\n",
       "      <td>1.000000</td>\n",
       "      <td>0.000000</td>\n",
       "      <td>1.000000</td>\n",
       "      <td>0.076923</td>\n",
       "      <td>0.307692</td>\n",
       "    </tr>\n",
       "    <tr>\n",
       "      <th>5</th>\n",
       "      <td>0.00000</td>\n",
       "      <td>0.0</td>\n",
       "      <td>1.00000</td>\n",
       "      <td>0.0</td>\n",
       "      <td>0.00000</td>\n",
       "      <td>1.000000</td>\n",
       "      <td>0.750000</td>\n",
       "      <td>1.00000</td>\n",
       "      <td>1.0</td>\n",
       "      <td>1.0</td>\n",
       "      <td>0.250000</td>\n",
       "      <td>0.000000</td>\n",
       "      <td>4.000000</td>\n",
       "      <td>0.250000</td>\n",
       "      <td>0.000000</td>\n",
       "      <td>0.000000</td>\n",
       "    </tr>\n",
       "    <tr>\n",
       "      <th>6</th>\n",
       "      <td>0.50000</td>\n",
       "      <td>0.0</td>\n",
       "      <td>1.00000</td>\n",
       "      <td>0.0</td>\n",
       "      <td>0.75000</td>\n",
       "      <td>0.000000</td>\n",
       "      <td>0.125000</td>\n",
       "      <td>0.00000</td>\n",
       "      <td>0.0</td>\n",
       "      <td>1.0</td>\n",
       "      <td>0.250000</td>\n",
       "      <td>0.000000</td>\n",
       "      <td>6.000000</td>\n",
       "      <td>0.000000</td>\n",
       "      <td>0.125000</td>\n",
       "      <td>0.000000</td>\n",
       "    </tr>\n",
       "    <tr>\n",
       "      <th>7</th>\n",
       "      <td>0.00000</td>\n",
       "      <td>0.0</td>\n",
       "      <td>0.90000</td>\n",
       "      <td>0.0</td>\n",
       "      <td>0.00000</td>\n",
       "      <td>0.600000</td>\n",
       "      <td>0.800000</td>\n",
       "      <td>0.00000</td>\n",
       "      <td>0.0</td>\n",
       "      <td>0.3</td>\n",
       "      <td>0.200000</td>\n",
       "      <td>0.000000</td>\n",
       "      <td>3.700000</td>\n",
       "      <td>0.100000</td>\n",
       "      <td>0.000000</td>\n",
       "      <td>0.100000</td>\n",
       "    </tr>\n",
       "  </tbody>\n",
       "</table>\n",
       "</div>"
      ],
      "text/plain": [
       "               hair  feathers     eggs  milk  airborne   aquatic  predator  \\\n",
       "class_type                                                                   \n",
       "1           0.95122       0.0  0.02439   1.0   0.04878  0.146341  0.536585   \n",
       "2           0.00000       1.0  1.00000   0.0   0.80000  0.300000  0.450000   \n",
       "3           0.00000       0.0  0.80000   0.0   0.00000  0.200000  0.800000   \n",
       "4           0.00000       0.0  1.00000   0.0   0.00000  1.000000  0.692308   \n",
       "5           0.00000       0.0  1.00000   0.0   0.00000  1.000000  0.750000   \n",
       "6           0.50000       0.0  1.00000   0.0   0.75000  0.000000  0.125000   \n",
       "7           0.00000       0.0  0.90000   0.0   0.00000  0.600000  0.800000   \n",
       "\n",
       "            toothed  backbone  breathes  venomous      fins      legs  \\\n",
       "class_type                                                              \n",
       "1           0.97561       1.0       1.0  0.000000  0.097561  3.365854   \n",
       "2           0.00000       1.0       1.0  0.000000  0.000000  2.000000   \n",
       "3           0.80000       1.0       0.8  0.400000  0.000000  1.600000   \n",
       "4           1.00000       1.0       0.0  0.076923  1.000000  0.000000   \n",
       "5           1.00000       1.0       1.0  0.250000  0.000000  4.000000   \n",
       "6           0.00000       0.0       1.0  0.250000  0.000000  6.000000   \n",
       "7           0.00000       0.0       0.3  0.200000  0.000000  3.700000   \n",
       "\n",
       "                tail  domestic   catsize  \n",
       "class_type                                \n",
       "1           0.853659  0.195122  0.780488  \n",
       "2           1.000000  0.150000  0.300000  \n",
       "3           1.000000  0.000000  0.200000  \n",
       "4           1.000000  0.076923  0.307692  \n",
       "5           0.250000  0.000000  0.000000  \n",
       "6           0.000000  0.125000  0.000000  \n",
       "7           0.100000  0.000000  0.100000  "
      ]
     },
     "execution_count": 19,
     "metadata": {},
     "output_type": "execute_result"
    }
   ],
   "source": [
    "zoo.groupby('class_type').mean()"
   ]
  },
  {
   "cell_type": "code",
   "execution_count": 20,
   "metadata": {},
   "outputs": [
    {
     "data": {
      "text/plain": [
       "<pandas.core.groupby.generic.DataFrameGroupBy object at 0x1a19d09f98>"
      ]
     },
     "execution_count": 20,
     "metadata": {},
     "output_type": "execute_result"
    }
   ],
   "source": [
    "zoo.groupby('class_type')"
   ]
  },
  {
   "cell_type": "code",
   "execution_count": 21,
   "metadata": {},
   "outputs": [],
   "source": [
    "table=pd.crosstab(zoo.class_type,zoo.airborne)"
   ]
  },
  {
   "cell_type": "code",
   "execution_count": 22,
   "metadata": {},
   "outputs": [
    {
     "name": "stdout",
     "output_type": "stream",
     "text": [
      "airborne     0   1\n",
      "class_type        \n",
      "1           39   2\n",
      "2            4  16\n",
      "3            5   0\n",
      "4           13   0\n",
      "5            4   0\n",
      "6            2   6\n",
      "7           10   0\n"
     ]
    }
   ],
   "source": [
    "print (table)"
   ]
  },
  {
   "cell_type": "code",
   "execution_count": 23,
   "metadata": {},
   "outputs": [],
   "source": [
    "%matplotlib inline\n"
   ]
  },
  {
   "cell_type": "code",
   "execution_count": 24,
   "metadata": {},
   "outputs": [
    {
     "data": {
      "image/png": "[encoded data removed]",
      "text/plain": [
       "<Figure size 432x288 with 1 Axes>"
      ]
     },
     "metadata": {
      "needs_background": "light"
     },
     "output_type": "display_data"
    }
   ],
   "source": [
    "pd.crosstab(zoo.class_type,zoo.hair).plot(kind='bar')\n",
    "plt.title('Frequency that class_type is related to hair feature')\n",
    "plt.xlabel('class_type')\n",
    "plt.ylabel('hair')\n",
    "plt.savefig('class_type&hair')"
   ]
  },
  {
   "cell_type": "code",
   "execution_count": 25,
   "metadata": {},
   "outputs": [
    {
     "name": "stdout",
     "output_type": "stream",
     "text": [
      "   Class_Number  Number_Of_Animal_Species_In_Class    Class_Type  \\\n",
      "0             1                                 41        Mammal   \n",
      "1             2                                 20          Bird   \n",
      "2             3                                  5       Reptile   \n",
      "3             4                                 13          Fish   \n",
      "4             5                                  4     Amphibian   \n",
      "5             6                                  8           Bug   \n",
      "6             7                                 10  Invertebrate   \n",
      "\n",
      "                                        Animal_Names  \n",
      "0  aardvark, antelope, bear, boar, buffalo, calf,...  \n",
      "1  chicken, crow, dove, duck, flamingo, gull, haw...  \n",
      "2    pitviper, seasnake, slowworm, tortoise, tuatara  \n",
      "3  bass, carp, catfish, chub, dogfish, haddock, h...  \n",
      "4                             frog, frog, newt, toad  \n",
      "5  flea, gnat, honeybee, housefly, ladybird, moth...  \n",
      "6  clam, crab, crayfish, lobster, octopus, scorpi...  \n"
     ]
    }
   ],
   "source": [
    "print(class1)"
   ]
  },
  {
   "cell_type": "code",
   "execution_count": 26,
   "metadata": {},
   "outputs": [],
   "source": [
    "import statsmodels.api as sm"
   ]
  },
  {
   "cell_type": "code",
   "execution_count": 27,
   "metadata": {},
   "outputs": [],
   "source": [
    "from sklearn.linear_model import LogisticRegression\n",
    "from sklearn import metrics"
   ]
  },
  {
   "cell_type": "code",
   "execution_count": 28,
   "metadata": {},
   "outputs": [],
   "source": [
    "from sklearn.metrics import confusion_matrix"
   ]
  },
  {
   "cell_type": "code",
   "execution_count": 29,
   "metadata": {},
   "outputs": [],
   "source": [
    "from sklearn.metrics import classification_report"
   ]
  },
  {
   "cell_type": "code",
   "execution_count": 30,
   "metadata": {},
   "outputs": [
    {
     "ename": "ValueError",
     "evalue": "Pandas data cast to numpy dtype of object. Check input data with np.asarray(data).",
     "output_type": "error",
     "traceback": [
      "\u001b[0;31m---------------------------------------------------------------------------\u001b[0m",
      "\u001b[0;31mValueError\u001b[0m                                Traceback (most recent call last)",
      "\u001b[0;32m<ipython-input-30-c346024b201b>\u001b[0m in \u001b[0;36m<module>\u001b[0;34m\u001b[0m\n\u001b[0;32m----> 1\u001b[0;31m \u001b[0mlogit_model\u001b[0m\u001b[0;34m=\u001b[0m\u001b[0msm\u001b[0m\u001b[0;34m.\u001b[0m\u001b[0mLogit\u001b[0m\u001b[0;34m(\u001b[0m\u001b[0mzoo\u001b[0m\u001b[0;34m,\u001b[0m\u001b[0;34m'class_type'\u001b[0m\u001b[0;34m)\u001b[0m\u001b[0;34m\u001b[0m\u001b[0;34m\u001b[0m\u001b[0m\n\u001b[0m",
      "\u001b[0;32m~/anaconda3/lib/python3.7/site-packages/statsmodels/discrete/discrete_model.py\u001b[0m in \u001b[0;36m__init__\u001b[0;34m(self, endog, exog, **kwargs)\u001b[0m\n\u001b[1;32m    416\u001b[0m \u001b[0;34m\u001b[0m\u001b[0m\n\u001b[1;32m    417\u001b[0m     \u001b[0;32mdef\u001b[0m \u001b[0m__init__\u001b[0m\u001b[0;34m(\u001b[0m\u001b[0mself\u001b[0m\u001b[0;34m,\u001b[0m \u001b[0mendog\u001b[0m\u001b[0;34m,\u001b[0m \u001b[0mexog\u001b[0m\u001b[0;34m,\u001b[0m \u001b[0;34m**\u001b[0m\u001b[0mkwargs\u001b[0m\u001b[0;34m)\u001b[0m\u001b[0;34m:\u001b[0m\u001b[0;34m\u001b[0m\u001b[0;34m\u001b[0m\u001b[0m\n\u001b[0;32m--> 418\u001b[0;31m         \u001b[0msuper\u001b[0m\u001b[0;34m(\u001b[0m\u001b[0mBinaryModel\u001b[0m\u001b[0;34m,\u001b[0m \u001b[0mself\u001b[0m\u001b[0;34m)\u001b[0m\u001b[0;34m.\u001b[0m\u001b[0m__init__\u001b[0m\u001b[0;34m(\u001b[0m\u001b[0mendog\u001b[0m\u001b[0;34m,\u001b[0m \u001b[0mexog\u001b[0m\u001b[0;34m,\u001b[0m \u001b[0;34m**\u001b[0m\u001b[0mkwargs\u001b[0m\u001b[0;34m)\u001b[0m\u001b[0;34m\u001b[0m\u001b[0;34m\u001b[0m\u001b[0m\n\u001b[0m\u001b[1;32m    419\u001b[0m         if (not issubclass(self.__class__, MultinomialModel) and\n\u001b[1;32m    420\u001b[0m                 not np.all((self.endog >= 0) & (self.endog <= 1))):\n",
      "\u001b[0;32m~/anaconda3/lib/python3.7/site-packages/statsmodels/discrete/discrete_model.py\u001b[0m in \u001b[0;36m__init__\u001b[0;34m(self, endog, exog, **kwargs)\u001b[0m\n\u001b[1;32m    169\u001b[0m     \"\"\"\n\u001b[1;32m    170\u001b[0m     \u001b[0;32mdef\u001b[0m \u001b[0m__init__\u001b[0m\u001b[0;34m(\u001b[0m\u001b[0mself\u001b[0m\u001b[0;34m,\u001b[0m \u001b[0mendog\u001b[0m\u001b[0;34m,\u001b[0m \u001b[0mexog\u001b[0m\u001b[0;34m,\u001b[0m \u001b[0;34m**\u001b[0m\u001b[0mkwargs\u001b[0m\u001b[0;34m)\u001b[0m\u001b[0;34m:\u001b[0m\u001b[0;34m\u001b[0m\u001b[0;34m\u001b[0m\u001b[0m\n\u001b[0;32m--> 171\u001b[0;31m         \u001b[0msuper\u001b[0m\u001b[0;34m(\u001b[0m\u001b[0mDiscreteModel\u001b[0m\u001b[0;34m,\u001b[0m \u001b[0mself\u001b[0m\u001b[0;34m)\u001b[0m\u001b[0;34m.\u001b[0m\u001b[0m__init__\u001b[0m\u001b[0;34m(\u001b[0m\u001b[0mendog\u001b[0m\u001b[0;34m,\u001b[0m \u001b[0mexog\u001b[0m\u001b[0;34m,\u001b[0m \u001b[0;34m**\u001b[0m\u001b[0mkwargs\u001b[0m\u001b[0;34m)\u001b[0m\u001b[0;34m\u001b[0m\u001b[0;34m\u001b[0m\u001b[0m\n\u001b[0m\u001b[1;32m    172\u001b[0m         \u001b[0mself\u001b[0m\u001b[0;34m.\u001b[0m\u001b[0mraise_on_perfect_prediction\u001b[0m \u001b[0;34m=\u001b[0m \u001b[0;32mTrue\u001b[0m\u001b[0;34m\u001b[0m\u001b[0;34m\u001b[0m\u001b[0m\n\u001b[1;32m    173\u001b[0m \u001b[0;34m\u001b[0m\u001b[0m\n",
      "\u001b[0;32m~/anaconda3/lib/python3.7/site-packages/statsmodels/base/model.py\u001b[0m in \u001b[0;36m__init__\u001b[0;34m(self, endog, exog, **kwargs)\u001b[0m\n\u001b[1;32m    210\u001b[0m \u001b[0;34m\u001b[0m\u001b[0m\n\u001b[1;32m    211\u001b[0m     \u001b[0;32mdef\u001b[0m \u001b[0m__init__\u001b[0m\u001b[0;34m(\u001b[0m\u001b[0mself\u001b[0m\u001b[0;34m,\u001b[0m \u001b[0mendog\u001b[0m\u001b[0;34m,\u001b[0m \u001b[0mexog\u001b[0m\u001b[0;34m=\u001b[0m\u001b[0;32mNone\u001b[0m\u001b[0;34m,\u001b[0m \u001b[0;34m**\u001b[0m\u001b[0mkwargs\u001b[0m\u001b[0;34m)\u001b[0m\u001b[0;34m:\u001b[0m\u001b[0;34m\u001b[0m\u001b[0;34m\u001b[0m\u001b[0m\n\u001b[0;32m--> 212\u001b[0;31m         \u001b[0msuper\u001b[0m\u001b[0;34m(\u001b[0m\u001b[0mLikelihoodModel\u001b[0m\u001b[0;34m,\u001b[0m \u001b[0mself\u001b[0m\u001b[0;34m)\u001b[0m\u001b[0;34m.\u001b[0m\u001b[0m__init__\u001b[0m\u001b[0;34m(\u001b[0m\u001b[0mendog\u001b[0m\u001b[0;34m,\u001b[0m \u001b[0mexog\u001b[0m\u001b[0;34m,\u001b[0m \u001b[0;34m**\u001b[0m\u001b[0mkwargs\u001b[0m\u001b[0;34m)\u001b[0m\u001b[0;34m\u001b[0m\u001b[0;34m\u001b[0m\u001b[0m\n\u001b[0m\u001b[1;32m    213\u001b[0m         \u001b[0mself\u001b[0m\u001b[0;34m.\u001b[0m\u001b[0minitialize\u001b[0m\u001b[0;34m(\u001b[0m\u001b[0;34m)\u001b[0m\u001b[0;34m\u001b[0m\u001b[0;34m\u001b[0m\u001b[0m\n\u001b[1;32m    214\u001b[0m \u001b[0;34m\u001b[0m\u001b[0m\n",
      "\u001b[0;32m~/anaconda3/lib/python3.7/site-packages/statsmodels/base/model.py\u001b[0m in \u001b[0;36m__init__\u001b[0;34m(self, endog, exog, **kwargs)\u001b[0m\n\u001b[1;32m     62\u001b[0m         \u001b[0mhasconst\u001b[0m \u001b[0;34m=\u001b[0m \u001b[0mkwargs\u001b[0m\u001b[0;34m.\u001b[0m\u001b[0mpop\u001b[0m\u001b[0;34m(\u001b[0m\u001b[0;34m'hasconst'\u001b[0m\u001b[0;34m,\u001b[0m \u001b[0;32mNone\u001b[0m\u001b[0;34m)\u001b[0m\u001b[0;34m\u001b[0m\u001b[0;34m\u001b[0m\u001b[0m\n\u001b[1;32m     63\u001b[0m         self.data = self._handle_data(endog, exog, missing, hasconst,\n\u001b[0;32m---> 64\u001b[0;31m                                       **kwargs)\n\u001b[0m\u001b[1;32m     65\u001b[0m         \u001b[0mself\u001b[0m\u001b[0;34m.\u001b[0m\u001b[0mk_constant\u001b[0m \u001b[0;34m=\u001b[0m \u001b[0mself\u001b[0m\u001b[0;34m.\u001b[0m\u001b[0mdata\u001b[0m\u001b[0;34m.\u001b[0m\u001b[0mk_constant\u001b[0m\u001b[0;34m\u001b[0m\u001b[0;34m\u001b[0m\u001b[0m\n\u001b[1;32m     66\u001b[0m         \u001b[0mself\u001b[0m\u001b[0;34m.\u001b[0m\u001b[0mexog\u001b[0m \u001b[0;34m=\u001b[0m \u001b[0mself\u001b[0m\u001b[0;34m.\u001b[0m\u001b[0mdata\u001b[0m\u001b[0;34m.\u001b[0m\u001b[0mexog\u001b[0m\u001b[0;34m\u001b[0m\u001b[0;34m\u001b[0m\u001b[0m\n",
      "\u001b[0;32m~/anaconda3/lib/python3.7/site-packages/statsmodels/base/model.py\u001b[0m in \u001b[0;36m_handle_data\u001b[0;34m(self, endog, exog, missing, hasconst, **kwargs)\u001b[0m\n\u001b[1;32m     85\u001b[0m \u001b[0;34m\u001b[0m\u001b[0m\n\u001b[1;32m     86\u001b[0m     \u001b[0;32mdef\u001b[0m \u001b[0m_handle_data\u001b[0m\u001b[0;34m(\u001b[0m\u001b[0mself\u001b[0m\u001b[0;34m,\u001b[0m \u001b[0mendog\u001b[0m\u001b[0;34m,\u001b[0m \u001b[0mexog\u001b[0m\u001b[0;34m,\u001b[0m \u001b[0mmissing\u001b[0m\u001b[0;34m,\u001b[0m \u001b[0mhasconst\u001b[0m\u001b[0;34m,\u001b[0m \u001b[0;34m**\u001b[0m\u001b[0mkwargs\u001b[0m\u001b[0;34m)\u001b[0m\u001b[0;34m:\u001b[0m\u001b[0;34m\u001b[0m\u001b[0;34m\u001b[0m\u001b[0m\n\u001b[0;32m---> 87\u001b[0;31m         \u001b[0mdata\u001b[0m \u001b[0;34m=\u001b[0m \u001b[0mhandle_data\u001b[0m\u001b[0;34m(\u001b[0m\u001b[0mendog\u001b[0m\u001b[0;34m,\u001b[0m \u001b[0mexog\u001b[0m\u001b[0;34m,\u001b[0m \u001b[0mmissing\u001b[0m\u001b[0;34m,\u001b[0m \u001b[0mhasconst\u001b[0m\u001b[0;34m,\u001b[0m \u001b[0;34m**\u001b[0m\u001b[0mkwargs\u001b[0m\u001b[0;34m)\u001b[0m\u001b[0;34m\u001b[0m\u001b[0;34m\u001b[0m\u001b[0m\n\u001b[0m\u001b[1;32m     88\u001b[0m         \u001b[0;31m# kwargs arrays could have changed, easier to just attach here\u001b[0m\u001b[0;34m\u001b[0m\u001b[0;34m\u001b[0m\u001b[0;34m\u001b[0m\u001b[0m\n\u001b[1;32m     89\u001b[0m         \u001b[0;32mfor\u001b[0m \u001b[0mkey\u001b[0m \u001b[0;32min\u001b[0m \u001b[0mkwargs\u001b[0m\u001b[0;34m:\u001b[0m\u001b[0;34m\u001b[0m\u001b[0;34m\u001b[0m\u001b[0m\n",
      "\u001b[0;32m~/anaconda3/lib/python3.7/site-packages/statsmodels/base/data.py\u001b[0m in \u001b[0;36mhandle_data\u001b[0;34m(endog, exog, missing, hasconst, **kwargs)\u001b[0m\n\u001b[1;32m    631\u001b[0m     \u001b[0mklass\u001b[0m \u001b[0;34m=\u001b[0m \u001b[0mhandle_data_class_factory\u001b[0m\u001b[0;34m(\u001b[0m\u001b[0mendog\u001b[0m\u001b[0;34m,\u001b[0m \u001b[0mexog\u001b[0m\u001b[0;34m)\u001b[0m\u001b[0;34m\u001b[0m\u001b[0;34m\u001b[0m\u001b[0m\n\u001b[1;32m    632\u001b[0m     return klass(endog, exog=exog, missing=missing, hasconst=hasconst,\n\u001b[0;32m--> 633\u001b[0;31m                  **kwargs)\n\u001b[0m",
      "\u001b[0;32m~/anaconda3/lib/python3.7/site-packages/statsmodels/base/data.py\u001b[0m in \u001b[0;36m__init__\u001b[0;34m(self, endog, exog, missing, hasconst, **kwargs)\u001b[0m\n\u001b[1;32m     74\u001b[0m             \u001b[0mself\u001b[0m\u001b[0;34m.\u001b[0m\u001b[0morig_endog\u001b[0m \u001b[0;34m=\u001b[0m \u001b[0mendog\u001b[0m\u001b[0;34m\u001b[0m\u001b[0;34m\u001b[0m\u001b[0m\n\u001b[1;32m     75\u001b[0m             \u001b[0mself\u001b[0m\u001b[0;34m.\u001b[0m\u001b[0morig_exog\u001b[0m \u001b[0;34m=\u001b[0m \u001b[0mexog\u001b[0m\u001b[0;34m\u001b[0m\u001b[0;34m\u001b[0m\u001b[0m\n\u001b[0;32m---> 76\u001b[0;31m             \u001b[0mself\u001b[0m\u001b[0;34m.\u001b[0m\u001b[0mendog\u001b[0m\u001b[0;34m,\u001b[0m \u001b[0mself\u001b[0m\u001b[0;34m.\u001b[0m\u001b[0mexog\u001b[0m \u001b[0;34m=\u001b[0m \u001b[0mself\u001b[0m\u001b[0;34m.\u001b[0m\u001b[0m_convert_endog_exog\u001b[0m\u001b[0;34m(\u001b[0m\u001b[0mendog\u001b[0m\u001b[0;34m,\u001b[0m \u001b[0mexog\u001b[0m\u001b[0;34m)\u001b[0m\u001b[0;34m\u001b[0m\u001b[0;34m\u001b[0m\u001b[0m\n\u001b[0m\u001b[1;32m     77\u001b[0m \u001b[0;34m\u001b[0m\u001b[0m\n\u001b[1;32m     78\u001b[0m         \u001b[0;31m# this has side-effects, attaches k_constant and const_idx\u001b[0m\u001b[0;34m\u001b[0m\u001b[0;34m\u001b[0m\u001b[0;34m\u001b[0m\u001b[0m\n",
      "\u001b[0;32m~/anaconda3/lib/python3.7/site-packages/statsmodels/base/data.py\u001b[0m in \u001b[0;36m_convert_endog_exog\u001b[0;34m(self, endog, exog)\u001b[0m\n\u001b[1;32m    472\u001b[0m         \u001b[0mexog\u001b[0m \u001b[0;34m=\u001b[0m \u001b[0mexog\u001b[0m \u001b[0;32mif\u001b[0m \u001b[0mexog\u001b[0m \u001b[0;32mis\u001b[0m \u001b[0;32mNone\u001b[0m \u001b[0;32melse\u001b[0m \u001b[0mnp\u001b[0m\u001b[0;34m.\u001b[0m\u001b[0masarray\u001b[0m\u001b[0;34m(\u001b[0m\u001b[0mexog\u001b[0m\u001b[0;34m)\u001b[0m\u001b[0;34m\u001b[0m\u001b[0;34m\u001b[0m\u001b[0m\n\u001b[1;32m    473\u001b[0m         \u001b[0;32mif\u001b[0m \u001b[0mendog\u001b[0m\u001b[0;34m.\u001b[0m\u001b[0mdtype\u001b[0m \u001b[0;34m==\u001b[0m \u001b[0mobject\u001b[0m \u001b[0;32mor\u001b[0m \u001b[0mexog\u001b[0m \u001b[0;32mis\u001b[0m \u001b[0;32mnot\u001b[0m \u001b[0;32mNone\u001b[0m \u001b[0;32mand\u001b[0m \u001b[0mexog\u001b[0m\u001b[0;34m.\u001b[0m\u001b[0mdtype\u001b[0m \u001b[0;34m==\u001b[0m \u001b[0mobject\u001b[0m\u001b[0;34m:\u001b[0m\u001b[0;34m\u001b[0m\u001b[0;34m\u001b[0m\u001b[0m\n\u001b[0;32m--> 474\u001b[0;31m             raise ValueError(\"Pandas data cast to numpy dtype of object. \"\n\u001b[0m\u001b[1;32m    475\u001b[0m                              \"Check input data with np.asarray(data).\")\n\u001b[1;32m    476\u001b[0m         \u001b[0;32mreturn\u001b[0m \u001b[0msuper\u001b[0m\u001b[0;34m(\u001b[0m\u001b[0mPandasData\u001b[0m\u001b[0;34m,\u001b[0m \u001b[0mself\u001b[0m\u001b[0;34m)\u001b[0m\u001b[0;34m.\u001b[0m\u001b[0m_convert_endog_exog\u001b[0m\u001b[0;34m(\u001b[0m\u001b[0mendog\u001b[0m\u001b[0;34m,\u001b[0m \u001b[0mexog\u001b[0m\u001b[0;34m)\u001b[0m\u001b[0;34m\u001b[0m\u001b[0;34m\u001b[0m\u001b[0m\n",
      "\u001b[0;31mValueError\u001b[0m: Pandas data cast to numpy dtype of object. Check input data with np.asarray(data)."
     ]
    }
   ],
   "source": [
    "logit_model=sm.Logit(zoo,'class_type')"
   ]
  },
  {
   "cell_type": "code",
   "execution_count": 31,
   "metadata": {},
   "outputs": [],
   "source": [
    "from sklearn.model_selection import train_test_split"
   ]
  },
  {
   "cell_type": "code",
   "execution_count": 36,
   "metadata": {},
   "outputs": [
    {
     "ename": "ValueError",
     "evalue": "not enough values to unpack (expected 4, got 2)",
     "output_type": "error",
     "traceback": [
      "\u001b[0;31m---------------------------------------------------------------------------\u001b[0m",
      "\u001b[0;31mValueError\u001b[0m                                Traceback (most recent call last)",
      "\u001b[0;32m<ipython-input-36-c0271ba79009>\u001b[0m in \u001b[0;36m<module>\u001b[0;34m\u001b[0m\n\u001b[1;32m      1\u001b[0m train, test, train_labels, test_labels = train_test_split(zoo,\n\u001b[1;32m      2\u001b[0m                                                           \u001b[0mtest_size\u001b[0m\u001b[0;34m=\u001b[0m\u001b[0;36m0.33\u001b[0m\u001b[0;34m,\u001b[0m\u001b[0;34m\u001b[0m\u001b[0;34m\u001b[0m\u001b[0m\n\u001b[0;32m----> 3\u001b[0;31m                                                           random_state=1000)\n\u001b[0m",
      "\u001b[0;31mValueError\u001b[0m: not enough values to unpack (expected 4, got 2)"
     ]
    }
   ],
   "source": [
    "train, test, train_labels, test_labels = train_test_split(zoo,\n",
    "                                                          ,kjjlhl,\n",
    "                                                          test_size=0.33,\n",
    "                                                          random_state=42)"
   ]
  },
  {
   "cell_type": "code",
   "execution_count": 38,
   "metadata": {},
   "outputs": [
    {
     "ename": "KeyError",
     "evalue": "('hair', 'feathers', 'eggs', 'milk', 'airborne', 'aquatic', 'predator', 'toothed', 'backbone', 'breathes', 'venomous', 'fins', 'legs', 'tail', 'domestic', 'catsize', 'class_type')",
     "output_type": "error",
     "traceback": [
      "\u001b[0;31m---------------------------------------------------------------------------\u001b[0m",
      "\u001b[0;31mKeyError\u001b[0m                                  Traceback (most recent call last)",
      "\u001b[0;32m~/anaconda3/lib/python3.7/site-packages/pandas/core/indexes/base.py\u001b[0m in \u001b[0;36mget_loc\u001b[0;34m(self, key, method, tolerance)\u001b[0m\n\u001b[1;32m   2656\u001b[0m             \u001b[0;32mtry\u001b[0m\u001b[0;34m:\u001b[0m\u001b[0;34m\u001b[0m\u001b[0;34m\u001b[0m\u001b[0m\n\u001b[0;32m-> 2657\u001b[0;31m                 \u001b[0;32mreturn\u001b[0m \u001b[0mself\u001b[0m\u001b[0;34m.\u001b[0m\u001b[0m_engine\u001b[0m\u001b[0;34m.\u001b[0m\u001b[0mget_loc\u001b[0m\u001b[0;34m(\u001b[0m\u001b[0mkey\u001b[0m\u001b[0;34m)\u001b[0m\u001b[0;34m\u001b[0m\u001b[0;34m\u001b[0m\u001b[0m\n\u001b[0m\u001b[1;32m   2658\u001b[0m             \u001b[0;32mexcept\u001b[0m \u001b[0mKeyError\u001b[0m\u001b[0;34m:\u001b[0m\u001b[0;34m\u001b[0m\u001b[0;34m\u001b[0m\u001b[0m\n",
      "\u001b[0;32mpandas/_libs/index.pyx\u001b[0m in \u001b[0;36mpandas._libs.index.IndexEngine.get_loc\u001b[0;34m()\u001b[0m\n",
      "\u001b[0;32mpandas/_libs/index.pyx\u001b[0m in \u001b[0;36mpandas._libs.index.IndexEngine.get_loc\u001b[0;34m()\u001b[0m\n",
      "\u001b[0;32mpandas/_libs/hashtable_class_helper.pxi\u001b[0m in \u001b[0;36mpandas._libs.hashtable.PyObjectHashTable.get_item\u001b[0;34m()\u001b[0m\n",
      "\u001b[0;32mpandas/_libs/hashtable_class_helper.pxi\u001b[0m in \u001b[0;36mpandas._libs.hashtable.PyObjectHashTable.get_item\u001b[0;34m()\u001b[0m\n",
      "\u001b[0;31mKeyError\u001b[0m: ('hair', 'feathers', 'eggs', 'milk', 'airborne', 'aquatic', 'predator', 'toothed', 'backbone', 'breathes', 'venomous', 'fins', 'legs', 'tail', 'domestic', 'catsize', 'class_type')",
      "\nDuring handling of the above exception, another exception occurred:\n",
      "\u001b[0;31mKeyError\u001b[0m                                  Traceback (most recent call last)",
      "\u001b[0;32m<ipython-input-38-cffb26cd8205>\u001b[0m in \u001b[0;36m<module>\u001b[0;34m\u001b[0m\n\u001b[0;32m----> 1\u001b[0;31m \u001b[0mlabel_names\u001b[0m \u001b[0;34m=\u001b[0m \u001b[0mzoo\u001b[0m\u001b[0;34m[\u001b[0m\u001b[0;34m'hair'\u001b[0m \u001b[0;34m,\u001b[0m \u001b[0;34m'feathers'\u001b[0m \u001b[0;34m,\u001b[0m \u001b[0;34m'eggs'\u001b[0m \u001b[0;34m,\u001b[0m \u001b[0;34m'milk'\u001b[0m \u001b[0;34m,\u001b[0m \u001b[0;34m'airborne'\u001b[0m \u001b[0;34m,\u001b[0m \u001b[0;34m'aquatic'\u001b[0m \u001b[0;34m,\u001b[0m \u001b[0;34m'predator'\u001b[0m \u001b[0;34m,\u001b[0m \u001b[0;34m'toothed'\u001b[0m \u001b[0;34m,\u001b[0m \u001b[0;34m'backbone'\u001b[0m \u001b[0;34m,\u001b[0m \u001b[0;34m'breathes'\u001b[0m \u001b[0;34m,\u001b[0m \u001b[0;34m'venomous'\u001b[0m \u001b[0;34m,\u001b[0m \u001b[0;34m'fins'\u001b[0m \u001b[0;34m,\u001b[0m \u001b[0;34m'legs'\u001b[0m \u001b[0;34m,\u001b[0m \u001b[0;34m'tail'\u001b[0m \u001b[0;34m,\u001b[0m \u001b[0;34m'domestic'\u001b[0m \u001b[0;34m,\u001b[0m \u001b[0;34m'catsize'\u001b[0m \u001b[0;34m,\u001b[0m \u001b[0;34m'class_type'\u001b[0m\u001b[0;34m]\u001b[0m\u001b[0;34m\u001b[0m\u001b[0;34m\u001b[0m\u001b[0m\n\u001b[0m\u001b[1;32m      2\u001b[0m \u001b[0mlabels\u001b[0m \u001b[0;34m=\u001b[0m \u001b[0mzoo\u001b[0m\u001b[0;34m[\u001b[0m\u001b[0;34m'class_type'\u001b[0m\u001b[0;34m]\u001b[0m\u001b[0;34m\u001b[0m\u001b[0;34m\u001b[0m\u001b[0m\n\u001b[1;32m      3\u001b[0m \u001b[0mfeature_names\u001b[0m \u001b[0;34m=\u001b[0m \u001b[0mzoo\u001b[0m\u001b[0;34m[\u001b[0m\u001b[0;34m'0'\u001b[0m\u001b[0;34m,\u001b[0m\u001b[0;34m'1'\u001b[0m\u001b[0;34m]\u001b[0m\u001b[0;34m\u001b[0m\u001b[0;34m\u001b[0m\u001b[0m\n\u001b[1;32m      4\u001b[0m \u001b[0mfeatures\u001b[0m \u001b[0;34m=\u001b[0m \u001b[0mzoo\u001b[0m\u001b[0;34m[\u001b[0m\u001b[0;34m'Hair'\u001b[0m\u001b[0;34m]\u001b[0m\u001b[0;34m\u001b[0m\u001b[0;34m\u001b[0m\u001b[0m\n",
      "\u001b[0;32m~/anaconda3/lib/python3.7/site-packages/pandas/core/frame.py\u001b[0m in \u001b[0;36m__getitem__\u001b[0;34m(self, key)\u001b[0m\n\u001b[1;32m   2925\u001b[0m             \u001b[0;32mif\u001b[0m \u001b[0mself\u001b[0m\u001b[0;34m.\u001b[0m\u001b[0mcolumns\u001b[0m\u001b[0;34m.\u001b[0m\u001b[0mnlevels\u001b[0m \u001b[0;34m>\u001b[0m \u001b[0;36m1\u001b[0m\u001b[0;34m:\u001b[0m\u001b[0;34m\u001b[0m\u001b[0;34m\u001b[0m\u001b[0m\n\u001b[1;32m   2926\u001b[0m                 \u001b[0;32mreturn\u001b[0m \u001b[0mself\u001b[0m\u001b[0;34m.\u001b[0m\u001b[0m_getitem_multilevel\u001b[0m\u001b[0;34m(\u001b[0m\u001b[0mkey\u001b[0m\u001b[0;34m)\u001b[0m\u001b[0;34m\u001b[0m\u001b[0;34m\u001b[0m\u001b[0m\n\u001b[0;32m-> 2927\u001b[0;31m             \u001b[0mindexer\u001b[0m \u001b[0;34m=\u001b[0m \u001b[0mself\u001b[0m\u001b[0;34m.\u001b[0m\u001b[0mcolumns\u001b[0m\u001b[0;34m.\u001b[0m\u001b[0mget_loc\u001b[0m\u001b[0;34m(\u001b[0m\u001b[0mkey\u001b[0m\u001b[0;34m)\u001b[0m\u001b[0;34m\u001b[0m\u001b[0;34m\u001b[0m\u001b[0m\n\u001b[0m\u001b[1;32m   2928\u001b[0m             \u001b[0;32mif\u001b[0m \u001b[0mis_integer\u001b[0m\u001b[0;34m(\u001b[0m\u001b[0mindexer\u001b[0m\u001b[0;34m)\u001b[0m\u001b[0;34m:\u001b[0m\u001b[0;34m\u001b[0m\u001b[0;34m\u001b[0m\u001b[0m\n\u001b[1;32m   2929\u001b[0m                 \u001b[0mindexer\u001b[0m \u001b[0;34m=\u001b[0m \u001b[0;34m[\u001b[0m\u001b[0mindexer\u001b[0m\u001b[0;34m]\u001b[0m\u001b[0;34m\u001b[0m\u001b[0;34m\u001b[0m\u001b[0m\n",
      "\u001b[0;32m~/anaconda3/lib/python3.7/site-packages/pandas/core/indexes/base.py\u001b[0m in \u001b[0;36mget_loc\u001b[0;34m(self, key, method, tolerance)\u001b[0m\n\u001b[1;32m   2657\u001b[0m                 \u001b[0;32mreturn\u001b[0m \u001b[0mself\u001b[0m\u001b[0;34m.\u001b[0m\u001b[0m_engine\u001b[0m\u001b[0;34m.\u001b[0m\u001b[0mget_loc\u001b[0m\u001b[0;34m(\u001b[0m\u001b[0mkey\u001b[0m\u001b[0;34m)\u001b[0m\u001b[0;34m\u001b[0m\u001b[0;34m\u001b[0m\u001b[0m\n\u001b[1;32m   2658\u001b[0m             \u001b[0;32mexcept\u001b[0m \u001b[0mKeyError\u001b[0m\u001b[0;34m:\u001b[0m\u001b[0;34m\u001b[0m\u001b[0;34m\u001b[0m\u001b[0m\n\u001b[0;32m-> 2659\u001b[0;31m                 \u001b[0;32mreturn\u001b[0m \u001b[0mself\u001b[0m\u001b[0;34m.\u001b[0m\u001b[0m_engine\u001b[0m\u001b[0;34m.\u001b[0m\u001b[0mget_loc\u001b[0m\u001b[0;34m(\u001b[0m\u001b[0mself\u001b[0m\u001b[0;34m.\u001b[0m\u001b[0m_maybe_cast_indexer\u001b[0m\u001b[0;34m(\u001b[0m\u001b[0mkey\u001b[0m\u001b[0;34m)\u001b[0m\u001b[0;34m)\u001b[0m\u001b[0;34m\u001b[0m\u001b[0;34m\u001b[0m\u001b[0m\n\u001b[0m\u001b[1;32m   2660\u001b[0m         \u001b[0mindexer\u001b[0m \u001b[0;34m=\u001b[0m \u001b[0mself\u001b[0m\u001b[0;34m.\u001b[0m\u001b[0mget_indexer\u001b[0m\u001b[0;34m(\u001b[0m\u001b[0;34m[\u001b[0m\u001b[0mkey\u001b[0m\u001b[0;34m]\u001b[0m\u001b[0;34m,\u001b[0m \u001b[0mmethod\u001b[0m\u001b[0;34m=\u001b[0m\u001b[0mmethod\u001b[0m\u001b[0;34m,\u001b[0m \u001b[0mtolerance\u001b[0m\u001b[0;34m=\u001b[0m\u001b[0mtolerance\u001b[0m\u001b[0;34m)\u001b[0m\u001b[0;34m\u001b[0m\u001b[0;34m\u001b[0m\u001b[0m\n\u001b[1;32m   2661\u001b[0m         \u001b[0;32mif\u001b[0m \u001b[0mindexer\u001b[0m\u001b[0;34m.\u001b[0m\u001b[0mndim\u001b[0m \u001b[0;34m>\u001b[0m \u001b[0;36m1\u001b[0m \u001b[0;32mor\u001b[0m \u001b[0mindexer\u001b[0m\u001b[0;34m.\u001b[0m\u001b[0msize\u001b[0m \u001b[0;34m>\u001b[0m \u001b[0;36m1\u001b[0m\u001b[0;34m:\u001b[0m\u001b[0;34m\u001b[0m\u001b[0;34m\u001b[0m\u001b[0m\n",
      "\u001b[0;32mpandas/_libs/index.pyx\u001b[0m in \u001b[0;36mpandas._libs.index.IndexEngine.get_loc\u001b[0;34m()\u001b[0m\n",
      "\u001b[0;32mpandas/_libs/index.pyx\u001b[0m in \u001b[0;36mpandas._libs.index.IndexEngine.get_loc\u001b[0;34m()\u001b[0m\n",
      "\u001b[0;32mpandas/_libs/hashtable_class_helper.pxi\u001b[0m in \u001b[0;36mpandas._libs.hashtable.PyObjectHashTable.get_item\u001b[0;34m()\u001b[0m\n",
      "\u001b[0;32mpandas/_libs/hashtable_class_helper.pxi\u001b[0m in \u001b[0;36mpandas._libs.hashtable.PyObjectHashTable.get_item\u001b[0;34m()\u001b[0m\n",
      "\u001b[0;31mKeyError\u001b[0m: ('hair', 'feathers', 'eggs', 'milk', 'airborne', 'aquatic', 'predator', 'toothed', 'backbone', 'breathes', 'venomous', 'fins', 'legs', 'tail', 'domestic', 'catsize', 'class_type')"
     ]
    }
   ],
   "source": [
    "label_names = zoo['hair' , 'feathers' , 'eggs' , 'milk' , 'airborne' , 'aquatic' , 'predator' , 'toothed' , 'backbone' , 'breathes' , 'venomous' , 'fins' , 'legs' , 'tail' , 'domestic' , 'catsize' , 'class_type']\n",
    "labels = zoo['class_type']\n",
    "feature_names = zoo['0','1']\n",
    "features = zoo['Hair']"
   ]
  },
  {
   "cell_type": "code",
   "execution_count": 39,
   "metadata": {},
   "outputs": [
    {
     "name": "stdout",
     "output_type": "stream",
     "text": [
      "    animal_name  hair  feathers  eggs  milk  airborne  aquatic  predator  \\\n",
      "0      aardvark     1         0     0     1         0        0         1   \n",
      "1      antelope     1         0     0     1         0        0         0   \n",
      "2          bass     0         0     1     0         0        1         1   \n",
      "3          bear     1         0     0     1         0        0         1   \n",
      "4          boar     1         0     0     1         0        0         1   \n",
      "5       buffalo     1         0     0     1         0        0         0   \n",
      "6          calf     1         0     0     1         0        0         0   \n",
      "7          carp     0         0     1     0         0        1         0   \n",
      "8       catfish     0         0     1     0         0        1         1   \n",
      "9          cavy     1         0     0     1         0        0         0   \n",
      "10      cheetah     1         0     0     1         0        0         1   \n",
      "11      chicken     0         1     1     0         1        0         0   \n",
      "12         chub     0         0     1     0         0        1         1   \n",
      "13         clam     0         0     1     0         0        0         1   \n",
      "14         crab     0         0     1     0         0        1         1   \n",
      "15     crayfish     0         0     1     0         0        1         1   \n",
      "16         crow     0         1     1     0         1        0         1   \n",
      "17         deer     1         0     0     1         0        0         0   \n",
      "18      dogfish     0         0     1     0         0        1         1   \n",
      "19      dolphin     0         0     0     1         0        1         1   \n",
      "20         dove     0         1     1     0         1        0         0   \n",
      "21         duck     0         1     1     0         1        1         0   \n",
      "22     elephant     1         0     0     1         0        0         0   \n",
      "23     flamingo     0         1     1     0         1        0         0   \n",
      "24         flea     0         0     1     0         0        0         0   \n",
      "25         frog     0         0     1     0         0        1         1   \n",
      "26         frog     0         0     1     0         0        1         1   \n",
      "27     fruitbat     1         0     0     1         1        0         0   \n",
      "28      giraffe     1         0     0     1         0        0         0   \n",
      "29         girl     1         0     0     1         0        0         1   \n",
      "..          ...   ...       ...   ...   ...       ...      ...       ...   \n",
      "71         rhea     0         1     1     0         0        0         1   \n",
      "72     scorpion     0         0     0     0         0        0         1   \n",
      "73     seahorse     0         0     1     0         0        1         0   \n",
      "74         seal     1         0     0     1         0        1         1   \n",
      "75      sealion     1         0     0     1         0        1         1   \n",
      "76     seasnake     0         0     0     0         0        1         1   \n",
      "77      seawasp     0         0     1     0         0        1         1   \n",
      "78      skimmer     0         1     1     0         1        1         1   \n",
      "79         skua     0         1     1     0         1        1         1   \n",
      "80     slowworm     0         0     1     0         0        0         1   \n",
      "81         slug     0         0     1     0         0        0         0   \n",
      "82         sole     0         0     1     0         0        1         0   \n",
      "83      sparrow     0         1     1     0         1        0         0   \n",
      "84     squirrel     1         0     0     1         0        0         0   \n",
      "85     starfish     0         0     1     0         0        1         1   \n",
      "86     stingray     0         0     1     0         0        1         1   \n",
      "87         swan     0         1     1     0         1        1         0   \n",
      "88      termite     0         0     1     0         0        0         0   \n",
      "89         toad     0         0     1     0         0        1         0   \n",
      "90     tortoise     0         0     1     0         0        0         0   \n",
      "91      tuatara     0         0     1     0         0        0         1   \n",
      "92         tuna     0         0     1     0         0        1         1   \n",
      "93      vampire     1         0     0     1         1        0         0   \n",
      "94         vole     1         0     0     1         0        0         0   \n",
      "95      vulture     0         1     1     0         1        0         1   \n",
      "96      wallaby     1         0     0     1         0        0         0   \n",
      "97         wasp     1         0     1     0         1        0         0   \n",
      "98         wolf     1         0     0     1         0        0         1   \n",
      "99         worm     0         0     1     0         0        0         0   \n",
      "100        wren     0         1     1     0         1        0         0   \n",
      "\n",
      "     toothed  backbone  breathes  venomous  fins  legs  tail  domestic  \\\n",
      "0          1         1         1         0     0     4     0         0   \n",
      "1          1         1         1         0     0     4     1         0   \n",
      "2          1         1         0         0     1     0     1         0   \n",
      "3          1         1         1         0     0     4     0         0   \n",
      "4          1         1         1         0     0     4     1         0   \n",
      "5          1         1         1         0     0     4     1         0   \n",
      "6          1         1         1         0     0     4     1         1   \n",
      "7          1         1         0         0     1     0     1         1   \n",
      "8          1         1         0         0     1     0     1         0   \n",
      "9          1         1         1         0     0     4     0         1   \n",
      "10         1         1         1         0     0     4     1         0   \n",
      "11         0         1         1         0     0     2     1         1   \n",
      "12         1         1         0         0     1     0     1         0   \n",
      "13         0         0         0         0     0     0     0         0   \n",
      "14         0         0         0         0     0     4     0         0   \n",
      "15         0         0         0         0     0     6     0         0   \n",
      "16         0         1         1         0     0     2     1         0   \n",
      "17         1         1         1         0     0     4     1         0   \n",
      "18         1         1         0         0     1     0     1         0   \n",
      "19         1         1         1         0     1     0     1         0   \n",
      "20         0         1         1         0     0     2     1         1   \n",
      "21         0         1         1         0     0     2     1         0   \n",
      "22         1         1         1         0     0     4     1         0   \n",
      "23         0         1         1         0     0     2     1         0   \n",
      "24         0         0         1         0     0     6     0         0   \n",
      "25         1         1         1         0     0     4     0         0   \n",
      "26         1         1         1         1     0     4     0         0   \n",
      "27         1         1         1         0     0     2     1         0   \n",
      "28         1         1         1         0     0     4     1         0   \n",
      "29         1         1         1         0     0     2     0         1   \n",
      "..       ...       ...       ...       ...   ...   ...   ...       ...   \n",
      "71         0         1         1         0     0     2     1         0   \n",
      "72         0         0         1         1     0     8     1         0   \n",
      "73         1         1         0         0     1     0     1         0   \n",
      "74         1         1         1         0     1     0     0         0   \n",
      "75         1         1         1         0     1     2     1         0   \n",
      "76         1         1         0         1     0     0     1         0   \n",
      "77         0         0         0         1     0     0     0         0   \n",
      "78         0         1         1         0     0     2     1         0   \n",
      "79         0         1         1         0     0     2     1         0   \n",
      "80         1         1         1         0     0     0     1         0   \n",
      "81         0         0         1         0     0     0     0         0   \n",
      "82         1         1         0         0     1     0     1         0   \n",
      "83         0         1         1         0     0     2     1         0   \n",
      "84         1         1         1         0     0     2     1         0   \n",
      "85         0         0         0         0     0     5     0         0   \n",
      "86         1         1         0         1     1     0     1         0   \n",
      "87         0         1         1         0     0     2     1         0   \n",
      "88         0         0         1         0     0     6     0         0   \n",
      "89         1         1         1         0     0     4     0         0   \n",
      "90         0         1         1         0     0     4     1         0   \n",
      "91         1         1         1         0     0     4     1         0   \n",
      "92         1         1         0         0     1     0     1         0   \n",
      "93         1         1         1         0     0     2     1         0   \n",
      "94         1         1         1         0     0     4     1         0   \n",
      "95         0         1         1         0     0     2     1         0   \n",
      "96         1         1         1         0     0     2     1         0   \n",
      "97         0         0         1         1     0     6     0         0   \n",
      "98         1         1         1         0     0     4     1         0   \n",
      "99         0         0         1         0     0     0     0         0   \n",
      "100        0         1         1         0     0     2     1         0   \n",
      "\n",
      "     catsize  class_type  \n",
      "0          1           1  \n",
      "1          1           1  \n",
      "2          0           4  \n",
      "3          1           1  \n",
      "4          1           1  \n",
      "5          1           1  \n",
      "6          1           1  \n",
      "7          0           4  \n",
      "8          0           4  \n",
      "9          0           1  \n",
      "10         1           1  \n",
      "11         0           2  \n",
      "12         0           4  \n",
      "13         0           7  \n",
      "14         0           7  \n",
      "15         0           7  \n",
      "16         0           2  \n",
      "17         1           1  \n",
      "18         1           4  \n",
      "19         1           1  \n",
      "20         0           2  \n",
      "21         0           2  \n",
      "22         1           1  \n",
      "23         1           2  \n",
      "24         0           6  \n",
      "25         0           5  \n",
      "26         0           5  \n",
      "27         0           1  \n",
      "28         1           1  \n",
      "29         1           1  \n",
      "..       ...         ...  \n",
      "71         1           2  \n",
      "72         0           7  \n",
      "73         0           4  \n",
      "74         1           1  \n",
      "75         1           1  \n",
      "76         0           3  \n",
      "77         0           7  \n",
      "78         0           2  \n",
      "79         0           2  \n",
      "80         0           3  \n",
      "81         0           7  \n",
      "82         0           4  \n",
      "83         0           2  \n",
      "84         0           1  \n",
      "85         0           7  \n",
      "86         1           4  \n",
      "87         1           2  \n",
      "88         0           6  \n",
      "89         0           5  \n",
      "90         1           3  \n",
      "91         0           3  \n",
      "92         1           4  \n",
      "93         0           1  \n",
      "94         0           1  \n",
      "95         1           2  \n",
      "96         1           1  \n",
      "97         0           6  \n",
      "98         1           1  \n",
      "99         0           7  \n",
      "100        0           2  \n",
      "\n",
      "[101 rows x 18 columns]\n"
     ]
    }
   ],
   "source": [
    "print (zoo\n",
    "      )"
   ]
  },
  {
   "cell_type": "code",
   "execution_count": 40,
   "metadata": {},
   "outputs": [
    {
     "ename": "NameError",
     "evalue": "name 'labels' is not defined",
     "output_type": "error",
     "traceback": [
      "\u001b[0;31m---------------------------------------------------------------------------\u001b[0m",
      "\u001b[0;31mNameError\u001b[0m                                 Traceback (most recent call last)",
      "\u001b[0;32m<ipython-input-40-55101bf2a1e2>\u001b[0m in \u001b[0;36m<module>\u001b[0;34m\u001b[0m\n\u001b[0;32m----> 1\u001b[0;31m \u001b[0mlabels\u001b[0m \u001b[0;34m(\u001b[0m\u001b[0mzoo\u001b[0m\u001b[0;34m)\u001b[0m\u001b[0;34m\u001b[0m\u001b[0;34m\u001b[0m\u001b[0m\n\u001b[0m",
      "\u001b[0;31mNameError\u001b[0m: name 'labels' is not defined"
     ]
    }
   ],
   "source": [
    "labels (zoo)"
   ]
  },
  {
   "cell_type": "code",
   "execution_count": 42,
   "metadata": {},
   "outputs": [
    {
     "name": "stdout",
     "output_type": "stream",
     "text": [
      "    animal_name  hair  feathers  eggs  milk  airborne  aquatic  predator  \\\n",
      "0      aardvark     1         0     0     1         0        0         1   \n",
      "1      antelope     1         0     0     1         0        0         0   \n",
      "2          bass     0         0     1     0         0        1         1   \n",
      "3          bear     1         0     0     1         0        0         1   \n",
      "4          boar     1         0     0     1         0        0         1   \n",
      "5       buffalo     1         0     0     1         0        0         0   \n",
      "6          calf     1         0     0     1         0        0         0   \n",
      "7          carp     0         0     1     0         0        1         0   \n",
      "8       catfish     0         0     1     0         0        1         1   \n",
      "9          cavy     1         0     0     1         0        0         0   \n",
      "10      cheetah     1         0     0     1         0        0         1   \n",
      "11      chicken     0         1     1     0         1        0         0   \n",
      "12         chub     0         0     1     0         0        1         1   \n",
      "13         clam     0         0     1     0         0        0         1   \n",
      "14         crab     0         0     1     0         0        1         1   \n",
      "15     crayfish     0         0     1     0         0        1         1   \n",
      "16         crow     0         1     1     0         1        0         1   \n",
      "17         deer     1         0     0     1         0        0         0   \n",
      "18      dogfish     0         0     1     0         0        1         1   \n",
      "19      dolphin     0         0     0     1         0        1         1   \n",
      "20         dove     0         1     1     0         1        0         0   \n",
      "21         duck     0         1     1     0         1        1         0   \n",
      "22     elephant     1         0     0     1         0        0         0   \n",
      "23     flamingo     0         1     1     0         1        0         0   \n",
      "24         flea     0         0     1     0         0        0         0   \n",
      "25         frog     0         0     1     0         0        1         1   \n",
      "26         frog     0         0     1     0         0        1         1   \n",
      "27     fruitbat     1         0     0     1         1        0         0   \n",
      "28      giraffe     1         0     0     1         0        0         0   \n",
      "29         girl     1         0     0     1         0        0         1   \n",
      "..          ...   ...       ...   ...   ...       ...      ...       ...   \n",
      "71         rhea     0         1     1     0         0        0         1   \n",
      "72     scorpion     0         0     0     0         0        0         1   \n",
      "73     seahorse     0         0     1     0         0        1         0   \n",
      "74         seal     1         0     0     1         0        1         1   \n",
      "75      sealion     1         0     0     1         0        1         1   \n",
      "76     seasnake     0         0     0     0         0        1         1   \n",
      "77      seawasp     0         0     1     0         0        1         1   \n",
      "78      skimmer     0         1     1     0         1        1         1   \n",
      "79         skua     0         1     1     0         1        1         1   \n",
      "80     slowworm     0         0     1     0         0        0         1   \n",
      "81         slug     0         0     1     0         0        0         0   \n",
      "82         sole     0         0     1     0         0        1         0   \n",
      "83      sparrow     0         1     1     0         1        0         0   \n",
      "84     squirrel     1         0     0     1         0        0         0   \n",
      "85     starfish     0         0     1     0         0        1         1   \n",
      "86     stingray     0         0     1     0         0        1         1   \n",
      "87         swan     0         1     1     0         1        1         0   \n",
      "88      termite     0         0     1     0         0        0         0   \n",
      "89         toad     0         0     1     0         0        1         0   \n",
      "90     tortoise     0         0     1     0         0        0         0   \n",
      "91      tuatara     0         0     1     0         0        0         1   \n",
      "92         tuna     0         0     1     0         0        1         1   \n",
      "93      vampire     1         0     0     1         1        0         0   \n",
      "94         vole     1         0     0     1         0        0         0   \n",
      "95      vulture     0         1     1     0         1        0         1   \n",
      "96      wallaby     1         0     0     1         0        0         0   \n",
      "97         wasp     1         0     1     0         1        0         0   \n",
      "98         wolf     1         0     0     1         0        0         1   \n",
      "99         worm     0         0     1     0         0        0         0   \n",
      "100        wren     0         1     1     0         1        0         0   \n",
      "\n",
      "     toothed  backbone  breathes  venomous  fins  legs  tail  domestic  \\\n",
      "0          1         1         1         0     0     4     0         0   \n",
      "1          1         1         1         0     0     4     1         0   \n",
      "2          1         1         0         0     1     0     1         0   \n",
      "3          1         1         1         0     0     4     0         0   \n",
      "4          1         1         1         0     0     4     1         0   \n",
      "5          1         1         1         0     0     4     1         0   \n",
      "6          1         1         1         0     0     4     1         1   \n",
      "7          1         1         0         0     1     0     1         1   \n",
      "8          1         1         0         0     1     0     1         0   \n",
      "9          1         1         1         0     0     4     0         1   \n",
      "10         1         1         1         0     0     4     1         0   \n",
      "11         0         1         1         0     0     2     1         1   \n",
      "12         1         1         0         0     1     0     1         0   \n",
      "13         0         0         0         0     0     0     0         0   \n",
      "14         0         0         0         0     0     4     0         0   \n",
      "15         0         0         0         0     0     6     0         0   \n",
      "16         0         1         1         0     0     2     1         0   \n",
      "17         1         1         1         0     0     4     1         0   \n",
      "18         1         1         0         0     1     0     1         0   \n",
      "19         1         1         1         0     1     0     1         0   \n",
      "20         0         1         1         0     0     2     1         1   \n",
      "21         0         1         1         0     0     2     1         0   \n",
      "22         1         1         1         0     0     4     1         0   \n",
      "23         0         1         1         0     0     2     1         0   \n",
      "24         0         0         1         0     0     6     0         0   \n",
      "25         1         1         1         0     0     4     0         0   \n",
      "26         1         1         1         1     0     4     0         0   \n",
      "27         1         1         1         0     0     2     1         0   \n",
      "28         1         1         1         0     0     4     1         0   \n",
      "29         1         1         1         0     0     2     0         1   \n",
      "..       ...       ...       ...       ...   ...   ...   ...       ...   \n",
      "71         0         1         1         0     0     2     1         0   \n",
      "72         0         0         1         1     0     8     1         0   \n",
      "73         1         1         0         0     1     0     1         0   \n",
      "74         1         1         1         0     1     0     0         0   \n",
      "75         1         1         1         0     1     2     1         0   \n",
      "76         1         1         0         1     0     0     1         0   \n",
      "77         0         0         0         1     0     0     0         0   \n",
      "78         0         1         1         0     0     2     1         0   \n",
      "79         0         1         1         0     0     2     1         0   \n",
      "80         1         1         1         0     0     0     1         0   \n",
      "81         0         0         1         0     0     0     0         0   \n",
      "82         1         1         0         0     1     0     1         0   \n",
      "83         0         1         1         0     0     2     1         0   \n",
      "84         1         1         1         0     0     2     1         0   \n",
      "85         0         0         0         0     0     5     0         0   \n",
      "86         1         1         0         1     1     0     1         0   \n",
      "87         0         1         1         0     0     2     1         0   \n",
      "88         0         0         1         0     0     6     0         0   \n",
      "89         1         1         1         0     0     4     0         0   \n",
      "90         0         1         1         0     0     4     1         0   \n",
      "91         1         1         1         0     0     4     1         0   \n",
      "92         1         1         0         0     1     0     1         0   \n",
      "93         1         1         1         0     0     2     1         0   \n",
      "94         1         1         1         0     0     4     1         0   \n",
      "95         0         1         1         0     0     2     1         0   \n",
      "96         1         1         1         0     0     2     1         0   \n",
      "97         0         0         1         1     0     6     0         0   \n",
      "98         1         1         1         0     0     4     1         0   \n",
      "99         0         0         1         0     0     0     0         0   \n",
      "100        0         1         1         0     0     2     1         0   \n",
      "\n",
      "     catsize  class_type  \n",
      "0          1           1  \n",
      "1          1           1  \n",
      "2          0           4  \n",
      "3          1           1  \n",
      "4          1           1  \n",
      "5          1           1  \n",
      "6          1           1  \n",
      "7          0           4  \n",
      "8          0           4  \n",
      "9          0           1  \n",
      "10         1           1  \n",
      "11         0           2  \n",
      "12         0           4  \n",
      "13         0           7  \n",
      "14         0           7  \n",
      "15         0           7  \n",
      "16         0           2  \n",
      "17         1           1  \n",
      "18         1           4  \n",
      "19         1           1  \n",
      "20         0           2  \n",
      "21         0           2  \n",
      "22         1           1  \n",
      "23         1           2  \n",
      "24         0           6  \n",
      "25         0           5  \n",
      "26         0           5  \n",
      "27         0           1  \n",
      "28         1           1  \n",
      "29         1           1  \n",
      "..       ...         ...  \n",
      "71         1           2  \n",
      "72         0           7  \n",
      "73         0           4  \n",
      "74         1           1  \n",
      "75         1           1  \n",
      "76         0           3  \n",
      "77         0           7  \n",
      "78         0           2  \n",
      "79         0           2  \n",
      "80         0           3  \n",
      "81         0           7  \n",
      "82         0           4  \n",
      "83         0           2  \n",
      "84         0           1  \n",
      "85         0           7  \n",
      "86         1           4  \n",
      "87         1           2  \n",
      "88         0           6  \n",
      "89         0           5  \n",
      "90         1           3  \n",
      "91         0           3  \n",
      "92         1           4  \n",
      "93         0           1  \n",
      "94         0           1  \n",
      "95         1           2  \n",
      "96         1           1  \n",
      "97         0           6  \n",
      "98         1           1  \n",
      "99         0           7  \n",
      "100        0           2  \n",
      "\n",
      "[101 rows x 18 columns]\n"
     ]
    },
    {
     "ename": "AttributeError",
     "evalue": "'NoneType' object has no attribute 'header'",
     "output_type": "error",
     "traceback": [
      "\u001b[0;31m---------------------------------------------------------------------------\u001b[0m",
      "\u001b[0;31mAttributeError\u001b[0m                            Traceback (most recent call last)",
      "\u001b[0;32m<ipython-input-42-a35baa8ff941>\u001b[0m in \u001b[0;36m<module>\u001b[0;34m\u001b[0m\n\u001b[0;32m----> 1\u001b[0;31m \u001b[0mprint\u001b[0m \u001b[0;34m(\u001b[0m\u001b[0mzoo\u001b[0m\u001b[0;34m)\u001b[0m\u001b[0;34m.\u001b[0m\u001b[0mheader\u001b[0m\u001b[0;34m\u001b[0m\u001b[0;34m\u001b[0m\u001b[0m\n\u001b[0m",
      "\u001b[0;31mAttributeError\u001b[0m: 'NoneType' object has no attribute 'header'"
     ]
    }
   ],
   "source": [
    "print (zoo).header\n"
   ]
  },
  {
   "cell_type": "code",
   "execution_count": 8,
   "metadata": {},
   "outputs": [
    {
     "ename": "NameError",
     "evalue": "name 'zoo' is not defined",
     "output_type": "error",
     "traceback": [
      "\u001b[0;31m---------------------------------------------------------------------------\u001b[0m",
      "\u001b[0;31mNameError\u001b[0m                                 Traceback (most recent call last)",
      "\u001b[0;32m<ipython-input-8-93e14e8b6299>\u001b[0m in \u001b[0;36m<module>\u001b[0;34m\u001b[0m\n\u001b[0;32m----> 1\u001b[0;31m \u001b[0mprint\u001b[0m \u001b[0;34m(\u001b[0m\u001b[0mzoo\u001b[0m\u001b[0;34m)\u001b[0m\u001b[0;34m\u001b[0m\u001b[0;34m\u001b[0m\u001b[0m\n\u001b[0m",
      "\u001b[0;31mNameError\u001b[0m: name 'zoo' is not defined"
     ]
    }
   ],
   "source": [
    "print (zoo)"
   ]
  },
  {
   "cell_type": "code",
   "execution_count": null,
   "metadata": {},
   "outputs": [],
   "source": [
    "%pwd"
   ]
  },
  {
   "cell_type": "code",
   "execution_count": null,
   "metadata": {},
   "outputs": [],
   "source": [
    "!pwd"
   ]
  },
  {
   "cell_type": "code",
   "execution_count": null,
   "metadata": {},
   "outputs": [],
   "source": [
    "$pwd"
   ]
  },
  {
   "cell_type": "code",
   "execution_count": 9,
   "metadata": {},
   "outputs": [],
   "source": [
    "import pandas as pd\n",
    "import numpy as np\n",
    "class1 = pd.read_csv (\"/Users/RichardMorrow/Desktop/School/Spring_2019_Semester/LIS4761/Project/class.csv\")\n",
    "zoo = pd.read_csv (\"/Users/RichardMorrow/Desktop/School/Spring_2019_Semester/LIS4761/Project/zoo.csv\")\n",
    "from sklearn import preprocessing\n",
    "import matplotlib.pyplot as plt \n",
    "plt.rc(\"font\", size=14)\n",
    "from sklearn.linear_model import LogisticRegression\n",
    "from sklearn.model_selection import train_test_split\n",
    "import seaborn as sns\n",
    "sns.set(style=\"white\")\n",
    "sns.set(style=\"whitegrid\", color_codes=True)\n",
    "import statsmodels.api as sm\n",
    "from sklearn.linear_model import LogisticRegression\n",
    "from sklearn import metrics\n",
    "from sklearn.metrics import confusion_matrix\n",
    "from sklearn.metrics import classification_report"
   ]
  },
  {
   "cell_type": "code",
   "execution_count": 15,
   "metadata": {},
   "outputs": [
    {
     "name": "stdout",
     "output_type": "stream",
     "text": [
      "    animal_name  hair  feathers  eggs  milk  airborne  aquatic  predator  \\\n",
      "0      aardvark     1         0     0     1         0        0         1   \n",
      "1      antelope     1         0     0     1         0        0         0   \n",
      "2          bass     0         0     1     0         0        1         1   \n",
      "3          bear     1         0     0     1         0        0         1   \n",
      "4          boar     1         0     0     1         0        0         1   \n",
      "5       buffalo     1         0     0     1         0        0         0   \n",
      "6          calf     1         0     0     1         0        0         0   \n",
      "7          carp     0         0     1     0         0        1         0   \n",
      "8       catfish     0         0     1     0         0        1         1   \n",
      "9          cavy     1         0     0     1         0        0         0   \n",
      "10      cheetah     1         0     0     1         0        0         1   \n",
      "11      chicken     0         1     1     0         1        0         0   \n",
      "12         chub     0         0     1     0         0        1         1   \n",
      "13         clam     0         0     1     0         0        0         1   \n",
      "14         crab     0         0     1     0         0        1         1   \n",
      "15     crayfish     0         0     1     0         0        1         1   \n",
      "16         crow     0         1     1     0         1        0         1   \n",
      "17         deer     1         0     0     1         0        0         0   \n",
      "18      dogfish     0         0     1     0         0        1         1   \n",
      "19      dolphin     0         0     0     1         0        1         1   \n",
      "20         dove     0         1     1     0         1        0         0   \n",
      "21         duck     0         1     1     0         1        1         0   \n",
      "22     elephant     1         0     0     1         0        0         0   \n",
      "23     flamingo     0         1     1     0         1        0         0   \n",
      "24         flea     0         0     1     0         0        0         0   \n",
      "25         frog     0         0     1     0         0        1         1   \n",
      "26         frog     0         0     1     0         0        1         1   \n",
      "27     fruitbat     1         0     0     1         1        0         0   \n",
      "28      giraffe     1         0     0     1         0        0         0   \n",
      "29         girl     1         0     0     1         0        0         1   \n",
      "..          ...   ...       ...   ...   ...       ...      ...       ...   \n",
      "71         rhea     0         1     1     0         0        0         1   \n",
      "72     scorpion     0         0     0     0         0        0         1   \n",
      "73     seahorse     0         0     1     0         0        1         0   \n",
      "74         seal     1         0     0     1         0        1         1   \n",
      "75      sealion     1         0     0     1         0        1         1   \n",
      "76     seasnake     0         0     0     0         0        1         1   \n",
      "77      seawasp     0         0     1     0         0        1         1   \n",
      "78      skimmer     0         1     1     0         1        1         1   \n",
      "79         skua     0         1     1     0         1        1         1   \n",
      "80     slowworm     0         0     1     0         0        0         1   \n",
      "81         slug     0         0     1     0         0        0         0   \n",
      "82         sole     0         0     1     0         0        1         0   \n",
      "83      sparrow     0         1     1     0         1        0         0   \n",
      "84     squirrel     1         0     0     1         0        0         0   \n",
      "85     starfish     0         0     1     0         0        1         1   \n",
      "86     stingray     0         0     1     0         0        1         1   \n",
      "87         swan     0         1     1     0         1        1         0   \n",
      "88      termite     0         0     1     0         0        0         0   \n",
      "89         toad     0         0     1     0         0        1         0   \n",
      "90     tortoise     0         0     1     0         0        0         0   \n",
      "91      tuatara     0         0     1     0         0        0         1   \n",
      "92         tuna     0         0     1     0         0        1         1   \n",
      "93      vampire     1         0     0     1         1        0         0   \n",
      "94         vole     1         0     0     1         0        0         0   \n",
      "95      vulture     0         1     1     0         1        0         1   \n",
      "96      wallaby     1         0     0     1         0        0         0   \n",
      "97         wasp     1         0     1     0         1        0         0   \n",
      "98         wolf     1         0     0     1         0        0         1   \n",
      "99         worm     0         0     1     0         0        0         0   \n",
      "100        wren     0         1     1     0         1        0         0   \n",
      "\n",
      "     toothed  backbone  breathes  venomous  fins  legs  tail  domestic  \\\n",
      "0          1         1         1         0     0     4     0         0   \n",
      "1          1         1         1         0     0     4     1         0   \n",
      "2          1         1         0         0     1     0     1         0   \n",
      "3          1         1         1         0     0     4     0         0   \n",
      "4          1         1         1         0     0     4     1         0   \n",
      "5          1         1         1         0     0     4     1         0   \n",
      "6          1         1         1         0     0     4     1         1   \n",
      "7          1         1         0         0     1     0     1         1   \n",
      "8          1         1         0         0     1     0     1         0   \n",
      "9          1         1         1         0     0     4     0         1   \n",
      "10         1         1         1         0     0     4     1         0   \n",
      "11         0         1         1         0     0     2     1         1   \n",
      "12         1         1         0         0     1     0     1         0   \n",
      "13         0         0         0         0     0     0     0         0   \n",
      "14         0         0         0         0     0     4     0         0   \n",
      "15         0         0         0         0     0     6     0         0   \n",
      "16         0         1         1         0     0     2     1         0   \n",
      "17         1         1         1         0     0     4     1         0   \n",
      "18         1         1         0         0     1     0     1         0   \n",
      "19         1         1         1         0     1     0     1         0   \n",
      "20         0         1         1         0     0     2     1         1   \n",
      "21         0         1         1         0     0     2     1         0   \n",
      "22         1         1         1         0     0     4     1         0   \n",
      "23         0         1         1         0     0     2     1         0   \n",
      "24         0         0         1         0     0     6     0         0   \n",
      "25         1         1         1         0     0     4     0         0   \n",
      "26         1         1         1         1     0     4     0         0   \n",
      "27         1         1         1         0     0     2     1         0   \n",
      "28         1         1         1         0     0     4     1         0   \n",
      "29         1         1         1         0     0     2     0         1   \n",
      "..       ...       ...       ...       ...   ...   ...   ...       ...   \n",
      "71         0         1         1         0     0     2     1         0   \n",
      "72         0         0         1         1     0     8     1         0   \n",
      "73         1         1         0         0     1     0     1         0   \n",
      "74         1         1         1         0     1     0     0         0   \n",
      "75         1         1         1         0     1     2     1         0   \n",
      "76         1         1         0         1     0     0     1         0   \n",
      "77         0         0         0         1     0     0     0         0   \n",
      "78         0         1         1         0     0     2     1         0   \n",
      "79         0         1         1         0     0     2     1         0   \n",
      "80         1         1         1         0     0     0     1         0   \n",
      "81         0         0         1         0     0     0     0         0   \n",
      "82         1         1         0         0     1     0     1         0   \n",
      "83         0         1         1         0     0     2     1         0   \n",
      "84         1         1         1         0     0     2     1         0   \n",
      "85         0         0         0         0     0     5     0         0   \n",
      "86         1         1         0         1     1     0     1         0   \n",
      "87         0         1         1         0     0     2     1         0   \n",
      "88         0         0         1         0     0     6     0         0   \n",
      "89         1         1         1         0     0     4     0         0   \n",
      "90         0         1         1         0     0     4     1         0   \n",
      "91         1         1         1         0     0     4     1         0   \n",
      "92         1         1         0         0     1     0     1         0   \n",
      "93         1         1         1         0     0     2     1         0   \n",
      "94         1         1         1         0     0     4     1         0   \n",
      "95         0         1         1         0     0     2     1         0   \n",
      "96         1         1         1         0     0     2     1         0   \n",
      "97         0         0         1         1     0     6     0         0   \n",
      "98         1         1         1         0     0     4     1         0   \n",
      "99         0         0         1         0     0     0     0         0   \n",
      "100        0         1         1         0     0     2     1         0   \n",
      "\n",
      "     catsize  class_type  \n",
      "0          1           1  \n",
      "1          1           1  \n",
      "2          0           4  \n",
      "3          1           1  \n",
      "4          1           1  \n",
      "5          1           1  \n",
      "6          1           1  \n",
      "7          0           4  \n",
      "8          0           4  \n",
      "9          0           1  \n",
      "10         1           1  \n",
      "11         0           2  \n",
      "12         0           4  \n",
      "13         0           7  \n",
      "14         0           7  \n",
      "15         0           7  \n",
      "16         0           2  \n",
      "17         1           1  \n",
      "18         1           4  \n",
      "19         1           1  \n",
      "20         0           2  \n",
      "21         0           2  \n",
      "22         1           1  \n",
      "23         1           2  \n",
      "24         0           6  \n",
      "25         0           5  \n",
      "26         0           5  \n",
      "27         0           1  \n",
      "28         1           1  \n",
      "29         1           1  \n",
      "..       ...         ...  \n",
      "71         1           2  \n",
      "72         0           7  \n",
      "73         0           4  \n",
      "74         1           1  \n",
      "75         1           1  \n",
      "76         0           3  \n",
      "77         0           7  \n",
      "78         0           2  \n",
      "79         0           2  \n",
      "80         0           3  \n",
      "81         0           7  \n",
      "82         0           4  \n",
      "83         0           2  \n",
      "84         0           1  \n",
      "85         0           7  \n",
      "86         1           4  \n",
      "87         1           2  \n",
      "88         0           6  \n",
      "89         0           5  \n",
      "90         1           3  \n",
      "91         0           3  \n",
      "92         1           4  \n",
      "93         0           1  \n",
      "94         0           1  \n",
      "95         1           2  \n",
      "96         1           1  \n",
      "97         0           6  \n",
      "98         1           1  \n",
      "99         0           7  \n",
      "100        0           2  \n",
      "\n",
      "[101 rows x 18 columns]\n"
     ]
    },
    {
     "ename": "AttributeError",
     "evalue": "'NoneType' object has no attribute 'header'",
     "output_type": "error",
     "traceback": [
      "\u001b[0;31m---------------------------------------------------------------------------\u001b[0m",
      "\u001b[0;31mAttributeError\u001b[0m                            Traceback (most recent call last)",
      "\u001b[0;32m<ipython-input-15-a35baa8ff941>\u001b[0m in \u001b[0;36m<module>\u001b[0;34m\u001b[0m\n\u001b[0;32m----> 1\u001b[0;31m \u001b[0mprint\u001b[0m \u001b[0;34m(\u001b[0m\u001b[0mzoo\u001b[0m\u001b[0;34m)\u001b[0m\u001b[0;34m.\u001b[0m\u001b[0mheader\u001b[0m\u001b[0;34m\u001b[0m\u001b[0;34m\u001b[0m\u001b[0m\n\u001b[0m",
      "\u001b[0;31mAttributeError\u001b[0m: 'NoneType' object has no attribute 'header'"
     ]
    }
   ],
   "source": [
    "print (zoo).header"
   ]
  },
  {
   "cell_type": "code",
   "execution_count": 17,
   "metadata": {},
   "outputs": [
    {
     "data": {
      "text/plain": [
       "<bound method NDFrame.describe of     animal_name  hair  feathers  eggs  milk  airborne  aquatic  predator  \\\n",
       "0      aardvark     1         0     0     1         0        0         1   \n",
       "1      antelope     1         0     0     1         0        0         0   \n",
       "2          bass     0         0     1     0         0        1         1   \n",
       "3          bear     1         0     0     1         0        0         1   \n",
       "4          boar     1         0     0     1         0        0         1   \n",
       "5       buffalo     1         0     0     1         0        0         0   \n",
       "6          calf     1         0     0     1         0        0         0   \n",
       "7          carp     0         0     1     0         0        1         0   \n",
       "8       catfish     0         0     1     0         0        1         1   \n",
       "9          cavy     1         0     0     1         0        0         0   \n",
       "10      cheetah     1         0     0     1         0        0         1   \n",
       "11      chicken     0         1     1     0         1        0         0   \n",
       "12         chub     0         0     1     0         0        1         1   \n",
       "13         clam     0         0     1     0         0        0         1   \n",
       "14         crab     0         0     1     0         0        1         1   \n",
       "15     crayfish     0         0     1     0         0        1         1   \n",
       "16         crow     0         1     1     0         1        0         1   \n",
       "17         deer     1         0     0     1         0        0         0   \n",
       "18      dogfish     0         0     1     0         0        1         1   \n",
       "19      dolphin     0         0     0     1         0        1         1   \n",
       "20         dove     0         1     1     0         1        0         0   \n",
       "21         duck     0         1     1     0         1        1         0   \n",
       "22     elephant     1         0     0     1         0        0         0   \n",
       "23     flamingo     0         1     1     0         1        0         0   \n",
       "24         flea     0         0     1     0         0        0         0   \n",
       "25         frog     0         0     1     0         0        1         1   \n",
       "26         frog     0         0     1     0         0        1         1   \n",
       "27     fruitbat     1         0     0     1         1        0         0   \n",
       "28      giraffe     1         0     0     1         0        0         0   \n",
       "29         girl     1         0     0     1         0        0         1   \n",
       "..          ...   ...       ...   ...   ...       ...      ...       ...   \n",
       "71         rhea     0         1     1     0         0        0         1   \n",
       "72     scorpion     0         0     0     0         0        0         1   \n",
       "73     seahorse     0         0     1     0         0        1         0   \n",
       "74         seal     1         0     0     1         0        1         1   \n",
       "75      sealion     1         0     0     1         0        1         1   \n",
       "76     seasnake     0         0     0     0         0        1         1   \n",
       "77      seawasp     0         0     1     0         0        1         1   \n",
       "78      skimmer     0         1     1     0         1        1         1   \n",
       "79         skua     0         1     1     0         1        1         1   \n",
       "80     slowworm     0         0     1     0         0        0         1   \n",
       "81         slug     0         0     1     0         0        0         0   \n",
       "82         sole     0         0     1     0         0        1         0   \n",
       "83      sparrow     0         1     1     0         1        0         0   \n",
       "84     squirrel     1         0     0     1         0        0         0   \n",
       "85     starfish     0         0     1     0         0        1         1   \n",
       "86     stingray     0         0     1     0         0        1         1   \n",
       "87         swan     0         1     1     0         1        1         0   \n",
       "88      termite     0         0     1     0         0        0         0   \n",
       "89         toad     0         0     1     0         0        1         0   \n",
       "90     tortoise     0         0     1     0         0        0         0   \n",
       "91      tuatara     0         0     1     0         0        0         1   \n",
       "92         tuna     0         0     1     0         0        1         1   \n",
       "93      vampire     1         0     0     1         1        0         0   \n",
       "94         vole     1         0     0     1         0        0         0   \n",
       "95      vulture     0         1     1     0         1        0         1   \n",
       "96      wallaby     1         0     0     1         0        0         0   \n",
       "97         wasp     1         0     1     0         1        0         0   \n",
       "98         wolf     1         0     0     1         0        0         1   \n",
       "99         worm     0         0     1     0         0        0         0   \n",
       "100        wren     0         1     1     0         1        0         0   \n",
       "\n",
       "     toothed  backbone  breathes  venomous  fins  legs  tail  domestic  \\\n",
       "0          1         1         1         0     0     4     0         0   \n",
       "1          1         1         1         0     0     4     1         0   \n",
       "2          1         1         0         0     1     0     1         0   \n",
       "3          1         1         1         0     0     4     0         0   \n",
       "4          1         1         1         0     0     4     1         0   \n",
       "5          1         1         1         0     0     4     1         0   \n",
       "6          1         1         1         0     0     4     1         1   \n",
       "7          1         1         0         0     1     0     1         1   \n",
       "8          1         1         0         0     1     0     1         0   \n",
       "9          1         1         1         0     0     4     0         1   \n",
       "10         1         1         1         0     0     4     1         0   \n",
       "11         0         1         1         0     0     2     1         1   \n",
       "12         1         1         0         0     1     0     1         0   \n",
       "13         0         0         0         0     0     0     0         0   \n",
       "14         0         0         0         0     0     4     0         0   \n",
       "15         0         0         0         0     0     6     0         0   \n",
       "16         0         1         1         0     0     2     1         0   \n",
       "17         1         1         1         0     0     4     1         0   \n",
       "18         1         1         0         0     1     0     1         0   \n",
       "19         1         1         1         0     1     0     1         0   \n",
       "20         0         1         1         0     0     2     1         1   \n",
       "21         0         1         1         0     0     2     1         0   \n",
       "22         1         1         1         0     0     4     1         0   \n",
       "23         0         1         1         0     0     2     1         0   \n",
       "24         0         0         1         0     0     6     0         0   \n",
       "25         1         1         1         0     0     4     0         0   \n",
       "26         1         1         1         1     0     4     0         0   \n",
       "27         1         1         1         0     0     2     1         0   \n",
       "28         1         1         1         0     0     4     1         0   \n",
       "29         1         1         1         0     0     2     0         1   \n",
       "..       ...       ...       ...       ...   ...   ...   ...       ...   \n",
       "71         0         1         1         0     0     2     1         0   \n",
       "72         0         0         1         1     0     8     1         0   \n",
       "73         1         1         0         0     1     0     1         0   \n",
       "74         1         1         1         0     1     0     0         0   \n",
       "75         1         1         1         0     1     2     1         0   \n",
       "76         1         1         0         1     0     0     1         0   \n",
       "77         0         0         0         1     0     0     0         0   \n",
       "78         0         1         1         0     0     2     1         0   \n",
       "79         0         1         1         0     0     2     1         0   \n",
       "80         1         1         1         0     0     0     1         0   \n",
       "81         0         0         1         0     0     0     0         0   \n",
       "82         1         1         0         0     1     0     1         0   \n",
       "83         0         1         1         0     0     2     1         0   \n",
       "84         1         1         1         0     0     2     1         0   \n",
       "85         0         0         0         0     0     5     0         0   \n",
       "86         1         1         0         1     1     0     1         0   \n",
       "87         0         1         1         0     0     2     1         0   \n",
       "88         0         0         1         0     0     6     0         0   \n",
       "89         1         1         1         0     0     4     0         0   \n",
       "90         0         1         1         0     0     4     1         0   \n",
       "91         1         1         1         0     0     4     1         0   \n",
       "92         1         1         0         0     1     0     1         0   \n",
       "93         1         1         1         0     0     2     1         0   \n",
       "94         1         1         1         0     0     4     1         0   \n",
       "95         0         1         1         0     0     2     1         0   \n",
       "96         1         1         1         0     0     2     1         0   \n",
       "97         0         0         1         1     0     6     0         0   \n",
       "98         1         1         1         0     0     4     1         0   \n",
       "99         0         0         1         0     0     0     0         0   \n",
       "100        0         1         1         0     0     2     1         0   \n",
       "\n",
       "     catsize  class_type  \n",
       "0          1           1  \n",
       "1          1           1  \n",
       "2          0           4  \n",
       "3          1           1  \n",
       "4          1           1  \n",
       "5          1           1  \n",
       "6          1           1  \n",
       "7          0           4  \n",
       "8          0           4  \n",
       "9          0           1  \n",
       "10         1           1  \n",
       "11         0           2  \n",
       "12         0           4  \n",
       "13         0           7  \n",
       "14         0           7  \n",
       "15         0           7  \n",
       "16         0           2  \n",
       "17         1           1  \n",
       "18         1           4  \n",
       "19         1           1  \n",
       "20         0           2  \n",
       "21         0           2  \n",
       "22         1           1  \n",
       "23         1           2  \n",
       "24         0           6  \n",
       "25         0           5  \n",
       "26         0           5  \n",
       "27         0           1  \n",
       "28         1           1  \n",
       "29         1           1  \n",
       "..       ...         ...  \n",
       "71         1           2  \n",
       "72         0           7  \n",
       "73         0           4  \n",
       "74         1           1  \n",
       "75         1           1  \n",
       "76         0           3  \n",
       "77         0           7  \n",
       "78         0           2  \n",
       "79         0           2  \n",
       "80         0           3  \n",
       "81         0           7  \n",
       "82         0           4  \n",
       "83         0           2  \n",
       "84         0           1  \n",
       "85         0           7  \n",
       "86         1           4  \n",
       "87         1           2  \n",
       "88         0           6  \n",
       "89         0           5  \n",
       "90         1           3  \n",
       "91         0           3  \n",
       "92         1           4  \n",
       "93         0           1  \n",
       "94         0           1  \n",
       "95         1           2  \n",
       "96         1           1  \n",
       "97         0           6  \n",
       "98         1           1  \n",
       "99         0           7  \n",
       "100        0           2  \n",
       "\n",
       "[101 rows x 18 columns]>"
      ]
     },
     "execution_count": 17,
     "metadata": {},
     "output_type": "execute_result"
    }
   ],
   "source": [
    "zoo.describe"
   ]
  },
  {
   "cell_type": "code",
   "execution_count": 18,
   "metadata": {},
   "outputs": [
    {
     "data": {
      "text/html": [
       "<div>\n",
       "<style scoped>\n",
       "    .dataframe tbody tr th:only-of-type {\n",
       "        vertical-align: middle;\n",
       "    }\n",
       "\n",
       "    .dataframe tbody tr th {\n",
       "        vertical-align: top;\n",
       "    }\n",
       "\n",
       "    .dataframe thead th {\n",
       "        text-align: right;\n",
       "    }\n",
       "</style>\n",
       "<table border=\"1\" class=\"dataframe\">\n",
       "  <thead>\n",
       "    <tr style=\"text-align: right;\">\n",
       "      <th></th>\n",
       "      <th>animal_name</th>\n",
       "      <th>hair</th>\n",
       "      <th>feathers</th>\n",
       "      <th>eggs</th>\n",
       "      <th>milk</th>\n",
       "      <th>airborne</th>\n",
       "      <th>aquatic</th>\n",
       "      <th>predator</th>\n",
       "      <th>toothed</th>\n",
       "      <th>backbone</th>\n",
       "      <th>breathes</th>\n",
       "      <th>venomous</th>\n",
       "      <th>fins</th>\n",
       "      <th>legs</th>\n",
       "      <th>tail</th>\n",
       "      <th>domestic</th>\n",
       "      <th>catsize</th>\n",
       "      <th>class_type</th>\n",
       "    </tr>\n",
       "  </thead>\n",
       "  <tbody>\n",
       "    <tr>\n",
       "      <th>0</th>\n",
       "      <td>aardvark</td>\n",
       "      <td>1</td>\n",
       "      <td>0</td>\n",
       "      <td>0</td>\n",
       "      <td>1</td>\n",
       "      <td>0</td>\n",
       "      <td>0</td>\n",
       "      <td>1</td>\n",
       "      <td>1</td>\n",
       "      <td>1</td>\n",
       "      <td>1</td>\n",
       "      <td>0</td>\n",
       "      <td>0</td>\n",
       "      <td>4</td>\n",
       "      <td>0</td>\n",
       "      <td>0</td>\n",
       "      <td>1</td>\n",
       "      <td>1</td>\n",
       "    </tr>\n",
       "    <tr>\n",
       "      <th>1</th>\n",
       "      <td>antelope</td>\n",
       "      <td>1</td>\n",
       "      <td>0</td>\n",
       "      <td>0</td>\n",
       "      <td>1</td>\n",
       "      <td>0</td>\n",
       "      <td>0</td>\n",
       "      <td>0</td>\n",
       "      <td>1</td>\n",
       "      <td>1</td>\n",
       "      <td>1</td>\n",
       "      <td>0</td>\n",
       "      <td>0</td>\n",
       "      <td>4</td>\n",
       "      <td>1</td>\n",
       "      <td>0</td>\n",
       "      <td>1</td>\n",
       "      <td>1</td>\n",
       "    </tr>\n",
       "    <tr>\n",
       "      <th>2</th>\n",
       "      <td>bass</td>\n",
       "      <td>0</td>\n",
       "      <td>0</td>\n",
       "      <td>1</td>\n",
       "      <td>0</td>\n",
       "      <td>0</td>\n",
       "      <td>1</td>\n",
       "      <td>1</td>\n",
       "      <td>1</td>\n",
       "      <td>1</td>\n",
       "      <td>0</td>\n",
       "      <td>0</td>\n",
       "      <td>1</td>\n",
       "      <td>0</td>\n",
       "      <td>1</td>\n",
       "      <td>0</td>\n",
       "      <td>0</td>\n",
       "      <td>4</td>\n",
       "    </tr>\n",
       "    <tr>\n",
       "      <th>3</th>\n",
       "      <td>bear</td>\n",
       "      <td>1</td>\n",
       "      <td>0</td>\n",
       "      <td>0</td>\n",
       "      <td>1</td>\n",
       "      <td>0</td>\n",
       "      <td>0</td>\n",
       "      <td>1</td>\n",
       "      <td>1</td>\n",
       "      <td>1</td>\n",
       "      <td>1</td>\n",
       "      <td>0</td>\n",
       "      <td>0</td>\n",
       "      <td>4</td>\n",
       "      <td>0</td>\n",
       "      <td>0</td>\n",
       "      <td>1</td>\n",
       "      <td>1</td>\n",
       "    </tr>\n",
       "    <tr>\n",
       "      <th>4</th>\n",
       "      <td>boar</td>\n",
       "      <td>1</td>\n",
       "      <td>0</td>\n",
       "      <td>0</td>\n",
       "      <td>1</td>\n",
       "      <td>0</td>\n",
       "      <td>0</td>\n",
       "      <td>1</td>\n",
       "      <td>1</td>\n",
       "      <td>1</td>\n",
       "      <td>1</td>\n",
       "      <td>0</td>\n",
       "      <td>0</td>\n",
       "      <td>4</td>\n",
       "      <td>1</td>\n",
       "      <td>0</td>\n",
       "      <td>1</td>\n",
       "      <td>1</td>\n",
       "    </tr>\n",
       "  </tbody>\n",
       "</table>\n",
       "</div>"
      ],
      "text/plain": [
       "  animal_name  hair  feathers  eggs  milk  airborne  aquatic  predator  \\\n",
       "0    aardvark     1         0     0     1         0        0         1   \n",
       "1    antelope     1         0     0     1         0        0         0   \n",
       "2        bass     0         0     1     0         0        1         1   \n",
       "3        bear     1         0     0     1         0        0         1   \n",
       "4        boar     1         0     0     1         0        0         1   \n",
       "\n",
       "   toothed  backbone  breathes  venomous  fins  legs  tail  domestic  catsize  \\\n",
       "0        1         1         1         0     0     4     0         0        1   \n",
       "1        1         1         1         0     0     4     1         0        1   \n",
       "2        1         1         0         0     1     0     1         0        0   \n",
       "3        1         1         1         0     0     4     0         0        1   \n",
       "4        1         1         1         0     0     4     1         0        1   \n",
       "\n",
       "   class_type  \n",
       "0           1  \n",
       "1           1  \n",
       "2           4  \n",
       "3           1  \n",
       "4           1  "
      ]
     },
     "execution_count": 18,
     "metadata": {},
     "output_type": "execute_result"
    }
   ],
   "source": [
    "zoo.head()"
   ]
  },
  {
   "cell_type": "code",
   "execution_count": 20,
   "metadata": {},
   "outputs": [],
   "source": [
    "target = zoo['class_type']\n",
    "feature_hair = zoo['hair']"
   ]
  },
  {
   "cell_type": "code",
   "execution_count": 21,
   "metadata": {},
   "outputs": [],
   "source": [
    "feature_feathers = zoo['feathers']"
   ]
  },
  {
   "cell_type": "code",
   "execution_count": 22,
   "metadata": {},
   "outputs": [],
   "source": [
    "feature_eggs = zoo['eggs']"
   ]
  },
  {
   "cell_type": "code",
   "execution_count": 23,
   "metadata": {},
   "outputs": [],
   "source": [
    "feature_milk = zoo['milk']"
   ]
  },
  {
   "cell_type": "code",
   "execution_count": 24,
   "metadata": {},
   "outputs": [],
   "source": [
    "feature_airborne = zoo['airborne']"
   ]
  },
  {
   "cell_type": "code",
   "execution_count": 25,
   "metadata": {},
   "outputs": [],
   "source": [
    "feature_aquatic = zoo['aquatic']"
   ]
  },
  {
   "cell_type": "code",
   "execution_count": 26,
   "metadata": {},
   "outputs": [],
   "source": [
    "feature_predator = zoo['predator']"
   ]
  },
  {
   "cell_type": "code",
   "execution_count": 30,
   "metadata": {},
   "outputs": [],
   "source": [
    "feature_toothed = zoo['toothed']"
   ]
  },
  {
   "cell_type": "code",
   "execution_count": 33,
   "metadata": {},
   "outputs": [],
   "source": [
    "feature_backbone = zoo['backbone']"
   ]
  },
  {
   "cell_type": "code",
   "execution_count": 34,
   "metadata": {},
   "outputs": [],
   "source": [
    "feature_breathes = zoo['breathes']"
   ]
  },
  {
   "cell_type": "code",
   "execution_count": 35,
   "metadata": {},
   "outputs": [],
   "source": [
    "feature_venomous = zoo['venomous']"
   ]
  },
  {
   "cell_type": "code",
   "execution_count": 36,
   "metadata": {},
   "outputs": [],
   "source": [
    "feature_fins = zoo['fins']"
   ]
  },
  {
   "cell_type": "code",
   "execution_count": 37,
   "metadata": {},
   "outputs": [],
   "source": [
    "feature_legs = zoo['legs']"
   ]
  },
  {
   "cell_type": "code",
   "execution_count": 38,
   "metadata": {},
   "outputs": [],
   "source": [
    "feature_tail = zoo['tail']"
   ]
  },
  {
   "cell_type": "code",
   "execution_count": 39,
   "metadata": {},
   "outputs": [],
   "source": [
    "feature_domestic = zoo['domestic']"
   ]
  },
  {
   "cell_type": "code",
   "execution_count": 40,
   "metadata": {},
   "outputs": [],
   "source": [
    "feature_catsize = zoo['catsize']"
   ]
  },
  {
   "cell_type": "code",
   "execution_count": 42,
   "metadata": {},
   "outputs": [],
   "source": [
    "features = (feature_hair) + (feature_feathers) + (feature_eggs) + (feature_milk) + (feature_airborne) + (feature_aquatic) + (feature_predator) + (feature_toothed) + (feature_backbone) + (feature_breathes) + (feature_venomous) + (feature_fins) + (feature_legs) + (feature_tail) + (feature_domestic) + (feature_catsize)"
   ]
  },
  {
   "cell_type": "code",
   "execution_count": 43,
   "metadata": {},
   "outputs": [
    {
     "name": "stdout",
     "output_type": "stream",
     "text": [
      "0      11\n",
      "1      11\n",
      "2       7\n",
      "3      11\n",
      "4      12\n",
      "5      11\n",
      "6      12\n",
      "7       7\n",
      "8       7\n",
      "9      10\n",
      "10     12\n",
      "11      9\n",
      "12      7\n",
      "13      2\n",
      "14      7\n",
      "15      9\n",
      "16      9\n",
      "17     11\n",
      "18      8\n",
      "19      9\n",
      "20      9\n",
      "21      9\n",
      "22     11\n",
      "23      9\n",
      "24      8\n",
      "25     10\n",
      "26     11\n",
      "27      9\n",
      "28     11\n",
      "29     10\n",
      "       ..\n",
      "71      9\n",
      "72     12\n",
      "73      6\n",
      "74      9\n",
      "75     12\n",
      "76      6\n",
      "77      4\n",
      "78     10\n",
      "79     10\n",
      "80      6\n",
      "81      2\n",
      "82      6\n",
      "83      8\n",
      "84      8\n",
      "85      8\n",
      "86      9\n",
      "87     10\n",
      "88      8\n",
      "89      9\n",
      "90      9\n",
      "91     10\n",
      "92      8\n",
      "93      9\n",
      "94     10\n",
      "95     10\n",
      "96      9\n",
      "97     11\n",
      "98     12\n",
      "99      2\n",
      "100     8\n",
      "Length: 101, dtype: int64\n"
     ]
    }
   ],
   "source": [
    "print (features)"
   ]
  },
  {
   "cell_type": "code",
   "execution_count": 44,
   "metadata": {},
   "outputs": [
    {
     "data": {
      "text/plain": [
       "<bound method NDFrame.describe of 0      11\n",
       "1      11\n",
       "2       7\n",
       "3      11\n",
       "4      12\n",
       "5      11\n",
       "6      12\n",
       "7       7\n",
       "8       7\n",
       "9      10\n",
       "10     12\n",
       "11      9\n",
       "12      7\n",
       "13      2\n",
       "14      7\n",
       "15      9\n",
       "16      9\n",
       "17     11\n",
       "18      8\n",
       "19      9\n",
       "20      9\n",
       "21      9\n",
       "22     11\n",
       "23      9\n",
       "24      8\n",
       "25     10\n",
       "26     11\n",
       "27      9\n",
       "28     11\n",
       "29     10\n",
       "       ..\n",
       "71      9\n",
       "72     12\n",
       "73      6\n",
       "74      9\n",
       "75     12\n",
       "76      6\n",
       "77      4\n",
       "78     10\n",
       "79     10\n",
       "80      6\n",
       "81      2\n",
       "82      6\n",
       "83      8\n",
       "84      8\n",
       "85      8\n",
       "86      9\n",
       "87     10\n",
       "88      8\n",
       "89      9\n",
       "90      9\n",
       "91     10\n",
       "92      8\n",
       "93      9\n",
       "94     10\n",
       "95     10\n",
       "96      9\n",
       "97     11\n",
       "98     12\n",
       "99      2\n",
       "100     8\n",
       "Length: 101, dtype: int64>"
      ]
     },
     "execution_count": 44,
     "metadata": {},
     "output_type": "execute_result"
    }
   ],
   "source": [
    "features.describe"
   ]
  },
  {
   "cell_type": "code",
   "execution_count": 45,
   "metadata": {},
   "outputs": [],
   "source": [
    "from sklearn.naive_bayes import GaussianNB"
   ]
  },
  {
   "cell_type": "code",
   "execution_count": 46,
   "metadata": {},
   "outputs": [],
   "source": [
    "gnb = GaussianNB()"
   ]
  },
  {
   "cell_type": "code",
   "execution_count": 54,
   "metadata": {},
   "outputs": [
    {
     "ename": "NameError",
     "evalue": "name 'zoo1' is not defined",
     "output_type": "error",
     "traceback": [
      "\u001b[0;31m---------------------------------------------------------------------------\u001b[0m",
      "\u001b[0;31mNameError\u001b[0m                                 Traceback (most recent call last)",
      "\u001b[0;32m<ipython-input-54-7ece0486a91d>\u001b[0m in \u001b[0;36m<module>\u001b[0;34m\u001b[0m\n\u001b[1;32m      1\u001b[0m train, test, train_labels, test_labels = train_test_split(zoo,\n\u001b[0;32m----> 2\u001b[0;31m                                                           \u001b[0mzoo1\u001b[0m\u001b[0;34m,\u001b[0m\u001b[0;34m\u001b[0m\u001b[0;34m\u001b[0m\u001b[0m\n\u001b[0m\u001b[1;32m      3\u001b[0m                                                           \u001b[0mtest_size\u001b[0m\u001b[0;34m=\u001b[0m\u001b[0;36m0.33\u001b[0m\u001b[0;34m,\u001b[0m\u001b[0;34m\u001b[0m\u001b[0;34m\u001b[0m\u001b[0m\n\u001b[1;32m      4\u001b[0m                                                           random_state=42)\n",
      "\u001b[0;31mNameError\u001b[0m: name 'zoo1' is not defined"
     ]
    }
   ],
   "source": []
  },
  {
   "cell_type": "code",
   "execution_count": 53,
   "metadata": {},
   "outputs": [
    {
     "ename": "ValueError",
     "evalue": "could not convert string to float: 'sparrow'",
     "output_type": "error",
     "traceback": [
      "\u001b[0;31m---------------------------------------------------------------------------\u001b[0m",
      "\u001b[0;31mValueError\u001b[0m                                Traceback (most recent call last)",
      "\u001b[0;32m<ipython-input-53-9e57db3381f3>\u001b[0m in \u001b[0;36m<module>\u001b[0;34m\u001b[0m\n\u001b[0;32m----> 1\u001b[0;31m \u001b[0mmodel\u001b[0m \u001b[0;34m=\u001b[0m \u001b[0mgnb\u001b[0m\u001b[0;34m.\u001b[0m\u001b[0mfit\u001b[0m\u001b[0;34m(\u001b[0m\u001b[0mtrain\u001b[0m\u001b[0;34m,\u001b[0m \u001b[0mtrain_labels\u001b[0m\u001b[0;34m)\u001b[0m\u001b[0;34m\u001b[0m\u001b[0;34m\u001b[0m\u001b[0m\n\u001b[0m",
      "\u001b[0;32m~/anaconda3/lib/python3.7/site-packages/sklearn/naive_bayes.py\u001b[0m in \u001b[0;36mfit\u001b[0;34m(self, X, y, sample_weight)\u001b[0m\n\u001b[1;32m    188\u001b[0m         \u001b[0mself\u001b[0m \u001b[0;34m:\u001b[0m \u001b[0mobject\u001b[0m\u001b[0;34m\u001b[0m\u001b[0;34m\u001b[0m\u001b[0m\n\u001b[1;32m    189\u001b[0m         \"\"\"\n\u001b[0;32m--> 190\u001b[0;31m         \u001b[0mX\u001b[0m\u001b[0;34m,\u001b[0m \u001b[0my\u001b[0m \u001b[0;34m=\u001b[0m \u001b[0mcheck_X_y\u001b[0m\u001b[0;34m(\u001b[0m\u001b[0mX\u001b[0m\u001b[0;34m,\u001b[0m \u001b[0my\u001b[0m\u001b[0;34m)\u001b[0m\u001b[0;34m\u001b[0m\u001b[0;34m\u001b[0m\u001b[0m\n\u001b[0m\u001b[1;32m    191\u001b[0m         return self._partial_fit(X, y, np.unique(y), _refit=True,\n\u001b[1;32m    192\u001b[0m                                  sample_weight=sample_weight)\n",
      "\u001b[0;32m~/anaconda3/lib/python3.7/site-packages/sklearn/utils/validation.py\u001b[0m in \u001b[0;36mcheck_X_y\u001b[0;34m(X, y, accept_sparse, accept_large_sparse, dtype, order, copy, force_all_finite, ensure_2d, allow_nd, multi_output, ensure_min_samples, ensure_min_features, y_numeric, warn_on_dtype, estimator)\u001b[0m\n\u001b[1;32m    754\u001b[0m                     \u001b[0mensure_min_features\u001b[0m\u001b[0;34m=\u001b[0m\u001b[0mensure_min_features\u001b[0m\u001b[0;34m,\u001b[0m\u001b[0;34m\u001b[0m\u001b[0;34m\u001b[0m\u001b[0m\n\u001b[1;32m    755\u001b[0m                     \u001b[0mwarn_on_dtype\u001b[0m\u001b[0;34m=\u001b[0m\u001b[0mwarn_on_dtype\u001b[0m\u001b[0;34m,\u001b[0m\u001b[0;34m\u001b[0m\u001b[0;34m\u001b[0m\u001b[0m\n\u001b[0;32m--> 756\u001b[0;31m                     estimator=estimator)\n\u001b[0m\u001b[1;32m    757\u001b[0m     \u001b[0;32mif\u001b[0m \u001b[0mmulti_output\u001b[0m\u001b[0;34m:\u001b[0m\u001b[0;34m\u001b[0m\u001b[0;34m\u001b[0m\u001b[0m\n\u001b[1;32m    758\u001b[0m         y = check_array(y, 'csr', force_all_finite=True, ensure_2d=False,\n",
      "\u001b[0;32m~/anaconda3/lib/python3.7/site-packages/sklearn/utils/validation.py\u001b[0m in \u001b[0;36mcheck_array\u001b[0;34m(array, accept_sparse, accept_large_sparse, dtype, order, copy, force_all_finite, ensure_2d, allow_nd, ensure_min_samples, ensure_min_features, warn_on_dtype, estimator)\u001b[0m\n\u001b[1;32m    565\u001b[0m         \u001b[0;31m# make sure we actually converted to numeric:\u001b[0m\u001b[0;34m\u001b[0m\u001b[0;34m\u001b[0m\u001b[0;34m\u001b[0m\u001b[0m\n\u001b[1;32m    566\u001b[0m         \u001b[0;32mif\u001b[0m \u001b[0mdtype_numeric\u001b[0m \u001b[0;32mand\u001b[0m \u001b[0marray\u001b[0m\u001b[0;34m.\u001b[0m\u001b[0mdtype\u001b[0m\u001b[0;34m.\u001b[0m\u001b[0mkind\u001b[0m \u001b[0;34m==\u001b[0m \u001b[0;34m\"O\"\u001b[0m\u001b[0;34m:\u001b[0m\u001b[0;34m\u001b[0m\u001b[0;34m\u001b[0m\u001b[0m\n\u001b[0;32m--> 567\u001b[0;31m             \u001b[0marray\u001b[0m \u001b[0;34m=\u001b[0m \u001b[0marray\u001b[0m\u001b[0;34m.\u001b[0m\u001b[0mastype\u001b[0m\u001b[0;34m(\u001b[0m\u001b[0mnp\u001b[0m\u001b[0;34m.\u001b[0m\u001b[0mfloat64\u001b[0m\u001b[0;34m)\u001b[0m\u001b[0;34m\u001b[0m\u001b[0;34m\u001b[0m\u001b[0m\n\u001b[0m\u001b[1;32m    568\u001b[0m         \u001b[0;32mif\u001b[0m \u001b[0;32mnot\u001b[0m \u001b[0mallow_nd\u001b[0m \u001b[0;32mand\u001b[0m \u001b[0marray\u001b[0m\u001b[0;34m.\u001b[0m\u001b[0mndim\u001b[0m \u001b[0;34m>=\u001b[0m \u001b[0;36m3\u001b[0m\u001b[0;34m:\u001b[0m\u001b[0;34m\u001b[0m\u001b[0;34m\u001b[0m\u001b[0m\n\u001b[1;32m    569\u001b[0m             raise ValueError(\"Found array with dim %d. %s expected <= 2.\"\n",
      "\u001b[0;31mValueError\u001b[0m: could not convert string to float: 'sparrow'"
     ]
    }
   ],
   "source": [
    "model = gnb.fit(train, train_labels)"
   ]
  },
  {
   "cell_type": "code",
   "execution_count": 51,
   "metadata": {},
   "outputs": [
    {
     "ename": "AttributeError",
     "evalue": "'DataFrame' object has no attribute 'array'",
     "output_type": "error",
     "traceback": [
      "\u001b[0;31m---------------------------------------------------------------------------\u001b[0m",
      "\u001b[0;31mAttributeError\u001b[0m                            Traceback (most recent call last)",
      "\u001b[0;32m<ipython-input-51-11cd9bd45511>\u001b[0m in \u001b[0;36m<module>\u001b[0;34m\u001b[0m\n\u001b[0;32m----> 1\u001b[0;31m \u001b[0mzoo\u001b[0m\u001b[0;34m.\u001b[0m\u001b[0marray\u001b[0m\u001b[0;34m.\u001b[0m\u001b[0mreshape\u001b[0m\u001b[0;34m(\u001b[0m\u001b[0;34m-\u001b[0m\u001b[0;36m1\u001b[0m\u001b[0;34m,\u001b[0m\u001b[0;36m1\u001b[0m\u001b[0;34m)\u001b[0m\u001b[0;34m\u001b[0m\u001b[0;34m\u001b[0m\u001b[0m\n\u001b[0m",
      "\u001b[0;32m~/anaconda3/lib/python3.7/site-packages/pandas/core/generic.py\u001b[0m in \u001b[0;36m__getattr__\u001b[0;34m(self, name)\u001b[0m\n\u001b[1;32m   5065\u001b[0m             \u001b[0;32mif\u001b[0m \u001b[0mself\u001b[0m\u001b[0;34m.\u001b[0m\u001b[0m_info_axis\u001b[0m\u001b[0;34m.\u001b[0m\u001b[0m_can_hold_identifiers_and_holds_name\u001b[0m\u001b[0;34m(\u001b[0m\u001b[0mname\u001b[0m\u001b[0;34m)\u001b[0m\u001b[0;34m:\u001b[0m\u001b[0;34m\u001b[0m\u001b[0;34m\u001b[0m\u001b[0m\n\u001b[1;32m   5066\u001b[0m                 \u001b[0;32mreturn\u001b[0m \u001b[0mself\u001b[0m\u001b[0;34m[\u001b[0m\u001b[0mname\u001b[0m\u001b[0;34m]\u001b[0m\u001b[0;34m\u001b[0m\u001b[0;34m\u001b[0m\u001b[0m\n\u001b[0;32m-> 5067\u001b[0;31m             \u001b[0;32mreturn\u001b[0m \u001b[0mobject\u001b[0m\u001b[0;34m.\u001b[0m\u001b[0m__getattribute__\u001b[0m\u001b[0;34m(\u001b[0m\u001b[0mself\u001b[0m\u001b[0;34m,\u001b[0m \u001b[0mname\u001b[0m\u001b[0;34m)\u001b[0m\u001b[0;34m\u001b[0m\u001b[0;34m\u001b[0m\u001b[0m\n\u001b[0m\u001b[1;32m   5068\u001b[0m \u001b[0;34m\u001b[0m\u001b[0m\n\u001b[1;32m   5069\u001b[0m     \u001b[0;32mdef\u001b[0m \u001b[0m__setattr__\u001b[0m\u001b[0;34m(\u001b[0m\u001b[0mself\u001b[0m\u001b[0;34m,\u001b[0m \u001b[0mname\u001b[0m\u001b[0;34m,\u001b[0m \u001b[0mvalue\u001b[0m\u001b[0;34m)\u001b[0m\u001b[0;34m:\u001b[0m\u001b[0;34m\u001b[0m\u001b[0;34m\u001b[0m\u001b[0m\n",
      "\u001b[0;31mAttributeError\u001b[0m: 'DataFrame' object has no attribute 'array'"
     ]
    }
   ],
   "source": []
  },
  {
   "cell_type": "code",
   "execution_count": 55,
   "metadata": {},
   "outputs": [],
   "source": [
    "zoo1 = pd.read_csv (\"/Users/RichardMorrow/Desktop/School/Spring_2019_Semester/LIS4761/Project/zoo.csv\")"
   ]
  },
  {
   "cell_type": "code",
   "execution_count": 56,
   "metadata": {},
   "outputs": [],
   "source": [
    "train, test, train_labels, test_labels = train_test_split(zoo,\n",
    "                                                          zoo1,\n",
    "                                                          test_size=0.33,\n",
    "                                                          random_state=42)"
   ]
  },
  {
   "cell_type": "code",
   "execution_count": 57,
   "metadata": {},
   "outputs": [
    {
     "ename": "ValueError",
     "evalue": "could not convert string to float: 'sparrow'",
     "output_type": "error",
     "traceback": [
      "\u001b[0;31m---------------------------------------------------------------------------\u001b[0m",
      "\u001b[0;31mValueError\u001b[0m                                Traceback (most recent call last)",
      "\u001b[0;32m<ipython-input-57-9e57db3381f3>\u001b[0m in \u001b[0;36m<module>\u001b[0;34m\u001b[0m\n\u001b[0;32m----> 1\u001b[0;31m \u001b[0mmodel\u001b[0m \u001b[0;34m=\u001b[0m \u001b[0mgnb\u001b[0m\u001b[0;34m.\u001b[0m\u001b[0mfit\u001b[0m\u001b[0;34m(\u001b[0m\u001b[0mtrain\u001b[0m\u001b[0;34m,\u001b[0m \u001b[0mtrain_labels\u001b[0m\u001b[0;34m)\u001b[0m\u001b[0;34m\u001b[0m\u001b[0;34m\u001b[0m\u001b[0m\n\u001b[0m",
      "\u001b[0;32m~/anaconda3/lib/python3.7/site-packages/sklearn/naive_bayes.py\u001b[0m in \u001b[0;36mfit\u001b[0;34m(self, X, y, sample_weight)\u001b[0m\n\u001b[1;32m    188\u001b[0m         \u001b[0mself\u001b[0m \u001b[0;34m:\u001b[0m \u001b[0mobject\u001b[0m\u001b[0;34m\u001b[0m\u001b[0;34m\u001b[0m\u001b[0m\n\u001b[1;32m    189\u001b[0m         \"\"\"\n\u001b[0;32m--> 190\u001b[0;31m         \u001b[0mX\u001b[0m\u001b[0;34m,\u001b[0m \u001b[0my\u001b[0m \u001b[0;34m=\u001b[0m \u001b[0mcheck_X_y\u001b[0m\u001b[0;34m(\u001b[0m\u001b[0mX\u001b[0m\u001b[0;34m,\u001b[0m \u001b[0my\u001b[0m\u001b[0;34m)\u001b[0m\u001b[0;34m\u001b[0m\u001b[0;34m\u001b[0m\u001b[0m\n\u001b[0m\u001b[1;32m    191\u001b[0m         return self._partial_fit(X, y, np.unique(y), _refit=True,\n\u001b[1;32m    192\u001b[0m                                  sample_weight=sample_weight)\n",
      "\u001b[0;32m~/anaconda3/lib/python3.7/site-packages/sklearn/utils/validation.py\u001b[0m in \u001b[0;36mcheck_X_y\u001b[0;34m(X, y, accept_sparse, accept_large_sparse, dtype, order, copy, force_all_finite, ensure_2d, allow_nd, multi_output, ensure_min_samples, ensure_min_features, y_numeric, warn_on_dtype, estimator)\u001b[0m\n\u001b[1;32m    754\u001b[0m                     \u001b[0mensure_min_features\u001b[0m\u001b[0;34m=\u001b[0m\u001b[0mensure_min_features\u001b[0m\u001b[0;34m,\u001b[0m\u001b[0;34m\u001b[0m\u001b[0;34m\u001b[0m\u001b[0m\n\u001b[1;32m    755\u001b[0m                     \u001b[0mwarn_on_dtype\u001b[0m\u001b[0;34m=\u001b[0m\u001b[0mwarn_on_dtype\u001b[0m\u001b[0;34m,\u001b[0m\u001b[0;34m\u001b[0m\u001b[0;34m\u001b[0m\u001b[0m\n\u001b[0;32m--> 756\u001b[0;31m                     estimator=estimator)\n\u001b[0m\u001b[1;32m    757\u001b[0m     \u001b[0;32mif\u001b[0m \u001b[0mmulti_output\u001b[0m\u001b[0;34m:\u001b[0m\u001b[0;34m\u001b[0m\u001b[0;34m\u001b[0m\u001b[0m\n\u001b[1;32m    758\u001b[0m         y = check_array(y, 'csr', force_all_finite=True, ensure_2d=False,\n",
      "\u001b[0;32m~/anaconda3/lib/python3.7/site-packages/sklearn/utils/validation.py\u001b[0m in \u001b[0;36mcheck_array\u001b[0;34m(array, accept_sparse, accept_large_sparse, dtype, order, copy, force_all_finite, ensure_2d, allow_nd, ensure_min_samples, ensure_min_features, warn_on_dtype, estimator)\u001b[0m\n\u001b[1;32m    565\u001b[0m         \u001b[0;31m# make sure we actually converted to numeric:\u001b[0m\u001b[0;34m\u001b[0m\u001b[0;34m\u001b[0m\u001b[0;34m\u001b[0m\u001b[0m\n\u001b[1;32m    566\u001b[0m         \u001b[0;32mif\u001b[0m \u001b[0mdtype_numeric\u001b[0m \u001b[0;32mand\u001b[0m \u001b[0marray\u001b[0m\u001b[0;34m.\u001b[0m\u001b[0mdtype\u001b[0m\u001b[0;34m.\u001b[0m\u001b[0mkind\u001b[0m \u001b[0;34m==\u001b[0m \u001b[0;34m\"O\"\u001b[0m\u001b[0;34m:\u001b[0m\u001b[0;34m\u001b[0m\u001b[0;34m\u001b[0m\u001b[0m\n\u001b[0;32m--> 567\u001b[0;31m             \u001b[0marray\u001b[0m \u001b[0;34m=\u001b[0m \u001b[0marray\u001b[0m\u001b[0;34m.\u001b[0m\u001b[0mastype\u001b[0m\u001b[0;34m(\u001b[0m\u001b[0mnp\u001b[0m\u001b[0;34m.\u001b[0m\u001b[0mfloat64\u001b[0m\u001b[0;34m)\u001b[0m\u001b[0;34m\u001b[0m\u001b[0;34m\u001b[0m\u001b[0m\n\u001b[0m\u001b[1;32m    568\u001b[0m         \u001b[0;32mif\u001b[0m \u001b[0;32mnot\u001b[0m \u001b[0mallow_nd\u001b[0m \u001b[0;32mand\u001b[0m \u001b[0marray\u001b[0m\u001b[0;34m.\u001b[0m\u001b[0mndim\u001b[0m \u001b[0;34m>=\u001b[0m \u001b[0;36m3\u001b[0m\u001b[0;34m:\u001b[0m\u001b[0;34m\u001b[0m\u001b[0;34m\u001b[0m\u001b[0m\n\u001b[1;32m    569\u001b[0m             raise ValueError(\"Found array with dim %d. %s expected <= 2.\"\n",
      "\u001b[0;31mValueError\u001b[0m: could not convert string to float: 'sparrow'"
     ]
    }
   ],
   "source": [
    "model = gnb.fit(train, train_labels)"
   ]
  },
  {
   "cell_type": "code",
   "execution_count": 62,
   "metadata": {},
   "outputs": [],
   "source": [
    "zoo.drop('animal_name', axis = 1, inplace = True)"
   ]
  },
  {
   "cell_type": "code",
   "execution_count": 63,
   "metadata": {},
   "outputs": [
    {
     "name": "stdout",
     "output_type": "stream",
     "text": [
      "     hair  feathers  eggs  milk  airborne  aquatic  predator  toothed  \\\n",
      "0       1         0     0     1         0        0         1        1   \n",
      "1       1         0     0     1         0        0         0        1   \n",
      "2       0         0     1     0         0        1         1        1   \n",
      "3       1         0     0     1         0        0         1        1   \n",
      "4       1         0     0     1         0        0         1        1   \n",
      "5       1         0     0     1         0        0         0        1   \n",
      "6       1         0     0     1         0        0         0        1   \n",
      "7       0         0     1     0         0        1         0        1   \n",
      "8       0         0     1     0         0        1         1        1   \n",
      "9       1         0     0     1         0        0         0        1   \n",
      "10      1         0     0     1         0        0         1        1   \n",
      "11      0         1     1     0         1        0         0        0   \n",
      "12      0         0     1     0         0        1         1        1   \n",
      "13      0         0     1     0         0        0         1        0   \n",
      "14      0         0     1     0         0        1         1        0   \n",
      "15      0         0     1     0         0        1         1        0   \n",
      "16      0         1     1     0         1        0         1        0   \n",
      "17      1         0     0     1         0        0         0        1   \n",
      "18      0         0     1     0         0        1         1        1   \n",
      "19      0         0     0     1         0        1         1        1   \n",
      "20      0         1     1     0         1        0         0        0   \n",
      "21      0         1     1     0         1        1         0        0   \n",
      "22      1         0     0     1         0        0         0        1   \n",
      "23      0         1     1     0         1        0         0        0   \n",
      "24      0         0     1     0         0        0         0        0   \n",
      "25      0         0     1     0         0        1         1        1   \n",
      "26      0         0     1     0         0        1         1        1   \n",
      "27      1         0     0     1         1        0         0        1   \n",
      "28      1         0     0     1         0        0         0        1   \n",
      "29      1         0     0     1         0        0         1        1   \n",
      "..    ...       ...   ...   ...       ...      ...       ...      ...   \n",
      "71      0         1     1     0         0        0         1        0   \n",
      "72      0         0     0     0         0        0         1        0   \n",
      "73      0         0     1     0         0        1         0        1   \n",
      "74      1         0     0     1         0        1         1        1   \n",
      "75      1         0     0     1         0        1         1        1   \n",
      "76      0         0     0     0         0        1         1        1   \n",
      "77      0         0     1     0         0        1         1        0   \n",
      "78      0         1     1     0         1        1         1        0   \n",
      "79      0         1     1     0         1        1         1        0   \n",
      "80      0         0     1     0         0        0         1        1   \n",
      "81      0         0     1     0         0        0         0        0   \n",
      "82      0         0     1     0         0        1         0        1   \n",
      "83      0         1     1     0         1        0         0        0   \n",
      "84      1         0     0     1         0        0         0        1   \n",
      "85      0         0     1     0         0        1         1        0   \n",
      "86      0         0     1     0         0        1         1        1   \n",
      "87      0         1     1     0         1        1         0        0   \n",
      "88      0         0     1     0         0        0         0        0   \n",
      "89      0         0     1     0         0        1         0        1   \n",
      "90      0         0     1     0         0        0         0        0   \n",
      "91      0         0     1     0         0        0         1        1   \n",
      "92      0         0     1     0         0        1         1        1   \n",
      "93      1         0     0     1         1        0         0        1   \n",
      "94      1         0     0     1         0        0         0        1   \n",
      "95      0         1     1     0         1        0         1        0   \n",
      "96      1         0     0     1         0        0         0        1   \n",
      "97      1         0     1     0         1        0         0        0   \n",
      "98      1         0     0     1         0        0         1        1   \n",
      "99      0         0     1     0         0        0         0        0   \n",
      "100     0         1     1     0         1        0         0        0   \n",
      "\n",
      "     backbone  breathes  venomous  fins  legs  tail  domestic  catsize  \\\n",
      "0           1         1         0     0     4     0         0        1   \n",
      "1           1         1         0     0     4     1         0        1   \n",
      "2           1         0         0     1     0     1         0        0   \n",
      "3           1         1         0     0     4     0         0        1   \n",
      "4           1         1         0     0     4     1         0        1   \n",
      "5           1         1         0     0     4     1         0        1   \n",
      "6           1         1         0     0     4     1         1        1   \n",
      "7           1         0         0     1     0     1         1        0   \n",
      "8           1         0         0     1     0     1         0        0   \n",
      "9           1         1         0     0     4     0         1        0   \n",
      "10          1         1         0     0     4     1         0        1   \n",
      "11          1         1         0     0     2     1         1        0   \n",
      "12          1         0         0     1     0     1         0        0   \n",
      "13          0         0         0     0     0     0         0        0   \n",
      "14          0         0         0     0     4     0         0        0   \n",
      "15          0         0         0     0     6     0         0        0   \n",
      "16          1         1         0     0     2     1         0        0   \n",
      "17          1         1         0     0     4     1         0        1   \n",
      "18          1         0         0     1     0     1         0        1   \n",
      "19          1         1         0     1     0     1         0        1   \n",
      "20          1         1         0     0     2     1         1        0   \n",
      "21          1         1         0     0     2     1         0        0   \n",
      "22          1         1         0     0     4     1         0        1   \n",
      "23          1         1         0     0     2     1         0        1   \n",
      "24          0         1         0     0     6     0         0        0   \n",
      "25          1         1         0     0     4     0         0        0   \n",
      "26          1         1         1     0     4     0         0        0   \n",
      "27          1         1         0     0     2     1         0        0   \n",
      "28          1         1         0     0     4     1         0        1   \n",
      "29          1         1         0     0     2     0         1        1   \n",
      "..        ...       ...       ...   ...   ...   ...       ...      ...   \n",
      "71          1         1         0     0     2     1         0        1   \n",
      "72          0         1         1     0     8     1         0        0   \n",
      "73          1         0         0     1     0     1         0        0   \n",
      "74          1         1         0     1     0     0         0        1   \n",
      "75          1         1         0     1     2     1         0        1   \n",
      "76          1         0         1     0     0     1         0        0   \n",
      "77          0         0         1     0     0     0         0        0   \n",
      "78          1         1         0     0     2     1         0        0   \n",
      "79          1         1         0     0     2     1         0        0   \n",
      "80          1         1         0     0     0     1         0        0   \n",
      "81          0         1         0     0     0     0         0        0   \n",
      "82          1         0         0     1     0     1         0        0   \n",
      "83          1         1         0     0     2     1         0        0   \n",
      "84          1         1         0     0     2     1         0        0   \n",
      "85          0         0         0     0     5     0         0        0   \n",
      "86          1         0         1     1     0     1         0        1   \n",
      "87          1         1         0     0     2     1         0        1   \n",
      "88          0         1         0     0     6     0         0        0   \n",
      "89          1         1         0     0     4     0         0        0   \n",
      "90          1         1         0     0     4     1         0        1   \n",
      "91          1         1         0     0     4     1         0        0   \n",
      "92          1         0         0     1     0     1         0        1   \n",
      "93          1         1         0     0     2     1         0        0   \n",
      "94          1         1         0     0     4     1         0        0   \n",
      "95          1         1         0     0     2     1         0        1   \n",
      "96          1         1         0     0     2     1         0        1   \n",
      "97          0         1         1     0     6     0         0        0   \n",
      "98          1         1         0     0     4     1         0        1   \n",
      "99          0         1         0     0     0     0         0        0   \n",
      "100         1         1         0     0     2     1         0        0   \n",
      "\n",
      "     class_type  \n",
      "0             1  \n",
      "1             1  \n",
      "2             4  \n",
      "3             1  \n",
      "4             1  \n",
      "5             1  \n",
      "6             1  \n",
      "7             4  \n",
      "8             4  \n",
      "9             1  \n",
      "10            1  \n",
      "11            2  \n",
      "12            4  \n",
      "13            7  \n",
      "14            7  \n",
      "15            7  \n",
      "16            2  \n",
      "17            1  \n",
      "18            4  \n",
      "19            1  \n",
      "20            2  \n",
      "21            2  \n",
      "22            1  \n",
      "23            2  \n",
      "24            6  \n",
      "25            5  \n",
      "26            5  \n",
      "27            1  \n",
      "28            1  \n",
      "29            1  \n",
      "..          ...  \n",
      "71            2  \n",
      "72            7  \n",
      "73            4  \n",
      "74            1  \n",
      "75            1  \n",
      "76            3  \n",
      "77            7  \n",
      "78            2  \n",
      "79            2  \n",
      "80            3  \n",
      "81            7  \n",
      "82            4  \n",
      "83            2  \n",
      "84            1  \n",
      "85            7  \n",
      "86            4  \n",
      "87            2  \n",
      "88            6  \n",
      "89            5  \n",
      "90            3  \n",
      "91            3  \n",
      "92            4  \n",
      "93            1  \n",
      "94            1  \n",
      "95            2  \n",
      "96            1  \n",
      "97            6  \n",
      "98            1  \n",
      "99            7  \n",
      "100           2  \n",
      "\n",
      "[101 rows x 17 columns]\n"
     ]
    }
   ],
   "source": [
    "print (zoo)"
   ]
  },
  {
   "cell_type": "code",
   "execution_count": 64,
   "metadata": {
    "scrolled": true
   },
   "outputs": [
    {
     "ename": "ValueError",
     "evalue": "could not convert string to float: 'sparrow'",
     "output_type": "error",
     "traceback": [
      "\u001b[0;31m---------------------------------------------------------------------------\u001b[0m",
      "\u001b[0;31mValueError\u001b[0m                                Traceback (most recent call last)",
      "\u001b[0;32m<ipython-input-64-9e57db3381f3>\u001b[0m in \u001b[0;36m<module>\u001b[0;34m\u001b[0m\n\u001b[0;32m----> 1\u001b[0;31m \u001b[0mmodel\u001b[0m \u001b[0;34m=\u001b[0m \u001b[0mgnb\u001b[0m\u001b[0;34m.\u001b[0m\u001b[0mfit\u001b[0m\u001b[0;34m(\u001b[0m\u001b[0mtrain\u001b[0m\u001b[0;34m,\u001b[0m \u001b[0mtrain_labels\u001b[0m\u001b[0;34m)\u001b[0m\u001b[0;34m\u001b[0m\u001b[0;34m\u001b[0m\u001b[0m\n\u001b[0m",
      "\u001b[0;32m~/anaconda3/lib/python3.7/site-packages/sklearn/naive_bayes.py\u001b[0m in \u001b[0;36mfit\u001b[0;34m(self, X, y, sample_weight)\u001b[0m\n\u001b[1;32m    188\u001b[0m         \u001b[0mself\u001b[0m \u001b[0;34m:\u001b[0m \u001b[0mobject\u001b[0m\u001b[0;34m\u001b[0m\u001b[0;34m\u001b[0m\u001b[0m\n\u001b[1;32m    189\u001b[0m         \"\"\"\n\u001b[0;32m--> 190\u001b[0;31m         \u001b[0mX\u001b[0m\u001b[0;34m,\u001b[0m \u001b[0my\u001b[0m \u001b[0;34m=\u001b[0m \u001b[0mcheck_X_y\u001b[0m\u001b[0;34m(\u001b[0m\u001b[0mX\u001b[0m\u001b[0;34m,\u001b[0m \u001b[0my\u001b[0m\u001b[0;34m)\u001b[0m\u001b[0;34m\u001b[0m\u001b[0;34m\u001b[0m\u001b[0m\n\u001b[0m\u001b[1;32m    191\u001b[0m         return self._partial_fit(X, y, np.unique(y), _refit=True,\n\u001b[1;32m    192\u001b[0m                                  sample_weight=sample_weight)\n",
      "\u001b[0;32m~/anaconda3/lib/python3.7/site-packages/sklearn/utils/validation.py\u001b[0m in \u001b[0;36mcheck_X_y\u001b[0;34m(X, y, accept_sparse, accept_large_sparse, dtype, order, copy, force_all_finite, ensure_2d, allow_nd, multi_output, ensure_min_samples, ensure_min_features, y_numeric, warn_on_dtype, estimator)\u001b[0m\n\u001b[1;32m    754\u001b[0m                     \u001b[0mensure_min_features\u001b[0m\u001b[0;34m=\u001b[0m\u001b[0mensure_min_features\u001b[0m\u001b[0;34m,\u001b[0m\u001b[0;34m\u001b[0m\u001b[0;34m\u001b[0m\u001b[0m\n\u001b[1;32m    755\u001b[0m                     \u001b[0mwarn_on_dtype\u001b[0m\u001b[0;34m=\u001b[0m\u001b[0mwarn_on_dtype\u001b[0m\u001b[0;34m,\u001b[0m\u001b[0;34m\u001b[0m\u001b[0;34m\u001b[0m\u001b[0m\n\u001b[0;32m--> 756\u001b[0;31m                     estimator=estimator)\n\u001b[0m\u001b[1;32m    757\u001b[0m     \u001b[0;32mif\u001b[0m \u001b[0mmulti_output\u001b[0m\u001b[0;34m:\u001b[0m\u001b[0;34m\u001b[0m\u001b[0;34m\u001b[0m\u001b[0m\n\u001b[1;32m    758\u001b[0m         y = check_array(y, 'csr', force_all_finite=True, ensure_2d=False,\n",
      "\u001b[0;32m~/anaconda3/lib/python3.7/site-packages/sklearn/utils/validation.py\u001b[0m in \u001b[0;36mcheck_array\u001b[0;34m(array, accept_sparse, accept_large_sparse, dtype, order, copy, force_all_finite, ensure_2d, allow_nd, ensure_min_samples, ensure_min_features, warn_on_dtype, estimator)\u001b[0m\n\u001b[1;32m    565\u001b[0m         \u001b[0;31m# make sure we actually converted to numeric:\u001b[0m\u001b[0;34m\u001b[0m\u001b[0;34m\u001b[0m\u001b[0;34m\u001b[0m\u001b[0m\n\u001b[1;32m    566\u001b[0m         \u001b[0;32mif\u001b[0m \u001b[0mdtype_numeric\u001b[0m \u001b[0;32mand\u001b[0m \u001b[0marray\u001b[0m\u001b[0;34m.\u001b[0m\u001b[0mdtype\u001b[0m\u001b[0;34m.\u001b[0m\u001b[0mkind\u001b[0m \u001b[0;34m==\u001b[0m \u001b[0;34m\"O\"\u001b[0m\u001b[0;34m:\u001b[0m\u001b[0;34m\u001b[0m\u001b[0;34m\u001b[0m\u001b[0m\n\u001b[0;32m--> 567\u001b[0;31m             \u001b[0marray\u001b[0m \u001b[0;34m=\u001b[0m \u001b[0marray\u001b[0m\u001b[0;34m.\u001b[0m\u001b[0mastype\u001b[0m\u001b[0;34m(\u001b[0m\u001b[0mnp\u001b[0m\u001b[0;34m.\u001b[0m\u001b[0mfloat64\u001b[0m\u001b[0;34m)\u001b[0m\u001b[0;34m\u001b[0m\u001b[0;34m\u001b[0m\u001b[0m\n\u001b[0m\u001b[1;32m    568\u001b[0m         \u001b[0;32mif\u001b[0m \u001b[0;32mnot\u001b[0m \u001b[0mallow_nd\u001b[0m \u001b[0;32mand\u001b[0m \u001b[0marray\u001b[0m\u001b[0;34m.\u001b[0m\u001b[0mndim\u001b[0m \u001b[0;34m>=\u001b[0m \u001b[0;36m3\u001b[0m\u001b[0;34m:\u001b[0m\u001b[0;34m\u001b[0m\u001b[0;34m\u001b[0m\u001b[0m\n\u001b[1;32m    569\u001b[0m             raise ValueError(\"Found array with dim %d. %s expected <= 2.\"\n",
      "\u001b[0;31mValueError\u001b[0m: could not convert string to float: 'sparrow'"
     ]
    }
   ],
   "source": [
    "model = gnb.fit(train, train_labels)"
   ]
  },
  {
   "cell_type": "code",
   "execution_count": 65,
   "metadata": {},
   "outputs": [],
   "source": [
    "zoo1.drop('animal_name', axis = 1, inplace = True)"
   ]
  },
  {
   "cell_type": "code",
   "execution_count": 66,
   "metadata": {},
   "outputs": [
    {
     "ename": "ValueError",
     "evalue": "could not convert string to float: 'sparrow'",
     "output_type": "error",
     "traceback": [
      "\u001b[0;31m---------------------------------------------------------------------------\u001b[0m",
      "\u001b[0;31mValueError\u001b[0m                                Traceback (most recent call last)",
      "\u001b[0;32m<ipython-input-66-9e57db3381f3>\u001b[0m in \u001b[0;36m<module>\u001b[0;34m\u001b[0m\n\u001b[0;32m----> 1\u001b[0;31m \u001b[0mmodel\u001b[0m \u001b[0;34m=\u001b[0m \u001b[0mgnb\u001b[0m\u001b[0;34m.\u001b[0m\u001b[0mfit\u001b[0m\u001b[0;34m(\u001b[0m\u001b[0mtrain\u001b[0m\u001b[0;34m,\u001b[0m \u001b[0mtrain_labels\u001b[0m\u001b[0;34m)\u001b[0m\u001b[0;34m\u001b[0m\u001b[0;34m\u001b[0m\u001b[0m\n\u001b[0m",
      "\u001b[0;32m~/anaconda3/lib/python3.7/site-packages/sklearn/naive_bayes.py\u001b[0m in \u001b[0;36mfit\u001b[0;34m(self, X, y, sample_weight)\u001b[0m\n\u001b[1;32m    188\u001b[0m         \u001b[0mself\u001b[0m \u001b[0;34m:\u001b[0m \u001b[0mobject\u001b[0m\u001b[0;34m\u001b[0m\u001b[0;34m\u001b[0m\u001b[0m\n\u001b[1;32m    189\u001b[0m         \"\"\"\n\u001b[0;32m--> 190\u001b[0;31m         \u001b[0mX\u001b[0m\u001b[0;34m,\u001b[0m \u001b[0my\u001b[0m \u001b[0;34m=\u001b[0m \u001b[0mcheck_X_y\u001b[0m\u001b[0;34m(\u001b[0m\u001b[0mX\u001b[0m\u001b[0;34m,\u001b[0m \u001b[0my\u001b[0m\u001b[0;34m)\u001b[0m\u001b[0;34m\u001b[0m\u001b[0;34m\u001b[0m\u001b[0m\n\u001b[0m\u001b[1;32m    191\u001b[0m         return self._partial_fit(X, y, np.unique(y), _refit=True,\n\u001b[1;32m    192\u001b[0m                                  sample_weight=sample_weight)\n",
      "\u001b[0;32m~/anaconda3/lib/python3.7/site-packages/sklearn/utils/validation.py\u001b[0m in \u001b[0;36mcheck_X_y\u001b[0;34m(X, y, accept_sparse, accept_large_sparse, dtype, order, copy, force_all_finite, ensure_2d, allow_nd, multi_output, ensure_min_samples, ensure_min_features, y_numeric, warn_on_dtype, estimator)\u001b[0m\n\u001b[1;32m    754\u001b[0m                     \u001b[0mensure_min_features\u001b[0m\u001b[0;34m=\u001b[0m\u001b[0mensure_min_features\u001b[0m\u001b[0;34m,\u001b[0m\u001b[0;34m\u001b[0m\u001b[0;34m\u001b[0m\u001b[0m\n\u001b[1;32m    755\u001b[0m                     \u001b[0mwarn_on_dtype\u001b[0m\u001b[0;34m=\u001b[0m\u001b[0mwarn_on_dtype\u001b[0m\u001b[0;34m,\u001b[0m\u001b[0;34m\u001b[0m\u001b[0;34m\u001b[0m\u001b[0m\n\u001b[0;32m--> 756\u001b[0;31m                     estimator=estimator)\n\u001b[0m\u001b[1;32m    757\u001b[0m     \u001b[0;32mif\u001b[0m \u001b[0mmulti_output\u001b[0m\u001b[0;34m:\u001b[0m\u001b[0;34m\u001b[0m\u001b[0;34m\u001b[0m\u001b[0m\n\u001b[1;32m    758\u001b[0m         y = check_array(y, 'csr', force_all_finite=True, ensure_2d=False,\n",
      "\u001b[0;32m~/anaconda3/lib/python3.7/site-packages/sklearn/utils/validation.py\u001b[0m in \u001b[0;36mcheck_array\u001b[0;34m(array, accept_sparse, accept_large_sparse, dtype, order, copy, force_all_finite, ensure_2d, allow_nd, ensure_min_samples, ensure_min_features, warn_on_dtype, estimator)\u001b[0m\n\u001b[1;32m    565\u001b[0m         \u001b[0;31m# make sure we actually converted to numeric:\u001b[0m\u001b[0;34m\u001b[0m\u001b[0;34m\u001b[0m\u001b[0;34m\u001b[0m\u001b[0m\n\u001b[1;32m    566\u001b[0m         \u001b[0;32mif\u001b[0m \u001b[0mdtype_numeric\u001b[0m \u001b[0;32mand\u001b[0m \u001b[0marray\u001b[0m\u001b[0;34m.\u001b[0m\u001b[0mdtype\u001b[0m\u001b[0;34m.\u001b[0m\u001b[0mkind\u001b[0m \u001b[0;34m==\u001b[0m \u001b[0;34m\"O\"\u001b[0m\u001b[0;34m:\u001b[0m\u001b[0;34m\u001b[0m\u001b[0;34m\u001b[0m\u001b[0m\n\u001b[0;32m--> 567\u001b[0;31m             \u001b[0marray\u001b[0m \u001b[0;34m=\u001b[0m \u001b[0marray\u001b[0m\u001b[0;34m.\u001b[0m\u001b[0mastype\u001b[0m\u001b[0;34m(\u001b[0m\u001b[0mnp\u001b[0m\u001b[0;34m.\u001b[0m\u001b[0mfloat64\u001b[0m\u001b[0;34m)\u001b[0m\u001b[0;34m\u001b[0m\u001b[0;34m\u001b[0m\u001b[0m\n\u001b[0m\u001b[1;32m    568\u001b[0m         \u001b[0;32mif\u001b[0m \u001b[0;32mnot\u001b[0m \u001b[0mallow_nd\u001b[0m \u001b[0;32mand\u001b[0m \u001b[0marray\u001b[0m\u001b[0;34m.\u001b[0m\u001b[0mndim\u001b[0m \u001b[0;34m>=\u001b[0m \u001b[0;36m3\u001b[0m\u001b[0;34m:\u001b[0m\u001b[0;34m\u001b[0m\u001b[0;34m\u001b[0m\u001b[0m\n\u001b[1;32m    569\u001b[0m             raise ValueError(\"Found array with dim %d. %s expected <= 2.\"\n",
      "\u001b[0;31mValueError\u001b[0m: could not convert string to float: 'sparrow'"
     ]
    }
   ],
   "source": [
    "model = gnb.fit(train, train_labels)"
   ]
  },
  {
   "cell_type": "code",
   "execution_count": 67,
   "metadata": {},
   "outputs": [],
   "source": [
    "train, test, train_labels, test_labels = train_test_split(zoo,\n",
    "                                                          zoo1,\n",
    "                                                          test_size=0.33,\n",
    "                                                          random_state=42)"
   ]
  },
  {
   "cell_type": "code",
   "execution_count": 68,
   "metadata": {},
   "outputs": [
    {
     "name": "stdout",
     "output_type": "stream",
     "text": [
      "     hair  feathers  eggs  milk  airborne  aquatic  predator  toothed  \\\n",
      "0       1         0     0     1         0        0         1        1   \n",
      "1       1         0     0     1         0        0         0        1   \n",
      "2       0         0     1     0         0        1         1        1   \n",
      "3       1         0     0     1         0        0         1        1   \n",
      "4       1         0     0     1         0        0         1        1   \n",
      "5       1         0     0     1         0        0         0        1   \n",
      "6       1         0     0     1         0        0         0        1   \n",
      "7       0         0     1     0         0        1         0        1   \n",
      "8       0         0     1     0         0        1         1        1   \n",
      "9       1         0     0     1         0        0         0        1   \n",
      "10      1         0     0     1         0        0         1        1   \n",
      "11      0         1     1     0         1        0         0        0   \n",
      "12      0         0     1     0         0        1         1        1   \n",
      "13      0         0     1     0         0        0         1        0   \n",
      "14      0         0     1     0         0        1         1        0   \n",
      "15      0         0     1     0         0        1         1        0   \n",
      "16      0         1     1     0         1        0         1        0   \n",
      "17      1         0     0     1         0        0         0        1   \n",
      "18      0         0     1     0         0        1         1        1   \n",
      "19      0         0     0     1         0        1         1        1   \n",
      "20      0         1     1     0         1        0         0        0   \n",
      "21      0         1     1     0         1        1         0        0   \n",
      "22      1         0     0     1         0        0         0        1   \n",
      "23      0         1     1     0         1        0         0        0   \n",
      "24      0         0     1     0         0        0         0        0   \n",
      "25      0         0     1     0         0        1         1        1   \n",
      "26      0         0     1     0         0        1         1        1   \n",
      "27      1         0     0     1         1        0         0        1   \n",
      "28      1         0     0     1         0        0         0        1   \n",
      "29      1         0     0     1         0        0         1        1   \n",
      "..    ...       ...   ...   ...       ...      ...       ...      ...   \n",
      "71      0         1     1     0         0        0         1        0   \n",
      "72      0         0     0     0         0        0         1        0   \n",
      "73      0         0     1     0         0        1         0        1   \n",
      "74      1         0     0     1         0        1         1        1   \n",
      "75      1         0     0     1         0        1         1        1   \n",
      "76      0         0     0     0         0        1         1        1   \n",
      "77      0         0     1     0         0        1         1        0   \n",
      "78      0         1     1     0         1        1         1        0   \n",
      "79      0         1     1     0         1        1         1        0   \n",
      "80      0         0     1     0         0        0         1        1   \n",
      "81      0         0     1     0         0        0         0        0   \n",
      "82      0         0     1     0         0        1         0        1   \n",
      "83      0         1     1     0         1        0         0        0   \n",
      "84      1         0     0     1         0        0         0        1   \n",
      "85      0         0     1     0         0        1         1        0   \n",
      "86      0         0     1     0         0        1         1        1   \n",
      "87      0         1     1     0         1        1         0        0   \n",
      "88      0         0     1     0         0        0         0        0   \n",
      "89      0         0     1     0         0        1         0        1   \n",
      "90      0         0     1     0         0        0         0        0   \n",
      "91      0         0     1     0         0        0         1        1   \n",
      "92      0         0     1     0         0        1         1        1   \n",
      "93      1         0     0     1         1        0         0        1   \n",
      "94      1         0     0     1         0        0         0        1   \n",
      "95      0         1     1     0         1        0         1        0   \n",
      "96      1         0     0     1         0        0         0        1   \n",
      "97      1         0     1     0         1        0         0        0   \n",
      "98      1         0     0     1         0        0         1        1   \n",
      "99      0         0     1     0         0        0         0        0   \n",
      "100     0         1     1     0         1        0         0        0   \n",
      "\n",
      "     backbone  breathes  venomous  fins  legs  tail  domestic  catsize  \\\n",
      "0           1         1         0     0     4     0         0        1   \n",
      "1           1         1         0     0     4     1         0        1   \n",
      "2           1         0         0     1     0     1         0        0   \n",
      "3           1         1         0     0     4     0         0        1   \n",
      "4           1         1         0     0     4     1         0        1   \n",
      "5           1         1         0     0     4     1         0        1   \n",
      "6           1         1         0     0     4     1         1        1   \n",
      "7           1         0         0     1     0     1         1        0   \n",
      "8           1         0         0     1     0     1         0        0   \n",
      "9           1         1         0     0     4     0         1        0   \n",
      "10          1         1         0     0     4     1         0        1   \n",
      "11          1         1         0     0     2     1         1        0   \n",
      "12          1         0         0     1     0     1         0        0   \n",
      "13          0         0         0     0     0     0         0        0   \n",
      "14          0         0         0     0     4     0         0        0   \n",
      "15          0         0         0     0     6     0         0        0   \n",
      "16          1         1         0     0     2     1         0        0   \n",
      "17          1         1         0     0     4     1         0        1   \n",
      "18          1         0         0     1     0     1         0        1   \n",
      "19          1         1         0     1     0     1         0        1   \n",
      "20          1         1         0     0     2     1         1        0   \n",
      "21          1         1         0     0     2     1         0        0   \n",
      "22          1         1         0     0     4     1         0        1   \n",
      "23          1         1         0     0     2     1         0        1   \n",
      "24          0         1         0     0     6     0         0        0   \n",
      "25          1         1         0     0     4     0         0        0   \n",
      "26          1         1         1     0     4     0         0        0   \n",
      "27          1         1         0     0     2     1         0        0   \n",
      "28          1         1         0     0     4     1         0        1   \n",
      "29          1         1         0     0     2     0         1        1   \n",
      "..        ...       ...       ...   ...   ...   ...       ...      ...   \n",
      "71          1         1         0     0     2     1         0        1   \n",
      "72          0         1         1     0     8     1         0        0   \n",
      "73          1         0         0     1     0     1         0        0   \n",
      "74          1         1         0     1     0     0         0        1   \n",
      "75          1         1         0     1     2     1         0        1   \n",
      "76          1         0         1     0     0     1         0        0   \n",
      "77          0         0         1     0     0     0         0        0   \n",
      "78          1         1         0     0     2     1         0        0   \n",
      "79          1         1         0     0     2     1         0        0   \n",
      "80          1         1         0     0     0     1         0        0   \n",
      "81          0         1         0     0     0     0         0        0   \n",
      "82          1         0         0     1     0     1         0        0   \n",
      "83          1         1         0     0     2     1         0        0   \n",
      "84          1         1         0     0     2     1         0        0   \n",
      "85          0         0         0     0     5     0         0        0   \n",
      "86          1         0         1     1     0     1         0        1   \n",
      "87          1         1         0     0     2     1         0        1   \n",
      "88          0         1         0     0     6     0         0        0   \n",
      "89          1         1         0     0     4     0         0        0   \n",
      "90          1         1         0     0     4     1         0        1   \n",
      "91          1         1         0     0     4     1         0        0   \n",
      "92          1         0         0     1     0     1         0        1   \n",
      "93          1         1         0     0     2     1         0        0   \n",
      "94          1         1         0     0     4     1         0        0   \n",
      "95          1         1         0     0     2     1         0        1   \n",
      "96          1         1         0     0     2     1         0        1   \n",
      "97          0         1         1     0     6     0         0        0   \n",
      "98          1         1         0     0     4     1         0        1   \n",
      "99          0         1         0     0     0     0         0        0   \n",
      "100         1         1         0     0     2     1         0        0   \n",
      "\n",
      "     class_type  \n",
      "0             1  \n",
      "1             1  \n",
      "2             4  \n",
      "3             1  \n",
      "4             1  \n",
      "5             1  \n",
      "6             1  \n",
      "7             4  \n",
      "8             4  \n",
      "9             1  \n",
      "10            1  \n",
      "11            2  \n",
      "12            4  \n",
      "13            7  \n",
      "14            7  \n",
      "15            7  \n",
      "16            2  \n",
      "17            1  \n",
      "18            4  \n",
      "19            1  \n",
      "20            2  \n",
      "21            2  \n",
      "22            1  \n",
      "23            2  \n",
      "24            6  \n",
      "25            5  \n",
      "26            5  \n",
      "27            1  \n",
      "28            1  \n",
      "29            1  \n",
      "..          ...  \n",
      "71            2  \n",
      "72            7  \n",
      "73            4  \n",
      "74            1  \n",
      "75            1  \n",
      "76            3  \n",
      "77            7  \n",
      "78            2  \n",
      "79            2  \n",
      "80            3  \n",
      "81            7  \n",
      "82            4  \n",
      "83            2  \n",
      "84            1  \n",
      "85            7  \n",
      "86            4  \n",
      "87            2  \n",
      "88            6  \n",
      "89            5  \n",
      "90            3  \n",
      "91            3  \n",
      "92            4  \n",
      "93            1  \n",
      "94            1  \n",
      "95            2  \n",
      "96            1  \n",
      "97            6  \n",
      "98            1  \n",
      "99            7  \n",
      "100           2  \n",
      "\n",
      "[101 rows x 17 columns]\n"
     ]
    }
   ],
   "source": [
    "print (zoo)"
   ]
  },
  {
   "cell_type": "code",
   "execution_count": 69,
   "metadata": {},
   "outputs": [
    {
     "name": "stdout",
     "output_type": "stream",
     "text": [
      "     hair  feathers  eggs  milk  airborne  aquatic  predator  toothed  \\\n",
      "0       1         0     0     1         0        0         1        1   \n",
      "1       1         0     0     1         0        0         0        1   \n",
      "2       0         0     1     0         0        1         1        1   \n",
      "3       1         0     0     1         0        0         1        1   \n",
      "4       1         0     0     1         0        0         1        1   \n",
      "5       1         0     0     1         0        0         0        1   \n",
      "6       1         0     0     1         0        0         0        1   \n",
      "7       0         0     1     0         0        1         0        1   \n",
      "8       0         0     1     0         0        1         1        1   \n",
      "9       1         0     0     1         0        0         0        1   \n",
      "10      1         0     0     1         0        0         1        1   \n",
      "11      0         1     1     0         1        0         0        0   \n",
      "12      0         0     1     0         0        1         1        1   \n",
      "13      0         0     1     0         0        0         1        0   \n",
      "14      0         0     1     0         0        1         1        0   \n",
      "15      0         0     1     0         0        1         1        0   \n",
      "16      0         1     1     0         1        0         1        0   \n",
      "17      1         0     0     1         0        0         0        1   \n",
      "18      0         0     1     0         0        1         1        1   \n",
      "19      0         0     0     1         0        1         1        1   \n",
      "20      0         1     1     0         1        0         0        0   \n",
      "21      0         1     1     0         1        1         0        0   \n",
      "22      1         0     0     1         0        0         0        1   \n",
      "23      0         1     1     0         1        0         0        0   \n",
      "24      0         0     1     0         0        0         0        0   \n",
      "25      0         0     1     0         0        1         1        1   \n",
      "26      0         0     1     0         0        1         1        1   \n",
      "27      1         0     0     1         1        0         0        1   \n",
      "28      1         0     0     1         0        0         0        1   \n",
      "29      1         0     0     1         0        0         1        1   \n",
      "..    ...       ...   ...   ...       ...      ...       ...      ...   \n",
      "71      0         1     1     0         0        0         1        0   \n",
      "72      0         0     0     0         0        0         1        0   \n",
      "73      0         0     1     0         0        1         0        1   \n",
      "74      1         0     0     1         0        1         1        1   \n",
      "75      1         0     0     1         0        1         1        1   \n",
      "76      0         0     0     0         0        1         1        1   \n",
      "77      0         0     1     0         0        1         1        0   \n",
      "78      0         1     1     0         1        1         1        0   \n",
      "79      0         1     1     0         1        1         1        0   \n",
      "80      0         0     1     0         0        0         1        1   \n",
      "81      0         0     1     0         0        0         0        0   \n",
      "82      0         0     1     0         0        1         0        1   \n",
      "83      0         1     1     0         1        0         0        0   \n",
      "84      1         0     0     1         0        0         0        1   \n",
      "85      0         0     1     0         0        1         1        0   \n",
      "86      0         0     1     0         0        1         1        1   \n",
      "87      0         1     1     0         1        1         0        0   \n",
      "88      0         0     1     0         0        0         0        0   \n",
      "89      0         0     1     0         0        1         0        1   \n",
      "90      0         0     1     0         0        0         0        0   \n",
      "91      0         0     1     0         0        0         1        1   \n",
      "92      0         0     1     0         0        1         1        1   \n",
      "93      1         0     0     1         1        0         0        1   \n",
      "94      1         0     0     1         0        0         0        1   \n",
      "95      0         1     1     0         1        0         1        0   \n",
      "96      1         0     0     1         0        0         0        1   \n",
      "97      1         0     1     0         1        0         0        0   \n",
      "98      1         0     0     1         0        0         1        1   \n",
      "99      0         0     1     0         0        0         0        0   \n",
      "100     0         1     1     0         1        0         0        0   \n",
      "\n",
      "     backbone  breathes  venomous  fins  legs  tail  domestic  catsize  \\\n",
      "0           1         1         0     0     4     0         0        1   \n",
      "1           1         1         0     0     4     1         0        1   \n",
      "2           1         0         0     1     0     1         0        0   \n",
      "3           1         1         0     0     4     0         0        1   \n",
      "4           1         1         0     0     4     1         0        1   \n",
      "5           1         1         0     0     4     1         0        1   \n",
      "6           1         1         0     0     4     1         1        1   \n",
      "7           1         0         0     1     0     1         1        0   \n",
      "8           1         0         0     1     0     1         0        0   \n",
      "9           1         1         0     0     4     0         1        0   \n",
      "10          1         1         0     0     4     1         0        1   \n",
      "11          1         1         0     0     2     1         1        0   \n",
      "12          1         0         0     1     0     1         0        0   \n",
      "13          0         0         0     0     0     0         0        0   \n",
      "14          0         0         0     0     4     0         0        0   \n",
      "15          0         0         0     0     6     0         0        0   \n",
      "16          1         1         0     0     2     1         0        0   \n",
      "17          1         1         0     0     4     1         0        1   \n",
      "18          1         0         0     1     0     1         0        1   \n",
      "19          1         1         0     1     0     1         0        1   \n",
      "20          1         1         0     0     2     1         1        0   \n",
      "21          1         1         0     0     2     1         0        0   \n",
      "22          1         1         0     0     4     1         0        1   \n",
      "23          1         1         0     0     2     1         0        1   \n",
      "24          0         1         0     0     6     0         0        0   \n",
      "25          1         1         0     0     4     0         0        0   \n",
      "26          1         1         1     0     4     0         0        0   \n",
      "27          1         1         0     0     2     1         0        0   \n",
      "28          1         1         0     0     4     1         0        1   \n",
      "29          1         1         0     0     2     0         1        1   \n",
      "..        ...       ...       ...   ...   ...   ...       ...      ...   \n",
      "71          1         1         0     0     2     1         0        1   \n",
      "72          0         1         1     0     8     1         0        0   \n",
      "73          1         0         0     1     0     1         0        0   \n",
      "74          1         1         0     1     0     0         0        1   \n",
      "75          1         1         0     1     2     1         0        1   \n",
      "76          1         0         1     0     0     1         0        0   \n",
      "77          0         0         1     0     0     0         0        0   \n",
      "78          1         1         0     0     2     1         0        0   \n",
      "79          1         1         0     0     2     1         0        0   \n",
      "80          1         1         0     0     0     1         0        0   \n",
      "81          0         1         0     0     0     0         0        0   \n",
      "82          1         0         0     1     0     1         0        0   \n",
      "83          1         1         0     0     2     1         0        0   \n",
      "84          1         1         0     0     2     1         0        0   \n",
      "85          0         0         0     0     5     0         0        0   \n",
      "86          1         0         1     1     0     1         0        1   \n",
      "87          1         1         0     0     2     1         0        1   \n",
      "88          0         1         0     0     6     0         0        0   \n",
      "89          1         1         0     0     4     0         0        0   \n",
      "90          1         1         0     0     4     1         0        1   \n",
      "91          1         1         0     0     4     1         0        0   \n",
      "92          1         0         0     1     0     1         0        1   \n",
      "93          1         1         0     0     2     1         0        0   \n",
      "94          1         1         0     0     4     1         0        0   \n",
      "95          1         1         0     0     2     1         0        1   \n",
      "96          1         1         0     0     2     1         0        1   \n",
      "97          0         1         1     0     6     0         0        0   \n",
      "98          1         1         0     0     4     1         0        1   \n",
      "99          0         1         0     0     0     0         0        0   \n",
      "100         1         1         0     0     2     1         0        0   \n",
      "\n",
      "     class_type  \n",
      "0             1  \n",
      "1             1  \n",
      "2             4  \n",
      "3             1  \n",
      "4             1  \n",
      "5             1  \n",
      "6             1  \n",
      "7             4  \n",
      "8             4  \n",
      "9             1  \n",
      "10            1  \n",
      "11            2  \n",
      "12            4  \n",
      "13            7  \n",
      "14            7  \n",
      "15            7  \n",
      "16            2  \n",
      "17            1  \n",
      "18            4  \n",
      "19            1  \n",
      "20            2  \n",
      "21            2  \n",
      "22            1  \n",
      "23            2  \n",
      "24            6  \n",
      "25            5  \n",
      "26            5  \n",
      "27            1  \n",
      "28            1  \n",
      "29            1  \n",
      "..          ...  \n",
      "71            2  \n",
      "72            7  \n",
      "73            4  \n",
      "74            1  \n",
      "75            1  \n",
      "76            3  \n",
      "77            7  \n",
      "78            2  \n",
      "79            2  \n",
      "80            3  \n",
      "81            7  \n",
      "82            4  \n",
      "83            2  \n",
      "84            1  \n",
      "85            7  \n",
      "86            4  \n",
      "87            2  \n",
      "88            6  \n",
      "89            5  \n",
      "90            3  \n",
      "91            3  \n",
      "92            4  \n",
      "93            1  \n",
      "94            1  \n",
      "95            2  \n",
      "96            1  \n",
      "97            6  \n",
      "98            1  \n",
      "99            7  \n",
      "100           2  \n",
      "\n",
      "[101 rows x 17 columns]\n"
     ]
    }
   ],
   "source": [
    "print (zoo1)"
   ]
  },
  {
   "cell_type": "code",
   "execution_count": 70,
   "metadata": {},
   "outputs": [],
   "source": [
    "train, test, train_labels, test_labels = train_test_split(zoo,\n",
    "                                                          feature,\n",
    "                                                          test_size=0.33,\n",
    "                                                          random_state=42)"
   ]
  },
  {
   "cell_type": "code",
   "execution_count": 71,
   "metadata": {},
   "outputs": [
    {
     "ename": "ValueError",
     "evalue": "bad input shape (67, 17)",
     "output_type": "error",
     "traceback": [
      "\u001b[0;31m---------------------------------------------------------------------------\u001b[0m",
      "\u001b[0;31mValueError\u001b[0m                                Traceback (most recent call last)",
      "\u001b[0;32m<ipython-input-71-9e57db3381f3>\u001b[0m in \u001b[0;36m<module>\u001b[0;34m\u001b[0m\n\u001b[0;32m----> 1\u001b[0;31m \u001b[0mmodel\u001b[0m \u001b[0;34m=\u001b[0m \u001b[0mgnb\u001b[0m\u001b[0;34m.\u001b[0m\u001b[0mfit\u001b[0m\u001b[0;34m(\u001b[0m\u001b[0mtrain\u001b[0m\u001b[0;34m,\u001b[0m \u001b[0mtrain_labels\u001b[0m\u001b[0;34m)\u001b[0m\u001b[0;34m\u001b[0m\u001b[0;34m\u001b[0m\u001b[0m\n\u001b[0m",
      "\u001b[0;32m~/anaconda3/lib/python3.7/site-packages/sklearn/naive_bayes.py\u001b[0m in \u001b[0;36mfit\u001b[0;34m(self, X, y, sample_weight)\u001b[0m\n\u001b[1;32m    188\u001b[0m         \u001b[0mself\u001b[0m \u001b[0;34m:\u001b[0m \u001b[0mobject\u001b[0m\u001b[0;34m\u001b[0m\u001b[0;34m\u001b[0m\u001b[0m\n\u001b[1;32m    189\u001b[0m         \"\"\"\n\u001b[0;32m--> 190\u001b[0;31m         \u001b[0mX\u001b[0m\u001b[0;34m,\u001b[0m \u001b[0my\u001b[0m \u001b[0;34m=\u001b[0m \u001b[0mcheck_X_y\u001b[0m\u001b[0;34m(\u001b[0m\u001b[0mX\u001b[0m\u001b[0;34m,\u001b[0m \u001b[0my\u001b[0m\u001b[0;34m)\u001b[0m\u001b[0;34m\u001b[0m\u001b[0;34m\u001b[0m\u001b[0m\n\u001b[0m\u001b[1;32m    191\u001b[0m         return self._partial_fit(X, y, np.unique(y), _refit=True,\n\u001b[1;32m    192\u001b[0m                                  sample_weight=sample_weight)\n",
      "\u001b[0;32m~/anaconda3/lib/python3.7/site-packages/sklearn/utils/validation.py\u001b[0m in \u001b[0;36mcheck_X_y\u001b[0;34m(X, y, accept_sparse, accept_large_sparse, dtype, order, copy, force_all_finite, ensure_2d, allow_nd, multi_output, ensure_min_samples, ensure_min_features, y_numeric, warn_on_dtype, estimator)\u001b[0m\n\u001b[1;32m    759\u001b[0m                         dtype=None)\n\u001b[1;32m    760\u001b[0m     \u001b[0;32melse\u001b[0m\u001b[0;34m:\u001b[0m\u001b[0;34m\u001b[0m\u001b[0;34m\u001b[0m\u001b[0m\n\u001b[0;32m--> 761\u001b[0;31m         \u001b[0my\u001b[0m \u001b[0;34m=\u001b[0m \u001b[0mcolumn_or_1d\u001b[0m\u001b[0;34m(\u001b[0m\u001b[0my\u001b[0m\u001b[0;34m,\u001b[0m \u001b[0mwarn\u001b[0m\u001b[0;34m=\u001b[0m\u001b[0;32mTrue\u001b[0m\u001b[0;34m)\u001b[0m\u001b[0;34m\u001b[0m\u001b[0;34m\u001b[0m\u001b[0m\n\u001b[0m\u001b[1;32m    762\u001b[0m         \u001b[0m_assert_all_finite\u001b[0m\u001b[0;34m(\u001b[0m\u001b[0my\u001b[0m\u001b[0;34m)\u001b[0m\u001b[0;34m\u001b[0m\u001b[0;34m\u001b[0m\u001b[0m\n\u001b[1;32m    763\u001b[0m     \u001b[0;32mif\u001b[0m \u001b[0my_numeric\u001b[0m \u001b[0;32mand\u001b[0m \u001b[0my\u001b[0m\u001b[0;34m.\u001b[0m\u001b[0mdtype\u001b[0m\u001b[0;34m.\u001b[0m\u001b[0mkind\u001b[0m \u001b[0;34m==\u001b[0m \u001b[0;34m'O'\u001b[0m\u001b[0;34m:\u001b[0m\u001b[0;34m\u001b[0m\u001b[0;34m\u001b[0m\u001b[0m\n",
      "\u001b[0;32m~/anaconda3/lib/python3.7/site-packages/sklearn/utils/validation.py\u001b[0m in \u001b[0;36mcolumn_or_1d\u001b[0;34m(y, warn)\u001b[0m\n\u001b[1;32m    795\u001b[0m         \u001b[0;32mreturn\u001b[0m \u001b[0mnp\u001b[0m\u001b[0;34m.\u001b[0m\u001b[0mravel\u001b[0m\u001b[0;34m(\u001b[0m\u001b[0my\u001b[0m\u001b[0;34m)\u001b[0m\u001b[0;34m\u001b[0m\u001b[0;34m\u001b[0m\u001b[0m\n\u001b[1;32m    796\u001b[0m \u001b[0;34m\u001b[0m\u001b[0m\n\u001b[0;32m--> 797\u001b[0;31m     \u001b[0;32mraise\u001b[0m \u001b[0mValueError\u001b[0m\u001b[0;34m(\u001b[0m\u001b[0;34m\"bad input shape {0}\"\u001b[0m\u001b[0;34m.\u001b[0m\u001b[0mformat\u001b[0m\u001b[0;34m(\u001b[0m\u001b[0mshape\u001b[0m\u001b[0;34m)\u001b[0m\u001b[0;34m)\u001b[0m\u001b[0;34m\u001b[0m\u001b[0;34m\u001b[0m\u001b[0m\n\u001b[0m\u001b[1;32m    798\u001b[0m \u001b[0;34m\u001b[0m\u001b[0m\n\u001b[1;32m    799\u001b[0m \u001b[0;34m\u001b[0m\u001b[0m\n",
      "\u001b[0;31mValueError\u001b[0m: bad input shape (67, 17)"
     ]
    }
   ],
   "source": [
    "model = gnb.fit(train, train_labels)"
   ]
  },
  {
   "cell_type": "code",
   "execution_count": 76,
   "metadata": {},
   "outputs": [
    {
     "name": "stdout",
     "output_type": "stream",
     "text": [
      "   Class_Number  Number_Of_Animal_Species_In_Class    Class_Type  \\\n",
      "0             1                                 41        Mammal   \n",
      "1             2                                 20          Bird   \n",
      "2             3                                  5       Reptile   \n",
      "3             4                                 13          Fish   \n",
      "4             5                                  4     Amphibian   \n",
      "5             6                                  8           Bug   \n",
      "6             7                                 10  Invertebrate   \n",
      "\n",
      "                                        Animal_Names  \n",
      "0  aardvark, antelope, bear, boar, buffalo, calf,...  \n",
      "1  chicken, crow, dove, duck, flamingo, gull, haw...  \n",
      "2    pitviper, seasnake, slowworm, tortoise, tuatara  \n",
      "3  bass, carp, catfish, chub, dogfish, haddock, h...  \n",
      "4                             frog, frog, newt, toad  \n",
      "5  flea, gnat, honeybee, housefly, ladybird, moth...  \n",
      "6  clam, crab, crayfish, lobster, octopus, scorpi...  \n"
     ]
    }
   ],
   "source": [
    "print (class1)"
   ]
  },
  {
   "cell_type": "code",
   "execution_count": 88,
   "metadata": {},
   "outputs": [
    {
     "ename": "KeyError",
     "evalue": "False",
     "output_type": "error",
     "traceback": [
      "\u001b[0;31m---------------------------------------------------------------------------\u001b[0m",
      "\u001b[0;31mKeyError\u001b[0m                                  Traceback (most recent call last)",
      "\u001b[0;32m~/anaconda3/lib/python3.7/site-packages/pandas/core/indexes/base.py\u001b[0m in \u001b[0;36mget_loc\u001b[0;34m(self, key, method, tolerance)\u001b[0m\n\u001b[1;32m   2656\u001b[0m             \u001b[0;32mtry\u001b[0m\u001b[0;34m:\u001b[0m\u001b[0;34m\u001b[0m\u001b[0;34m\u001b[0m\u001b[0m\n\u001b[0;32m-> 2657\u001b[0;31m                 \u001b[0;32mreturn\u001b[0m \u001b[0mself\u001b[0m\u001b[0;34m.\u001b[0m\u001b[0m_engine\u001b[0m\u001b[0;34m.\u001b[0m\u001b[0mget_loc\u001b[0m\u001b[0;34m(\u001b[0m\u001b[0mkey\u001b[0m\u001b[0;34m)\u001b[0m\u001b[0;34m\u001b[0m\u001b[0;34m\u001b[0m\u001b[0m\n\u001b[0m\u001b[1;32m   2658\u001b[0m             \u001b[0;32mexcept\u001b[0m \u001b[0mKeyError\u001b[0m\u001b[0;34m:\u001b[0m\u001b[0;34m\u001b[0m\u001b[0;34m\u001b[0m\u001b[0m\n",
      "\u001b[0;32mpandas/_libs/index.pyx\u001b[0m in \u001b[0;36mpandas._libs.index.IndexEngine.get_loc\u001b[0;34m()\u001b[0m\n",
      "\u001b[0;32mpandas/_libs/index.pyx\u001b[0m in \u001b[0;36mpandas._libs.index.IndexEngine.get_loc\u001b[0;34m()\u001b[0m\n",
      "\u001b[0;32mpandas/_libs/hashtable_class_helper.pxi\u001b[0m in \u001b[0;36mpandas._libs.hashtable.PyObjectHashTable.get_item\u001b[0;34m()\u001b[0m\n",
      "\u001b[0;32mpandas/_libs/hashtable_class_helper.pxi\u001b[0m in \u001b[0;36mpandas._libs.hashtable.PyObjectHashTable.get_item\u001b[0;34m()\u001b[0m\n",
      "\u001b[0;31mKeyError\u001b[0m: False",
      "\nDuring handling of the above exception, another exception occurred:\n",
      "\u001b[0;31mKeyError\u001b[0m                                  Traceback (most recent call last)",
      "\u001b[0;32m<ipython-input-88-38637214bcca>\u001b[0m in \u001b[0;36m<module>\u001b[0;34m\u001b[0m\n\u001b[0;32m----> 1\u001b[0;31m \u001b[0;32mif\u001b[0m \u001b[0mzoo\u001b[0m\u001b[0;34m[\u001b[0m\u001b[0;34m'class_type'\u001b[0m \u001b[0;34m==\u001b[0m \u001b[0;36m1\u001b[0m\u001b[0;34m]\u001b[0m\u001b[0;34m:\u001b[0m\u001b[0;34m\u001b[0m\u001b[0;34m\u001b[0m\u001b[0m\n\u001b[0m\u001b[1;32m      2\u001b[0m     \u001b[0mtarget1\u001b[0m \u001b[0;34m=\u001b[0m \u001b[0;34m'1'\u001b[0m\u001b[0;34m\u001b[0m\u001b[0;34m\u001b[0m\u001b[0m\n",
      "\u001b[0;32m~/anaconda3/lib/python3.7/site-packages/pandas/core/frame.py\u001b[0m in \u001b[0;36m__getitem__\u001b[0;34m(self, key)\u001b[0m\n\u001b[1;32m   2925\u001b[0m             \u001b[0;32mif\u001b[0m \u001b[0mself\u001b[0m\u001b[0;34m.\u001b[0m\u001b[0mcolumns\u001b[0m\u001b[0;34m.\u001b[0m\u001b[0mnlevels\u001b[0m \u001b[0;34m>\u001b[0m \u001b[0;36m1\u001b[0m\u001b[0;34m:\u001b[0m\u001b[0;34m\u001b[0m\u001b[0;34m\u001b[0m\u001b[0m\n\u001b[1;32m   2926\u001b[0m                 \u001b[0;32mreturn\u001b[0m \u001b[0mself\u001b[0m\u001b[0;34m.\u001b[0m\u001b[0m_getitem_multilevel\u001b[0m\u001b[0;34m(\u001b[0m\u001b[0mkey\u001b[0m\u001b[0;34m)\u001b[0m\u001b[0;34m\u001b[0m\u001b[0;34m\u001b[0m\u001b[0m\n\u001b[0;32m-> 2927\u001b[0;31m             \u001b[0mindexer\u001b[0m \u001b[0;34m=\u001b[0m \u001b[0mself\u001b[0m\u001b[0;34m.\u001b[0m\u001b[0mcolumns\u001b[0m\u001b[0;34m.\u001b[0m\u001b[0mget_loc\u001b[0m\u001b[0;34m(\u001b[0m\u001b[0mkey\u001b[0m\u001b[0;34m)\u001b[0m\u001b[0;34m\u001b[0m\u001b[0;34m\u001b[0m\u001b[0m\n\u001b[0m\u001b[1;32m   2928\u001b[0m             \u001b[0;32mif\u001b[0m \u001b[0mis_integer\u001b[0m\u001b[0;34m(\u001b[0m\u001b[0mindexer\u001b[0m\u001b[0;34m)\u001b[0m\u001b[0;34m:\u001b[0m\u001b[0;34m\u001b[0m\u001b[0;34m\u001b[0m\u001b[0m\n\u001b[1;32m   2929\u001b[0m                 \u001b[0mindexer\u001b[0m \u001b[0;34m=\u001b[0m \u001b[0;34m[\u001b[0m\u001b[0mindexer\u001b[0m\u001b[0;34m]\u001b[0m\u001b[0;34m\u001b[0m\u001b[0;34m\u001b[0m\u001b[0m\n",
      "\u001b[0;32m~/anaconda3/lib/python3.7/site-packages/pandas/core/indexes/base.py\u001b[0m in \u001b[0;36mget_loc\u001b[0;34m(self, key, method, tolerance)\u001b[0m\n\u001b[1;32m   2657\u001b[0m                 \u001b[0;32mreturn\u001b[0m \u001b[0mself\u001b[0m\u001b[0;34m.\u001b[0m\u001b[0m_engine\u001b[0m\u001b[0;34m.\u001b[0m\u001b[0mget_loc\u001b[0m\u001b[0;34m(\u001b[0m\u001b[0mkey\u001b[0m\u001b[0;34m)\u001b[0m\u001b[0;34m\u001b[0m\u001b[0;34m\u001b[0m\u001b[0m\n\u001b[1;32m   2658\u001b[0m             \u001b[0;32mexcept\u001b[0m \u001b[0mKeyError\u001b[0m\u001b[0;34m:\u001b[0m\u001b[0;34m\u001b[0m\u001b[0;34m\u001b[0m\u001b[0m\n\u001b[0;32m-> 2659\u001b[0;31m                 \u001b[0;32mreturn\u001b[0m \u001b[0mself\u001b[0m\u001b[0;34m.\u001b[0m\u001b[0m_engine\u001b[0m\u001b[0;34m.\u001b[0m\u001b[0mget_loc\u001b[0m\u001b[0;34m(\u001b[0m\u001b[0mself\u001b[0m\u001b[0;34m.\u001b[0m\u001b[0m_maybe_cast_indexer\u001b[0m\u001b[0;34m(\u001b[0m\u001b[0mkey\u001b[0m\u001b[0;34m)\u001b[0m\u001b[0;34m)\u001b[0m\u001b[0;34m\u001b[0m\u001b[0;34m\u001b[0m\u001b[0m\n\u001b[0m\u001b[1;32m   2660\u001b[0m         \u001b[0mindexer\u001b[0m \u001b[0;34m=\u001b[0m \u001b[0mself\u001b[0m\u001b[0;34m.\u001b[0m\u001b[0mget_indexer\u001b[0m\u001b[0;34m(\u001b[0m\u001b[0;34m[\u001b[0m\u001b[0mkey\u001b[0m\u001b[0;34m]\u001b[0m\u001b[0;34m,\u001b[0m \u001b[0mmethod\u001b[0m\u001b[0;34m=\u001b[0m\u001b[0mmethod\u001b[0m\u001b[0;34m,\u001b[0m \u001b[0mtolerance\u001b[0m\u001b[0;34m=\u001b[0m\u001b[0mtolerance\u001b[0m\u001b[0;34m)\u001b[0m\u001b[0;34m\u001b[0m\u001b[0;34m\u001b[0m\u001b[0m\n\u001b[1;32m   2661\u001b[0m         \u001b[0;32mif\u001b[0m \u001b[0mindexer\u001b[0m\u001b[0;34m.\u001b[0m\u001b[0mndim\u001b[0m \u001b[0;34m>\u001b[0m \u001b[0;36m1\u001b[0m \u001b[0;32mor\u001b[0m \u001b[0mindexer\u001b[0m\u001b[0;34m.\u001b[0m\u001b[0msize\u001b[0m \u001b[0;34m>\u001b[0m \u001b[0;36m1\u001b[0m\u001b[0;34m:\u001b[0m\u001b[0;34m\u001b[0m\u001b[0;34m\u001b[0m\u001b[0m\n",
      "\u001b[0;32mpandas/_libs/index.pyx\u001b[0m in \u001b[0;36mpandas._libs.index.IndexEngine.get_loc\u001b[0;34m()\u001b[0m\n",
      "\u001b[0;32mpandas/_libs/index.pyx\u001b[0m in \u001b[0;36mpandas._libs.index.IndexEngine.get_loc\u001b[0;34m()\u001b[0m\n",
      "\u001b[0;32mpandas/_libs/hashtable_class_helper.pxi\u001b[0m in \u001b[0;36mpandas._libs.hashtable.PyObjectHashTable.get_item\u001b[0;34m()\u001b[0m\n",
      "\u001b[0;32mpandas/_libs/hashtable_class_helper.pxi\u001b[0m in \u001b[0;36mpandas._libs.hashtable.PyObjectHashTable.get_item\u001b[0;34m()\u001b[0m\n",
      "\u001b[0;31mKeyError\u001b[0m: False"
     ]
    }
   ],
   "source": [
    "if zoo['class_type' == 1]:\n",
    "    target1 = '1'"
   ]
  },
  {
   "cell_type": "code",
   "execution_count": 90,
   "metadata": {},
   "outputs": [],
   "source": [
    "target = zoo.class_type\n",
    "\n"
   ]
  },
  {
   "cell_type": "code",
   "execution_count": 91,
   "metadata": {},
   "outputs": [
    {
     "name": "stdout",
     "output_type": "stream",
     "text": [
      "0      1\n",
      "1      1\n",
      "2      4\n",
      "3      1\n",
      "4      1\n",
      "5      1\n",
      "6      1\n",
      "7      4\n",
      "8      4\n",
      "9      1\n",
      "10     1\n",
      "11     2\n",
      "12     4\n",
      "13     7\n",
      "14     7\n",
      "15     7\n",
      "16     2\n",
      "17     1\n",
      "18     4\n",
      "19     1\n",
      "20     2\n",
      "21     2\n",
      "22     1\n",
      "23     2\n",
      "24     6\n",
      "25     5\n",
      "26     5\n",
      "27     1\n",
      "28     1\n",
      "29     1\n",
      "      ..\n",
      "71     2\n",
      "72     7\n",
      "73     4\n",
      "74     1\n",
      "75     1\n",
      "76     3\n",
      "77     7\n",
      "78     2\n",
      "79     2\n",
      "80     3\n",
      "81     7\n",
      "82     4\n",
      "83     2\n",
      "84     1\n",
      "85     7\n",
      "86     4\n",
      "87     2\n",
      "88     6\n",
      "89     5\n",
      "90     3\n",
      "91     3\n",
      "92     4\n",
      "93     1\n",
      "94     1\n",
      "95     2\n",
      "96     1\n",
      "97     6\n",
      "98     1\n",
      "99     7\n",
      "100    2\n",
      "Name: class_type, Length: 101, dtype: int64\n"
     ]
    }
   ],
   "source": [
    "print (target)"
   ]
  },
  {
   "cell_type": "code",
   "execution_count": 92,
   "metadata": {},
   "outputs": [
    {
     "ename": "ValueError",
     "evalue": "bad input shape (67, 17)",
     "output_type": "error",
     "traceback": [
      "\u001b[0;31m---------------------------------------------------------------------------\u001b[0m",
      "\u001b[0;31mValueError\u001b[0m                                Traceback (most recent call last)",
      "\u001b[0;32m<ipython-input-92-9e57db3381f3>\u001b[0m in \u001b[0;36m<module>\u001b[0;34m\u001b[0m\n\u001b[0;32m----> 1\u001b[0;31m \u001b[0mmodel\u001b[0m \u001b[0;34m=\u001b[0m \u001b[0mgnb\u001b[0m\u001b[0;34m.\u001b[0m\u001b[0mfit\u001b[0m\u001b[0;34m(\u001b[0m\u001b[0mtrain\u001b[0m\u001b[0;34m,\u001b[0m \u001b[0mtrain_labels\u001b[0m\u001b[0;34m)\u001b[0m\u001b[0;34m\u001b[0m\u001b[0;34m\u001b[0m\u001b[0m\n\u001b[0m",
      "\u001b[0;32m~/anaconda3/lib/python3.7/site-packages/sklearn/naive_bayes.py\u001b[0m in \u001b[0;36mfit\u001b[0;34m(self, X, y, sample_weight)\u001b[0m\n\u001b[1;32m    188\u001b[0m         \u001b[0mself\u001b[0m \u001b[0;34m:\u001b[0m \u001b[0mobject\u001b[0m\u001b[0;34m\u001b[0m\u001b[0;34m\u001b[0m\u001b[0m\n\u001b[1;32m    189\u001b[0m         \"\"\"\n\u001b[0;32m--> 190\u001b[0;31m         \u001b[0mX\u001b[0m\u001b[0;34m,\u001b[0m \u001b[0my\u001b[0m \u001b[0;34m=\u001b[0m \u001b[0mcheck_X_y\u001b[0m\u001b[0;34m(\u001b[0m\u001b[0mX\u001b[0m\u001b[0;34m,\u001b[0m \u001b[0my\u001b[0m\u001b[0;34m)\u001b[0m\u001b[0;34m\u001b[0m\u001b[0;34m\u001b[0m\u001b[0m\n\u001b[0m\u001b[1;32m    191\u001b[0m         return self._partial_fit(X, y, np.unique(y), _refit=True,\n\u001b[1;32m    192\u001b[0m                                  sample_weight=sample_weight)\n",
      "\u001b[0;32m~/anaconda3/lib/python3.7/site-packages/sklearn/utils/validation.py\u001b[0m in \u001b[0;36mcheck_X_y\u001b[0;34m(X, y, accept_sparse, accept_large_sparse, dtype, order, copy, force_all_finite, ensure_2d, allow_nd, multi_output, ensure_min_samples, ensure_min_features, y_numeric, warn_on_dtype, estimator)\u001b[0m\n\u001b[1;32m    759\u001b[0m                         dtype=None)\n\u001b[1;32m    760\u001b[0m     \u001b[0;32melse\u001b[0m\u001b[0;34m:\u001b[0m\u001b[0;34m\u001b[0m\u001b[0;34m\u001b[0m\u001b[0m\n\u001b[0;32m--> 761\u001b[0;31m         \u001b[0my\u001b[0m \u001b[0;34m=\u001b[0m \u001b[0mcolumn_or_1d\u001b[0m\u001b[0;34m(\u001b[0m\u001b[0my\u001b[0m\u001b[0;34m,\u001b[0m \u001b[0mwarn\u001b[0m\u001b[0;34m=\u001b[0m\u001b[0;32mTrue\u001b[0m\u001b[0;34m)\u001b[0m\u001b[0;34m\u001b[0m\u001b[0;34m\u001b[0m\u001b[0m\n\u001b[0m\u001b[1;32m    762\u001b[0m         \u001b[0m_assert_all_finite\u001b[0m\u001b[0;34m(\u001b[0m\u001b[0my\u001b[0m\u001b[0;34m)\u001b[0m\u001b[0;34m\u001b[0m\u001b[0;34m\u001b[0m\u001b[0m\n\u001b[1;32m    763\u001b[0m     \u001b[0;32mif\u001b[0m \u001b[0my_numeric\u001b[0m \u001b[0;32mand\u001b[0m \u001b[0my\u001b[0m\u001b[0;34m.\u001b[0m\u001b[0mdtype\u001b[0m\u001b[0;34m.\u001b[0m\u001b[0mkind\u001b[0m \u001b[0;34m==\u001b[0m \u001b[0;34m'O'\u001b[0m\u001b[0;34m:\u001b[0m\u001b[0;34m\u001b[0m\u001b[0;34m\u001b[0m\u001b[0m\n",
      "\u001b[0;32m~/anaconda3/lib/python3.7/site-packages/sklearn/utils/validation.py\u001b[0m in \u001b[0;36mcolumn_or_1d\u001b[0;34m(y, warn)\u001b[0m\n\u001b[1;32m    795\u001b[0m         \u001b[0;32mreturn\u001b[0m \u001b[0mnp\u001b[0m\u001b[0;34m.\u001b[0m\u001b[0mravel\u001b[0m\u001b[0;34m(\u001b[0m\u001b[0my\u001b[0m\u001b[0;34m)\u001b[0m\u001b[0;34m\u001b[0m\u001b[0;34m\u001b[0m\u001b[0m\n\u001b[1;32m    796\u001b[0m \u001b[0;34m\u001b[0m\u001b[0m\n\u001b[0;32m--> 797\u001b[0;31m     \u001b[0;32mraise\u001b[0m \u001b[0mValueError\u001b[0m\u001b[0;34m(\u001b[0m\u001b[0;34m\"bad input shape {0}\"\u001b[0m\u001b[0;34m.\u001b[0m\u001b[0mformat\u001b[0m\u001b[0;34m(\u001b[0m\u001b[0mshape\u001b[0m\u001b[0;34m)\u001b[0m\u001b[0;34m)\u001b[0m\u001b[0;34m\u001b[0m\u001b[0;34m\u001b[0m\u001b[0m\n\u001b[0m\u001b[1;32m    798\u001b[0m \u001b[0;34m\u001b[0m\u001b[0m\n\u001b[1;32m    799\u001b[0m \u001b[0;34m\u001b[0m\u001b[0m\n",
      "\u001b[0;31mValueError\u001b[0m: bad input shape (67, 17)"
     ]
    }
   ],
   "source": [
    "model = gnb.fit(train, train_labels)"
   ]
  },
  {
   "cell_type": "code",
   "execution_count": 94,
   "metadata": {},
   "outputs": [],
   "source": [
    "train, test, train_labels, test_labels = train_test_split(zoo,\n",
    "                                                          target,\n",
    "                                                          test_size=0.33,\n",
    "                                                          random_state=42)"
   ]
  },
  {
   "cell_type": "code",
   "execution_count": 95,
   "metadata": {},
   "outputs": [],
   "source": [
    "model = gnb.fit(train, train_labels)"
   ]
  },
  {
   "cell_type": "code",
   "execution_count": 96,
   "metadata": {},
   "outputs": [],
   "source": [
    "preds = gnb.predict(test)"
   ]
  },
  {
   "cell_type": "code",
   "execution_count": 97,
   "metadata": {
    "scrolled": true
   },
   "outputs": [
    {
     "name": "stdout",
     "output_type": "stream",
     "text": [
      "[1 1 1 1 1 6 1 1 1 1 4 6 6 2 7 1 1 2 4 1 4 5 5 6 1 7 6 7 1 1 2 3 1 1]\n"
     ]
    }
   ],
   "source": [
    "print (preds)"
   ]
  },
  {
   "cell_type": "code",
   "execution_count": 98,
   "metadata": {},
   "outputs": [],
   "source": [
    "from sklearn.metrics import accuracy_score"
   ]
  },
  {
   "cell_type": "code",
   "execution_count": 99,
   "metadata": {},
   "outputs": [
    {
     "name": "stdout",
     "output_type": "stream",
     "text": [
      "0.9705882352941176\n"
     ]
    }
   ],
   "source": [
    "print(accuracy_score(test_labels, preds))"
   ]
  },
  {
   "cell_type": "code",
   "execution_count": 102,
   "metadata": {},
   "outputs": [
    {
     "name": "stdout",
     "output_type": "stream",
     "text": [
      "Collecting plotly\n",
      "\u001b[?25l  Downloading https://files.pythonhosted.org/packages/34/18/ef96260cb7a68cf613348cc7fe90efa4e32eaf23c46ade7032e6548e25a7/plotly-3.8.1-py2.py3-none-any.whl (41.2MB)\n",
      "\u001b[K    100% |████████████████████████████████| 41.2MB 476kB/s ta 0:00:011  7% |██▌                             | 3.2MB 13.9MB/s eta 0:00:03    71% |██████████████████████▊         | 29.3MB 18.7MB/s eta 0:00:01    78% |█████████████████████████       | 32.3MB 13.5MB/s eta 0:00:01\n",
      "\u001b[?25hRequirement already satisfied: six in /Users/RichardMorrow/anaconda3/lib/python3.7/site-packages (from plotly) (1.12.0)\n",
      "Requirement already satisfied: requests in /Users/RichardMorrow/anaconda3/lib/python3.7/site-packages (from plotly) (2.21.0)\n",
      "Requirement already satisfied: nbformat>=4.2 in /Users/RichardMorrow/anaconda3/lib/python3.7/site-packages (from plotly) (4.4.0)\n",
      "Requirement already satisfied: pytz in /Users/RichardMorrow/anaconda3/lib/python3.7/site-packages (from plotly) (2018.9)\n",
      "Requirement already satisfied: decorator>=4.0.6 in /Users/RichardMorrow/anaconda3/lib/python3.7/site-packages (from plotly) (4.4.0)\n",
      "Collecting retrying>=1.3.3 (from plotly)\n",
      "  Downloading https://files.pythonhosted.org/packages/44/ef/beae4b4ef80902f22e3af073397f079c96969c69b2c7d52a57ea9ae61c9d/retrying-1.3.3.tar.gz\n",
      "Requirement already satisfied: idna<2.9,>=2.5 in /Users/RichardMorrow/anaconda3/lib/python3.7/site-packages (from requests->plotly) (2.8)\n",
      "Requirement already satisfied: chardet<3.1.0,>=3.0.2 in /Users/RichardMorrow/anaconda3/lib/python3.7/site-packages (from requests->plotly) (3.0.4)\n",
      "Requirement already satisfied: urllib3<1.25,>=1.21.1 in /Users/RichardMorrow/anaconda3/lib/python3.7/site-packages (from requests->plotly) (1.24.1)\n",
      "Requirement already satisfied: certifi>=2017.4.17 in /Users/RichardMorrow/anaconda3/lib/python3.7/site-packages (from requests->plotly) (2019.3.9)\n",
      "Requirement already satisfied: jsonschema!=2.5.0,>=2.4 in /Users/RichardMorrow/anaconda3/lib/python3.7/site-packages (from nbformat>=4.2->plotly) (3.0.1)\n",
      "Requirement already satisfied: traitlets>=4.1 in /Users/RichardMorrow/anaconda3/lib/python3.7/site-packages (from nbformat>=4.2->plotly) (4.3.2)\n",
      "Requirement already satisfied: ipython-genutils in /Users/RichardMorrow/anaconda3/lib/python3.7/site-packages (from nbformat>=4.2->plotly) (0.2.0)\n",
      "Requirement already satisfied: jupyter-core in /Users/RichardMorrow/anaconda3/lib/python3.7/site-packages (from nbformat>=4.2->plotly) (4.4.0)\n",
      "Requirement already satisfied: attrs>=17.4.0 in /Users/RichardMorrow/anaconda3/lib/python3.7/site-packages (from jsonschema!=2.5.0,>=2.4->nbformat>=4.2->plotly) (19.1.0)\n",
      "Requirement already satisfied: pyrsistent>=0.14.0 in /Users/RichardMorrow/anaconda3/lib/python3.7/site-packages (from jsonschema!=2.5.0,>=2.4->nbformat>=4.2->plotly) (0.14.11)\n",
      "Requirement already satisfied: setuptools in /Users/RichardMorrow/anaconda3/lib/python3.7/site-packages (from jsonschema!=2.5.0,>=2.4->nbformat>=4.2->plotly) (40.8.0)\n",
      "Building wheels for collected packages: retrying\n",
      "  Building wheel for retrying (setup.py) ... \u001b[?25ldone\n",
      "\u001b[?25h  Stored in directory: /Users/RichardMorrow/Library/Caches/pip/wheels/d7/a9/33/acc7b709e2a35caa7d4cae442f6fe6fbf2c43f80823d46460c\n",
      "Successfully built retrying\n",
      "Installing collected packages: retrying, plotly\n",
      "Successfully installed plotly-3.8.1 retrying-1.3.3\n",
      "Collecting cufflinks\n",
      "\u001b[?25l  Downloading https://files.pythonhosted.org/packages/dd/c9/c6f3675387438929af73e1199c45a623205898bafeab5ccd713efe3b43c2/cufflinks-0.15.tar.gz (81kB)\n",
      "\u001b[K    100% |████████████████████████████████| 81kB 1.1MB/s ta 0:00:01\n",
      "\u001b[?25hRequirement already satisfied: numpy>=1.9.2 in /Users/RichardMorrow/anaconda3/lib/python3.7/site-packages (from cufflinks) (1.16.2)\n",
      "Requirement already satisfied: pandas>=0.19.2 in /Users/RichardMorrow/anaconda3/lib/python3.7/site-packages (from cufflinks) (0.24.2)\n",
      "Requirement already satisfied: plotly>=3.0.0 in /Users/RichardMorrow/anaconda3/lib/python3.7/site-packages (from cufflinks) (3.8.1)\n",
      "Requirement already satisfied: six>=1.9.0 in /Users/RichardMorrow/anaconda3/lib/python3.7/site-packages (from cufflinks) (1.12.0)\n",
      "Collecting colorlover>=0.2.1 (from cufflinks)\n",
      "  Downloading https://files.pythonhosted.org/packages/9a/53/f696e4480b1d1de3b1523991dea71cf417c8b19fe70c704da164f3f90972/colorlover-0.3.0-py3-none-any.whl\n",
      "Requirement already satisfied: setuptools>=34.4.1 in /Users/RichardMorrow/anaconda3/lib/python3.7/site-packages (from cufflinks) (40.8.0)\n",
      "Requirement already satisfied: ipython>=5.3.0 in /Users/RichardMorrow/anaconda3/lib/python3.7/site-packages (from cufflinks) (7.4.0)\n",
      "Requirement already satisfied: ipywidgets>=7.0.0 in /Users/RichardMorrow/anaconda3/lib/python3.7/site-packages (from cufflinks) (7.4.2)\n",
      "Requirement already satisfied: pytz>=2011k in /Users/RichardMorrow/anaconda3/lib/python3.7/site-packages (from pandas>=0.19.2->cufflinks) (2018.9)\n",
      "Requirement already satisfied: python-dateutil>=2.5.0 in /Users/RichardMorrow/anaconda3/lib/python3.7/site-packages (from pandas>=0.19.2->cufflinks) (2.8.0)\n",
      "Requirement already satisfied: requests in /Users/RichardMorrow/anaconda3/lib/python3.7/site-packages (from plotly>=3.0.0->cufflinks) (2.21.0)\n",
      "Requirement already satisfied: decorator>=4.0.6 in /Users/RichardMorrow/anaconda3/lib/python3.7/site-packages (from plotly>=3.0.0->cufflinks) (4.4.0)\n",
      "Requirement already satisfied: nbformat>=4.2 in /Users/RichardMorrow/anaconda3/lib/python3.7/site-packages (from plotly>=3.0.0->cufflinks) (4.4.0)\n",
      "Requirement already satisfied: retrying>=1.3.3 in /Users/RichardMorrow/anaconda3/lib/python3.7/site-packages (from plotly>=3.0.0->cufflinks) (1.3.3)\n",
      "Requirement already satisfied: prompt-toolkit<2.1.0,>=2.0.0 in /Users/RichardMorrow/anaconda3/lib/python3.7/site-packages (from ipython>=5.3.0->cufflinks) (2.0.9)\n",
      "Requirement already satisfied: pygments in /Users/RichardMorrow/anaconda3/lib/python3.7/site-packages (from ipython>=5.3.0->cufflinks) (2.3.1)\n",
      "Requirement already satisfied: pexpect; sys_platform != \"win32\" in /Users/RichardMorrow/anaconda3/lib/python3.7/site-packages (from ipython>=5.3.0->cufflinks) (4.6.0)\n",
      "Requirement already satisfied: traitlets>=4.2 in /Users/RichardMorrow/anaconda3/lib/python3.7/site-packages (from ipython>=5.3.0->cufflinks) (4.3.2)\n",
      "Requirement already satisfied: backcall in /Users/RichardMorrow/anaconda3/lib/python3.7/site-packages (from ipython>=5.3.0->cufflinks) (0.1.0)\n",
      "Requirement already satisfied: pickleshare in /Users/RichardMorrow/anaconda3/lib/python3.7/site-packages (from ipython>=5.3.0->cufflinks) (0.7.5)\n",
      "Requirement already satisfied: appnope; sys_platform == \"darwin\" in /Users/RichardMorrow/anaconda3/lib/python3.7/site-packages (from ipython>=5.3.0->cufflinks) (0.1.0)\n",
      "Requirement already satisfied: jedi>=0.10 in /Users/RichardMorrow/anaconda3/lib/python3.7/site-packages (from ipython>=5.3.0->cufflinks) (0.13.3)\n",
      "Requirement already satisfied: widgetsnbextension~=3.4.0 in /Users/RichardMorrow/anaconda3/lib/python3.7/site-packages (from ipywidgets>=7.0.0->cufflinks) (3.4.2)\n",
      "Requirement already satisfied: ipykernel>=4.5.1 in /Users/RichardMorrow/anaconda3/lib/python3.7/site-packages (from ipywidgets>=7.0.0->cufflinks) (5.1.0)\n",
      "Requirement already satisfied: chardet<3.1.0,>=3.0.2 in /Users/RichardMorrow/anaconda3/lib/python3.7/site-packages (from requests->plotly>=3.0.0->cufflinks) (3.0.4)\n",
      "Requirement already satisfied: urllib3<1.25,>=1.21.1 in /Users/RichardMorrow/anaconda3/lib/python3.7/site-packages (from requests->plotly>=3.0.0->cufflinks) (1.24.1)\n",
      "Requirement already satisfied: certifi>=2017.4.17 in /Users/RichardMorrow/anaconda3/lib/python3.7/site-packages (from requests->plotly>=3.0.0->cufflinks) (2019.3.9)\n",
      "Requirement already satisfied: idna<2.9,>=2.5 in /Users/RichardMorrow/anaconda3/lib/python3.7/site-packages (from requests->plotly>=3.0.0->cufflinks) (2.8)\n",
      "Requirement already satisfied: ipython-genutils in /Users/RichardMorrow/anaconda3/lib/python3.7/site-packages (from nbformat>=4.2->plotly>=3.0.0->cufflinks) (0.2.0)\n",
      "Requirement already satisfied: jupyter-core in /Users/RichardMorrow/anaconda3/lib/python3.7/site-packages (from nbformat>=4.2->plotly>=3.0.0->cufflinks) (4.4.0)\n",
      "Requirement already satisfied: jsonschema!=2.5.0,>=2.4 in /Users/RichardMorrow/anaconda3/lib/python3.7/site-packages (from nbformat>=4.2->plotly>=3.0.0->cufflinks) (3.0.1)\n",
      "Requirement already satisfied: wcwidth in /Users/RichardMorrow/anaconda3/lib/python3.7/site-packages (from prompt-toolkit<2.1.0,>=2.0.0->ipython>=5.3.0->cufflinks) (0.1.7)\n",
      "Requirement already satisfied: ptyprocess>=0.5 in /Users/RichardMorrow/anaconda3/lib/python3.7/site-packages (from pexpect; sys_platform != \"win32\"->ipython>=5.3.0->cufflinks) (0.6.0)\n",
      "Requirement already satisfied: parso>=0.3.0 in /Users/RichardMorrow/anaconda3/lib/python3.7/site-packages (from jedi>=0.10->ipython>=5.3.0->cufflinks) (0.3.4)\n",
      "Requirement already satisfied: notebook>=4.4.1 in /Users/RichardMorrow/anaconda3/lib/python3.7/site-packages (from widgetsnbextension~=3.4.0->ipywidgets>=7.0.0->cufflinks) (5.7.8)\n",
      "Requirement already satisfied: tornado>=4.2 in /Users/RichardMorrow/anaconda3/lib/python3.7/site-packages (from ipykernel>=4.5.1->ipywidgets>=7.0.0->cufflinks) (6.0.2)\n"
     ]
    },
    {
     "name": "stdout",
     "output_type": "stream",
     "text": [
      "Requirement already satisfied: jupyter-client in /Users/RichardMorrow/anaconda3/lib/python3.7/site-packages (from ipykernel>=4.5.1->ipywidgets>=7.0.0->cufflinks) (5.2.4)\n",
      "Requirement already satisfied: attrs>=17.4.0 in /Users/RichardMorrow/anaconda3/lib/python3.7/site-packages (from jsonschema!=2.5.0,>=2.4->nbformat>=4.2->plotly>=3.0.0->cufflinks) (19.1.0)\n",
      "Requirement already satisfied: pyrsistent>=0.14.0 in /Users/RichardMorrow/anaconda3/lib/python3.7/site-packages (from jsonschema!=2.5.0,>=2.4->nbformat>=4.2->plotly>=3.0.0->cufflinks) (0.14.11)\n",
      "Requirement already satisfied: Send2Trash in /Users/RichardMorrow/anaconda3/lib/python3.7/site-packages (from notebook>=4.4.1->widgetsnbextension~=3.4.0->ipywidgets>=7.0.0->cufflinks) (1.5.0)\n",
      "Requirement already satisfied: nbconvert in /Users/RichardMorrow/anaconda3/lib/python3.7/site-packages (from notebook>=4.4.1->widgetsnbextension~=3.4.0->ipywidgets>=7.0.0->cufflinks) (5.4.1)\n",
      "Requirement already satisfied: terminado>=0.8.1 in /Users/RichardMorrow/anaconda3/lib/python3.7/site-packages (from notebook>=4.4.1->widgetsnbextension~=3.4.0->ipywidgets>=7.0.0->cufflinks) (0.8.1)\n",
      "Requirement already satisfied: prometheus-client in /Users/RichardMorrow/anaconda3/lib/python3.7/site-packages (from notebook>=4.4.1->widgetsnbextension~=3.4.0->ipywidgets>=7.0.0->cufflinks) (0.6.0)\n",
      "Requirement already satisfied: pyzmq>=17 in /Users/RichardMorrow/anaconda3/lib/python3.7/site-packages (from notebook>=4.4.1->widgetsnbextension~=3.4.0->ipywidgets>=7.0.0->cufflinks) (18.0.0)\n",
      "Requirement already satisfied: jinja2 in /Users/RichardMorrow/anaconda3/lib/python3.7/site-packages (from notebook>=4.4.1->widgetsnbextension~=3.4.0->ipywidgets>=7.0.0->cufflinks) (2.10)\n",
      "Requirement already satisfied: mistune>=0.8.1 in /Users/RichardMorrow/anaconda3/lib/python3.7/site-packages (from nbconvert->notebook>=4.4.1->widgetsnbextension~=3.4.0->ipywidgets>=7.0.0->cufflinks) (0.8.4)\n",
      "Requirement already satisfied: entrypoints>=0.2.2 in /Users/RichardMorrow/anaconda3/lib/python3.7/site-packages (from nbconvert->notebook>=4.4.1->widgetsnbextension~=3.4.0->ipywidgets>=7.0.0->cufflinks) (0.3)\n",
      "Requirement already satisfied: bleach in /Users/RichardMorrow/anaconda3/lib/python3.7/site-packages (from nbconvert->notebook>=4.4.1->widgetsnbextension~=3.4.0->ipywidgets>=7.0.0->cufflinks) (3.1.0)\n",
      "Requirement already satisfied: pandocfilters>=1.4.1 in /Users/RichardMorrow/anaconda3/lib/python3.7/site-packages (from nbconvert->notebook>=4.4.1->widgetsnbextension~=3.4.0->ipywidgets>=7.0.0->cufflinks) (1.4.2)\n",
      "Requirement already satisfied: testpath in /Users/RichardMorrow/anaconda3/lib/python3.7/site-packages (from nbconvert->notebook>=4.4.1->widgetsnbextension~=3.4.0->ipywidgets>=7.0.0->cufflinks) (0.4.2)\n",
      "Requirement already satisfied: defusedxml in /Users/RichardMorrow/anaconda3/lib/python3.7/site-packages (from nbconvert->notebook>=4.4.1->widgetsnbextension~=3.4.0->ipywidgets>=7.0.0->cufflinks) (0.5.0)\n",
      "Requirement already satisfied: MarkupSafe>=0.23 in /Users/RichardMorrow/anaconda3/lib/python3.7/site-packages (from jinja2->notebook>=4.4.1->widgetsnbextension~=3.4.0->ipywidgets>=7.0.0->cufflinks) (1.1.1)\n",
      "Requirement already satisfied: webencodings in /Users/RichardMorrow/anaconda3/lib/python3.7/site-packages (from bleach->nbconvert->notebook>=4.4.1->widgetsnbextension~=3.4.0->ipywidgets>=7.0.0->cufflinks) (0.5.1)\n",
      "Building wheels for collected packages: cufflinks\n",
      "  Building wheel for cufflinks (setup.py) ... \u001b[?25ldone\n",
      "\u001b[?25h  Stored in directory: /Users/RichardMorrow/Library/Caches/pip/wheels/c7/7f/d3/7d3146a1551614bf0b8eb631ac724d044dd341679e763b594b\n",
      "Successfully built cufflinks\n",
      "Installing collected packages: colorlover, cufflinks\n",
      "Successfully installed colorlover-0.3.0 cufflinks-0.15\n"
     ]
    }
   ],
   "source": [
    "!pip install plotly\n",
    "!pip install cufflinks"
   ]
  },
  {
   "cell_type": "code",
   "execution_count": 104,
   "metadata": {},
   "outputs": [],
   "source": [
    "import pandas as pd"
   ]
  },
  {
   "cell_type": "code",
   "execution_count": 105,
   "metadata": {},
   "outputs": [
    {
     "ename": "AttributeError",
     "evalue": "'numpy.ndarray' object has no attribute 'iplot'",
     "output_type": "error",
     "traceback": [
      "\u001b[0;31m---------------------------------------------------------------------------\u001b[0m",
      "\u001b[0;31mAttributeError\u001b[0m                            Traceback (most recent call last)",
      "\u001b[0;32m<ipython-input-105-4134177061ed>\u001b[0m in \u001b[0;36m<module>\u001b[0;34m\u001b[0m\n\u001b[0;32m----> 1\u001b[0;31m \u001b[0mpreds\u001b[0m\u001b[0;34m.\u001b[0m\u001b[0miplot\u001b[0m\u001b[0;34m(\u001b[0m\u001b[0;34m)\u001b[0m\u001b[0;34m\u001b[0m\u001b[0;34m\u001b[0m\u001b[0m\n\u001b[0m",
      "\u001b[0;31mAttributeError\u001b[0m: 'numpy.ndarray' object has no attribute 'iplot'"
     ]
    }
   ],
   "source": [
    "preds.iplot()"
   ]
  },
  {
   "cell_type": "code",
   "execution_count": 106,
   "metadata": {},
   "outputs": [],
   "source": [
    "import plotly as py"
   ]
  },
  {
   "cell_type": "code",
   "execution_count": 107,
   "metadata": {},
   "outputs": [],
   "source": [
    "import cufflinks as cf"
   ]
  },
  {
   "cell_type": "code",
   "execution_count": 108,
   "metadata": {},
   "outputs": [
    {
     "ename": "AttributeError",
     "evalue": "'numpy.ndarray' object has no attribute 'iplot'",
     "output_type": "error",
     "traceback": [
      "\u001b[0;31m---------------------------------------------------------------------------\u001b[0m",
      "\u001b[0;31mAttributeError\u001b[0m                            Traceback (most recent call last)",
      "\u001b[0;32m<ipython-input-108-4134177061ed>\u001b[0m in \u001b[0;36m<module>\u001b[0;34m\u001b[0m\n\u001b[0;32m----> 1\u001b[0;31m \u001b[0mpreds\u001b[0m\u001b[0;34m.\u001b[0m\u001b[0miplot\u001b[0m\u001b[0;34m(\u001b[0m\u001b[0;34m)\u001b[0m\u001b[0;34m\u001b[0m\u001b[0;34m\u001b[0m\u001b[0m\n\u001b[0m",
      "\u001b[0;31mAttributeError\u001b[0m: 'numpy.ndarray' object has no attribute 'iplot'"
     ]
    }
   ],
   "source": [
    "preds.iplot()"
   ]
  },
  {
   "cell_type": "code",
   "execution_count": 109,
   "metadata": {},
   "outputs": [],
   "source": [
    "from matplotlib import pyplot as plt\n"
   ]
  },
  {
   "cell_type": "code",
   "execution_count": 111,
   "metadata": {},
   "outputs": [],
   "source": [
    "from sklearn.tree import export_graphviz"
   ]
  },
  {
   "cell_type": "code",
   "execution_count": 112,
   "metadata": {},
   "outputs": [],
   "source": [
    "from sklearn.ensemble import RandomForestRegressor\n"
   ]
  },
  {
   "cell_type": "code",
   "execution_count": 6,
   "metadata": {},
   "outputs": [],
   "source": [
    "rf = RandomForestRegressor(n_estimators = 1000, random_state = 42)\n"
   ]
  },
  {
   "cell_type": "code",
   "execution_count": null,
   "metadata": {},
   "outputs": [],
   "source": [
    "modelrf = rf.fit(train, train_labels)"
   ]
  },
  {
   "cell_type": "code",
   "execution_count": null,
   "metadata": {},
   "outputs": [],
   "source": [
    "predictions = rf.predict(test)"
   ]
  },
  {
   "cell_type": "code",
   "execution_count": null,
   "metadata": {},
   "outputs": [],
   "source": [
    "from sklearn.metrics import r2_score"
   ]
  },
  {
   "cell_type": "code",
   "execution_count": null,
   "metadata": {},
   "outputs": [],
   "source": [
    "r2_score(test_labels, predictions)"
   ]
  },
  {
   "cell_type": "code",
   "execution_count": 144,
   "metadata": {},
   "outputs": [
    {
     "data": {
      "text/plain": [
       "Text(0, 0.5, 'Predicted Classifications')"
      ]
     },
     "execution_count": 144,
     "metadata": {},
     "output_type": "execute_result"
    },
    {
     "data": {
      "image/png": "[encoded data removed]",
      "text/plain": [
       "<Figure size 432x288 with 1 Axes>"
      ]
     },
     "metadata": {
      "needs_background": "light"
     },
     "output_type": "display_data"
    }
   ],
   "source": [
    "plt.scatter(test_labels, predictions)\n",
    "plt.title('Prediction of Class using Random Forest Regression')\n",
    "plt.xlabel('Actual Classifications')\n",
    "plt.ylabel('Predicted Classifications')"
   ]
  },
  {
   "cell_type": "code",
   "execution_count": 148,
   "metadata": {},
   "outputs": [
    {
     "ename": "ValueError",
     "evalue": "Classification metrics can't handle a mix of multiclass and continuous targets",
     "output_type": "error",
     "traceback": [
      "\u001b[0;31m---------------------------------------------------------------------------\u001b[0m",
      "\u001b[0;31mValueError\u001b[0m                                Traceback (most recent call last)",
      "\u001b[0;32m<ipython-input-148-6dd7b7b688ac>\u001b[0m in \u001b[0;36m<module>\u001b[0;34m\u001b[0m\n\u001b[0;32m----> 1\u001b[0;31m \u001b[0mprint\u001b[0m\u001b[0;34m(\u001b[0m\u001b[0maccuracy_score\u001b[0m\u001b[0;34m(\u001b[0m\u001b[0mtest_labels\u001b[0m\u001b[0;34m,\u001b[0m \u001b[0mpredictions\u001b[0m\u001b[0;34m)\u001b[0m\u001b[0;34m)\u001b[0m\u001b[0;34m\u001b[0m\u001b[0;34m\u001b[0m\u001b[0m\n\u001b[0m",
      "\u001b[0;32m~/anaconda3/lib/python3.7/site-packages/sklearn/metrics/classification.py\u001b[0m in \u001b[0;36maccuracy_score\u001b[0;34m(y_true, y_pred, normalize, sample_weight)\u001b[0m\n\u001b[1;32m    174\u001b[0m \u001b[0;34m\u001b[0m\u001b[0m\n\u001b[1;32m    175\u001b[0m     \u001b[0;31m# Compute accuracy for each possible representation\u001b[0m\u001b[0;34m\u001b[0m\u001b[0;34m\u001b[0m\u001b[0;34m\u001b[0m\u001b[0m\n\u001b[0;32m--> 176\u001b[0;31m     \u001b[0my_type\u001b[0m\u001b[0;34m,\u001b[0m \u001b[0my_true\u001b[0m\u001b[0;34m,\u001b[0m \u001b[0my_pred\u001b[0m \u001b[0;34m=\u001b[0m \u001b[0m_check_targets\u001b[0m\u001b[0;34m(\u001b[0m\u001b[0my_true\u001b[0m\u001b[0;34m,\u001b[0m \u001b[0my_pred\u001b[0m\u001b[0;34m)\u001b[0m\u001b[0;34m\u001b[0m\u001b[0;34m\u001b[0m\u001b[0m\n\u001b[0m\u001b[1;32m    177\u001b[0m     \u001b[0mcheck_consistent_length\u001b[0m\u001b[0;34m(\u001b[0m\u001b[0my_true\u001b[0m\u001b[0;34m,\u001b[0m \u001b[0my_pred\u001b[0m\u001b[0;34m,\u001b[0m \u001b[0msample_weight\u001b[0m\u001b[0;34m)\u001b[0m\u001b[0;34m\u001b[0m\u001b[0;34m\u001b[0m\u001b[0m\n\u001b[1;32m    178\u001b[0m     \u001b[0;32mif\u001b[0m \u001b[0my_type\u001b[0m\u001b[0;34m.\u001b[0m\u001b[0mstartswith\u001b[0m\u001b[0;34m(\u001b[0m\u001b[0;34m'multilabel'\u001b[0m\u001b[0;34m)\u001b[0m\u001b[0;34m:\u001b[0m\u001b[0;34m\u001b[0m\u001b[0;34m\u001b[0m\u001b[0m\n",
      "\u001b[0;32m~/anaconda3/lib/python3.7/site-packages/sklearn/metrics/classification.py\u001b[0m in \u001b[0;36m_check_targets\u001b[0;34m(y_true, y_pred)\u001b[0m\n\u001b[1;32m     79\u001b[0m     \u001b[0;32mif\u001b[0m \u001b[0mlen\u001b[0m\u001b[0;34m(\u001b[0m\u001b[0my_type\u001b[0m\u001b[0;34m)\u001b[0m \u001b[0;34m>\u001b[0m \u001b[0;36m1\u001b[0m\u001b[0;34m:\u001b[0m\u001b[0;34m\u001b[0m\u001b[0;34m\u001b[0m\u001b[0m\n\u001b[1;32m     80\u001b[0m         raise ValueError(\"Classification metrics can't handle a mix of {0} \"\n\u001b[0;32m---> 81\u001b[0;31m                          \"and {1} targets\".format(type_true, type_pred))\n\u001b[0m\u001b[1;32m     82\u001b[0m \u001b[0;34m\u001b[0m\u001b[0m\n\u001b[1;32m     83\u001b[0m     \u001b[0;31m# We can't have more than one value on y_type => The set is no more needed\u001b[0m\u001b[0;34m\u001b[0m\u001b[0;34m\u001b[0m\u001b[0;34m\u001b[0m\u001b[0m\n",
      "\u001b[0;31mValueError\u001b[0m: Classification metrics can't handle a mix of multiclass and continuous targets"
     ]
    }
   ],
   "source": [
    "print(accuracy_score(test_labels, predictions))"
   ]
  },
  {
   "cell_type": "code",
   "execution_count": 145,
   "metadata": {},
   "outputs": [
    {
     "data": {
      "text/plain": [
       "Text(0, 0.5, 'Predicted Classifications')"
      ]
     },
     "execution_count": 145,
     "metadata": {},
     "output_type": "execute_result"
    },
    {
     "data": {
      "image/png": "[encoded data removed]",
      "text/plain": [
       "<Figure size 432x288 with 1 Axes>"
      ]
     },
     "metadata": {
      "needs_background": "light"
     },
     "output_type": "display_data"
    }
   ],
   "source": [
    "plt.scatter(test_labels, preds)\n",
    "plt.title('Prediction of Class using Naive Bayes')\n",
    "plt.xlabel('Actual Classifications')\n",
    "plt.ylabel('Predicted Classifications')"
   ]
  },
  {
   "cell_type": "code",
   "execution_count": 151,
   "metadata": {},
   "outputs": [],
   "source": [
    "predictions = rf.predict(test)"
   ]
  },
  {
   "cell_type": "code",
   "execution_count": 154,
   "metadata": {},
   "outputs": [
    {
     "ename": "ValueError",
     "evalue": "Classification metrics can't handle a mix of multiclass-multioutput and continuous targets",
     "output_type": "error",
     "traceback": [
      "\u001b[0;31m---------------------------------------------------------------------------\u001b[0m",
      "\u001b[0;31mValueError\u001b[0m                                Traceback (most recent call last)",
      "\u001b[0;32m<ipython-input-154-69138fc212a4>\u001b[0m in \u001b[0;36m<module>\u001b[0;34m\u001b[0m\n\u001b[0;32m----> 1\u001b[0;31m \u001b[0mprint\u001b[0m\u001b[0;34m(\u001b[0m\u001b[0maccuracy_score\u001b[0m\u001b[0;34m(\u001b[0m\u001b[0mtest\u001b[0m\u001b[0;34m,\u001b[0m \u001b[0mpredictions\u001b[0m\u001b[0;34m)\u001b[0m\u001b[0;34m)\u001b[0m\u001b[0;34m\u001b[0m\u001b[0;34m\u001b[0m\u001b[0m\n\u001b[0m",
      "\u001b[0;32m~/anaconda3/lib/python3.7/site-packages/sklearn/metrics/classification.py\u001b[0m in \u001b[0;36maccuracy_score\u001b[0;34m(y_true, y_pred, normalize, sample_weight)\u001b[0m\n\u001b[1;32m    174\u001b[0m \u001b[0;34m\u001b[0m\u001b[0m\n\u001b[1;32m    175\u001b[0m     \u001b[0;31m# Compute accuracy for each possible representation\u001b[0m\u001b[0;34m\u001b[0m\u001b[0;34m\u001b[0m\u001b[0;34m\u001b[0m\u001b[0m\n\u001b[0;32m--> 176\u001b[0;31m     \u001b[0my_type\u001b[0m\u001b[0;34m,\u001b[0m \u001b[0my_true\u001b[0m\u001b[0;34m,\u001b[0m \u001b[0my_pred\u001b[0m \u001b[0;34m=\u001b[0m \u001b[0m_check_targets\u001b[0m\u001b[0;34m(\u001b[0m\u001b[0my_true\u001b[0m\u001b[0;34m,\u001b[0m \u001b[0my_pred\u001b[0m\u001b[0;34m)\u001b[0m\u001b[0;34m\u001b[0m\u001b[0;34m\u001b[0m\u001b[0m\n\u001b[0m\u001b[1;32m    177\u001b[0m     \u001b[0mcheck_consistent_length\u001b[0m\u001b[0;34m(\u001b[0m\u001b[0my_true\u001b[0m\u001b[0;34m,\u001b[0m \u001b[0my_pred\u001b[0m\u001b[0;34m,\u001b[0m \u001b[0msample_weight\u001b[0m\u001b[0;34m)\u001b[0m\u001b[0;34m\u001b[0m\u001b[0;34m\u001b[0m\u001b[0m\n\u001b[1;32m    178\u001b[0m     \u001b[0;32mif\u001b[0m \u001b[0my_type\u001b[0m\u001b[0;34m.\u001b[0m\u001b[0mstartswith\u001b[0m\u001b[0;34m(\u001b[0m\u001b[0;34m'multilabel'\u001b[0m\u001b[0;34m)\u001b[0m\u001b[0;34m:\u001b[0m\u001b[0;34m\u001b[0m\u001b[0;34m\u001b[0m\u001b[0m\n",
      "\u001b[0;32m~/anaconda3/lib/python3.7/site-packages/sklearn/metrics/classification.py\u001b[0m in \u001b[0;36m_check_targets\u001b[0;34m(y_true, y_pred)\u001b[0m\n\u001b[1;32m     79\u001b[0m     \u001b[0;32mif\u001b[0m \u001b[0mlen\u001b[0m\u001b[0;34m(\u001b[0m\u001b[0my_type\u001b[0m\u001b[0;34m)\u001b[0m \u001b[0;34m>\u001b[0m \u001b[0;36m1\u001b[0m\u001b[0;34m:\u001b[0m\u001b[0;34m\u001b[0m\u001b[0;34m\u001b[0m\u001b[0m\n\u001b[1;32m     80\u001b[0m         raise ValueError(\"Classification metrics can't handle a mix of {0} \"\n\u001b[0;32m---> 81\u001b[0;31m                          \"and {1} targets\".format(type_true, type_pred))\n\u001b[0m\u001b[1;32m     82\u001b[0m \u001b[0;34m\u001b[0m\u001b[0m\n\u001b[1;32m     83\u001b[0m     \u001b[0;31m# We can't have more than one value on y_type => The set is no more needed\u001b[0m\u001b[0;34m\u001b[0m\u001b[0;34m\u001b[0m\u001b[0;34m\u001b[0m\u001b[0m\n",
      "\u001b[0;31mValueError\u001b[0m: Classification metrics can't handle a mix of multiclass-multioutput and continuous targets"
     ]
    }
   ],
   "source": [
    "print(accuracy_score(test, predictions))"
   ]
  },
  {
   "cell_type": "code",
   "execution_count": 153,
   "metadata": {},
   "outputs": [
    {
     "name": "stdout",
     "output_type": "stream",
     "text": [
      "84    1\n",
      "55    1\n",
      "66    1\n",
      "67    1\n",
      "45    1\n",
      "39    6\n",
      "22    1\n",
      "44    1\n",
      "10    1\n",
      "0     1\n",
      "18    4\n",
      "30    6\n",
      "97    6\n",
      "33    2\n",
      "77    7\n",
      "4     1\n",
      "93    1\n",
      "78    2\n",
      "12    4\n",
      "31    1\n",
      "76    3\n",
      "89    5\n",
      "26    5\n",
      "42    6\n",
      "70    1\n",
      "15    7\n",
      "40    6\n",
      "72    7\n",
      "9     1\n",
      "96    1\n",
      "11    2\n",
      "91    3\n",
      "64    1\n",
      "28    1\n",
      "Name: class_type, dtype: int64\n"
     ]
    }
   ],
   "source": [
    "print (test_labels)"
   ]
  },
  {
   "cell_type": "code",
   "execution_count": 155,
   "metadata": {},
   "outputs": [],
   "source": [
    "from sklearn.metrics import r2_score"
   ]
  },
  {
   "cell_type": "code",
   "execution_count": 157,
   "metadata": {},
   "outputs": [],
   "source": [
    "from sklearn import datasets, linear_model"
   ]
  },
  {
   "cell_type": "code",
   "execution_count": 160,
   "metadata": {},
   "outputs": [
    {
     "data": {
      "text/plain": [
       "0.9984393654237288"
      ]
     },
     "execution_count": 160,
     "metadata": {},
     "output_type": "execute_result"
    }
   ],
   "source": [
    "r2_score(test_labels, predictions)"
   ]
  },
  {
   "cell_type": "code",
   "execution_count": 161,
   "metadata": {},
   "outputs": [
    {
     "name": "stdout",
     "output_type": "stream",
     "text": [
      "0.9705882352941176\n"
     ]
    }
   ],
   "source": [
    "print(accuracy_score(test_labels, preds))"
   ]
  },
  {
   "cell_type": "markdown",
   "metadata": {},
   "source": [
    "## The Above is the Accuracy of Naive Bayesian Classification\n"
   ]
  },
  {
   "cell_type": "markdown",
   "metadata": {},
   "source": [
    "## Below is the %of Correct Predictions from Random Forest Regression\n",
    "**In which we used a different method of scoring because accuracy is a classification method which cannot be used with regression.**"
   ]
  },
  {
   "cell_type": "code",
   "execution_count": 165,
   "metadata": {},
   "outputs": [
    {
     "data": {
      "text/plain": [
       "0.9984393654237288"
      ]
     },
     "execution_count": 165,
     "metadata": {},
     "output_type": "execute_result"
    }
   ],
   "source": [
    "r2_score(test_labels, predictions)\n"
   ]
  },
  {
   "cell_type": "code",
   "execution_count": 163,
   "metadata": {},
   "outputs": [
    {
     "data": {
      "text/plain": [
       "Text(0, 0.5, 'Predicted Classifications')"
      ]
     },
     "execution_count": 163,
     "metadata": {},
     "output_type": "execute_result"
    },
    {
     "data": {
      "image/png": "[encoded data removed]",
      "text/plain": [
       "<Figure size 432x288 with 1 Axes>"
      ]
     },
     "metadata": {
      "needs_background": "light"
     },
     "output_type": "display_data"
    }
   ],
   "source": [
    "plt.scatter(test_labels, predictions)\n",
    "plt.title('Prediction of Class using Random Forest Regression')\n",
    "plt.xlabel('Actual Classifications')\n",
    "plt.ylabel('Predicted Classifications')"
   ]
  },
  {
   "cell_type": "code",
   "execution_count": 164,
   "metadata": {},
   "outputs": [
    {
     "data": {
      "text/plain": [
       "Text(0, 0.5, 'Predicted Classifications')"
      ]
     },
     "execution_count": 164,
     "metadata": {},
     "output_type": "execute_result"
    },
    {
     "data": {
      "image/png": "[encoded data removed]",
      "text/plain": [
       "<Figure size 432x288 with 1 Axes>"
      ]
     },
     "metadata": {
      "needs_background": "light"
     },
     "output_type": "display_data"
    }
   ],
   "source": [
    "plt.scatter(test_labels, preds)\n",
    "plt.title('Prediction of Class using Naive Bayes Classification')\n",
    "plt.xlabel('Actual Classifications')\n",
    "plt.ylabel('Predicted Classifications')"
   ]
  },
  {
   "cell_type": "markdown",
   "metadata": {},
   "source": [
    "## Below is the Accuracy of Naive Bayesian Classification"
   ]
  },
  {
   "cell_type": "code",
   "execution_count": 166,
   "metadata": {},
   "outputs": [
    {
     "name": "stdout",
     "output_type": "stream",
     "text": [
      "0.9705882352941176\n"
     ]
    }
   ],
   "source": [
    "print(accuracy_score(test_labels, preds))"
   ]
  },
  {
   "cell_type": "code",
   "execution_count": 167,
   "metadata": {},
   "outputs": [],
   "source": [
    "from sklearn.linear_model import LogisticRegression"
   ]
  },
  {
   "cell_type": "code",
   "execution_count": 168,
   "metadata": {},
   "outputs": [],
   "source": [
    "import statsmodels.api as sm"
   ]
  },
  {
   "cell_type": "code",
   "execution_count": 173,
   "metadata": {},
   "outputs": [],
   "source": [
    "logreg = LogisticRegression()"
   ]
  },
  {
   "cell_type": "code",
   "execution_count": 176,
   "metadata": {
    "scrolled": true
   },
   "outputs": [
    {
     "name": "stderr",
     "output_type": "stream",
     "text": [
      "/Users/RichardMorrow/anaconda3/lib/python3.7/site-packages/sklearn/linear_model/logistic.py:433: FutureWarning:\n",
      "\n",
      "Default solver will be changed to 'lbfgs' in 0.22. Specify a solver to silence this warning.\n",
      "\n",
      "/Users/RichardMorrow/anaconda3/lib/python3.7/site-packages/sklearn/linear_model/logistic.py:460: FutureWarning:\n",
      "\n",
      "Default multi_class will be changed to 'auto' in 0.22. Specify the multi_class option to silence this warning.\n",
      "\n"
     ]
    }
   ],
   "source": [
    "modelLR = logreg.fit(train, train_labels)"
   ]
  },
  {
   "cell_type": "code",
   "execution_count": 177,
   "metadata": {},
   "outputs": [],
   "source": [
    "predsLR = logreg.predict(test)"
   ]
  },
  {
   "cell_type": "code",
   "execution_count": 178,
   "metadata": {},
   "outputs": [
    {
     "data": {
      "text/plain": [
       "0.9654237288135593"
      ]
     },
     "execution_count": 178,
     "metadata": {},
     "output_type": "execute_result"
    }
   ],
   "source": [
    "r2_score(test_labels, predsLR)"
   ]
  },
  {
   "cell_type": "code",
   "execution_count": 181,
   "metadata": {},
   "outputs": [
    {
     "data": {
      "text/plain": [
       "Text(0, 0.5, 'Predicted Classifications')"
      ]
     },
     "execution_count": 181,
     "metadata": {},
     "output_type": "execute_result"
    },
    {
     "data": {
      "image/png": "[encoded data removed]",
      "text/plain": [
       "<Figure size 432x288 with 1 Axes>"
      ]
     },
     "metadata": {
      "needs_background": "light"
     },
     "output_type": "display_data"
    }
   ],
   "source": [
    "plt.scatter(test_labels, predsLR)\n",
    "plt.title('Prediction of Class using Logistic Regression')\n",
    "plt.xlabel('Actual Classifications')\n",
    "plt.ylabel('Predicted Classifications')"
   ]
  },
  {
   "cell_type": "markdown",
   "metadata": {},
   "source": [
    "# Zoo Animal Classification\n",
    "## By Steven Centeno and Richard Morrow\n",
    "\n",
    "**Using Jupyter Notebook and Python to Predict Classifications of Animals Based Off of Given Traits**\n"
   ]
  },
  {
   "cell_type": "code",
   "execution_count": 2,
   "metadata": {},
   "outputs": [],
   "source": [
    "import pandas as pd\n",
    "import numpy as np\n",
    "class1 = pd.read_csv (\"/Users/RichardMorrow/Desktop/School/Spring_2019_Semester/LIS4761/Project/class.csv\")\n",
    "zoo = pd.read_csv (\"/Users/RichardMorrow/Desktop/School/Spring_2019_Semester/LIS4761/Project/zoo.csv\")\n",
    "from matplotlib import pyplot as plt\n",
    "from sklearn import preprocessing\n",
    "import matplotlib.pyplot as plt \n",
    "plt.rc(\"font\", size=14)\n",
    "from sklearn.model_selection import train_test_split\n",
    "import seaborn as sns\n",
    "sns.set(style=\"white\")\n",
    "sns.set(style=\"whitegrid\", color_codes=True)\n",
    "import statsmodels.api as sm\n",
    "from sklearn.linear_model import LogisticRegression\n",
    "from sklearn import metrics\n",
    "from sklearn.metrics import r2_score\n",
    "from sklearn.tree import export_graphviz\n",
    "from sklearn import ensemble\n",
    "from sklearn.ensemble import RandomForestRegressor\n",
    "from sklearn.naive_bayes import GaussianNB\n",
    "\n",
    "\n"
   ]
  },
  {
   "cell_type": "code",
   "execution_count": null,
   "metadata": {},
   "outputs": [],
   "source": []
  }
 ],
 "metadata": {
  "kernelspec": {
   "display_name": "Python 3",
   "language": "python",
   "name": "python3"
  },
  "language_info": {
   "codemirror_mode": {
    "name": "ipython",
    "version": 3
   },
   "file_extension": ".py",
   "mimetype": "text/x-python",
   "name": "python",
   "nbconvert_exporter": "python",
   "pygments_lexer": "ipython3",
   "version": "3.7.3"
  }
 },
 "nbformat": 4,
 "nbformat_minor": 2
}
